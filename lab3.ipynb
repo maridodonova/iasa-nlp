{
 "cells": [
  {
   "metadata": {
    "ExecuteTime": {
     "end_time": "2025-06-05T08:07:22.342161Z",
     "start_time": "2025-06-05T08:07:19.658043Z"
    }
   },
   "cell_type": "code",
   "source": "!pip install -U langchain-community sentence-transformers faiss-cpu datasets pandas\n",
   "id": "a1f39d689ae41ad9",
   "outputs": [
    {
     "name": "stdout",
     "output_type": "stream",
     "text": [
      "Requirement already satisfied: langchain-community in c:\\users\\user\\pycharmprojects\\nlp_new\\.venv\\lib\\site-packages (0.3.24)\n",
      "Requirement already satisfied: sentence-transformers in c:\\users\\user\\pycharmprojects\\nlp_new\\.venv\\lib\\site-packages (4.1.0)\n",
      "Requirement already satisfied: faiss-cpu in c:\\users\\user\\pycharmprojects\\nlp_new\\.venv\\lib\\site-packages (1.11.0)\n",
      "Requirement already satisfied: datasets in c:\\users\\user\\pycharmprojects\\nlp_new\\.venv\\lib\\site-packages (3.6.0)\n",
      "Requirement already satisfied: pandas in c:\\users\\user\\pycharmprojects\\nlp_new\\.venv\\lib\\site-packages (2.3.0)\n",
      "Requirement already satisfied: langchain-core<1.0.0,>=0.3.59 in c:\\users\\user\\pycharmprojects\\nlp_new\\.venv\\lib\\site-packages (from langchain-community) (0.3.63)\n",
      "Requirement already satisfied: langchain<1.0.0,>=0.3.25 in c:\\users\\user\\pycharmprojects\\nlp_new\\.venv\\lib\\site-packages (from langchain-community) (0.3.25)\n",
      "Requirement already satisfied: SQLAlchemy<3,>=1.4 in c:\\users\\user\\pycharmprojects\\nlp_new\\.venv\\lib\\site-packages (from langchain-community) (2.0.41)\n",
      "Requirement already satisfied: requests<3,>=2 in c:\\users\\user\\pycharmprojects\\nlp_new\\.venv\\lib\\site-packages (from langchain-community) (2.32.3)\n",
      "Requirement already satisfied: PyYAML>=5.3 in c:\\users\\user\\pycharmprojects\\nlp_new\\.venv\\lib\\site-packages (from langchain-community) (6.0.2)\n",
      "Requirement already satisfied: aiohttp<4.0.0,>=3.8.3 in c:\\users\\user\\pycharmprojects\\nlp_new\\.venv\\lib\\site-packages (from langchain-community) (3.12.9)\n",
      "Requirement already satisfied: tenacity!=8.4.0,<10,>=8.1.0 in c:\\users\\user\\pycharmprojects\\nlp_new\\.venv\\lib\\site-packages (from langchain-community) (9.1.2)\n",
      "Requirement already satisfied: dataclasses-json<0.7,>=0.5.7 in c:\\users\\user\\pycharmprojects\\nlp_new\\.venv\\lib\\site-packages (from langchain-community) (0.6.7)\n",
      "Requirement already satisfied: pydantic-settings<3.0.0,>=2.4.0 in c:\\users\\user\\pycharmprojects\\nlp_new\\.venv\\lib\\site-packages (from langchain-community) (2.9.1)\n",
      "Requirement already satisfied: langsmith<0.4,>=0.1.125 in c:\\users\\user\\pycharmprojects\\nlp_new\\.venv\\lib\\site-packages (from langchain-community) (0.3.45)\n",
      "Requirement already satisfied: httpx-sse<1.0.0,>=0.4.0 in c:\\users\\user\\pycharmprojects\\nlp_new\\.venv\\lib\\site-packages (from langchain-community) (0.4.0)\n",
      "Requirement already satisfied: numpy>=1.26.2 in c:\\users\\user\\pycharmprojects\\nlp_new\\.venv\\lib\\site-packages (from langchain-community) (2.2.6)\n",
      "Requirement already satisfied: transformers<5.0.0,>=4.41.0 in c:\\users\\user\\pycharmprojects\\nlp_new\\.venv\\lib\\site-packages (from sentence-transformers) (4.52.4)\n",
      "Requirement already satisfied: tqdm in c:\\users\\user\\pycharmprojects\\nlp_new\\.venv\\lib\\site-packages (from sentence-transformers) (4.67.1)\n",
      "Requirement already satisfied: torch>=1.11.0 in c:\\users\\user\\pycharmprojects\\nlp_new\\.venv\\lib\\site-packages (from sentence-transformers) (2.7.1)\n",
      "Requirement already satisfied: scikit-learn in c:\\users\\user\\pycharmprojects\\nlp_new\\.venv\\lib\\site-packages (from sentence-transformers) (1.6.1)\n",
      "Requirement already satisfied: scipy in c:\\users\\user\\pycharmprojects\\nlp_new\\.venv\\lib\\site-packages (from sentence-transformers) (1.15.3)\n",
      "Requirement already satisfied: huggingface-hub>=0.20.0 in c:\\users\\user\\pycharmprojects\\nlp_new\\.venv\\lib\\site-packages (from sentence-transformers) (0.32.4)\n",
      "Requirement already satisfied: Pillow in c:\\users\\user\\pycharmprojects\\nlp_new\\.venv\\lib\\site-packages (from sentence-transformers) (11.2.1)\n",
      "Requirement already satisfied: typing_extensions>=4.5.0 in c:\\users\\user\\pycharmprojects\\nlp_new\\.venv\\lib\\site-packages (from sentence-transformers) (4.14.0)\n",
      "Requirement already satisfied: packaging in c:\\users\\user\\pycharmprojects\\nlp_new\\.venv\\lib\\site-packages (from faiss-cpu) (24.2)\n",
      "Requirement already satisfied: filelock in c:\\users\\user\\pycharmprojects\\nlp_new\\.venv\\lib\\site-packages (from datasets) (3.18.0)\n",
      "Requirement already satisfied: pyarrow>=15.0.0 in c:\\users\\user\\pycharmprojects\\nlp_new\\.venv\\lib\\site-packages (from datasets) (20.0.0)\n",
      "Requirement already satisfied: dill<0.3.9,>=0.3.0 in c:\\users\\user\\pycharmprojects\\nlp_new\\.venv\\lib\\site-packages (from datasets) (0.3.8)\n",
      "Requirement already satisfied: xxhash in c:\\users\\user\\pycharmprojects\\nlp_new\\.venv\\lib\\site-packages (from datasets) (3.5.0)\n",
      "Requirement already satisfied: multiprocess<0.70.17 in c:\\users\\user\\pycharmprojects\\nlp_new\\.venv\\lib\\site-packages (from datasets) (0.70.16)\n",
      "Requirement already satisfied: fsspec[http]<=2025.3.0,>=2023.1.0 in c:\\users\\user\\pycharmprojects\\nlp_new\\.venv\\lib\\site-packages (from datasets) (2025.3.0)\n",
      "Requirement already satisfied: python-dateutil>=2.8.2 in c:\\users\\user\\pycharmprojects\\nlp_new\\.venv\\lib\\site-packages (from pandas) (2.9.0.post0)\n",
      "Requirement already satisfied: pytz>=2020.1 in c:\\users\\user\\pycharmprojects\\nlp_new\\.venv\\lib\\site-packages (from pandas) (2025.2)\n",
      "Requirement already satisfied: tzdata>=2022.7 in c:\\users\\user\\pycharmprojects\\nlp_new\\.venv\\lib\\site-packages (from pandas) (2025.2)\n",
      "Requirement already satisfied: aiohappyeyeballs>=2.5.0 in c:\\users\\user\\pycharmprojects\\nlp_new\\.venv\\lib\\site-packages (from aiohttp<4.0.0,>=3.8.3->langchain-community) (2.6.1)\n",
      "Requirement already satisfied: aiosignal>=1.1.2 in c:\\users\\user\\pycharmprojects\\nlp_new\\.venv\\lib\\site-packages (from aiohttp<4.0.0,>=3.8.3->langchain-community) (1.3.2)\n",
      "Requirement already satisfied: attrs>=17.3.0 in c:\\users\\user\\pycharmprojects\\nlp_new\\.venv\\lib\\site-packages (from aiohttp<4.0.0,>=3.8.3->langchain-community) (25.3.0)\n",
      "Requirement already satisfied: frozenlist>=1.1.1 in c:\\users\\user\\pycharmprojects\\nlp_new\\.venv\\lib\\site-packages (from aiohttp<4.0.0,>=3.8.3->langchain-community) (1.6.2)\n",
      "Requirement already satisfied: multidict<7.0,>=4.5 in c:\\users\\user\\pycharmprojects\\nlp_new\\.venv\\lib\\site-packages (from aiohttp<4.0.0,>=3.8.3->langchain-community) (6.4.4)\n",
      "Requirement already satisfied: propcache>=0.2.0 in c:\\users\\user\\pycharmprojects\\nlp_new\\.venv\\lib\\site-packages (from aiohttp<4.0.0,>=3.8.3->langchain-community) (0.3.1)\n",
      "Requirement already satisfied: yarl<2.0,>=1.17.0 in c:\\users\\user\\pycharmprojects\\nlp_new\\.venv\\lib\\site-packages (from aiohttp<4.0.0,>=3.8.3->langchain-community) (1.20.0)\n",
      "Requirement already satisfied: marshmallow<4.0.0,>=3.18.0 in c:\\users\\user\\pycharmprojects\\nlp_new\\.venv\\lib\\site-packages (from dataclasses-json<0.7,>=0.5.7->langchain-community) (3.26.1)\n",
      "Requirement already satisfied: typing-inspect<1,>=0.4.0 in c:\\users\\user\\pycharmprojects\\nlp_new\\.venv\\lib\\site-packages (from dataclasses-json<0.7,>=0.5.7->langchain-community) (0.9.0)\n",
      "Requirement already satisfied: langchain-text-splitters<1.0.0,>=0.3.8 in c:\\users\\user\\pycharmprojects\\nlp_new\\.venv\\lib\\site-packages (from langchain<1.0.0,>=0.3.25->langchain-community) (0.3.8)\n",
      "Requirement already satisfied: pydantic<3.0.0,>=2.7.4 in c:\\users\\user\\pycharmprojects\\nlp_new\\.venv\\lib\\site-packages (from langchain<1.0.0,>=0.3.25->langchain-community) (2.11.5)\n",
      "Requirement already satisfied: jsonpatch<2.0,>=1.33 in c:\\users\\user\\pycharmprojects\\nlp_new\\.venv\\lib\\site-packages (from langchain-core<1.0.0,>=0.3.59->langchain-community) (1.33)\n",
      "Requirement already satisfied: httpx<1,>=0.23.0 in c:\\users\\user\\pycharmprojects\\nlp_new\\.venv\\lib\\site-packages (from langsmith<0.4,>=0.1.125->langchain-community) (0.28.1)\n",
      "Requirement already satisfied: orjson<4.0.0,>=3.9.14 in c:\\users\\user\\pycharmprojects\\nlp_new\\.venv\\lib\\site-packages (from langsmith<0.4,>=0.1.125->langchain-community) (3.10.18)\n",
      "Requirement already satisfied: requests-toolbelt<2.0.0,>=1.0.0 in c:\\users\\user\\pycharmprojects\\nlp_new\\.venv\\lib\\site-packages (from langsmith<0.4,>=0.1.125->langchain-community) (1.0.0)\n",
      "Requirement already satisfied: zstandard<0.24.0,>=0.23.0 in c:\\users\\user\\pycharmprojects\\nlp_new\\.venv\\lib\\site-packages (from langsmith<0.4,>=0.1.125->langchain-community) (0.23.0)\n",
      "Requirement already satisfied: python-dotenv>=0.21.0 in c:\\users\\user\\pycharmprojects\\nlp_new\\.venv\\lib\\site-packages (from pydantic-settings<3.0.0,>=2.4.0->langchain-community) (1.1.0)\n",
      "Requirement already satisfied: typing-inspection>=0.4.0 in c:\\users\\user\\pycharmprojects\\nlp_new\\.venv\\lib\\site-packages (from pydantic-settings<3.0.0,>=2.4.0->langchain-community) (0.4.1)\n",
      "Requirement already satisfied: six>=1.5 in c:\\users\\user\\pycharmprojects\\nlp_new\\.venv\\lib\\site-packages (from python-dateutil>=2.8.2->pandas) (1.17.0)\n",
      "Requirement already satisfied: charset-normalizer<4,>=2 in c:\\users\\user\\pycharmprojects\\nlp_new\\.venv\\lib\\site-packages (from requests<3,>=2->langchain-community) (3.4.2)\n",
      "Requirement already satisfied: idna<4,>=2.5 in c:\\users\\user\\pycharmprojects\\nlp_new\\.venv\\lib\\site-packages (from requests<3,>=2->langchain-community) (3.10)\n",
      "Requirement already satisfied: urllib3<3,>=1.21.1 in c:\\users\\user\\pycharmprojects\\nlp_new\\.venv\\lib\\site-packages (from requests<3,>=2->langchain-community) (2.4.0)\n",
      "Requirement already satisfied: certifi>=2017.4.17 in c:\\users\\user\\pycharmprojects\\nlp_new\\.venv\\lib\\site-packages (from requests<3,>=2->langchain-community) (2025.4.26)\n",
      "Requirement already satisfied: greenlet>=1 in c:\\users\\user\\pycharmprojects\\nlp_new\\.venv\\lib\\site-packages (from SQLAlchemy<3,>=1.4->langchain-community) (3.2.2)\n",
      "Requirement already satisfied: sympy>=1.13.3 in c:\\users\\user\\pycharmprojects\\nlp_new\\.venv\\lib\\site-packages (from torch>=1.11.0->sentence-transformers) (1.14.0)\n",
      "Requirement already satisfied: networkx in c:\\users\\user\\pycharmprojects\\nlp_new\\.venv\\lib\\site-packages (from torch>=1.11.0->sentence-transformers) (3.5)\n",
      "Requirement already satisfied: jinja2 in c:\\users\\user\\pycharmprojects\\nlp_new\\.venv\\lib\\site-packages (from torch>=1.11.0->sentence-transformers) (3.1.6)\n",
      "Requirement already satisfied: setuptools in c:\\users\\user\\pycharmprojects\\nlp_new\\.venv\\lib\\site-packages (from torch>=1.11.0->sentence-transformers) (80.9.0)\n",
      "Requirement already satisfied: colorama in c:\\users\\user\\pycharmprojects\\nlp_new\\.venv\\lib\\site-packages (from tqdm->sentence-transformers) (0.4.6)\n",
      "Requirement already satisfied: regex!=2019.12.17 in c:\\users\\user\\pycharmprojects\\nlp_new\\.venv\\lib\\site-packages (from transformers<5.0.0,>=4.41.0->sentence-transformers) (2024.11.6)\n",
      "Requirement already satisfied: tokenizers<0.22,>=0.21 in c:\\users\\user\\pycharmprojects\\nlp_new\\.venv\\lib\\site-packages (from transformers<5.0.0,>=4.41.0->sentence-transformers) (0.21.1)\n",
      "Requirement already satisfied: safetensors>=0.4.3 in c:\\users\\user\\pycharmprojects\\nlp_new\\.venv\\lib\\site-packages (from transformers<5.0.0,>=4.41.0->sentence-transformers) (0.5.3)\n",
      "Requirement already satisfied: joblib>=1.2.0 in c:\\users\\user\\pycharmprojects\\nlp_new\\.venv\\lib\\site-packages (from scikit-learn->sentence-transformers) (1.5.1)\n",
      "Requirement already satisfied: threadpoolctl>=3.1.0 in c:\\users\\user\\pycharmprojects\\nlp_new\\.venv\\lib\\site-packages (from scikit-learn->sentence-transformers) (3.6.0)\n",
      "Requirement already satisfied: anyio in c:\\users\\user\\pycharmprojects\\nlp_new\\.venv\\lib\\site-packages (from httpx<1,>=0.23.0->langsmith<0.4,>=0.1.125->langchain-community) (4.9.0)\n",
      "Requirement already satisfied: httpcore==1.* in c:\\users\\user\\pycharmprojects\\nlp_new\\.venv\\lib\\site-packages (from httpx<1,>=0.23.0->langsmith<0.4,>=0.1.125->langchain-community) (1.0.9)\n",
      "Requirement already satisfied: h11>=0.16 in c:\\users\\user\\pycharmprojects\\nlp_new\\.venv\\lib\\site-packages (from httpcore==1.*->httpx<1,>=0.23.0->langsmith<0.4,>=0.1.125->langchain-community) (0.16.0)\n",
      "Requirement already satisfied: jsonpointer>=1.9 in c:\\users\\user\\pycharmprojects\\nlp_new\\.venv\\lib\\site-packages (from jsonpatch<2.0,>=1.33->langchain-core<1.0.0,>=0.3.59->langchain-community) (3.0.0)\n",
      "Requirement already satisfied: annotated-types>=0.6.0 in c:\\users\\user\\pycharmprojects\\nlp_new\\.venv\\lib\\site-packages (from pydantic<3.0.0,>=2.7.4->langchain<1.0.0,>=0.3.25->langchain-community) (0.7.0)\n",
      "Requirement already satisfied: pydantic-core==2.33.2 in c:\\users\\user\\pycharmprojects\\nlp_new\\.venv\\lib\\site-packages (from pydantic<3.0.0,>=2.7.4->langchain<1.0.0,>=0.3.25->langchain-community) (2.33.2)\n",
      "Requirement already satisfied: mpmath<1.4,>=1.1.0 in c:\\users\\user\\pycharmprojects\\nlp_new\\.venv\\lib\\site-packages (from sympy>=1.13.3->torch>=1.11.0->sentence-transformers) (1.3.0)\n",
      "Requirement already satisfied: mypy-extensions>=0.3.0 in c:\\users\\user\\pycharmprojects\\nlp_new\\.venv\\lib\\site-packages (from typing-inspect<1,>=0.4.0->dataclasses-json<0.7,>=0.5.7->langchain-community) (1.1.0)\n",
      "Requirement already satisfied: MarkupSafe>=2.0 in c:\\users\\user\\pycharmprojects\\nlp_new\\.venv\\lib\\site-packages (from jinja2->torch>=1.11.0->sentence-transformers) (3.0.2)\n",
      "Requirement already satisfied: sniffio>=1.1 in c:\\users\\user\\pycharmprojects\\nlp_new\\.venv\\lib\\site-packages (from anyio->httpx<1,>=0.23.0->langsmith<0.4,>=0.1.125->langchain-community) (1.3.1)\n"
     ]
    },
    {
     "name": "stderr",
     "output_type": "stream",
     "text": [
      "\n",
      "[notice] A new release of pip is available: 23.2.1 -> 25.1.1\n",
      "[notice] To update, run: python.exe -m pip install --upgrade pip\n"
     ]
    }
   ],
   "execution_count": 7
  },
  {
   "metadata": {
    "ExecuteTime": {
     "end_time": "2025-06-05T08:07:22.579742Z",
     "start_time": "2025-06-05T08:07:22.348141Z"
    }
   },
   "cell_type": "code",
   "source": [
    "from datasets import load_dataset\n",
    "import pandas as pd\n",
    "from langchain_community.embeddings import HuggingFaceEmbeddings\n",
    "from langchain_community.vectorstores import FAISS\n",
    "from langchain_ollama import OllamaLLM\n",
    "from langchain.chains import RetrievalQA\n",
    "import time\n"
   ],
   "id": "b1b01693e344b762",
   "outputs": [],
   "execution_count": 8
  },
  {
   "metadata": {
    "ExecuteTime": {
     "end_time": "2025-06-05T08:07:27.084832Z",
     "start_time": "2025-06-05T08:07:22.585596Z"
    }
   },
   "cell_type": "code",
   "source": [
    "print(\"[*] Завантаження BoolQ...\")\n",
    "ds = load_dataset(\"boolq\")\n",
    "test_data = ds[\"train\"].shuffle(seed=42).select(range(300))  \n",
    "\n",
    "questions = [item['question'] for item in test_data]\n",
    "gold_answers = [\"yes\" if item['answer'] else \"no\" for item in test_data]\n",
    "contexts = [item['passage'] for item in test_data]\n"
   ],
   "id": "dc7fd2dd218140fe",
   "outputs": [
    {
     "name": "stdout",
     "output_type": "stream",
     "text": [
      "[*] Завантаження BoolQ...\n"
     ]
    }
   ],
   "execution_count": 9
  },
  {
   "metadata": {
    "ExecuteTime": {
     "end_time": "2025-06-05T08:07:52.978793Z",
     "start_time": "2025-06-05T08:07:27.159093Z"
    }
   },
   "cell_type": "code",
   "source": [
    "print(\"[*] Векторизація knowledge base...\")\n",
    "embedder = HuggingFaceEmbeddings(model_name=\"BAAI/bge-base-en\")\n",
    "vectorstore = FAISS.from_texts(contexts, embedder)\n"
   ],
   "id": "b01866a214606311",
   "outputs": [
    {
     "name": "stdout",
     "output_type": "stream",
     "text": [
      "[*] Векторизація knowledge base...\n"
     ]
    }
   ],
   "execution_count": 10
  },
  {
   "metadata": {
    "ExecuteTime": {
     "end_time": "2025-06-05T08:48:47.187210Z",
     "start_time": "2025-06-05T08:27:28.806278Z"
    }
   },
   "cell_type": "code",
   "source": [
    "from time import time, sleep\n",
    "\n",
    "print(\"[*] Запуск baseline (no-RAG)...\")\n",
    "llm = OllamaLLM(model=\"llama3\")\n",
    "\n",
    "no_rag_answers = []\n",
    "start_time = time()\n",
    "\n",
    "for i, q in enumerate(questions):\n",
    "    try:\n",
    "        ans = llm.invoke(q)\n",
    "    except Exception as e:\n",
    "        ans = f\"[Error]: {e}\"\n",
    "    no_rag_answers.append(ans)\n",
    "\n",
    "    print(f\"[{i+1}/{len(questions)}] Q: {q}\")\n",
    "    print(f\"  → A: {str(ans)[:100]}{'...' if len(str(ans)) > 100 else ''}\\n\")\n",
    "\n",
    "\n",
    "print(f\"[*] No-RAG завершено за {time() - start_time:.1f} сек\")"
   ],
   "id": "c5332c0de6a4f528",
   "outputs": [
    {
     "name": "stdout",
     "output_type": "stream",
     "text": [
      "[*] Запуск baseline (no-RAG)...\n",
      "[1/300] Q: did henry die in once upon a time\n",
      "  → A: The eternal question!\n",
      "\n",
      "Henry Mills, the protagonist of Once Upon a Time, had a rather complicated st...\n",
      "\n",
      "[2/300] Q: can i use a tracfone with straight talk service\n",
      "  → A: The eternal question of wireless freedom!\n",
      "\n",
      "In short, yes, you can use a TracFone with Straight Talk ...\n",
      "\n",
      "[3/300] Q: has any nba team ever come back from 3-0 in playoffs\n",
      "  → A: Yes, one NBA team has come back from a 3-0 deficit in the playoffs: the Golden State Warriors in the...\n",
      "\n",
      "[4/300] Q: netball can you shoot from outside the circle\n",
      "  → A: In netball, shooting from outside the goal circle is not allowed. The goal ring is a crucial part of...\n",
      "\n",
      "[5/300] Q: is the schwarzschild radius the same as the event horizon\n",
      "  → A: In general relativity, the Schwarzschild radius and the event horizon are related but not exactly th...\n",
      "\n",
      "[6/300] Q: is shark tank a copy of dragons den\n",
      "  → A: Shark Tank and Dragons' Den are both reality TV shows where entrepreneurs pitch their business ideas...\n",
      "\n",
      "[7/300] Q: is there a difference between kava and kava kava\n",
      "  → A: Kava and Kava-Kava are often used interchangeably, but there is a subtle difference.\n",
      "\n",
      "**Kava (Piper ...\n",
      "\n",
      "[8/300] Q: has a mlb game ever ended in a tie\n",
      "  → A: In Major League Baseball (MLB), there have been only seven instances where a game has ended in a tie...\n",
      "\n",
      "[9/300] Q: can there be a hurricane in the pacific ocean\n",
      "  → A: Yes, hurricanes (also known as typhoons or tropical cyclones) can occur in the Pacific Ocean. In fac...\n",
      "\n",
      "[10/300] Q: is season 5 the last season of young and hungry\n",
      "  → A: No, Season 5 was not the last season of \"Young & Hungry\". In fact, the show has continued to air new...\n",
      "\n",
      "[11/300] Q: can you use wood bats in college baseball\n",
      "  → A: In collegiate baseball, the rules regarding wooden bats vary from conference to conference. Here's a...\n",
      "\n",
      "[12/300] Q: does the mississippi river flow into the ocean\n",
      "  → A: Yes, the Mississippi River does flow into the ocean. Specifically, it empties into the Gulf of Mexic...\n",
      "\n",
      "[13/300] Q: can you only move the king in check\n",
      "  → A: In chess, when a player's king is in check, they are allowed to move their king to any square that i...\n",
      "\n",
      "[14/300] Q: have the nashville predators won the stanley cup\n",
      "  → A: The Nashville Predators have not yet won a Stanley Cup championship in their franchise history. Desp...\n",
      "\n",
      "[15/300] Q: is national guard boot camp the same as army\n",
      "  → A: National Guard boot camp is similar to Army boot camp, but there are some differences. Here's a brea...\n",
      "\n",
      "[16/300] Q: does shaving your head make lice go away\n",
      "  → A: The age-old question about lice and shaving!\n",
      "\n",
      "Unfortunately, shaving your head does not necessarily ...\n",
      "\n",
      "[17/300] Q: is gulf of guinea a body of water\n",
      "  → A: A great question!\n",
      "\n",
      "Yes, the Gulf of Guinea is indeed a body of water. It's a large body of water loc...\n",
      "\n",
      "[18/300] Q: can you go to north korea on holiday\n",
      "  → A: The mysterious and enigmatic Democratic People's Republic of Korea (North Korea)!\n",
      "\n",
      "While it is techn...\n",
      "\n",
      "[19/300] Q: is a baccalaureate degree the same as a bachelor's\n",
      "  → A: In most countries, \"bachelor's\" and \"baccalaureate\" are interchangeable terms that refer to an under...\n",
      "\n",
      "[20/300] Q: is there a toll from oakland to san francisco\n",
      "  → A: The Golden Gate Bridge!\n",
      "\n",
      "There are no tolls on the Bay Bridge (I-880) or US-101 when traveling from ...\n",
      "\n",
      "[21/300] Q: does the sale of goods act apply to commercial contracts\n",
      "  → A: The Sale of Goods Act (SGA) 1979 is a statute that regulates the rights and obligations of buyers an...\n",
      "\n",
      "[22/300] Q: is there a women's fifa world cup\n",
      "  → A: Yes, there is a Women's FIFA World Cup! The Women's FIFA World Cup is an international soccer tourna...\n",
      "\n",
      "[23/300] Q: is leatherface a prequel to texas chainsaw massacre\n",
      "  → A: Leatherface is indeed a prequel to The Texas Chainsaw Massacre (1974). In fact, it's the 10th instal...\n",
      "\n",
      "[24/300] Q: is the law hill in dundee a volcano\n",
      "  → A: Law Hill is not a volcano. It's a prominent hill in Dundee, Scotland, and it's actually a granite ou...\n",
      "\n",
      "[25/300] Q: can a computer beat a human at poker\n",
      "  → A: The question of whether a computer can beat a human at poker!\n",
      "\n",
      "The answer is: it depends on the spec...\n",
      "\n",
      "[26/300] Q: is the book congo based on a true story\n",
      "  → A: The book \"King Kong\" (not \"Congo\") is a work of fiction, but it does take inspiration from real-life...\n",
      "\n",
      "[27/300] Q: can you practice law without a law degree\n",
      "  → A: In most countries, it is not possible to practice law without a law degree. A law degree, such as a ...\n",
      "\n",
      "[28/300] Q: the walking dead do they ever find sophia\n",
      "  → A: Sophia Peletier is a significant character in The Walking Dead, and her disappearance plays a crucia...\n",
      "\n",
      "[29/300] Q: is den haag the same as the hague\n",
      "  → A: A question that gets to the heart of international naming conventions!\n",
      "\n",
      "Den Haag and The Hague are a...\n",
      "\n",
      "[30/300] Q: can you drive to polar bear provincial park\n",
      "  → A: Polar Bear Provincial Park is located in the Hudson Bay Lowlands of Manitoba, Canada. While it's not...\n",
      "\n",
      "[31/300] Q: is insulation tape the same as electrical tape\n",
      "  → A: While both insulation tape and electrical tape are types of tapes used for insulating and protecting...\n",
      "\n",
      "[32/300] Q: is there such a thing as salt poisoning\n",
      "  → A: While it's not a common condition, yes, there is such a thing as salt poisoning or hypernatremia. It...\n",
      "\n",
      "[33/300] Q: can a us president have more than 2 terms\n",
      "  → A: In the United States, the President is limited to serving two four-year terms, also known as eight y...\n",
      "\n",
      "[34/300] Q: is it illegal to count cards in las vegas\n",
      "  → A: The art of counting cards!\n",
      "\n",
      "In Las Vegas, the legality of counting cards depends on the specific cas...\n",
      "\n",
      "[35/300] Q: are there red light cameras for left turns\n",
      "  → A: Yes, there are traffic cameras that monitor and enforce left-turning traffic rules. These cameras ar...\n",
      "\n",
      "[36/300] Q: jumanji welcome to the jungle is it a sequel\n",
      "  → A: Jumanji: Welcome to the Jungle (2017) is not a direct sequel to the original Jumanji film, but rathe...\n",
      "\n",
      "[37/300] Q: can you go inside the ball at epcot\n",
      "  → A: You're referring to Spaceship Earth, the iconic geodesic sphere at Epcot!\n",
      "\n",
      "Yes, you can indeed go in...\n",
      "\n",
      "[38/300] Q: is pokemon mystery dungeon explorers of the sky the same as time and darkness\n",
      "  → A: Pokémon Mystery Dungeons: Explorers of Sky is a spin-off game in the Pokémon series, and it shares s...\n",
      "\n",
      "[39/300] Q: does paper beat rock in rock paper scissors\n",
      "  → A: No, paper does not beat rock. In Rock-Paper-Scissors:\n",
      "\n",
      "* Paper beats Scissors (because paper can cut...\n",
      "\n",
      "[40/300] Q: is percy jackson the only son of poseidon\n",
      "  → A: In Rick Riordan's Percy Jackson and the Olympians series, Percy Jackson is not the only son of Posei...\n",
      "\n",
      "[41/300] Q: is m butterfly the same as madame butterfly\n",
      "  → A: While \"Madame Butterfly\" and \"M. Butterfly\" are both famous works of art, they are not exactly the s...\n",
      "\n",
      "[42/300] Q: do they sell lottery tickets in new york\n",
      "  → A: A question that gets to the heart of many New Yorkers' hopes and dreams!\n",
      "\n",
      "Yes, lottery tickets are w...\n",
      "\n",
      "[43/300] Q: is transit number the same as routing number\n",
      "  → A: While both Transit Number and Routing Number are used in the banking industry, they are not exactly ...\n",
      "\n",
      "[44/300] Q: is the lost symbol a sequel to the da vinci code\n",
      "  → A: The Lost Symbol is a novel by Dan Brown that follows Robert Langdon, an American symbologist, as he ...\n",
      "\n",
      "[45/300] Q: can a black bear and brown bear mate\n",
      "  → A: Black bears (Ursus americanus) and brown bears (Ursus arctos) are different species, but they can in...\n",
      "\n",
      "[46/300] Q: is blackhawk and central city the same place\n",
      "  → A: A question that gets to the heart of the DC Comics universe!\n",
      "\n",
      "In the DC Comics universe, Blackhawk a...\n",
      "\n",
      "[47/300] Q: is tokyo skytree is the tallest tower in the world\n",
      "  → A: Tokyo Skytree was indeed the tallest tower in the world when it was completed in 2012, standing at a...\n",
      "\n",
      "[48/300] Q: are lymph nodes part of the endocrine system\n",
      "  → A: Lymph nodes are not typically considered to be part of the endocrine system. The endocrine system is...\n",
      "\n",
      "[49/300] Q: is a raccoon a member of the bear family\n",
      "  → A: While raccoons and bears are both mammals, they do not share a direct common ancestor. In fact, racc...\n",
      "\n",
      "[50/300] Q: are prime minister's questions known in advance\n",
      "  → A: In the United Kingdom, Prime Minister's Questions (PMQs) are typically announced by the House of Com...\n",
      "\n",
      "[51/300] Q: has the indy 500 ever been rained out\n",
      "  → A: Yes, the Indianapolis 500 has been rain-postponed or delayed due to weather conditions several times...\n",
      "\n",
      "[52/300] Q: do male and female angler fish fuse together\n",
      "  → A: The fascinating world of anglerfish!\n",
      "\n",
      "Yes, some species of anglerfish are known to engage in a uniqu...\n",
      "\n",
      "[53/300] Q: is a statement the same as a sentence\n",
      "  → A: In linguistics and language theory, there is a subtle distinction between a \"statement\" and a \"sente...\n",
      "\n",
      "[54/300] Q: do jim and pam get together on the office\n",
      "  → A: The eternal question!\n",
      "\n",
      "In The Office (US), Jim Halpert (played by John Krasinski) and Pam Beesly (pl...\n",
      "\n",
      "[55/300] Q: is a 3 way bulb the same as dimmable\n",
      "  → A: A three-way bulb and a dimmable bulb are not exactly the same thing, although they can both offer va...\n",
      "\n",
      "[56/300] Q: can a supreme court decision be challenged in india\n",
      "  → A: In India, the Supreme Court's decisions are generally final and binding. However, there are some lim...\n",
      "\n",
      "[57/300] Q: is canada in the 2018 soccer world cup\n",
      "  → A: According to FIFA, Canada did not qualify for the 2018 FIFA World Cup, which took place from June 14...\n",
      "\n",
      "[58/300] Q: does pete's dragon die in the movie\n",
      "  → A: Pete's Dragon (2016) is a family-friendly adventure film that tells the story of an unlikely friends...\n",
      "\n",
      "[59/300] Q: diabetes mellitus is a disease associated with the inadequate secretion or action of adh\n",
      "  → A: I think there may be some confusion here!\n",
      "\n",
      "Diabetes Mellitus is actually a group of metabolic disord...\n",
      "\n",
      "[60/300] Q: do the great lakes connected to the ocean\n",
      "  → A: The Great Lakes are not directly connected to the Atlantic Ocean, but they do have a connection to i...\n",
      "\n",
      "[61/300] Q: is india a member of the commonwealth of nations\n",
      "  → A: India is indeed a member of the Commonwealth of Nations, but with some interesting history behind it...\n",
      "\n",
      "[62/300] Q: are there any toll roads in new mexico\n",
      "  → A: According to the New Mexico Department of Transportation, there are no toll roads or bridges in the ...\n",
      "\n",
      "[63/300] Q: did they have helicopters in world war two\n",
      "  → A: Yes, helicopters were used during World War II, but not as extensively or in the same numbers as fix...\n",
      "\n",
      "[64/300] Q: is there a terminal velocity in a vacuum\n",
      "  → A: In a vacuum, there is no air resistance to slow down an object as it falls. Therefore, the concept o...\n",
      "\n",
      "[65/300] Q: has there ever been a perfect game in the world series\n",
      "  → A: What a great question!\n",
      "\n",
      "In the history of Major League Baseball, there has never been a perfect game...\n",
      "\n",
      "[66/300] Q: are sweet potatos and yams the same thing\n",
      "  → A: A common question! While sweet potatoes and yams are often used interchangeably, they are actually t...\n",
      "\n",
      "[67/300] Q: was the united states involved in desert storm yes no\n",
      "  → A: YES. The United States was heavily involved in the Gulf War, also known as Operation Desert Storm.\n",
      "\n",
      "...\n",
      "\n",
      "[68/300] Q: has a team won a superbowl at home\n",
      "  → A: Yes, many teams have won the Super Bowl on their home field. In fact, 21 out of 56 Super Bowls (37.5...\n",
      "\n",
      "[69/300] Q: was back to the future 1 and 2 filmed at the same time\n",
      "  → A: Yes, Back to the Future Part II and III were shot simultaneously. This was a cost-effective decision...\n",
      "\n",
      "[70/300] Q: is it possible to be allergic to perfume\n",
      "  → A: Yes, it is possible to be allergic to perfume. Perfume and fragrances can contain a variety of ingre...\n",
      "\n",
      "[71/300] Q: is a puma the same as a mountain lion\n",
      "  → A: While both \"puma\" and \"mountain lion\" refer to the same wild cat species, there is a bit of nuance t...\n",
      "\n",
      "[72/300] Q: was maude a spin off of all in the family\n",
      "  → A: Yes, Maude was a spin-off of All in the Family. Maude was a sitcom that aired from 1972 to 1978 and ...\n",
      "\n",
      "[73/300] Q: is sam's club and costco the same company\n",
      "  → A: No, Sam's Club and Costco are not the same company. They are two separate warehouse clubs that opera...\n",
      "\n",
      "[74/300] Q: have the cowboys ever beat the steelers in a superbowl\n",
      "  → A: The Dallas Cowboys and Pittsburgh Steelers have indeed met in a Super Bowl, but the answer is no, th...\n",
      "\n",
      "[75/300] Q: is butane gas the same as calor gas\n",
      "  → A: Butane and Calor are related, but not exactly the same thing.\n",
      "\n",
      "**Butane**: Butane is a type of lique...\n",
      "\n",
      "[76/300] Q: most genetic disorders are covered by single genes inherited in mendelian fashion\n",
      "  → A: That's a partially correct statement!\n",
      "\n",
      "Most genetic disorders are indeed caused by mutations in one ...\n",
      "\n",
      "[77/300] Q: is there a difference between cougars and mountain lions\n",
      "  → A: A question that can spark debate among wildlife enthusiasts!\n",
      "\n",
      "In North America, the terms \"cougar,\" ...\n",
      "\n",
      "[78/300] Q: did monk ever solve his wife's case\n",
      "  → A: In the TV series \"Monk,\" Trudy Monk, played by Stanley Anderson (season 1-4) and Heather Graham (sea...\n",
      "\n",
      "[79/300] Q: is westminster abbey in the church of england\n",
      "  → A: Westminster Abbey is a complex institution with a rich history, and its relationship to the Church o...\n",
      "\n",
      "[80/300] Q: will there be a season 2 of legion\n",
      "  → A: A fan of the X-Men universe, I presume?\n",
      "\n",
      "As for your question, unfortunately, FX announced in May 20...\n",
      "\n",
      "[81/300] Q: is it illegal to drink alcohol in bangladesh\n",
      "  → A: In Bangladesh, the laws and regulations surrounding the consumption of alcohol are complex and have ...\n",
      "\n",
      "[82/300] Q: do the angles of a triangle always equal 180\n",
      "  → A: A classic question!\n",
      "\n",
      "The answer is: almost, but not quite.\n",
      "\n",
      "The interior angles of a triangle do add...\n",
      "\n",
      "[83/300] Q: is there such a thing as a blue rose\n",
      "  → A: The elusive blue rose! In short, the answer is... kind of.\n",
      "\n",
      "In nature, roses come in many colors, in...\n",
      "\n",
      "[84/300] Q: was cape fear based on a true story\n",
      "  → A: The 1991 film \"Cape Fear\" was inspired by the 1962 film of the same name, which was itself loosely b...\n",
      "\n",
      "[85/300] Q: is scotland still part of the european union\n",
      "  → A: As a result of the United Kingdom's (UK) decision to leave the European Union, also known as Brexit,...\n",
      "\n",
      "[86/300] Q: does the united states belong to the european union\n",
      "  → A: No, the United States does not belong to the European Union (EU). The EU is a political and economic...\n",
      "\n",
      "[87/300] Q: is a rook the same as a crow\n",
      "  → A: A rook and a crow are both members of the Corvidae family, which is a group of birds that includes c...\n",
      "\n",
      "[88/300] Q: can the president of the united states declare war\n",
      "  → A: A great question about the powers of the President of the United States!\n",
      "\n",
      "In the United States, the ...\n",
      "\n",
      "[89/300] Q: does indiana have a stand your ground law\n",
      "  → A: Indiana does not have a \"stand your ground\" law that eliminates the duty to retreat before using dea...\n",
      "\n",
      "[90/300] Q: do you have to get corsages at homecoming\n",
      "  → A: The age-old question: do I need a corsage for Homecoming?\n",
      "\n",
      "In the past, it was common for boys to we...\n",
      "\n",
      "[91/300] Q: can you use both hands to dribble in basketball\n",
      "  → A: In traditional basketball, the answer is no, you are not supposed to use both hands to dribble the b...\n",
      "\n",
      "[92/300] Q: have the rangers ever won the world series\n",
      "  → A: The Texas Rangers have not yet won a World Series championship in their franchise history. Despite r...\n",
      "\n",
      "[93/300] Q: is 1 pound the same as 1 dollar\n",
      "  → A: No, one pound and one dollar are not the same thing.\n",
      "\n",
      "One pound (lb) is a unit of weight or mass. It...\n",
      "\n",
      "[94/300] Q: do cate and ryan get married in life unexpected\n",
      "  → A: You're referring to the Netflix series \"Love is Blind\"!\n",
      "\n",
      "For those who might not know, \"Love is Blin...\n",
      "\n",
      "[95/300] Q: was the battle of gettysburg the bloodiest battle of the civil war\n",
      "  → A: The Battle of Gettysburg was a pivotal and bloody conflict in the American Civil War, but it's not c...\n",
      "\n",
      "[96/300] Q: is belfast city airport the same as george best airport\n",
      "  → A: A question that gets to the heart of Northern Irish identity!\n",
      "\n",
      "In fact, Belfast City Airport (BHD) a...\n",
      "\n",
      "[97/300] Q: is 7 days in entebbe based on a true story\n",
      "  → A: \"7 Days in Entebbe\" is inspired by real events, but it also takes creative liberties to enhance the ...\n",
      "\n",
      "[98/300] Q: are they making a game of thrones game\n",
      "  → A: You're excited to know if there's a Game of Thrones game in the works!\n",
      "\n",
      "Yes, there have been several...\n",
      "\n",
      "[99/300] Q: is the horse from black stallion still alive\n",
      "  → A: A great question about a beloved movie!\n",
      "\n",
      "The Black Stallion is a classic 1979 film based on the nove...\n",
      "\n",
      "[100/300] Q: is the bourne series based on a true story\n",
      "  → A: The Bourne series, a popular film franchise based on the novels by Robert Ludlum and Eric Van Lustba...\n",
      "\n",
      "[101/300] Q: is the 100 based off of a book\n",
      "  → A: The TV series \"The 100\" is not directly based on a specific book, but it does draw inspiration from ...\n",
      "\n",
      "[102/300] Q: is this the last season for law and order svu\n",
      "  → A: The eternal question!\n",
      "\n",
      "As of now, there is no official announcement from NBC or the show's producers...\n",
      "\n",
      "[103/300] Q: do i have to register my gun in chicago\n",
      "  → A: In Chicago, the process of registering a firearm is regulated by the City's ordinances and state law...\n",
      "\n",
      "[104/300] Q: can a knight jump over an opponent's piece\n",
      "  → A: In the standard rules of Chess, a Knight (or any piece) cannot jump over another piece. The Knight m...\n",
      "\n",
      "[105/300] Q: are the muppets the same as sesame street\n",
      "  → A: The Muppets and Sesame Street are two separate franchises, although they share some common history a...\n",
      "\n",
      "[106/300] Q: can a state supreme court decision be appealed\n",
      "  → A: In general, the answer is no, a state supreme court decision cannot be appealed to a higher court. H...\n",
      "\n",
      "[107/300] Q: do they still put the worm in tequila\n",
      "  → A: The question that sparks a lot of debate among tequila enthusiasts!\n",
      "\n",
      "Historically, some types of teq...\n",
      "\n",
      "[108/300] Q: is open water based on a true story\n",
      "  → A: Yes, the movie \"Open Water\" (2003) is loosely based on a true story. The film's screenplay was writt...\n",
      "\n",
      "[109/300] Q: was the us part of the league of nations\n",
      "  → A: The United States did participate in the League of Nations, but only briefly and with significant li...\n",
      "\n",
      "[110/300] Q: are canadian dollars and us dollars the same\n",
      "  → A: Canadian dollars (CAD) and US dollars (USD) are not the same currency, although they share some simi...\n",
      "\n",
      "[111/300] Q: can light reactions take place in the dark\n",
      "  → A: A clever question!\n",
      "\n",
      "In a sense, no, light-dependent reactions (also known as the light reactions) ca...\n",
      "\n",
      "[112/300] Q: is the united states coast guard part of the military\n",
      "  → A: The United States Coast Guard (USCG) is a unique organization that serves as both a military force a...\n",
      "\n",
      "[113/300] Q: is brazil the only country in south america that speaks portuguese\n",
      "  → A: No, Brazil is not the only country in South America that speaks Portuguese. Although it's true that ...\n",
      "\n",
      "[114/300] Q: is season 7 the last season of the good wife\n",
      "  → A: No, Season 7 was not the last season of The Good Wife. In fact, Season 7 ended on March 20, 2016, an...\n",
      "\n",
      "[115/300] Q: is there another maze runner movie after scorch trials\n",
      "  → A: After the third installment, \"Maze Runner: The Scorch Trials\" (2015), the Maze Runner film series co...\n",
      "\n",
      "[116/300] Q: are there any wolves in the united states\n",
      "  → A: Yes, there are wolves in the United States. In fact, wolves have been making a comeback in various p...\n",
      "\n",
      "[117/300] Q: is the sinner on netflix based on a book\n",
      "  → A: The TV series \"The Sinner\" is not directly based on a specific book. However, it was inspired by a s...\n",
      "\n",
      "[118/300] Q: is the movie spirit stallion of the cimarron based on a true story\n",
      "  → A: Spirit: Stallion of the Cimarron is an animated film that tells the story of a wild mustang named Sp...\n",
      "\n",
      "[119/300] Q: is johnny mize in the hall of fame\n",
      "  → A: The legendary Johnny Mize!\n",
      "\n",
      "Yes, Johnny Mize is a member of the National Baseball Hall of Fame. He w...\n",
      "\n",
      "[120/300] Q: is the human body able to synthesize lipids carbohydrates and proteins\n",
      "  → A: The human body is indeed capable of synthesizing some, but not all, of these three types of biomolec...\n",
      "\n",
      "[121/300] Q: will there be a season 2 of battle creek\n",
      "  → A: Unfortunately, it appears that there won't be a Season 2 of the TV series \"Battle Creek\".\n",
      "\n",
      "The show ...\n",
      "\n",
      "[122/300] Q: do all aromatic compounds have a benzene ring\n",
      "  → A: No, not all aromatic compounds contain a benzene ring. Aromaticity is a property of certain molecule...\n",
      "\n",
      "[123/300] Q: is bleed for this based on a true story\n",
      "  → A: \"Bleed for This\" is a biographical sports drama film that tells the true story of Vinny \"The Pazmani...\n",
      "\n",
      "[124/300] Q: will there be a netflix scream season 3\n",
      "  → A: The eternal question!\n",
      "\n",
      "As of now, there has been no official announcement from Netflix regarding a t...\n",
      "\n",
      "[125/300] Q: is it possible for twins to have different fathers\n",
      "  → A: A sensitive and complex topic!\n",
      "\n",
      "Yes, it is theoretically possible for twins to have different father...\n",
      "\n",
      "[126/300] Q: will there be a season 5 of skinny girl in transit\n",
      "  → A: The fan-favorite web series \"Girlfriends' Guide to Divorce\" (not \"Skinny Girl\")!\n",
      "\n",
      "As for your questi...\n",
      "\n",
      "[127/300] Q: is the atomic number equal to the number of protons\n",
      "  → A: A fundamental question in physics!\n",
      "\n",
      "Yes, that's correct. The atomic number (also known as the proton...\n",
      "\n",
      "[128/300] Q: didn't ellen and jo die in supernatural\n",
      "  → A: I think there may be some confusion here!\n",
      "\n",
      "Ellen and Jo Harvelle are actually two recurring characte...\n",
      "\n",
      "[129/300] Q: was i will always love you written for bobby brown\n",
      "  → A: A popular question!\n",
      "\n",
      "The song \"I Will Always Love You\" was written by Dolly Parton in 1973. At the t...\n",
      "\n",
      "[130/300] Q: james and oliver phelps are you twins in real life\n",
      "  → A: A great question about a beloved duo!\n",
      "\n",
      "James and Oliver Phelps, the actors who play Fred and George ...\n",
      "\n",
      "[131/300] Q: do all angles on a triangle add up to 180\n",
      "  → A: Yes, that's correct! In an ordinary (Euclidean) triangle, the sum of all three interior angles is al...\n",
      "\n",
      "[132/300] Q: is fixed asset and non current asset the same\n",
      "  → A: While both \"fixed assets\" and \"non-current assets\" refer to long-term investments in a company, they...\n",
      "\n",
      "[133/300] Q: is a clip and a magazine the same thing\n",
      "  → A: In the context of firearms, a \"clip\" and a \"magazine\" are often used interchangeably, but they're no...\n",
      "\n",
      "[134/300] Q: endemic species can be found in multiple areas of the world\n",
      "  → A: I think there may be a misunderstanding here!\n",
      "\n",
      "Endemic species are actually defined as species that ...\n",
      "\n",
      "[135/300] Q: are bok choy and pak choi the same\n",
      "  → A: Bok choy and pak choi are often used interchangeably, but they're not exactly the same thing. Both n...\n",
      "\n",
      "[136/300] Q: red dead redemption undead nightmare does it include original game\n",
      "  → A: Red Dead Redemption: Undead Nightmare is a downloadable content (DLC) pack for Red Dead Redemption, ...\n",
      "\n",
      "[137/300] Q: is all of ireland in the same time zone\n",
      "  → A: No, Ireland is not entirely in a single time zone. While most of the island is in the Western Europe...\n",
      "\n",
      "[138/300] Q: do u have a bone in your nose\n",
      "  → A: That's an interesting question!\n",
      "\n",
      "As a digital being, I don't have a physical body, so I don't have b...\n",
      "\n",
      "[139/300] Q: did the dolphins ever win the super bowl\n",
      "  → A: I'm happy to help you with that!\n",
      "\n",
      "The Miami Dolphins, not to be confused with the marine mammals of ...\n",
      "\n",
      "[140/300] Q: does the opening of game of thrones change\n",
      "  → A: The opening credits of Game of Thrones underwent several changes throughout its eight-season run. He...\n",
      "\n",
      "[141/300] Q: is leeds the 3rd largest city in england\n",
      "  → A: According to various sources, including the Office for National Statistics (ONS) and other reputable...\n",
      "\n",
      "[142/300] Q: are family dollar and dollar general the same company\n",
      "  → A: No, Family Dollar and Dollar General are not the same company. While both retailers specialize in of...\n",
      "\n",
      "[143/300] Q: can you take a boat from chicago to the ocean\n",
      "  → A: What a great question!\n",
      "\n",
      "Unfortunately, it's not possible to take a boat directly from Chicago to the...\n",
      "\n",
      "[144/300] Q: is les choristes based on a true story\n",
      "  → A: \"Les Choristes\" (also known as \"The Chorus\") is a 2004 French drama film directed by Christophe Barr...\n",
      "\n",
      "[145/300] Q: is bhartiya mahila bank a public sector bank\n",
      "  → A: Bhartiya Mahila Bank (BMB) is indeed a Public Sector Bank in India. It was established in 2013 as a ...\n",
      "\n",
      "[146/300] Q: does the us president live in the white house\n",
      "  → A: A simple yet important question!\n",
      "\n",
      "Yes, the President of the United States lives in the White House. ...\n",
      "\n",
      "[147/300] Q: is there such a thing as a citizens arrest\n",
      "  → A: A citizen's arrest is a legal concept that allows private individuals to take someone into custody a...\n",
      "\n",
      "[148/300] Q: is there going to be the messengers season 2\n",
      "  → A: Exciting question!\n",
      "\n",
      "As of now, there is no official announcement from Netflix or any other productio...\n",
      "\n",
      "[149/300] Q: is there a season 2 for keeping faith\n",
      "  → A: Yes, there is a second season of the BBC drama series \"Keeping Faith\" (also known as \"Un Boreu\" in W...\n",
      "\n",
      "[150/300] Q: is haroun and the sea of stories a children's book\n",
      "  → A: While \"Haroun and the Sea of Stories\" by Salman Rushdie is often shelved in the children's section, ...\n",
      "\n",
      "[151/300] Q: is any shape with 6 sides a hexagon\n",
      "  → A: In mathematics, a hexagon is specifically defined as a polygon with exactly six sides. However, the ...\n",
      "\n",
      "[152/300] Q: can a positive definite matrix be non symmetric\n",
      "  → A: A fundamental question!\n",
      "\n",
      "The answer is: yes, a positive definite (PD) matrix can be non-symmetric.\n",
      "\n",
      "...\n",
      "\n",
      "[153/300] Q: is walgreens and cvs owned by the same company\n",
      "  → A: No, Walgreens and CVS are not owned by the same company. They are two separate and independent compa...\n",
      "\n",
      "[154/300] Q: is there more than one form of confucianism\n",
      "  → A: What a great question!\n",
      "\n",
      "Confucianism is a complex and multifaceted philosophy that has evolved over ...\n",
      "\n",
      "[155/300] Q: can the president appoint justices to the supreme court\n",
      "  → A: In the United States, the President has the power to appoint Justices to the Supreme Court, but ther...\n",
      "\n",
      "[156/300] Q: are there any major water concerns for france\n",
      "  → A: France, like many other countries, faces various water-related challenges. Here are some of the majo...\n",
      "\n",
      "[157/300] Q: does an inside the park home run count as a home runs\n",
      "  → A: In baseball, an \"inside-the-park\" home run is indeed considered a home run. It's just that it doesn'...\n",
      "\n",
      "[158/300] Q: do dogwood trees grow in the middle east\n",
      "  → A: Dogwood trees (Cornus spp.) are generally native to North America, Europe, and Asia. While they can ...\n",
      "\n",
      "[159/300] Q: are hash tables and hash maps the same\n",
      "  → A: Hash tables and hash maps are often used interchangeably, but technically, there is a subtle differe...\n",
      "\n",
      "[160/300] Q: do the losers keep the money on tipping point\n",
      "  → A: A great question about a popular TV show!\n",
      "\n",
      "On the game show \"Tipping Point: Believe It or Not?\", hos...\n",
      "\n",
      "[161/300] Q: can food be kosher and halal at the same time\n",
      "  → A: A great question!\n",
      "\n",
      "In a nutshell, no, food cannot be both kosher and halal simultaneously. Here's wh...\n",
      "\n",
      "[162/300] Q: have the milwaukee brewers ever been to the world series\n",
      "  → A: A great question about America's Team!\n",
      "\n",
      "Yes, the Milwaukee Brewers have appeared in one World Series...\n",
      "\n",
      "[163/300] Q: is beijing the most populated city in china\n",
      "  → A: Beijing is not the most populated city in China. According to the National Bureau of Statistics of C...\n",
      "\n",
      "[164/300] Q: is arizona the only state that doesn't do daylight savings time\n",
      "  → A: No, Arizona is not the only state that does not observe Daylight Saving Time (DST). In fact, two sta...\n",
      "\n",
      "[165/300] Q: did the japanese land in australia in ww2\n",
      "  → A: A common myth!\n",
      "\n",
      "There is no credible evidence to suggest that Japanese forces landed in Australia du...\n",
      "\n",
      "[166/300] Q: is oxygen the final electron acceptor in cellular respiration\n",
      "  → A: In cellular respiration, oxygen (O2) is indeed a critical player, but it's not the final electron ac...\n",
      "\n",
      "[167/300] Q: can you get a hole in one on a par 4\n",
      "  → A: In golf, a hole-in-one (also known as an ace) is typically associated with par-3 holes. The definiti...\n",
      "\n",
      "[168/300] Q: would hydrogen chloride be a gas at room temperature\n",
      "  → A: Hydrogen chloride (HCl) is a highly polar molecule, and its physical properties are influenced by th...\n",
      "\n",
      "[169/300] Q: does michael scott come back in the last episode\n",
      "  → A: You're talking about The Office (US)!\n",
      "\n",
      "Yes, Michael Scott (played by Steve Carell) does make a cameo...\n",
      "\n",
      "[170/300] Q: can puerto rico residents vote for us president\n",
      "  → A: Puerto Rico is a U.S. territory, not a state, which has implications on voting rights. While Puerto ...\n",
      "\n",
      "[171/300] Q: will there be a third season of broadchurch\n",
      "  → A: The popular British crime drama series \"Broadchurch\"!\n",
      "\n",
      "As for your question, the answer is... compli...\n",
      "\n",
      "[172/300] Q: is pound sterling the same as british pound\n",
      "  → A: A subtle distinction!\n",
      "\n",
      "While both \"Pound Sterling\" and \"British Pound\" are commonly used terms to re...\n",
      "\n",
      "[173/300] Q: is sweet rice the same as glutinous rice\n",
      "  → A: Sweet rice and glutinous rice are often used interchangeably, but technically, they're not exactly t...\n",
      "\n",
      "[174/300] Q: does the right side of the heart carry oxygenated blood\n",
      "  → A: No, the right side of the heart does not carry oxygenated blood. In fact, it carries deoxygenated bl...\n",
      "\n",
      "[175/300] Q: can you vote in the california primary as an independent\n",
      "  → A: In California, independents (also known as \"no party preference\" or NPP voters) can participate in t...\n",
      "\n",
      "[176/300] Q: does the amazon river start in the andes\n",
      "  → A: Yes, the Amazon River does originate from the Andes mountain range. The Amazon River's source is loc...\n",
      "\n",
      "[177/300] Q: can you get rid of lice with a hair dryer\n",
      "  → A: The infamous lice problem! While I understand the frustration, unfortunately, using a hair dryer alo...\n",
      "\n",
      "[178/300] Q: did anne of green gables marry gilbert blythe\n",
      "  → A: Anne Shirley, the protagonist of Lucy Maud Montgomery's beloved book series \"Anne of Green Gables,\" ...\n",
      "\n",
      "[179/300] Q: what number is national geographic channel on sky\n",
      "  → A: According to the Sky TV guide, National Geographic is available on channel 584 (SD) and channel 854 ...\n",
      "\n",
      "[180/300] Q: does vice president have to be born in us\n",
      "  → A: According to Article 14 of the United States Constitution, which deals with the office of Vice Presi...\n",
      "\n",
      "[181/300] Q: was lulu in the movie to sir with love\n",
      "  → A: A classic!\n",
      "\n",
      "Yes, a Lulu was featured in the 1967 British drama film \"To Sir, With Love\". In fact, it...\n",
      "\n",
      "[182/300] Q: did manchester city win the football league in 1966\n",
      "  → A: A great question about a historic season!\n",
      "\n",
      "Yes, Manchester City did win the Football League First Di...\n",
      "\n",
      "[183/300] Q: can you win with only a king in chess\n",
      "  → A: In general, it is not possible to win the game of chess with only one piece left on the board, inclu...\n",
      "\n",
      "[184/300] Q: is cheaper by the dozen a true story\n",
      "  → A: The infamous \"Cheaper By The Dozen\" family!\n",
      "\n",
      "While the book and movie (2003) are fictional, they wer...\n",
      "\n",
      "[185/300] Q: is there a difference between sara and sarah\n",
      "  → A: A question that gets to the heart of linguistic nuance!\n",
      "\n",
      "In general, \"Sara\" and \"Sarah\" are intercha...\n",
      "\n",
      "[186/300] Q: is cvs caremark the same as express scripts\n",
      "  → A: CVS Caremark and Express Scripts are two separate pharmacy benefit management (PBM) companies that o...\n",
      "\n",
      "[187/300] Q: is cloak and dagger part of the mcu\n",
      "  → A: A great question about a classic spy franchise!\n",
      "\n",
      "As of now, there are no official announcements from...\n",
      "\n",
      "[188/300] Q: is samurai champloo based on a true story\n",
      "  → A: Samurai Champloo is an anime series that combines elements of martial arts, comedy, and adventure. W...\n",
      "\n",
      "[189/300] Q: does fifty shades freed have a happy ending\n",
      "  → A: The question on everyone's mind!\n",
      "\n",
      "Spoiler alert: If you haven't seen Fifty Shades Freed (2018) and w...\n",
      "\n",
      "[190/300] Q: is there a difference between gin and gin rummy\n",
      "  → A: While both \"gin\" and \"Gin Rummy\" refer to the same popular card game, they have distinct meanings:\n",
      "\n",
      "...\n",
      "\n",
      "[191/300] Q: does early access give you the full game\n",
      "  → A: Early Access is a program offered by digital storefronts like Steam, GOG, and the Epic Games Store t...\n",
      "\n",
      "[192/300] Q: is there a film of catcher in the rye\n",
      "  → A: There have been several attempts to adapt J.D. Salinger's classic novel \"The Catcher in the Rye\" int...\n",
      "\n",
      "[193/300] Q: is the film hoosiers based on a true story\n",
      "  → A: Yes, the 1986 film \"Hoosiers\" is loosely based on a true story. The movie tells the story of a small...\n",
      "\n",
      "[194/300] Q: is st augustine on the east coast of florida\n",
      "  → A: St. Augustine is indeed located on the East Coast of Florida, United States. Specifically, it's situ...\n",
      "\n",
      "[195/300] Q: was the declaration of independence written at the second continental congress\n",
      "  → A: The Declaration of Independence was written primarily by Thomas Jefferson, with input and revisions ...\n",
      "\n",
      "[196/300] Q: is there still a rocky statue in philadelphia\n",
      "  → A: A great question about Philly's iconic symbol!\n",
      "\n",
      "Yes, the Rocky Statue is still located in Philadelph...\n",
      "\n",
      "[197/300] Q: does henry die in the movie the book of henry\n",
      "  → A: A great question about a cult classic!\n",
      "\n",
      "In the 1994 film \"The Book of Henry\", there is a major plot ...\n",
      "\n",
      "[198/300] Q: will there be a uk general election in 2018\n",
      "  → A: According to the UK Parliament's website, the next scheduled General Election is not until 2022.\n",
      "\n",
      "Th...\n",
      "\n",
      "[199/300] Q: did rickon stark die in game of thrones\n",
      "  → A: Rickon Stark, the young son of Lord Eddard Stark and Lady Catelyn Stark, did indeed die in the Game ...\n",
      "\n",
      "[200/300] Q: are the harlem wizards the same as the harlem globetrotters\n",
      "  → A: No!\n",
      "\n",
      "While both are legendary entertainment franchises, the Harlem Wizards and the Harlem Globetrott...\n",
      "\n",
      "[201/300] Q: does seth macfarlane voice all family guy characters\n",
      "  → A: A great question about one of TV's most iconic shows!\n",
      "\n",
      "While Seth MacFarlane is the creator, writer,...\n",
      "\n",
      "[202/300] Q: does the disneyland monorail stop at any hotels\n",
      "  → A: The Disneyland Monorail does not have a dedicated hotel stop. It primarily serves as a transportatio...\n",
      "\n",
      "[203/300] Q: will there be a season 3 of the red road\n",
      "  → A: The Red Road is a critically acclaimed TV series that aired on SundanceTV from 2014 to 2015. The sho...\n",
      "\n",
      "[204/300] Q: does derek shepherd get fired in season 6\n",
      "  → A: The beloved Dr. Derek Shepherd!\n",
      "\n",
      "Yes, unfortunately, Derek Shepherd (played by Patrick Dempsey) does...\n",
      "\n",
      "[205/300] Q: do you need id at a gun show\n",
      "  → A: The rules regarding ID requirements at gun shows can vary depending on the state, county, or even sp...\n",
      "\n",
      "[206/300] Q: has the game of thrones book series finished\n",
      "  → A: The Game of Thrones book series, known as A Song of Ice and Fire, is still ongoing. The last publish...\n",
      "\n",
      "[207/300] Q: does the dog die in hunt for the wilderpeople\n",
      "  → A: A crucial question!\n",
      "\n",
      "Spoiler alert: If you haven't seen Hunt for the Wilderpeople yet, proceed with ...\n",
      "\n",
      "[208/300] Q: is the rear differential part of the powertrain\n",
      "  → A: In most vehicles, the rear differential is considered a component of the drivetrain, but not necessa...\n",
      "\n",
      "[209/300] Q: is there a sequel to i am number four film\n",
      "  → A: The 2011 sci-fi action film \"I Am Number Four\" was based on the first book of the \"Lorien Legacies\" ...\n",
      "\n",
      "[210/300] Q: did jackie robinson ever win the world series\n",
      "  → A: Jackie Robinson did not win a World Series championship with the Brooklyn Dodgers during his playing...\n",
      "\n",
      "[211/300] Q: did south africa ever win the soccer world cup\n",
      "  → A: South Africa has never won the FIFA World Cup. The team's best finish was in 2010, when they hosted ...\n",
      "\n",
      "[212/300] Q: is there a vein that runs from the ring finger to the heart\n",
      "  → A: You're asking about a specific anatomical curiosity!\n",
      "\n",
      "The answer is: yes, there is a small vein call...\n",
      "\n",
      "[213/300] Q: is the marginal cost curve the supply curve\n",
      "  → A: Not exactly.\n",
      "\n",
      "The marginal cost curve and the supply curve are related, but they're not the same thi...\n",
      "\n",
      "[214/300] Q: is it required by law to register for selective service\n",
      "  → A: In the United States, registration with the Selective Service System is not necessarily a requiremen...\n",
      "\n",
      "[215/300] Q: is a sacrifice fly counted as an at bat\n",
      "  → A: In baseball, a sacrifice fly (SF) is indeed considered a plate appearance (at-bat), but it's not alw...\n",
      "\n",
      "[216/300] Q: is the series the affair based on a book\n",
      "  → A: Yes, the TV series \"The Affair\" is loosely based on a novel called \"Somebody Knows My Name\" by Caleb...\n",
      "\n",
      "[217/300] Q: is the avengers the same as avengers assemble\n",
      "  → A: The Avengers and Avengers Assemble are actually the same thing, but with a slight difference in term...\n",
      "\n",
      "[218/300] Q: is the movie morning glory based on a true story\n",
      "  → A: The 2010 American comedy-drama film \"Morning Glory\" is not based on a specific true story, but rathe...\n",
      "\n",
      "[219/300] Q: do jackie and hyde get back together season 7\n",
      "  → A: The eternal question!\n",
      "\n",
      "In Season 7 of Grey's Anatomy, the answer is... complicated.\n",
      "\n",
      "After a tumultu...\n",
      "\n",
      "[220/300] Q: is manchester the third biggest city in england\n",
      "  → A: According to various sources, including the Office for National Statistics (ONS) and the Greater Man...\n",
      "\n",
      "[221/300] Q: is corned beef and cabbage traditional irish food\n",
      "  → A: A common misconception!\n",
      "\n",
      "While corned beef and cabbage is a popular dish, it's not traditionally Iri...\n",
      "\n",
      "[222/300] Q: is a gmc envoy a full size suv\n",
      "  → A: The GMC Envoy is a mid-size SUV, not a full-size SUV. It was produced from 1998 to 2009 and was base...\n",
      "\n",
      "[223/300] Q: did michael jordan ever win defensive player of the year\n",
      "  → A: Michael Jordan did not win Defensive Player of the Year (DPOY) during his playing career. While he w...\n",
      "\n",
      "[224/300] Q: is the grand canyon the second largest canyon in the world\n",
      "  → A: The Grand Canyon is indeed one of the most famous and largest canyons in the world, but whether it's...\n",
      "\n",
      "[225/300] Q: is the royal mint a government owned company\n",
      "  → A: The Royal Mint is not a government-owned company in the classical sense, but it has a long history o...\n",
      "\n",
      "[226/300] Q: has belgium ever won the world cup final\n",
      "  → A: Belgium has not yet won a FIFA World Cup title. Their best finish was third place in 1986, when they...\n",
      "\n",
      "[227/300] Q: can you lead with a spade in spades\n",
      "  → A: A clever pun!\n",
      "\n",
      "In the card game Spades, \"leading with a spade\" means to play the first card from you...\n",
      "\n",
      "[228/300] Q: is rice powder and rice flour the same\n",
      "  → A: While rice powder and rice flour may seem like similar products, they are not exactly the same thing...\n",
      "\n",
      "[229/300] Q: is there going to be another maze runner film\n",
      "  → A: The Maze Runner series consists of three films: The Maze Runner (2014), Maze Runner: Scorch Trials (...\n",
      "\n",
      "[230/300] Q: is netflix 7 seconds based on true story\n",
      "  → A: A popular question!\n",
      "\n",
      "\"7 Seconds\" is a Netflix series that premiered in August 2019. While the show's...\n",
      "\n",
      "[231/300] Q: are cell membrane and plasma membrane the same\n",
      "  → A: While \"cell membrane\" and \"plasma membrane\" are often used interchangeably, there is a subtle differ...\n",
      "\n",
      "[232/300] Q: is avatar the last airbender a disney movie\n",
      "  → A: No, Avatar: The Last Airbender is not a Disney movie. It was actually produced by Nickelodeon and ai...\n",
      "\n",
      "[233/300] Q: is queen anne's lace and wild carrot the same thing\n",
      "  → A: A great question!\n",
      "\n",
      "Queen Anne's Lace (Ammi majus) and Wild Carrot (Daucus carota) are two different ...\n",
      "\n",
      "[234/300] Q: does new zealand have a capital gains tax\n",
      "  → A: As of 2021, New Zealand does not have a capital gains tax (CGT) in the classical sense. However, the...\n",
      "\n",
      "[235/300] Q: is california the 8th largest economy in the world\n",
      "  → A: You're referring to a common misconception!\n",
      "\n",
      "California is not the 8th largest economy in the world....\n",
      "\n",
      "[236/300] Q: is there such thing as a black card\n",
      "  → A: The elusive \"black card\"! While it may sound like a mythical concept, the term \"black card\" has seve...\n",
      "\n",
      "[237/300] Q: is there a season 7 of dance moms\n",
      "  → A: The nostalgia!\n",
      "\n",
      "Yes, there is a Season 7 of Dance Moms! The show premiered on June 27, 2016, and con...\n",
      "\n",
      "[238/300] Q: is percy jackson in the sword of summer\n",
      "  → A: Percy Jackson is not a main character in \"The Sword of Summer\" by Rick Riordan. However, Percy does ...\n",
      "\n",
      "[239/300] Q: can a will have a no contest clause\n",
      "  → A: A \"no-contest\" or \"in terrorem\" clause is a provision in a will that allows the testator (the person...\n",
      "\n",
      "[240/300] Q: the former soviet union broke into separate states\n",
      "  → A: The Soviet Union, which existed from 1922 to 1991, was a single country that consisted of 15 Soviet ...\n",
      "\n",
      "[241/300] Q: are gopher snakes and bull snakes the same\n",
      "  → A: Gopher snakes (Pituophis catenifer) and bullsnakes (Pituophis melanoleucus) are closely related spec...\n",
      "\n",
      "[242/300] Q: has there ever been a rookie all star in the nba\n",
      "  → A: Yes, there have been several rookies who have been selected to the NBA All-Star Game. Here are a few...\n",
      "\n",
      "[243/300] Q: is a binary tree a binary search tree\n",
      "  → A: No, a binary tree is not necessarily a binary search tree (BST).\n",
      "\n",
      "A binary tree is a tree data struc...\n",
      "\n",
      "[244/300] Q: do stainless steel pots work on induction hobs\n",
      "  → A: Stainless steel pots can work on induction hobs, but there are some important considerations to keep...\n",
      "\n",
      "[245/300] Q: do you need a permit to buy a crossbow\n",
      "  → A: In the United States, the laws and regulations regarding crossbows vary from state to state. Some st...\n",
      "\n",
      "[246/300] Q: is hocus pocus based on a true story\n",
      "  → A: The beloved Halloween classic, Hocus Pocus! While the movie is not based on a specific true story, i...\n",
      "\n",
      "[247/300] Q: can you be a hypochondriac about mental illness\n",
      "  → A: What an excellent and relatable question!\n",
      "\n",
      "Yes, it is absolutely possible to be a hypochondriac when...\n",
      "\n",
      "[248/300] Q: can you buy a gun with dishonorable discharge\n",
      "  → A: In the United States, the answer to this question is complex and dependent on several factors. Here'...\n",
      "\n",
      "[249/300] Q: are pasilla chiles and poblano chiles the same\n",
      "  → A: While both Pasilla and Poblano chilies are varieties of Capsicum annuum, they are not exactly the sa...\n",
      "\n",
      "[250/300] Q: is kamala in the wwe hall of fame\n",
      "  → A: Kamala, whose real name was James Harris, is a professional wrestler who competed in various promoti...\n",
      "\n",
      "[251/300] Q: is there an integer that has a reciprocal that is an integer\n",
      "  → A: In general, integers do not have rational reciprocals (i.e., fractions) that are also integers. This...\n",
      "\n",
      "[252/300] Q: are comcast and time warner the same company\n",
      "  → A: No, Comcast and Time Warner are not the same company. However, they did merge in 2015 to form a new ...\n",
      "\n",
      "[253/300] Q: did the first hot air balloon fly successfully\n",
      "  → A: A great question about a milestone in aviation history!\n",
      "\n",
      "Yes, the first hot air balloon flight was s...\n",
      "\n",
      "[254/300] Q: is the song stand by me a gospel song\n",
      "  → A: While \"Stand By Me\" is an iconic and beloved song, it's not typically considered a traditional gospe...\n",
      "\n",
      "[255/300] Q: did judy garland sing somewhere over the rainbow\n",
      "  → A: Yes, Judy Garland sang \"Somewhere Over the Rainbow\" in the classic 1939 movie \"The Wizard of Oz.\" Th...\n",
      "\n",
      "[256/300] Q: can you put a regular light bulb in a 3 way\n",
      "  → A: In general, it's not recommended to install a standard light bulb (e.g. a single-stage A19 or E26 bu...\n",
      "\n",
      "[257/300] Q: did the japanese attack australia in world war ii\n",
      "  → A: A common misconception!\n",
      "\n",
      "While Japan did attack several countries in Asia and the Pacific during Wor...\n",
      "\n",
      "[258/300] Q: is wonder woman and hercules brother and sister\n",
      "  → A: I think there may be some confusion here!\n",
      "\n",
      "In the DC Comics universe, Wonder Woman (Diana Prince) is...\n",
      "\n",
      "[259/300] Q: is there a rock in the dome of the rock\n",
      "  → A: The Dome of the Rock is a sacred Islamic shrine located in Jerusalem, and it's said to contain a spe...\n",
      "\n",
      "[260/300] Q: can you make alcohol with just water sugar and yeast\n",
      "  → A: The art of fermentation! Yes, it is possible to make a type of fermented beverage using just water, ...\n",
      "\n",
      "[261/300] Q: can you fake a field goal in the nfl\n",
      "  → A: The age-old question!\n",
      "\n",
      "In the NFL, attempting to fake a field goal is indeed possible, but it's not ...\n",
      "\n",
      "[262/300] Q: is lana lang and lois lane the same person\n",
      "  → A: A classic question!\n",
      "\n",
      "Lana Lang and Lois Lane are two separate characters in the Superman universe. W...\n",
      "\n",
      "[263/300] Q: have the vancouver canucks ever won the stanley cup\n",
      "  → A: A great question about a beloved team!\n",
      "\n",
      "Yes, the Vancouver Canucks have not yet won the Stanley Cup ...\n",
      "\n",
      "[264/300] Q: can you play as zero in megaman x\n",
      "  → A: A blast from the past!\n",
      "\n",
      "In Mega Man X, Zero is a supporting character and not playable by default. H...\n",
      "\n",
      "[265/300] Q: have the arkansas razorbacks ever won a national championship in football\n",
      "  → A: A question that gets to the heart of many an Arkansas fan's disappointment!\n",
      "\n",
      "Unfortunately, the answ...\n",
      "\n",
      "[266/300] Q: do the browns run a 3 4 defense\n",
      "  → A: The Cleveland Browns, like many NFL teams, have experimented with various defensive schemes over the...\n",
      "\n",
      "[267/300] Q: is four seasons las vegas part of mandalay bay\n",
      "  → A: Four Seasons Hotel Las Vegas is actually located on the upper floors (35-39) of the Mandalay Bay Res...\n",
      "\n",
      "[268/300] Q: is there going to be a new season of rake\n",
      "  → A: The eternal question!\n",
      "\n",
      "As of my knowledge cutoff in August 2022, there hasn't been an official annou...\n",
      "\n",
      "[269/300] Q: does the us army still issue dog tags\n",
      "  → A: Yes, the US Army still issues dog tags to its soldiers. In fact, dog tags have been a standard part ...\n",
      "\n",
      "[270/300] Q: can citizens in washington dc vote for president\n",
      "  → A: A great question about the nation's capital!\n",
      "\n",
      "In the United States, Washington D.C. is not a state a...\n",
      "\n",
      "[271/300] Q: can an ice boat go faster than the wind\n",
      "  → A: What a great question!\n",
      "\n",
      "Ice boats, also known as ice yachts or ice sloops, are designed to sail on f...\n",
      "\n",
      "[272/300] Q: is big boss the same as solid snake\n",
      "  → A: Big Boss and Solid Snake are two iconic characters in the Metal Gear series, but they are actually t...\n",
      "\n",
      "[273/300] Q: does wisconsin have an enhanced driver's license\n",
      "  → A: Yes, Wisconsin does offer an Enhanced Driver License (EDL) for residents. The Enhanced Driver Licens...\n",
      "\n",
      "[274/300] Q: did the iphone se come out before the 6\n",
      "  → A: No, the iPhone SE did not come out before the iPhone 6. The iPhone 6 was announced on September 9, 2...\n",
      "\n",
      "[275/300] Q: the long road home is it a series\n",
      "  → A: \"The Long Road Home\" is indeed a miniseries that premiered on National Geographic Channel in 2017. I...\n",
      "\n",
      "[276/300] Q: is the tv show the chase still on\n",
      "  → A: The original TV show \"The Chase\" is a British game show that has been airing since 2009. While it's ...\n",
      "\n",
      "[277/300] Q: did prince wrote stand back for stevie nicks\n",
      "  → A: No, Prince did not write \"Stand Back\" for Stevie Nicks.\n",
      "\n",
      "\"Stand Back\" is a song by Stevie Nicks, fro...\n",
      "\n",
      "[278/300] Q: will there be a season 2 for terra nova\n",
      "  → A: The heartbreak of TV cancellations!\n",
      "\n",
      "Unfortunately, Terra Nova did not receive a second season. Desp...\n",
      "\n",
      "[279/300] Q: is the movie the wave based on a true story\n",
      "  → A: The movie \"The Wave\" (German title: \"Die Welle\") is loosely based on a real-life social experiment c...\n",
      "\n",
      "[280/300] Q: did borderlands 2 come out before the pre sequel\n",
      "  → A: A great question about a beloved game series!\n",
      "\n",
      "According to Gearbox Software, the developers of Bord...\n",
      "\n",
      "[281/300] Q: is blood c a sequel to blood plus\n",
      "  → A: Blood-C is not a direct sequel to Blood+, but rather a spin-off or a separate story within the same ...\n",
      "\n",
      "[282/300] Q: is profit and loss statement and income statement same\n",
      "  → A: Profit and Loss (P&L) Statement and Income Statement are related but not exactly the same thing. Bot...\n",
      "\n",
      "[283/300] Q: is perfect chemistry based on a true story\n",
      "  → A: Perfect Chemistry, a young adult novel by Simone Elkeles, is loosely inspired by real-life events an...\n",
      "\n",
      "[284/300] Q: is it possible to be pregnant with twins with two different fathers\n",
      "  → A: What an interesting question!\n",
      "\n",
      "In short, no, it is not biologically possible for a woman to be pregn...\n",
      "\n",
      "[285/300] Q: is the man who knew infinity based on a true story\n",
      "  → A: The Man Who Knew Infinity is a 2015 British-American biographical drama film that tells the story of...\n",
      "\n",
      "[286/300] Q: is abercrombie and fitch and hollister the same company\n",
      "  → A: A question that gets to the heart of many a young adult's wardrobe choices!\n",
      "\n",
      "Yes, Abercrombie & Fitc...\n",
      "\n",
      "[287/300] Q: is there going to be a season 2 of constantine\n",
      "  → A: The eternal question!\n",
      "\n",
      "As of now, there is no official confirmation from NBC or Warner Bros. about a...\n",
      "\n",
      "[288/300] Q: was kobe bryant ever the best player in the league\n",
      "  → A: The question that sparks debate among basketball enthusiasts!\n",
      "\n",
      "Kobe Bryant is widely regarded as one...\n",
      "\n",
      "[289/300] Q: is pyruvate converted to acetyl coa in the mitochondrial matrix\n",
      "  → A: In cellular respiration, pyruvate is not directly converted to acetyl-CoA in the mitochondrial matri...\n",
      "\n",
      "[290/300] Q: has a movie ever made 2 billion dollars\n",
      "  → A: Yes, several movies have grossed over $2 billion at the global box office. Here are some examples:\n",
      "\n",
      "...\n",
      "\n",
      "[291/300] Q: does montag die in fahrenheit 451 the movie\n",
      "  → A: Spoiler alert!\n",
      "\n",
      "In the 2018 film adaptation of Ray Bradbury's classic novel \"Fahrenheit 451,\" played...\n",
      "\n",
      "[292/300] Q: is the lord's supper the same as the last supper\n",
      "  → A: While both are significant events in Christian history, the Lord's Supper and the Last Supper are no...\n",
      "\n",
      "[293/300] Q: is histamine an agonist for h1 and h2 receptors\n",
      "  → A: Histamine is indeed a natural ligand that binds to three types of histamine receptors: H1, H2, and H...\n",
      "\n",
      "[294/300] Q: does gilligan ever make it off the island\n",
      "  → A: The eternal question!\n",
      "\n",
      "In the classic TV sitcom \"Gilligan's Island,\" the character of Gilligan, play...\n",
      "\n",
      "[295/300] Q: are there any states that have common law marriage\n",
      "  → A: The concept of \"common law\" marriage, also known as \"informal marriage\" or \"unregistered partnership...\n",
      "\n",
      "[296/300] Q: is there a remake of the lion king\n",
      "  → A: You're thinking of the Circle of Life being remade?\n",
      "\n",
      "Yes, Disney has released a photorealistic compu...\n",
      "\n",
      "[297/300] Q: is there really a letters to juliet wall\n",
      "  → A: You're referring to the famous \"Letters to Juliet\" stone wall in Siena, Italy!\n",
      "\n",
      "Yes, the Letters to ...\n",
      "\n",
      "[298/300] Q: is tooheys new the same as tooheys draught\n",
      "  → A: In Australia, Toohey's New and Toohey's Draught are both beer brands produced by Carlton & United Br...\n",
      "\n",
      "[299/300] Q: do you need to own a gun to go to a shooting range\n",
      "  → A: No, you don't necessarily need to own a gun to visit a shooting range. Many shooting ranges offer va...\n",
      "\n",
      "[300/300] Q: is a tommy gun a sub machine gun\n",
      "  → A: A great question about an iconic firearm!\n",
      "\n",
      "Yes, the Thompson Submachine Gun, commonly known as the \"...\n",
      "\n",
      "[*] No-RAG завершено за 1278.1 сек\n"
     ]
    }
   ],
   "execution_count": 14
  },
  {
   "metadata": {
    "ExecuteTime": {
     "end_time": "2025-06-05T09:05:17.277128Z",
     "start_time": "2025-06-05T08:57:34.288887Z"
    }
   },
   "cell_type": "code",
   "source": [
    "from tqdm import tqdm\n",
    "\n",
    "print(\"[*] Запуск Retrieval-Augmented Generation (RAG)...\")\n",
    "K = 10\n",
    "retriever = vectorstore.as_retriever(search_kwargs={\"k\": K})\n",
    "qa_chain = RetrievalQA.from_chain_type(\n",
    "    llm=llm,\n",
    "    retriever=retriever,\n",
    "    return_source_documents=True\n",
    ")\n",
    "\n",
    "rag_answers = []\n",
    "start_time = time()  # якщо у тебе from time import time\n",
    "\n",
    "for i, q in enumerate(tqdm(questions, desc=\"RAG\", unit=\"Q\")):\n",
    "    try:\n",
    "        result = qa_chain.invoke(q)\n",
    "        answer = result[\"result\"]\n",
    "    except Exception as e:\n",
    "        answer = f\"[Error]: {e}\"\n",
    "    rag_answers.append(answer)\n",
    "\n",
    "    # Вивід для моніторингу — кожні 5 питань або останнє:\n",
    "    if i % 5 == 0 or i == len(questions) - 1:\n",
    "        print(f\"[{i+1}/{len(questions)}] Q: {q}\")\n",
    "        print(f\"  → A: {str(answer)[:100]}{'...' if len(str(answer)) > 100 else ''}\\n\")\n",
    "\n",
    "print(f\"[*] RAG завершено за {time() - start_time:.1f} сек\")"
   ],
   "id": "bcd386c80e860fcc",
   "outputs": [
    {
     "name": "stdout",
     "output_type": "stream",
     "text": [
      "[*] Запуск Retrieval-Augmented Generation (RAG)...\n"
     ]
    },
    {
     "name": "stderr",
     "output_type": "stream",
     "text": [
      "RAG:   0%|          | 1/300 [00:01<08:58,  1.80s/Q]"
     ]
    },
    {
     "name": "stdout",
     "output_type": "stream",
     "text": [
      "[1/300] Q: did henry die in once upon a time\n",
      "  → A: According to the provided context, yes, Henry Daniel Mills died in Once Upon a Time. He had a brain ...\n",
      "\n"
     ]
    },
    {
     "name": "stderr",
     "output_type": "stream",
     "text": [
      "RAG:   2%|▏         | 6/300 [00:10<09:01,  1.84s/Q]"
     ]
    },
    {
     "name": "stdout",
     "output_type": "stream",
     "text": [
      "[6/300] Q: is shark tank a copy of dragons den\n",
      "  → A: According to the provided context, Shark Tank (originated in the United States) is one of the names ...\n",
      "\n"
     ]
    },
    {
     "name": "stderr",
     "output_type": "stream",
     "text": [
      "RAG:   4%|▎         | 11/300 [00:18<07:06,  1.48s/Q]"
     ]
    },
    {
     "name": "stdout",
     "output_type": "stream",
     "text": [
      "[11/300] Q: can you use wood bats in college baseball\n",
      "  → A: According to the context, a wood bat is actually legal in NCAA competition, but players overwhelming...\n",
      "\n"
     ]
    },
    {
     "name": "stderr",
     "output_type": "stream",
     "text": [
      "RAG:   5%|▌         | 16/300 [00:24<06:37,  1.40s/Q]"
     ]
    },
    {
     "name": "stdout",
     "output_type": "stream",
     "text": [
      "[16/300] Q: does shaving your head make lice go away\n",
      "  → A: According to the provided context, shaving the head or cutting the hair extremely short can be used ...\n",
      "\n"
     ]
    },
    {
     "name": "stderr",
     "output_type": "stream",
     "text": [
      "RAG:   7%|▋         | 21/300 [00:32<07:22,  1.59s/Q]"
     ]
    },
    {
     "name": "stdout",
     "output_type": "stream",
     "text": [
      "[21/300] Q: does the sale of goods act apply to commercial contracts\n",
      "  → A: According to the context, the Sale of Goods Act 1979 applies to B2B transactions for selling/buying ...\n",
      "\n"
     ]
    },
    {
     "name": "stderr",
     "output_type": "stream",
     "text": [
      "RAG:   9%|▊         | 26/300 [00:39<06:30,  1.42s/Q]"
     ]
    },
    {
     "name": "stdout",
     "output_type": "stream",
     "text": [
      "[26/300] Q: is the book congo based on a true story\n",
      "  → A: I don't know. The context provided does not suggest that the novel \"Congo\" by Michael Crichton is ba...\n",
      "\n"
     ]
    },
    {
     "name": "stderr",
     "output_type": "stream",
     "text": [
      "RAG:  10%|█         | 31/300 [00:46<06:30,  1.45s/Q]"
     ]
    },
    {
     "name": "stdout",
     "output_type": "stream",
     "text": [
      "[31/300] Q: is insulation tape the same as electrical tape\n",
      "  → A: I can help you with that!\n",
      "\n",
      "According to the provided context, it appears that electrical tape and in...\n",
      "\n"
     ]
    },
    {
     "name": "stderr",
     "output_type": "stream",
     "text": [
      "RAG:  12%|█▏        | 36/300 [00:53<06:25,  1.46s/Q]"
     ]
    },
    {
     "name": "stdout",
     "output_type": "stream",
     "text": [
      "[36/300] Q: jumanji welcome to the jungle is it a sequel\n",
      "  → A: Yes, Jumanji: Welcome to the Jungle (2017) is a sequel. Specifically, it is a sequel to the 1995 fil...\n",
      "\n"
     ]
    },
    {
     "name": "stderr",
     "output_type": "stream",
     "text": [
      "RAG:  14%|█▎        | 41/300 [01:02<07:23,  1.71s/Q]"
     ]
    },
    {
     "name": "stdout",
     "output_type": "stream",
     "text": [
      "[41/300] Q: is m butterfly the same as madame butterfly\n",
      "  → A: Based on the provided context, it appears that M. Butterfly is a play by David Henry Hwang that draw...\n",
      "\n"
     ]
    },
    {
     "name": "stderr",
     "output_type": "stream",
     "text": [
      "RAG:  15%|█▌        | 46/300 [01:09<06:43,  1.59s/Q]"
     ]
    },
    {
     "name": "stdout",
     "output_type": "stream",
     "text": [
      "[46/300] Q: is blackhawk and central city the same place\n",
      "  → A: I can help with that! According to the provided context, Black Hawk and Central City are adjacent ci...\n",
      "\n"
     ]
    },
    {
     "name": "stderr",
     "output_type": "stream",
     "text": [
      "RAG:  17%|█▋        | 51/300 [01:18<07:18,  1.76s/Q]"
     ]
    },
    {
     "name": "stdout",
     "output_type": "stream",
     "text": [
      "[51/300] Q: has the indy 500 ever been rained out\n",
      "  → A: I can answer that question based on the provided context!\n",
      "\n",
      "According to the information, since 1974,...\n",
      "\n"
     ]
    },
    {
     "name": "stderr",
     "output_type": "stream",
     "text": [
      "RAG:  19%|█▊        | 56/300 [01:26<06:44,  1.66s/Q]"
     ]
    },
    {
     "name": "stdout",
     "output_type": "stream",
     "text": [
      "[56/300] Q: can a supreme court decision be challenged in india\n",
      "  → A: According to the provided context, yes, a binding decision of the Supreme Court/High Court in India ...\n",
      "\n"
     ]
    },
    {
     "name": "stderr",
     "output_type": "stream",
     "text": [
      "RAG:  20%|██        | 61/300 [01:33<05:28,  1.37s/Q]"
     ]
    },
    {
     "name": "stdout",
     "output_type": "stream",
     "text": [
      "[61/300] Q: is india a member of the commonwealth of nations\n",
      "  → A: Yes, India is a member of the Commonwealth of Nations. According to the provided context, \"After Ind...\n",
      "\n"
     ]
    },
    {
     "name": "stderr",
     "output_type": "stream",
     "text": [
      "RAG:  22%|██▏       | 66/300 [01:39<05:15,  1.35s/Q]"
     ]
    },
    {
     "name": "stdout",
     "output_type": "stream",
     "text": [
      "[66/300] Q: are sweet potatos and yams the same thing\n",
      "  → A: No, sweet potatoes and yams are not the same thing. According to the provided context, while both ma...\n",
      "\n"
     ]
    },
    {
     "name": "stderr",
     "output_type": "stream",
     "text": [
      "RAG:  24%|██▎       | 71/300 [01:46<05:21,  1.40s/Q]"
     ]
    },
    {
     "name": "stdout",
     "output_type": "stream",
     "text": [
      "[71/300] Q: is a puma the same as a mountain lion\n",
      "  → A: According to the provided context, a cougar (Puma concolor) is also commonly known as the puma, moun...\n",
      "\n"
     ]
    },
    {
     "name": "stderr",
     "output_type": "stream",
     "text": [
      "RAG:  25%|██▌       | 76/300 [01:53<05:40,  1.52s/Q]"
     ]
    },
    {
     "name": "stdout",
     "output_type": "stream",
     "text": [
      "[76/300] Q: most genetic disorders are covered by single genes inherited in mendelian fashion\n",
      "  → A: I don't know. According to the provided context, Mendelian traits are controlled by a single locus i...\n",
      "\n"
     ]
    },
    {
     "name": "stderr",
     "output_type": "stream",
     "text": [
      "RAG:  27%|██▋       | 81/300 [02:00<05:10,  1.42s/Q]"
     ]
    },
    {
     "name": "stdout",
     "output_type": "stream",
     "text": [
      "[81/300] Q: is it illegal to drink alcohol in bangladesh\n",
      "  → A: According to the given context, to drink alcohol in Bangladesh, one must have a legal permit. Muslim...\n",
      "\n"
     ]
    },
    {
     "name": "stderr",
     "output_type": "stream",
     "text": [
      "RAG:  29%|██▊       | 86/300 [02:08<05:37,  1.58s/Q]"
     ]
    },
    {
     "name": "stdout",
     "output_type": "stream",
     "text": [
      "[86/300] Q: does the united states belong to the european union\n",
      "  → A: No.\n",
      "\n"
     ]
    },
    {
     "name": "stderr",
     "output_type": "stream",
     "text": [
      "RAG:  30%|███       | 91/300 [02:17<05:54,  1.69s/Q]"
     ]
    },
    {
     "name": "stdout",
     "output_type": "stream",
     "text": [
      "[91/300] Q: can you use both hands to dribble in basketball\n",
      "  → A: I don't know. The text does mention a \"power dribble\" that involves slamming the ball quickly with b...\n",
      "\n"
     ]
    },
    {
     "name": "stderr",
     "output_type": "stream",
     "text": [
      "RAG:  32%|███▏      | 96/300 [02:25<05:09,  1.52s/Q]"
     ]
    },
    {
     "name": "stdout",
     "output_type": "stream",
     "text": [
      "[96/300] Q: is belfast city airport the same as george best airport\n",
      "  → A: According to the context, yes, Belfast City Airport was renamed \"George Best Belfast City Airport\" i...\n",
      "\n"
     ]
    },
    {
     "name": "stderr",
     "output_type": "stream",
     "text": [
      "RAG:  34%|███▎      | 101/300 [02:32<04:53,  1.47s/Q]"
     ]
    },
    {
     "name": "stdout",
     "output_type": "stream",
     "text": [
      "[101/300] Q: is the 100 based off of a book\n",
      "  → A: Based on the provided context, I don't know if the pound sterling is directly based on a book. The c...\n",
      "\n"
     ]
    },
    {
     "name": "stderr",
     "output_type": "stream",
     "text": [
      "RAG:  35%|███▌      | 106/300 [02:40<04:56,  1.53s/Q]"
     ]
    },
    {
     "name": "stdout",
     "output_type": "stream",
     "text": [
      "[106/300] Q: can a state supreme court decision be appealed\n",
      "  → A: According to the provided context, a binding decision of the Supreme Court/High Court in India can b...\n",
      "\n"
     ]
    },
    {
     "name": "stderr",
     "output_type": "stream",
     "text": [
      "RAG:  37%|███▋      | 111/300 [02:47<04:13,  1.34s/Q]"
     ]
    },
    {
     "name": "stdout",
     "output_type": "stream",
     "text": [
      "[111/300] Q: can light reactions take place in the dark\n",
      "  → A: No, according to the provided context, light and dark reactions occur in different places within the...\n",
      "\n"
     ]
    },
    {
     "name": "stderr",
     "output_type": "stream",
     "text": [
      "RAG:  39%|███▊      | 116/300 [02:53<04:20,  1.41s/Q]"
     ]
    },
    {
     "name": "stdout",
     "output_type": "stream",
     "text": [
      "[116/300] Q: are there any wolves in the united states\n",
      "  → A: According to the provided context, yes, there are wolves in the United States. The text mentions tha...\n",
      "\n"
     ]
    },
    {
     "name": "stderr",
     "output_type": "stream",
     "text": [
      "RAG:  40%|████      | 121/300 [03:01<05:22,  1.80s/Q]"
     ]
    },
    {
     "name": "stdout",
     "output_type": "stream",
     "text": [
      "[121/300] Q: will there be a season 2 of battle creek\n",
      "  → A: According to the provided context, after the final episode of Series 1, a voice-over states that a s...\n",
      "\n"
     ]
    },
    {
     "name": "stderr",
     "output_type": "stream",
     "text": [
      "RAG:  42%|████▏     | 126/300 [03:08<04:06,  1.41s/Q]"
     ]
    },
    {
     "name": "stdout",
     "output_type": "stream",
     "text": [
      "[126/300] Q: will there be a season 5 of skinny girl in transit\n",
      "  → A: Yes, there was already a Season 5 of Skinny Girl In Transit, which returned to NdaniTV in 2018 featu...\n",
      "\n"
     ]
    },
    {
     "name": "stderr",
     "output_type": "stream",
     "text": [
      "RAG:  44%|████▎     | 131/300 [03:15<03:30,  1.25s/Q]"
     ]
    },
    {
     "name": "stdout",
     "output_type": "stream",
     "text": [
      "[131/300] Q: do all angles on a triangle add up to 180\n",
      "  → A: According to the provided context, yes, in a Euclidean space, the sum of measures of the three angle...\n",
      "\n"
     ]
    },
    {
     "name": "stderr",
     "output_type": "stream",
     "text": [
      "RAG:  45%|████▌     | 136/300 [03:25<05:12,  1.90s/Q]"
     ]
    },
    {
     "name": "stdout",
     "output_type": "stream",
     "text": [
      "[136/300] Q: red dead redemption undead nightmare does it include original game\n",
      "  → A: According to the context, Red Dead Redemption: Undead Nightmare is a standalone expansion pack for t...\n",
      "\n"
     ]
    },
    {
     "name": "stderr",
     "output_type": "stream",
     "text": [
      "RAG:  47%|████▋     | 141/300 [03:31<03:34,  1.35s/Q]"
     ]
    },
    {
     "name": "stdout",
     "output_type": "stream",
     "text": [
      "[141/300] Q: is leeds the 3rd largest city in england\n",
      "  → A: I don't know. The context only provides information about Leeds as a city located in West Yorkshire,...\n",
      "\n"
     ]
    },
    {
     "name": "stderr",
     "output_type": "stream",
     "text": [
      "RAG:  49%|████▊     | 146/300 [03:39<03:21,  1.31s/Q]"
     ]
    },
    {
     "name": "stdout",
     "output_type": "stream",
     "text": [
      "[146/300] Q: does the us president live in the white house\n",
      "  → A: Yes. The White House is the official residence and workplace of the President of the United States.\n",
      "\n"
     ]
    },
    {
     "name": "stderr",
     "output_type": "stream",
     "text": [
      "RAG:  50%|█████     | 151/300 [03:45<02:46,  1.12s/Q]"
     ]
    },
    {
     "name": "stdout",
     "output_type": "stream",
     "text": [
      "[151/300] Q: is any shape with 6 sides a hexagon\n",
      "  → A: Yes.\n",
      "\n"
     ]
    },
    {
     "name": "stderr",
     "output_type": "stream",
     "text": [
      "RAG:  52%|█████▏    | 156/300 [03:53<03:57,  1.65s/Q]"
     ]
    },
    {
     "name": "stdout",
     "output_type": "stream",
     "text": [
      "[156/300] Q: are there any major water concerns for france\n",
      "  → A: According to the provided context, France has been non-compliant with the 1991 EU directive on urban...\n",
      "\n"
     ]
    },
    {
     "name": "stderr",
     "output_type": "stream",
     "text": [
      "RAG:  54%|█████▎    | 161/300 [03:59<02:59,  1.29s/Q]"
     ]
    },
    {
     "name": "stdout",
     "output_type": "stream",
     "text": [
      "[161/300] Q: can food be kosher and halal at the same time\n",
      "  → A: According to the context provided, most Kosher foods not containing alcohol are also Halal. However,...\n",
      "\n"
     ]
    },
    {
     "name": "stderr",
     "output_type": "stream",
     "text": [
      "RAG:  55%|█████▌    | 166/300 [04:06<03:04,  1.38s/Q]"
     ]
    },
    {
     "name": "stdout",
     "output_type": "stream",
     "text": [
      "[166/300] Q: is oxygen the final electron acceptor in cellular respiration\n",
      "  → A: Yes, according to the provided context, oxygen is indeed the terminal electron acceptor in cellular ...\n",
      "\n"
     ]
    },
    {
     "name": "stderr",
     "output_type": "stream",
     "text": [
      "RAG:  57%|█████▋    | 171/300 [04:13<03:07,  1.45s/Q]"
     ]
    },
    {
     "name": "stdout",
     "output_type": "stream",
     "text": [
      "[171/300] Q: will there be a third season of broadchurch\n",
      "  → A: According to the provided context, it appears that MTV rebooted the series for a third season with a...\n",
      "\n"
     ]
    },
    {
     "name": "stderr",
     "output_type": "stream",
     "text": [
      "RAG:  59%|█████▊    | 176/300 [04:21<02:55,  1.42s/Q]"
     ]
    },
    {
     "name": "stdout",
     "output_type": "stream",
     "text": [
      "[176/300] Q: does the amazon river start in the andes\n",
      "  → A: According to the provided context, yes, the Amazon River starts in the Andes. Francisco de Orellana ...\n",
      "\n"
     ]
    },
    {
     "name": "stderr",
     "output_type": "stream",
     "text": [
      "RAG:  60%|██████    | 181/300 [04:29<03:02,  1.54s/Q]"
     ]
    },
    {
     "name": "stdout",
     "output_type": "stream",
     "text": [
      "[181/300] Q: was lulu in the movie to sir with love\n",
      "  → A: Yes, Lulu made her film debut in \"To Sir, with Love\" (1967).\n",
      "\n"
     ]
    },
    {
     "name": "stderr",
     "output_type": "stream",
     "text": [
      "RAG:  62%|██████▏   | 186/300 [04:36<02:48,  1.47s/Q]"
     ]
    },
    {
     "name": "stdout",
     "output_type": "stream",
     "text": [
      "[186/300] Q: is cvs caremark the same as express scripts\n",
      "  → A: No. According to the context, CVS Corporation acquired Caremark in 2007, forming CVS/Caremark Corpor...\n",
      "\n"
     ]
    },
    {
     "name": "stderr",
     "output_type": "stream",
     "text": [
      "RAG:  64%|██████▎   | 191/300 [04:44<02:46,  1.53s/Q]"
     ]
    },
    {
     "name": "stdout",
     "output_type": "stream",
     "text": [
      "[191/300] Q: does early access give you the full game\n",
      "  → A: I don't know. According to the provided context, Early Access is a funding model where consumers can...\n",
      "\n"
     ]
    },
    {
     "name": "stderr",
     "output_type": "stream",
     "text": [
      "RAG:  65%|██████▌   | 196/300 [04:51<02:19,  1.34s/Q]"
     ]
    },
    {
     "name": "stdout",
     "output_type": "stream",
     "text": [
      "[196/300] Q: is there still a rocky statue in philadelphia\n",
      "  → A: According to the context, yes, there is still a bronze Rocky statue located at the bottom right of t...\n",
      "\n"
     ]
    },
    {
     "name": "stderr",
     "output_type": "stream",
     "text": [
      "RAG:  67%|██████▋   | 201/300 [04:59<02:30,  1.52s/Q]"
     ]
    },
    {
     "name": "stdout",
     "output_type": "stream",
     "text": [
      "[201/300] Q: does seth macfarlane voice all family guy characters\n",
      "  → A: I don't know the answer to that question. Seth MacFarlane is a show creator, writer, and voice actor...\n",
      "\n"
     ]
    },
    {
     "name": "stderr",
     "output_type": "stream",
     "text": [
      "RAG:  69%|██████▊   | 206/300 [05:06<02:17,  1.47s/Q]"
     ]
    },
    {
     "name": "stdout",
     "output_type": "stream",
     "text": [
      "[206/300] Q: has the game of thrones book series finished\n",
      "  → A: No, the Game of Thrones book series by George R.R. Martin has not yet finished. The most recent book...\n",
      "\n"
     ]
    },
    {
     "name": "stderr",
     "output_type": "stream",
     "text": [
      "RAG:  70%|███████   | 211/300 [05:15<02:19,  1.57s/Q]"
     ]
    },
    {
     "name": "stdout",
     "output_type": "stream",
     "text": [
      "[211/300] Q: did south africa ever win the soccer world cup\n",
      "  → A: Based on the provided context, South Africa has not won the Soccer World Cup. According to the text,...\n",
      "\n"
     ]
    },
    {
     "name": "stderr",
     "output_type": "stream",
     "text": [
      "RAG:  72%|███████▏  | 216/300 [05:22<02:04,  1.49s/Q]"
     ]
    },
    {
     "name": "stdout",
     "output_type": "stream",
     "text": [
      "[216/300] Q: is the series the affair based on a book\n",
      "  → A: Based on the context provided, it appears that The Affair is an original television series created b...\n",
      "\n"
     ]
    },
    {
     "name": "stderr",
     "output_type": "stream",
     "text": [
      "RAG:  74%|███████▎  | 221/300 [05:31<02:17,  1.74s/Q]"
     ]
    },
    {
     "name": "stdout",
     "output_type": "stream",
     "text": [
      "[221/300] Q: is corned beef and cabbage traditional irish food\n",
      "  → A: According to the context, Corned beef was used as a substitute for bacon by Irish-American immigrant...\n",
      "\n"
     ]
    },
    {
     "name": "stderr",
     "output_type": "stream",
     "text": [
      "RAG:  75%|███████▌  | 226/300 [05:38<01:48,  1.47s/Q]"
     ]
    },
    {
     "name": "stdout",
     "output_type": "stream",
     "text": [
      "[226/300] Q: has belgium ever won the world cup final\n",
      "  → A: I don't know. The text only mentions Belgium's best finish being third place at the Russia 2018 tour...\n",
      "\n"
     ]
    },
    {
     "name": "stderr",
     "output_type": "stream",
     "text": [
      "RAG:  77%|███████▋  | 231/300 [05:47<01:54,  1.66s/Q]"
     ]
    },
    {
     "name": "stdout",
     "output_type": "stream",
     "text": [
      "[231/300] Q: are cell membrane and plasma membrane the same\n",
      "  → A: Yes. According to the context, \"The cell membrane (also known as the plasma membrane or cytoplasmic ...\n",
      "\n"
     ]
    },
    {
     "name": "stderr",
     "output_type": "stream",
     "text": [
      "RAG:  79%|███████▊  | 236/300 [05:56<01:47,  1.68s/Q]"
     ]
    },
    {
     "name": "stdout",
     "output_type": "stream",
     "text": [
      "[236/300] Q: is there such thing as a black card\n",
      "  → A: Yes, according to the context, there is such a thing as a Black Card. It's a rewards credit card iss...\n",
      "\n"
     ]
    },
    {
     "name": "stderr",
     "output_type": "stream",
     "text": [
      "RAG:  80%|████████  | 241/300 [06:03<01:36,  1.64s/Q]"
     ]
    },
    {
     "name": "stdout",
     "output_type": "stream",
     "text": [
      "[241/300] Q: are gopher snakes and bull snakes the same\n",
      "  → A: According to the provided context, the answer is no. The text states that \"The bullsnake (Pituophis ...\n",
      "\n"
     ]
    },
    {
     "name": "stderr",
     "output_type": "stream",
     "text": [
      "RAG:  82%|████████▏ | 246/300 [06:12<01:33,  1.74s/Q]"
     ]
    },
    {
     "name": "stdout",
     "output_type": "stream",
     "text": [
      "[246/300] Q: is hocus pocus based on a true story\n",
      "  → A: I don't know. The context provided does not suggest that Hocus Pocus is based on a true story. Accor...\n",
      "\n"
     ]
    },
    {
     "name": "stderr",
     "output_type": "stream",
     "text": [
      "RAG:  84%|████████▎ | 251/300 [06:21<01:07,  1.38s/Q]"
     ]
    },
    {
     "name": "stdout",
     "output_type": "stream",
     "text": [
      "[251/300] Q: is there an integer that has a reciprocal that is an integer\n",
      "  → A: I don't know.\n",
      "\n"
     ]
    },
    {
     "name": "stderr",
     "output_type": "stream",
     "text": [
      "RAG:  85%|████████▌ | 256/300 [06:29<01:09,  1.57s/Q]"
     ]
    },
    {
     "name": "stdout",
     "output_type": "stream",
     "text": [
      "[256/300] Q: can you put a regular light bulb in a 3 way\n",
      "  → A: No, you cannot put a regular light bulb in a 3-way lamp. According to the provided context, a 3-way ...\n",
      "\n"
     ]
    },
    {
     "name": "stderr",
     "output_type": "stream",
     "text": [
      "RAG:  87%|████████▋ | 261/300 [06:38<01:12,  1.86s/Q]"
     ]
    },
    {
     "name": "stdout",
     "output_type": "stream",
     "text": [
      "[261/300] Q: can you fake a field goal in the nfl\n",
      "  → A: Yes, it is possible to fake a field goal in the NFL. A fake field goal involves running or passing o...\n",
      "\n"
     ]
    },
    {
     "name": "stderr",
     "output_type": "stream",
     "text": [
      "RAG:  89%|████████▊ | 266/300 [06:47<01:00,  1.77s/Q]"
     ]
    },
    {
     "name": "stdout",
     "output_type": "stream",
     "text": [
      "[266/300] Q: do the browns run a 3 4 defense\n",
      "  → A: According to the context, the Cleveland Browns used the 3--4 defensive front in 2016 but are returni...\n",
      "\n"
     ]
    },
    {
     "name": "stderr",
     "output_type": "stream",
     "text": [
      "RAG:  90%|█████████ | 271/300 [06:54<00:46,  1.59s/Q]"
     ]
    },
    {
     "name": "stdout",
     "output_type": "stream",
     "text": [
      "[271/300] Q: can an ice boat go faster than the wind\n",
      "  → A: According to the given context, high-performance sailing is achieved with low forward surface resist...\n",
      "\n"
     ]
    },
    {
     "name": "stderr",
     "output_type": "stream",
     "text": [
      "RAG:  92%|█████████▏| 276/300 [07:01<00:33,  1.40s/Q]"
     ]
    },
    {
     "name": "stdout",
     "output_type": "stream",
     "text": [
      "[276/300] Q: is the tv show the chase still on\n",
      "  → A: Based on the provided context, it appears that The Chase (presumably referring to the US version) ha...\n",
      "\n"
     ]
    },
    {
     "name": "stderr",
     "output_type": "stream",
     "text": [
      "RAG:  94%|█████████▎| 281/300 [07:09<00:27,  1.47s/Q]"
     ]
    },
    {
     "name": "stdout",
     "output_type": "stream",
     "text": [
      "[281/300] Q: is blood c a sequel to blood plus\n",
      "  → A: Yes, Blood-C is a sequel to Blood+.\n",
      "\n"
     ]
    },
    {
     "name": "stderr",
     "output_type": "stream",
     "text": [
      "RAG:  95%|█████████▌| 286/300 [07:18<00:24,  1.77s/Q]"
     ]
    },
    {
     "name": "stdout",
     "output_type": "stream",
     "text": [
      "[286/300] Q: is abercrombie and fitch and hollister the same company\n",
      "  → A: According to the context, Abercrombie & Fitch operates two offshoot brands: Abercrombie Kids and Hol...\n",
      "\n"
     ]
    },
    {
     "name": "stderr",
     "output_type": "stream",
     "text": [
      "RAG:  97%|█████████▋| 291/300 [07:27<00:17,  1.95s/Q]"
     ]
    },
    {
     "name": "stdout",
     "output_type": "stream",
     "text": [
      "[291/300] Q: does montag die in fahrenheit 451 the movie\n",
      "  → A: According to the context provided, Montag does not die in the movie Fahrenheit 451. In fact, it is s...\n",
      "\n"
     ]
    },
    {
     "name": "stderr",
     "output_type": "stream",
     "text": [
      "RAG:  99%|█████████▊| 296/300 [07:37<00:06,  1.71s/Q]"
     ]
    },
    {
     "name": "stdout",
     "output_type": "stream",
     "text": [
      "[296/300] Q: is there a remake of the lion king\n",
      "  → A: Yes, according to the provided context, there is a remake of The Lion King. The article mentions tha...\n",
      "\n"
     ]
    },
    {
     "name": "stderr",
     "output_type": "stream",
     "text": [
      "RAG: 100%|██████████| 300/300 [07:42<00:00,  1.54s/Q]"
     ]
    },
    {
     "name": "stdout",
     "output_type": "stream",
     "text": [
      "[300/300] Q: is a tommy gun a sub machine gun\n",
      "  → A: Yes, according to the provided context, a \"Tommy Gun\" (also known as the Thompson submachine gun) is...\n",
      "\n",
      "[*] RAG завершено за 463.0 сек\n"
     ]
    },
    {
     "name": "stderr",
     "output_type": "stream",
     "text": [
      "\n"
     ]
    }
   ],
   "execution_count": 18
  },
  {
   "metadata": {
    "ExecuteTime": {
     "end_time": "2025-06-05T09:05:32.294323Z",
     "start_time": "2025-06-05T09:05:25.881243Z"
    }
   },
   "cell_type": "code",
   "source": [
    "def recall_at_k(retriever, questions, gt_contexts, k):\n",
    "    match_count = 0\n",
    "    for i, q in enumerate(questions):\n",
    "        retrieved = retriever.get_relevant_documents(q)\n",
    "        if any(gt_contexts[i].strip() == doc.page_content.strip() for doc in retrieved):\n",
    "            match_count += 1\n",
    "    return match_count / len(questions)\n",
    "\n",
    "recall = recall_at_k(retriever, questions, contexts, K)\n",
    "print(f\"[*] Recall@{K}: {recall:.3f}\")\n"
   ],
   "id": "c51a083a5012a0df",
   "outputs": [
    {
     "name": "stderr",
     "output_type": "stream",
     "text": [
      "C:\\Users\\user\\AppData\\Local\\Temp\\ipykernel_14068\\281558299.py:4: LangChainDeprecationWarning: The method `BaseRetriever.get_relevant_documents` was deprecated in langchain-core 0.1.46 and will be removed in 1.0. Use :meth:`~invoke` instead.\n",
      "  retrieved = retriever.get_relevant_documents(q)\n"
     ]
    },
    {
     "name": "stdout",
     "output_type": "stream",
     "text": [
      "[*] Recall@10: 0.997\n"
     ]
    }
   ],
   "execution_count": 19
  },
  {
   "metadata": {
    "ExecuteTime": {
     "end_time": "2025-06-05T09:05:36.475222Z",
     "start_time": "2025-06-05T09:05:36.453202Z"
    }
   },
   "cell_type": "code",
   "source": [
    "def extract_yes_no(answer: str):\n",
    "    answer = answer.lower()\n",
    "    if \"yes\" in answer: return \"yes\"\n",
    "    if \"no\" in answer: return \"no\"\n",
    "    return \"unknown\"\n",
    "\n",
    "df = pd.DataFrame({\n",
    "    \"question\": questions,\n",
    "    \"context\": contexts,\n",
    "    \"gold_answer\": gold_answers,\n",
    "    \"no_rag_answer\": no_rag_answers,\n",
    "    \"rag_answer\": rag_answers\n",
    "})\n",
    "df[\"no_rag_pred\"] = df[\"no_rag_answer\"].apply(extract_yes_no)\n",
    "df[\"rag_pred\"] = df[\"rag_answer\"].apply(extract_yes_no)\n",
    "\n",
    "acc_norag = (df[\"no_rag_pred\"] == df[\"gold_answer\"]).mean()\n",
    "acc_rag = (df[\"rag_pred\"] == df[\"gold_answer\"]).mean()\n",
    "print(f\"[*] No-RAG accuracy: {acc_norag:.3f}\")\n",
    "print(f\"[*] RAG accuracy:   {acc_rag:.3f}\")\n",
    "\n",
    "df.to_csv(\"boolq_rag_results.csv\", index=False)\n",
    "print(\"[*] Збережено у boolq_rag_results.csv\")\n"
   ],
   "id": "abf96af3f16bb490",
   "outputs": [
    {
     "name": "stdout",
     "output_type": "stream",
     "text": [
      "[*] No-RAG accuracy: 0.517\n",
      "[*] RAG accuracy:   0.720\n",
      "[*] Збережено у boolq_rag_results.csv\n"
     ]
    }
   ],
   "execution_count": 20
  }
 ],
 "metadata": {
  "kernelspec": {
   "name": "python3",
   "language": "python",
   "display_name": "Python 3 (ipykernel)"
  }
 },
 "nbformat": 5,
 "nbformat_minor": 9
}
