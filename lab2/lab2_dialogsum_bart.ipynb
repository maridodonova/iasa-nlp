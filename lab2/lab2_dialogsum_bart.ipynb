{
  "cells": [
    {
      "cell_type": "markdown",
      "id": "46a6a0fd",
      "metadata": {
        "papermill": {
          "duration": 0.003592,
          "end_time": "2025-05-29T21:25:40.825358",
          "exception": false,
          "start_time": "2025-05-29T21:25:40.821766",
          "status": "completed"
        },
        "tags": [],
        "id": "46a6a0fd"
      },
      "source": [
        "# Setup"
      ]
    },
    {
      "cell_type": "code",
      "execution_count": null,
      "id": "423046da",
      "metadata": {
        "execution": {
          "iopub.execute_input": "2025-05-29T21:25:40.832732Z",
          "iopub.status.busy": "2025-05-29T21:25:40.831985Z",
          "iopub.status.idle": "2025-05-29T21:27:06.370681Z",
          "shell.execute_reply": "2025-05-29T21:27:06.369897Z"
        },
        "papermill": {
          "duration": 85.543809,
          "end_time": "2025-05-29T21:27:06.372140",
          "exception": false,
          "start_time": "2025-05-29T21:25:40.828331",
          "status": "completed"
        },
        "tags": [],
        "id": "423046da",
        "outputId": "b7634dd0-10d5-4d5f-c36c-2add5fc3fcdc"
      },
      "outputs": [
        {
          "name": "stdout",
          "output_type": "stream",
          "text": [
            "  Preparing metadata (setup.py) ... \u001b[?25l\u001b[?25hdone\r\n",
            "\u001b[2K   \u001b[90m━━━━━━━━━━━━━━━━━━━━━━━━━━━━━━━━━━━━━━━━\u001b[0m \u001b[32m67.0/67.0 MB\u001b[0m \u001b[31m27.2 MB/s\u001b[0m eta \u001b[36m0:00:00\u001b[0m\r\n",
            "\u001b[2K   \u001b[90m━━━━━━━━━━━━━━━━━━━━━━━━━━━━━━━━━━━━━━━━\u001b[0m \u001b[32m84.0/84.0 kB\u001b[0m \u001b[31m4.9 MB/s\u001b[0m eta \u001b[36m0:00:00\u001b[0m\r\n",
            "\u001b[2K   \u001b[90m━━━━━━━━━━━━━━━━━━━━━━━━━━━━━━━━━━━━━━━━\u001b[0m \u001b[32m61.1/61.1 kB\u001b[0m \u001b[31m4.2 MB/s\u001b[0m eta \u001b[36m0:00:00\u001b[0m\r\n",
            "\u001b[2K   \u001b[90m━━━━━━━━━━━━━━━━━━━━━━━━━━━━━━━━━━━━━━━━\u001b[0m \u001b[32m193.6/193.6 kB\u001b[0m \u001b[31m13.5 MB/s\u001b[0m eta \u001b[36m0:00:00\u001b[0m\r\n",
            "\u001b[2K   \u001b[90m━━━━━━━━━━━━━━━━━━━━━━━━━━━━━━━━━━━━━━━━\u001b[0m \u001b[32m3.1/3.1 MB\u001b[0m \u001b[31m86.0 MB/s\u001b[0m eta \u001b[36m0:00:00\u001b[0m\r\n",
            "\u001b[2K   \u001b[90m━━━━━━━━━━━━━━━━━━━━━━━━━━━━━━━━━━━━━━━━\u001b[0m \u001b[32m363.4/363.4 MB\u001b[0m \u001b[31m4.7 MB/s\u001b[0m eta \u001b[36m0:00:00\u001b[0m\r\n",
            "\u001b[2K   \u001b[90m━━━━━━━━━━━━━━━━━━━━━━━━━━━━━━━━━━━━━━━━\u001b[0m \u001b[32m664.8/664.8 MB\u001b[0m \u001b[31m2.6 MB/s\u001b[0m eta \u001b[36m0:00:00\u001b[0m\r\n",
            "\u001b[2K   \u001b[90m━━━━━━━━━━━━━━━━━━━━━━━━━━━━━━━━━━━━━━━━\u001b[0m \u001b[32m211.5/211.5 MB\u001b[0m \u001b[31m7.9 MB/s\u001b[0m eta \u001b[36m0:00:00\u001b[0m\r\n",
            "\u001b[2K   \u001b[90m━━━━━━━━━━━━━━━━━━━━━━━━━━━━━━━━━━━━━━━━\u001b[0m \u001b[32m56.3/56.3 MB\u001b[0m \u001b[31m30.2 MB/s\u001b[0m eta \u001b[36m0:00:00\u001b[0m\r\n",
            "\u001b[2K   \u001b[90m━━━━━━━━━━━━━━━━━━━━━━━━━━━━━━━━━━━━━━━━\u001b[0m \u001b[32m127.9/127.9 MB\u001b[0m \u001b[31m13.2 MB/s\u001b[0m eta \u001b[36m0:00:00\u001b[0m\r\n",
            "\u001b[2K   \u001b[90m━━━━━━━━━━━━━━━━━━━━━━━━━━━━━━━━━━━━━━━━\u001b[0m \u001b[32m207.5/207.5 MB\u001b[0m \u001b[31m7.5 MB/s\u001b[0m eta \u001b[36m0:00:00\u001b[0m\r\n",
            "\u001b[2K   \u001b[90m━━━━━━━━━━━━━━━━━━━━━━━━━━━━━━━━━━━━━━━━\u001b[0m \u001b[32m21.1/21.1 MB\u001b[0m \u001b[31m10.8 MB/s\u001b[0m eta \u001b[36m0:00:00\u001b[0m\r\n",
            "\u001b[?25h  Building wheel for rouge_score (setup.py) ... \u001b[?25l\u001b[?25hdone\r\n",
            "\u001b[31mERROR: pip's dependency resolver does not currently take into account all the packages that are installed. This behaviour is the source of the following dependency conflicts.\r\n",
            "cesium 0.12.4 requires numpy<3.0,>=2.0, but you have numpy 1.26.4 which is incompatible.\r\n",
            "bigframes 1.42.0 requires rich<14,>=12.4.4, but you have rich 14.0.0 which is incompatible.\r\n",
            "gcsfs 2025.3.2 requires fsspec==2025.3.2, but you have fsspec 2025.3.0 which is incompatible.\u001b[0m\u001b[31m\r\n",
            "\u001b[0m"
          ]
        }
      ],
      "source": [
        "!pip install --quiet bitsandbytes evaluate jiwer rouge_score bert_score"
      ]
    },
    {
      "cell_type": "code",
      "execution_count": null,
      "id": "3a94028a",
      "metadata": {
        "_cell_guid": "b1076dfc-b9ad-4769-8c92-a6c4dae69d19",
        "_uuid": "8f2839f25d086af736a60e9eeb907d3b93b6e0e5",
        "execution": {
          "iopub.execute_input": "2025-05-29T21:27:06.414544Z",
          "iopub.status.busy": "2025-05-29T21:27:06.414238Z",
          "iopub.status.idle": "2025-05-29T21:27:39.247900Z",
          "shell.execute_reply": "2025-05-29T21:27:39.247166Z"
        },
        "papermill": {
          "duration": 32.876928,
          "end_time": "2025-05-29T21:27:39.269846",
          "exception": false,
          "start_time": "2025-05-29T21:27:06.392918",
          "status": "completed"
        },
        "tags": [],
        "id": "3a94028a",
        "outputId": "76d67420-257e-4875-dec2-9ba9810e014d"
      },
      "outputs": [
        {
          "name": "stderr",
          "output_type": "stream",
          "text": [
            "2025-05-29 21:27:22.822453: E external/local_xla/xla/stream_executor/cuda/cuda_fft.cc:477] Unable to register cuFFT factory: Attempting to register factory for plugin cuFFT when one has already been registered\n",
            "WARNING: All log messages before absl::InitializeLog() is called are written to STDERR\n",
            "E0000 00:00:1748554043.005400      19 cuda_dnn.cc:8310] Unable to register cuDNN factory: Attempting to register factory for plugin cuDNN when one has already been registered\n",
            "E0000 00:00:1748554043.064207      19 cuda_blas.cc:1418] Unable to register cuBLAS factory: Attempting to register factory for plugin cuBLAS when one has already been registered\n"
          ]
        },
        {
          "name": "stdout",
          "output_type": "stream",
          "text": [
            "Using device: cuda\n"
          ]
        }
      ],
      "source": [
        "import json\n",
        "import random\n",
        "import torch\n",
        "from accelerate import Accelerator\n",
        "from datasets import load_dataset\n",
        "from transformers import (\n",
        "    BartForConditionalGeneration,\n",
        "    BartTokenizerFast,\n",
        "    DataCollatorForSeq2Seq,\n",
        "    get_scheduler\n",
        ")\n",
        "from torch.utils.data import DataLoader, Sampler\n",
        "import bitsandbytes as bnb\n",
        "import evaluate\n",
        "\n",
        "from tqdm.auto import tqdm\n",
        "import os\n",
        "import numpy as np\n",
        "import wandb\n",
        "from kaggle_secrets import UserSecretsClient\n",
        "import pytorch_lightning as pl\n",
        "from pytorch_lightning.callbacks import LearningRateMonitor\n",
        "from pytorch_lightning.loggers import WandbLogger\n",
        "from time import time\n",
        "from huggingface_hub import login\n",
        "\n",
        "user_secrets = UserSecretsClient()\n",
        "login(user_secrets.get_secret(\"HF_TOKEN\"))\n",
        "os.environ[\"TOKENIZERS_PARALLELISM\"] = \"false\"\n",
        "\n",
        "BART_MODEL = \"facebook/bart-large-cnn\"\n",
        "max_src, max_tgt = 384, 64\n",
        "BATCH_SIZE = 8\n",
        "NUM_EPOCHS = 3\n",
        "\n",
        "accelerator = Accelerator(mixed_precision=\"fp16\")\n",
        "print(f\"Using device: {accelerator.device}\")"
      ]
    },
    {
      "cell_type": "markdown",
      "id": "16b3dca6",
      "metadata": {
        "papermill": {
          "duration": 0.019884,
          "end_time": "2025-05-29T21:27:39.310018",
          "exception": false,
          "start_time": "2025-05-29T21:27:39.290134",
          "status": "completed"
        },
        "tags": [],
        "id": "16b3dca6"
      },
      "source": [
        "# Data Processing"
      ]
    },
    {
      "cell_type": "code",
      "execution_count": null,
      "id": "687fba5f",
      "metadata": {
        "execution": {
          "iopub.execute_input": "2025-05-29T21:27:39.352023Z",
          "iopub.status.busy": "2025-05-29T21:27:39.350993Z",
          "iopub.status.idle": "2025-05-29T21:27:39.357078Z",
          "shell.execute_reply": "2025-05-29T21:27:39.356577Z"
        },
        "papermill": {
          "duration": 0.027937,
          "end_time": "2025-05-29T21:27:39.358086",
          "exception": false,
          "start_time": "2025-05-29T21:27:39.330149",
          "status": "completed"
        },
        "tags": [],
        "id": "687fba5f"
      },
      "outputs": [],
      "source": [
        "class LengthBucketSampler(Sampler):\n",
        "    def __init__(self, dataset, bucket_size=2000, batch_size=8):\n",
        "        lengths = [len(x['input_ids']) for x in dataset]\n",
        "        idxs = sorted(range(len(lengths)), key=lambda i: lengths[i])\n",
        "        self.buckets = [idxs[i:i+bucket_size] for i in range(0, len(idxs), bucket_size)]\n",
        "        self.bs = batch_size\n",
        "\n",
        "    def __iter__(self):\n",
        "        for bucket in self.buckets:\n",
        "            random.seed(len(bucket))\n",
        "            random.shuffle(bucket)\n",
        "            for i in range(0, len(bucket), self.bs):\n",
        "                yield bucket[i:i+self.bs]\n",
        "\n",
        "    def __len__(self):\n",
        "        return sum((len(b) + self.bs - 1) // self.bs for b in self.buckets)"
      ]
    },
    {
      "cell_type": "code",
      "execution_count": null,
      "id": "3b19c38d",
      "metadata": {
        "execution": {
          "iopub.execute_input": "2025-05-29T21:27:39.400032Z",
          "iopub.status.busy": "2025-05-29T21:27:39.399431Z",
          "iopub.status.idle": "2025-05-29T21:27:39.403943Z",
          "shell.execute_reply": "2025-05-29T21:27:39.403421Z"
        },
        "papermill": {
          "duration": 0.026578,
          "end_time": "2025-05-29T21:27:39.404978",
          "exception": false,
          "start_time": "2025-05-29T21:27:39.378400",
          "status": "completed"
        },
        "tags": [],
        "id": "3b19c38d"
      },
      "outputs": [],
      "source": [
        "def preprocess(batch, tokenizer, max_src, max_tgt):\n",
        "    enc = tokenizer(batch['dialogue'], truncation=True, padding=False, max_length=max_src)\n",
        "    lab = tokenizer(batch['summary'], truncation=True, padding=False, max_length=max_tgt).input_ids\n",
        "    lab = [(l + [tokenizer.pad_token_id] * (max_tgt - len(l)))[:max_tgt] for l in lab]\n",
        "    lab = [[(t if t != tokenizer.pad_token_id else -100) for t in l] for l in lab]\n",
        "    enc['labels'] = lab\n",
        "    return enc"
      ]
    },
    {
      "cell_type": "code",
      "execution_count": null,
      "id": "38ec6f24",
      "metadata": {
        "execution": {
          "iopub.execute_input": "2025-05-29T21:27:39.447117Z",
          "iopub.status.busy": "2025-05-29T21:27:39.446281Z",
          "iopub.status.idle": "2025-05-29T21:27:59.847912Z",
          "shell.execute_reply": "2025-05-29T21:27:59.847308Z"
        },
        "papermill": {
          "duration": 20.424028,
          "end_time": "2025-05-29T21:27:59.849297",
          "exception": false,
          "start_time": "2025-05-29T21:27:39.425269",
          "status": "completed"
        },
        "tags": [],
        "colab": {
          "referenced_widgets": [
            "937793a31f8a42aa9a06acfcb9dc051d",
            "cf70c77a463e4460a2417f3912542482",
            "c6a05c5398f74fb5aa43d678b4215c45",
            "c245f3bc407541b0ab9162a60ecc3fbf",
            "82d7983376704ef58199caefed3e5178",
            "78a94b075b4846fd9410b62fa8f5fd4b",
            "7b509e70037249ed9bee0ed129eccc0d",
            "a8cd850529154c59a19adabac5907f8f",
            "7888707d3dc742d2842734124eb91af7",
            "4f16f690d0b64e7f842e5967566da1ac",
            "1e11d4afb2be481c9191383be969ef4b",
            "6ec93b785d1e49f2bd5b3fad4b6adff3",
            "faebea0eb29e4ab29513319fadfe5dea",
            "b4348134643a4bcda4d3ebf22cd7316f"
          ]
        },
        "id": "38ec6f24",
        "outputId": "e3cdc6f6-ff2a-42f1-a4e0-d7ef5b766ae7"
      },
      "outputs": [
        {
          "data": {
            "application/vnd.jupyter.widget-view+json": {
              "model_id": "937793a31f8a42aa9a06acfcb9dc051d",
              "version_major": 2,
              "version_minor": 0
            },
            "text/plain": [
              "README.md:   0%|          | 0.00/4.65k [00:00<?, ?B/s]"
            ]
          },
          "metadata": {},
          "output_type": "display_data"
        },
        {
          "data": {
            "application/vnd.jupyter.widget-view+json": {
              "model_id": "cf70c77a463e4460a2417f3912542482",
              "version_major": 2,
              "version_minor": 0
            },
            "text/plain": [
              "train.csv:   0%|          | 0.00/11.3M [00:00<?, ?B/s]"
            ]
          },
          "metadata": {},
          "output_type": "display_data"
        },
        {
          "data": {
            "application/vnd.jupyter.widget-view+json": {
              "model_id": "c6a05c5398f74fb5aa43d678b4215c45",
              "version_major": 2,
              "version_minor": 0
            },
            "text/plain": [
              "validation.csv:   0%|          | 0.00/442k [00:00<?, ?B/s]"
            ]
          },
          "metadata": {},
          "output_type": "display_data"
        },
        {
          "data": {
            "application/vnd.jupyter.widget-view+json": {
              "model_id": "c245f3bc407541b0ab9162a60ecc3fbf",
              "version_major": 2,
              "version_minor": 0
            },
            "text/plain": [
              "test.csv:   0%|          | 0.00/1.35M [00:00<?, ?B/s]"
            ]
          },
          "metadata": {},
          "output_type": "display_data"
        },
        {
          "data": {
            "application/vnd.jupyter.widget-view+json": {
              "model_id": "82d7983376704ef58199caefed3e5178",
              "version_major": 2,
              "version_minor": 0
            },
            "text/plain": [
              "Generating train split:   0%|          | 0/12460 [00:00<?, ? examples/s]"
            ]
          },
          "metadata": {},
          "output_type": "display_data"
        },
        {
          "data": {
            "application/vnd.jupyter.widget-view+json": {
              "model_id": "78a94b075b4846fd9410b62fa8f5fd4b",
              "version_major": 2,
              "version_minor": 0
            },
            "text/plain": [
              "Generating validation split:   0%|          | 0/500 [00:00<?, ? examples/s]"
            ]
          },
          "metadata": {},
          "output_type": "display_data"
        },
        {
          "data": {
            "application/vnd.jupyter.widget-view+json": {
              "model_id": "7b509e70037249ed9bee0ed129eccc0d",
              "version_major": 2,
              "version_minor": 0
            },
            "text/plain": [
              "Generating test split:   0%|          | 0/1500 [00:00<?, ? examples/s]"
            ]
          },
          "metadata": {},
          "output_type": "display_data"
        },
        {
          "data": {
            "application/vnd.jupyter.widget-view+json": {
              "model_id": "a8cd850529154c59a19adabac5907f8f",
              "version_major": 2,
              "version_minor": 0
            },
            "text/plain": [
              "vocab.json:   0%|          | 0.00/899k [00:00<?, ?B/s]"
            ]
          },
          "metadata": {},
          "output_type": "display_data"
        },
        {
          "data": {
            "application/vnd.jupyter.widget-view+json": {
              "model_id": "7888707d3dc742d2842734124eb91af7",
              "version_major": 2,
              "version_minor": 0
            },
            "text/plain": [
              "merges.txt:   0%|          | 0.00/456k [00:00<?, ?B/s]"
            ]
          },
          "metadata": {},
          "output_type": "display_data"
        },
        {
          "data": {
            "application/vnd.jupyter.widget-view+json": {
              "model_id": "4f16f690d0b64e7f842e5967566da1ac",
              "version_major": 2,
              "version_minor": 0
            },
            "text/plain": [
              "tokenizer.json:   0%|          | 0.00/1.36M [00:00<?, ?B/s]"
            ]
          },
          "metadata": {},
          "output_type": "display_data"
        },
        {
          "data": {
            "application/vnd.jupyter.widget-view+json": {
              "model_id": "1e11d4afb2be481c9191383be969ef4b",
              "version_major": 2,
              "version_minor": 0
            },
            "text/plain": [
              "config.json:   0%|          | 0.00/1.58k [00:00<?, ?B/s]"
            ]
          },
          "metadata": {},
          "output_type": "display_data"
        },
        {
          "data": {
            "application/vnd.jupyter.widget-view+json": {
              "model_id": "6ec93b785d1e49f2bd5b3fad4b6adff3",
              "version_major": 2,
              "version_minor": 0
            },
            "text/plain": [
              "Map:   0%|          | 0/12460 [00:00<?, ? examples/s]"
            ]
          },
          "metadata": {},
          "output_type": "display_data"
        },
        {
          "data": {
            "application/vnd.jupyter.widget-view+json": {
              "model_id": "faebea0eb29e4ab29513319fadfe5dea",
              "version_major": 2,
              "version_minor": 0
            },
            "text/plain": [
              "Map:   0%|          | 0/500 [00:00<?, ? examples/s]"
            ]
          },
          "metadata": {},
          "output_type": "display_data"
        },
        {
          "data": {
            "application/vnd.jupyter.widget-view+json": {
              "model_id": "b4348134643a4bcda4d3ebf22cd7316f",
              "version_major": 2,
              "version_minor": 0
            },
            "text/plain": [
              "Map:   0%|          | 0/1500 [00:00<?, ? examples/s]"
            ]
          },
          "metadata": {},
          "output_type": "display_data"
        }
      ],
      "source": [
        "dataset = load_dataset(\"knkarthick/dialogsum\")\n",
        "tokenizer = BartTokenizerFast.from_pretrained(BART_MODEL)\n",
        "\n",
        "raw = dataset.map(\n",
        "    lambda b: preprocess(b, tokenizer, max_src, max_tgt),\n",
        "    batched=True, remove_columns=[\"dialogue\",\"summary\"]\n",
        ")\n",
        "\n",
        "train_ds = raw['train'].remove_columns([\"topic\",\"id\"])\n",
        "val_ds = raw['validation'].remove_columns([\"topic\",\"id\"])\n",
        "\n",
        "collator = DataCollatorForSeq2Seq(tokenizer, padding=\"longest\")\n",
        "train_sampler = LengthBucketSampler(train_ds, batch_size=BATCH_SIZE)\n",
        "\n",
        "train_loader = DataLoader(\n",
        "    train_ds, batch_sampler=train_sampler,\n",
        "    collate_fn=collator, num_workers=3, pin_memory=True\n",
        ")\n",
        "val_loader = DataLoader(\n",
        "    val_ds, batch_size=BATCH_SIZE,\n",
        "    collate_fn=collator, num_workers=3, pin_memory=True\n",
        ")"
      ]
    },
    {
      "cell_type": "markdown",
      "id": "55093c62",
      "metadata": {
        "papermill": {
          "duration": 0.021359,
          "end_time": "2025-05-29T21:27:59.939921",
          "exception": false,
          "start_time": "2025-05-29T21:27:59.918562",
          "status": "completed"
        },
        "tags": [],
        "id": "55093c62"
      },
      "source": [
        "# Metrics"
      ]
    },
    {
      "cell_type": "code",
      "execution_count": null,
      "id": "7789d0d5",
      "metadata": {
        "execution": {
          "iopub.execute_input": "2025-05-29T21:27:59.984319Z",
          "iopub.status.busy": "2025-05-29T21:27:59.983715Z",
          "iopub.status.idle": "2025-05-29T21:27:59.988642Z",
          "shell.execute_reply": "2025-05-29T21:27:59.988105Z"
        },
        "papermill": {
          "duration": 0.028191,
          "end_time": "2025-05-29T21:27:59.989739",
          "exception": false,
          "start_time": "2025-05-29T21:27:59.961548",
          "status": "completed"
        },
        "tags": [],
        "id": "7789d0d5"
      },
      "outputs": [],
      "source": [
        "def compute_metrics(predictions, references):\n",
        "    rouge_metric = evaluate.load(\"rouge\")\n",
        "    bert_score_metric = evaluate.load(\"bertscore\")\n",
        "\n",
        "    rouge_res = rouge_metric.compute(predictions=predictions, references=references, use_stemmer=True)\n",
        "    bert_score_res = bert_score_metric.compute(predictions=predictions, references=references, lang=\"en\")\n",
        "\n",
        "    return {\n",
        "        \"rouge\": {k: round(float(v),4) for k,v in rouge_res.items()},\n",
        "        \"bertscore\": {\"avg_\" + k: round(float(np.mean(v)), 4) for k, v in bert_score_res.items() if k != \"hashcode\"}\n",
        "    }"
      ]
    },
    {
      "cell_type": "markdown",
      "id": "54ca75c5",
      "metadata": {
        "papermill": {
          "duration": 0.021094,
          "end_time": "2025-05-29T21:28:00.033612",
          "exception": false,
          "start_time": "2025-05-29T21:28:00.012518",
          "status": "completed"
        },
        "tags": [],
        "id": "54ca75c5"
      },
      "source": [
        "# Zero-shot & Few-shot"
      ]
    },
    {
      "cell_type": "code",
      "execution_count": null,
      "id": "84e7f691",
      "metadata": {
        "execution": {
          "iopub.execute_input": "2025-05-29T21:28:00.077451Z",
          "iopub.status.busy": "2025-05-29T21:28:00.076812Z",
          "iopub.status.idle": "2025-05-29T21:30:42.805362Z",
          "shell.execute_reply": "2025-05-29T21:30:42.804715Z"
        },
        "papermill": {
          "duration": 162.751912,
          "end_time": "2025-05-29T21:30:42.806762",
          "exception": false,
          "start_time": "2025-05-29T21:28:00.054850",
          "status": "completed"
        },
        "tags": [],
        "colab": {
          "referenced_widgets": [
            "d4dafe707c924bb8855ce0692eeff098",
            "3f8ae40c253145269bed6d072446e507",
            "f4d14d3cf663477ba060ad349d488c22",
            "38da5b9889ed47b4b992c0512c07fb28",
            "c327f7dd37714a16b1f0feca08afa62a",
            "43d9dc45d39b4608ae1b603b6701f271",
            "713cef9901664173a42234af451037f3",
            "c96aaafa81e2412cbf39c49cf6cf7764",
            "46300caa74304df0a378d4fa1a9b0c86",
            "398a0585b8e44ef89174601fe78a2cfe",
            "c659cdc0902040c68bfd373f4d0542f8"
          ]
        },
        "id": "84e7f691",
        "outputId": "d2b6858d-e700-43be-e931-81c986508bd4"
      },
      "outputs": [
        {
          "data": {
            "application/vnd.jupyter.widget-view+json": {
              "model_id": "d4dafe707c924bb8855ce0692eeff098",
              "version_major": 2,
              "version_minor": 0
            },
            "text/plain": [
              "model.safetensors:   0%|          | 0.00/1.63G [00:00<?, ?B/s]"
            ]
          },
          "metadata": {},
          "output_type": "display_data"
        },
        {
          "data": {
            "application/vnd.jupyter.widget-view+json": {
              "model_id": "3f8ae40c253145269bed6d072446e507",
              "version_major": 2,
              "version_minor": 0
            },
            "text/plain": [
              "generation_config.json:   0%|          | 0.00/363 [00:00<?, ?B/s]"
            ]
          },
          "metadata": {},
          "output_type": "display_data"
        },
        {
          "data": {
            "application/vnd.jupyter.widget-view+json": {
              "model_id": "f4d14d3cf663477ba060ad349d488c22",
              "version_major": 2,
              "version_minor": 0
            },
            "text/plain": [
              "  0%|          | 0/63 [00:00<?, ?it/s]"
            ]
          },
          "metadata": {},
          "output_type": "display_data"
        },
        {
          "data": {
            "application/vnd.jupyter.widget-view+json": {
              "model_id": "38da5b9889ed47b4b992c0512c07fb28",
              "version_major": 2,
              "version_minor": 0
            },
            "text/plain": [
              "Downloading builder script:   0%|          | 0.00/6.27k [00:00<?, ?B/s]"
            ]
          },
          "metadata": {},
          "output_type": "display_data"
        },
        {
          "data": {
            "application/vnd.jupyter.widget-view+json": {
              "model_id": "c327f7dd37714a16b1f0feca08afa62a",
              "version_major": 2,
              "version_minor": 0
            },
            "text/plain": [
              "Downloading builder script:   0%|          | 0.00/7.95k [00:00<?, ?B/s]"
            ]
          },
          "metadata": {},
          "output_type": "display_data"
        },
        {
          "data": {
            "application/vnd.jupyter.widget-view+json": {
              "model_id": "43d9dc45d39b4608ae1b603b6701f271",
              "version_major": 2,
              "version_minor": 0
            },
            "text/plain": [
              "tokenizer_config.json:   0%|          | 0.00/25.0 [00:00<?, ?B/s]"
            ]
          },
          "metadata": {},
          "output_type": "display_data"
        },
        {
          "data": {
            "application/vnd.jupyter.widget-view+json": {
              "model_id": "713cef9901664173a42234af451037f3",
              "version_major": 2,
              "version_minor": 0
            },
            "text/plain": [
              "config.json:   0%|          | 0.00/482 [00:00<?, ?B/s]"
            ]
          },
          "metadata": {},
          "output_type": "display_data"
        },
        {
          "data": {
            "application/vnd.jupyter.widget-view+json": {
              "model_id": "c96aaafa81e2412cbf39c49cf6cf7764",
              "version_major": 2,
              "version_minor": 0
            },
            "text/plain": [
              "vocab.json:   0%|          | 0.00/899k [00:00<?, ?B/s]"
            ]
          },
          "metadata": {},
          "output_type": "display_data"
        },
        {
          "data": {
            "application/vnd.jupyter.widget-view+json": {
              "model_id": "46300caa74304df0a378d4fa1a9b0c86",
              "version_major": 2,
              "version_minor": 0
            },
            "text/plain": [
              "merges.txt:   0%|          | 0.00/456k [00:00<?, ?B/s]"
            ]
          },
          "metadata": {},
          "output_type": "display_data"
        },
        {
          "data": {
            "application/vnd.jupyter.widget-view+json": {
              "model_id": "398a0585b8e44ef89174601fe78a2cfe",
              "version_major": 2,
              "version_minor": 0
            },
            "text/plain": [
              "tokenizer.json:   0%|          | 0.00/1.36M [00:00<?, ?B/s]"
            ]
          },
          "metadata": {},
          "output_type": "display_data"
        },
        {
          "data": {
            "application/vnd.jupyter.widget-view+json": {
              "model_id": "c659cdc0902040c68bfd373f4d0542f8",
              "version_major": 2,
              "version_minor": 0
            },
            "text/plain": [
              "model.safetensors:   0%|          | 0.00/1.42G [00:00<?, ?B/s]"
            ]
          },
          "metadata": {},
          "output_type": "display_data"
        },
        {
          "name": "stderr",
          "output_type": "stream",
          "text": [
            "Some weights of RobertaModel were not initialized from the model checkpoint at roberta-large and are newly initialized: ['pooler.dense.bias', 'pooler.dense.weight']\n",
            "You should probably TRAIN this model on a down-stream task to be able to use it for predictions and inference.\n"
          ]
        },
        {
          "name": "stdout",
          "output_type": "stream",
          "text": [
            "Zero-shot results:\n",
            "{'rouge': {'rouge1': 0.2866, 'rouge2': 0.0912, 'rougeL': 0.2134, 'rougeLsum': 0.2134}, 'bertscore': {'avg_precision': 0.858, 'avg_recall': 0.8753, 'avg_f1': 0.8663}}\n"
          ]
        }
      ],
      "source": [
        "def evaluate_model(model, tokenizer, val_loader, max_tgt, accelerator):\n",
        "    all_preds, all_labels = [], []\n",
        "    model.eval()\n",
        "    for batch in tqdm(val_loader):\n",
        "        with torch.no_grad():\n",
        "            out = model.generate(\n",
        "                input_ids=batch['input_ids'].to(accelerator.device),\n",
        "                attention_mask=batch['attention_mask'].to(accelerator.device),\n",
        "                max_length=max_tgt\n",
        "            )\n",
        "        preds = tokenizer.batch_decode(out, skip_special_tokens=True)\n",
        "        labels_ids = [[(t if t != -100 else tokenizer.pad_token_id) for t in l] for l in batch['labels']]\n",
        "        labels = tokenizer.batch_decode(labels_ids, skip_special_tokens=True)\n",
        "\n",
        "        all_preds.extend(preds)\n",
        "        all_labels.extend(labels)\n",
        "\n",
        "    return all_preds, all_labels\n",
        "\n",
        "# Zero-shot baseline\n",
        "model = BartForConditionalGeneration.from_pretrained(\"facebook/bart-large-cnn\")\n",
        "model, train_loader, val_loader = accelerator.prepare(model, train_loader, val_loader)\n",
        "predictions, references = evaluate_model(model, tokenizer, val_loader, max_tgt, accelerator)\n",
        "results = compute_metrics(predictions, references)\n",
        "print(\"Zero-shot results:\")\n",
        "print(results)"
      ]
    },
    {
      "cell_type": "code",
      "execution_count": null,
      "id": "9e21861c",
      "metadata": {
        "execution": {
          "iopub.execute_input": "2025-05-29T21:30:42.854619Z",
          "iopub.status.busy": "2025-05-29T21:30:42.853925Z",
          "iopub.status.idle": "2025-05-29T21:30:46.252129Z",
          "shell.execute_reply": "2025-05-29T21:30:46.251423Z"
        },
        "papermill": {
          "duration": 3.423085,
          "end_time": "2025-05-29T21:30:46.253345",
          "exception": false,
          "start_time": "2025-05-29T21:30:42.830260",
          "status": "completed"
        },
        "tags": [],
        "id": "9e21861c",
        "outputId": "9fbc952e-82b6-4a55-efd9-c221df95251a"
      },
      "outputs": [
        {
          "name": "stderr",
          "output_type": "stream",
          "text": [
            "Some weights of RobertaModel were not initialized from the model checkpoint at roberta-large and are newly initialized: ['pooler.dense.bias', 'pooler.dense.weight']\n",
            "You should probably TRAIN this model on a down-stream task to be able to use it for predictions and inference.\n"
          ]
        },
        {
          "data": {
            "text/plain": [
              "{'rouge': {'rouge1': 0.2319,\n",
              "  'rouge2': 0.0299,\n",
              "  'rougeL': 0.1739,\n",
              "  'rougeLsum': 0.1739},\n",
              " 'bertscore': {'avg_precision': 0.8544,\n",
              "  'avg_recall': 0.8454,\n",
              "  'avg_f1': 0.8499}}"
            ]
          },
          "execution_count": 8,
          "metadata": {},
          "output_type": "execute_result"
        }
      ],
      "source": [
        "def few_shot(model, tokenizer, examples, dialog, max_tgt, accelerator):\n",
        "    prompt = \"\"\n",
        "    for d,s in examples:\n",
        "        prompt += f\"Dialog:\\n{d}\\nSummary:\\n{s}\\n\\n\"\n",
        "    prompt += f\"Dialog:\\n{dialog}\\nSummary:\\n\"\n",
        "\n",
        "    inputs = tokenizer(prompt, return_tensors=\"pt\", truncation=True, max_length=1024).to(accelerator.device)\n",
        "\n",
        "    outputs = model.generate(**inputs, max_length=max_tgt)[0]\n",
        "    outputs = tokenizer.decode(outputs, skip_special_tokens=True)\n",
        "\n",
        "    return outputs\n",
        "\n",
        "# Few-shot (use first 2 examples)\n",
        "examples = list(zip(dataset['train']['dialogue'][:2], dataset['train']['summary'][:2]))\n",
        "reference = dataset['validation']['summary'][0]\n",
        "prediction = few_shot(model, tokenizer, examples, dataset['validation']['dialogue'][0], max_tgt, accelerator)\n",
        "compute_metrics([prediction], [reference])"
      ]
    },
    {
      "cell_type": "markdown",
      "id": "9dedd3ea",
      "metadata": {
        "papermill": {
          "duration": 0.022421,
          "end_time": "2025-05-29T21:30:46.302634",
          "exception": false,
          "start_time": "2025-05-29T21:30:46.280213",
          "status": "completed"
        },
        "tags": [],
        "id": "9dedd3ea"
      },
      "source": [
        "# Fine-tune BART"
      ]
    },
    {
      "cell_type": "code",
      "execution_count": null,
      "id": "cefad114",
      "metadata": {
        "execution": {
          "iopub.execute_input": "2025-05-29T21:30:46.351357Z",
          "iopub.status.busy": "2025-05-29T21:30:46.350877Z",
          "iopub.status.idle": "2025-05-29T21:30:46.361169Z",
          "shell.execute_reply": "2025-05-29T21:30:46.360603Z"
        },
        "papermill": {
          "duration": 0.035204,
          "end_time": "2025-05-29T21:30:46.362220",
          "exception": false,
          "start_time": "2025-05-29T21:30:46.327016",
          "status": "completed"
        },
        "tags": [],
        "id": "cefad114"
      },
      "outputs": [],
      "source": [
        "class BARTLitTrainer(pl.LightningModule):\n",
        "    def __init__(\n",
        "        self,\n",
        "        model,\n",
        "        tokenizer,\n",
        "        lr=3e-5,\n",
        "        num_training_steps=1000,\n",
        "        num_warmup_steps=100,\n",
        "        max_length=64\n",
        "    ):\n",
        "        super().__init__()\n",
        "        self.model = model\n",
        "        self.tokenizer = tokenizer\n",
        "\n",
        "        self.rouge_metric = evaluate.load(\"rouge\")\n",
        "        self.bertscore_metric = evaluate.load(\"bertscore\")\n",
        "\n",
        "        self.lr = lr\n",
        "        self.num_training_steps = num_training_steps\n",
        "        self.num_warmup_steps = num_warmup_steps\n",
        "        self.max_length = max_length\n",
        "\n",
        "        self.val_outputs = []\n",
        "\n",
        "    def forward(self, **batch):\n",
        "        return self.model(**batch)\n",
        "\n",
        "    def training_step(self, batch, batch_idx):\n",
        "        start_time = time()\n",
        "        outputs = self(**batch)\n",
        "        model_time = time() - start_time\n",
        "\n",
        "        loss = outputs.loss\n",
        "        self.log(\"train_loss\", loss, on_step=True, on_epoch=True, prog_bar=True)\n",
        "        self.log(\"train_model_time\", model_time, on_step=True, on_epoch=False, prog_bar=True)\n",
        "        return loss\n",
        "\n",
        "    def validation_step(self, batch, batch_idx):\n",
        "        start_time = time()\n",
        "        pred_ids = self.model.generate(\n",
        "            input_ids=batch['input_ids'],\n",
        "            attention_mask=batch['attention_mask'],\n",
        "            max_length=self.max_length\n",
        "        )\n",
        "        model_time = time() - start_time\n",
        "        self.val_outputs.append((pred_ids.detach().cpu(), batch[\"labels\"].detach().cpu()))\n",
        "        self.log(\"val_model_time\", model_time, on_step=True, on_epoch=False, prog_bar=True)\n",
        "\n",
        "    def on_validation_epoch_end(self):\n",
        "        all_preds, all_labels = [], []\n",
        "        for pred_ids, label_ids in self.val_outputs:\n",
        "            label_ids = label_ids.numpy()\n",
        "            label_ids[label_ids == -100] = self.tokenizer.pad_token_id\n",
        "\n",
        "            labels = self.tokenizer.batch_decode(label_ids, skip_special_tokens=True)\n",
        "            preds = self.tokenizer.batch_decode(pred_ids, skip_special_tokens=True)\n",
        "\n",
        "            all_preds.extend(preds)\n",
        "            all_labels.extend(labels)\n",
        "\n",
        "        rouge_scores = self.rouge_metric.compute(predictions=all_preds, references=all_labels, use_stemmer=True)\n",
        "        bertscores = self.bertscore_metric.compute(predictions=all_preds, references=all_labels, lang=\"en\")\n",
        "\n",
        "        for k, v in rouge_scores.items():\n",
        "            self.log(f\"val_{k}\", v, prog_bar=True)\n",
        "\n",
        "        for k, v in bertscores.items():\n",
        "            if k != \"hashcode\":\n",
        "                self.log(f\"val_bertscore_avg_{k}\", np.mean(v), prog_bar=True)\n",
        "\n",
        "        self.val_outputs = []\n",
        "\n",
        "    def configure_optimizers(self):\n",
        "        optimizer = bnb.optim.AdamW8bit(self.model.parameters(), lr=self.lr)\n",
        "        scheduler = get_scheduler(\n",
        "            \"cosine_with_restarts\",\n",
        "            optimizer=optimizer,\n",
        "            num_warmup_steps=self.num_warmup_steps,\n",
        "            num_training_steps=self.num_training_steps\n",
        "        )\n",
        "        scheduler = {\n",
        "            \"scheduler\": scheduler,\n",
        "            \"interval\": \"step\",\n",
        "            \"frequency\": 1\n",
        "        }\n",
        "        return [optimizer], [scheduler]"
      ]
    },
    {
      "cell_type": "code",
      "execution_count": null,
      "id": "48783ff4",
      "metadata": {
        "execution": {
          "iopub.execute_input": "2025-05-29T21:30:46.410008Z",
          "iopub.status.busy": "2025-05-29T21:30:46.409274Z",
          "iopub.status.idle": "2025-05-29T21:30:50.833342Z",
          "shell.execute_reply": "2025-05-29T21:30:50.832263Z"
        },
        "papermill": {
          "duration": 4.44933,
          "end_time": "2025-05-29T21:30:50.834701",
          "exception": false,
          "start_time": "2025-05-29T21:30:46.385371",
          "status": "completed"
        },
        "tags": [],
        "id": "48783ff4",
        "outputId": "85d00910-7df1-48af-9996-40c5b65b8748"
      },
      "outputs": [
        {
          "name": "stderr",
          "output_type": "stream",
          "text": [
            "\u001b[34m\u001b[1mwandb\u001b[0m: Using wandb-core as the SDK backend.  Please refer to https://wandb.me/wandb-core for more information.\n",
            "\u001b[34m\u001b[1mwandb\u001b[0m: \u001b[33mWARNING\u001b[0m If you're specifying your api key in code, ensure this code is not shared publicly.\n",
            "\u001b[34m\u001b[1mwandb\u001b[0m: \u001b[33mWARNING\u001b[0m Consider setting the WANDB_API_KEY environment variable, or running `wandb login` from the command line.\n",
            "\u001b[34m\u001b[1mwandb\u001b[0m: No netrc file found, creating one.\n",
            "\u001b[34m\u001b[1mwandb\u001b[0m: Appending key for api.wandb.ai to your netrc file: /root/.netrc\n",
            "\u001b[34m\u001b[1mwandb\u001b[0m: Currently logged in as: \u001b[33mmaridodonova\u001b[0m (\u001b[33mmaridodonova-igor-sikorsky-kyiv-polytechnic-institute\u001b[0m) to \u001b[32mhttps://api.wandb.ai\u001b[0m. Use \u001b[1m`wandb login --relogin`\u001b[0m to force relogin\n",
            "/usr/local/lib/python3.11/dist-packages/lightning_fabric/connector.py:571: `precision=16` is supported for historical reasons but its usage is discouraged. Please set your precision to 16-mixed instead!\n"
          ]
        }
      ],
      "source": [
        "user_secrets = UserSecretsClient()\n",
        "wandb.login(key=user_secrets.get_secret(\"WANDB_API_KEY\"))\n",
        "\n",
        "wandb_logger = WandbLogger(project=\"iasa-nlp-lab2\", name=\"bart\", log_model=False)\n",
        "\n",
        "lr_monitor = LearningRateMonitor(logging_interval='step')\n",
        "\n",
        "# Define trainer\n",
        "trainer = pl.Trainer(\n",
        "    max_epochs=NUM_EPOCHS,\n",
        "    gradient_clip_val=1.0,\n",
        "    precision=16,\n",
        "    accelerator=\"gpu\",\n",
        "    devices=1,\n",
        "    logger=wandb_logger,\n",
        "    callbacks=[lr_monitor],\n",
        "    log_every_n_steps=50,\n",
        "    enable_checkpointing=False\n",
        ")"
      ]
    },
    {
      "cell_type": "code",
      "execution_count": null,
      "id": "26bd93cd",
      "metadata": {
        "execution": {
          "iopub.execute_input": "2025-05-29T21:30:50.888890Z",
          "iopub.status.busy": "2025-05-29T21:30:50.888281Z",
          "iopub.status.idle": "2025-05-29T21:30:52.374666Z",
          "shell.execute_reply": "2025-05-29T21:30:52.374042Z"
        },
        "papermill": {
          "duration": 1.517342,
          "end_time": "2025-05-29T21:30:52.376012",
          "exception": false,
          "start_time": "2025-05-29T21:30:50.858670",
          "status": "completed"
        },
        "tags": [],
        "id": "26bd93cd"
      },
      "outputs": [],
      "source": [
        "bart_model = BartForConditionalGeneration.from_pretrained(\"facebook/bart-large-cnn\")\n",
        "\n",
        "total_steps = len(train_loader) * 3\n",
        "warmup_steps = int(0.1 * total_steps)\n",
        "\n",
        "model_module = BARTLitTrainer(\n",
        "    model=bart_model,\n",
        "    tokenizer=tokenizer,\n",
        "    lr=3e-5,\n",
        "    num_training_steps=total_steps,\n",
        "    num_warmup_steps=warmup_steps,\n",
        "    max_length=max_tgt\n",
        ")"
      ]
    },
    {
      "cell_type": "code",
      "execution_count": null,
      "id": "95327780",
      "metadata": {
        "execution": {
          "iopub.execute_input": "2025-05-29T21:30:52.423587Z",
          "iopub.status.busy": "2025-05-29T21:30:52.423095Z",
          "iopub.status.idle": "2025-05-29T22:19:33.126699Z",
          "shell.execute_reply": "2025-05-29T22:19:33.126071Z"
        },
        "papermill": {
          "duration": 2920.728375,
          "end_time": "2025-05-29T22:19:33.127815",
          "exception": false,
          "start_time": "2025-05-29T21:30:52.399440",
          "status": "completed"
        },
        "tags": [],
        "colab": {
          "referenced_widgets": [
            "0bd70b940eaa4e8286e6012a0d16c36d",
            "a9109d8286374aaab4957816235b6b0e",
            "04ff1ca96bbe47eb88f904acc8c9b1a3",
            "c0ab1b557cc94c25be73958a875c6ea8",
            "51c01f77cff44119bf15f9b68d614366"
          ]
        },
        "id": "95327780",
        "outputId": "1de64bab-e207-4dfe-af77-72f28a0cd125"
      },
      "outputs": [
        {
          "name": "stderr",
          "output_type": "stream",
          "text": [
            "\u001b[34m\u001b[1mwandb\u001b[0m: Tracking run with wandb version 0.19.9\n",
            "\u001b[34m\u001b[1mwandb\u001b[0m: Run data is saved locally in \u001b[35m\u001b[1m./wandb/run-20250529_213052-hw86bodk\u001b[0m\n",
            "\u001b[34m\u001b[1mwandb\u001b[0m: Run \u001b[1m`wandb offline`\u001b[0m to turn off syncing.\n",
            "\u001b[34m\u001b[1mwandb\u001b[0m: Syncing run \u001b[33mbart\u001b[0m\n",
            "\u001b[34m\u001b[1mwandb\u001b[0m: ⭐️ View project at \u001b[34m\u001b[4mhttps://wandb.ai/maridodonova-igor-sikorsky-kyiv-polytechnic-institute/iasa-nlp-lab2\u001b[0m\n",
            "\u001b[34m\u001b[1mwandb\u001b[0m: 🚀 View run at \u001b[34m\u001b[4mhttps://wandb.ai/maridodonova-igor-sikorsky-kyiv-polytechnic-institute/iasa-nlp-lab2/runs/hw86bodk\u001b[0m\n"
          ]
        },
        {
          "data": {
            "application/vnd.jupyter.widget-view+json": {
              "model_id": "0bd70b940eaa4e8286e6012a0d16c36d",
              "version_major": 2,
              "version_minor": 0
            },
            "text/plain": [
              "Sanity Checking: |          | 0/? [00:00<?, ?it/s]"
            ]
          },
          "metadata": {},
          "output_type": "display_data"
        },
        {
          "name": "stderr",
          "output_type": "stream",
          "text": [
            "Some weights of RobertaModel were not initialized from the model checkpoint at roberta-large and are newly initialized: ['pooler.dense.bias', 'pooler.dense.weight']\n",
            "You should probably TRAIN this model on a down-stream task to be able to use it for predictions and inference.\n"
          ]
        },
        {
          "data": {
            "application/vnd.jupyter.widget-view+json": {
              "model_id": "a9109d8286374aaab4957816235b6b0e",
              "version_major": 2,
              "version_minor": 0
            },
            "text/plain": [
              "Training: |          | 0/? [00:00<?, ?it/s]"
            ]
          },
          "metadata": {},
          "output_type": "display_data"
        },
        {
          "data": {
            "application/vnd.jupyter.widget-view+json": {
              "model_id": "04ff1ca96bbe47eb88f904acc8c9b1a3",
              "version_major": 2,
              "version_minor": 0
            },
            "text/plain": [
              "Validation: |          | 0/? [00:00<?, ?it/s]"
            ]
          },
          "metadata": {},
          "output_type": "display_data"
        },
        {
          "data": {
            "application/vnd.jupyter.widget-view+json": {
              "model_id": "c0ab1b557cc94c25be73958a875c6ea8",
              "version_major": 2,
              "version_minor": 0
            },
            "text/plain": [
              "Validation: |          | 0/? [00:00<?, ?it/s]"
            ]
          },
          "metadata": {},
          "output_type": "display_data"
        },
        {
          "data": {
            "application/vnd.jupyter.widget-view+json": {
              "model_id": "51c01f77cff44119bf15f9b68d614366",
              "version_major": 2,
              "version_minor": 0
            },
            "text/plain": [
              "Validation: |          | 0/? [00:00<?, ?it/s]"
            ]
          },
          "metadata": {},
          "output_type": "display_data"
        },
        {
          "name": "stderr",
          "output_type": "stream",
          "text": [
            "\u001b[34m\u001b[1mwandb\u001b[0m:                                                                                \n",
            "\u001b[34m\u001b[1mwandb\u001b[0m: \n",
            "\u001b[34m\u001b[1mwandb\u001b[0m: Run history:\n",
            "\u001b[34m\u001b[1mwandb\u001b[0m:                       epoch ▁▁▁▁▁▁▁▁▁▁▁▁▁▁▁▅▅▅▅▅▅▅▅▅▅███████████████\n",
            "\u001b[34m\u001b[1mwandb\u001b[0m:                lr-AdamW8bit ▄▅▆██████▇▇▇▆▆▆▅▅▄▄▄▄▄▄▄▃▃▃▂▂▂▂▂▂▁▁▁▁▁▁▁\n",
            "\u001b[34m\u001b[1mwandb\u001b[0m:            train_loss_epoch █▄▁\n",
            "\u001b[34m\u001b[1mwandb\u001b[0m:             train_loss_step ▅▆▆▆▇█▅▆▆▆▆▄▅▄▅▄▅▄▄▄▃▃▄▄▅▅▂▃▂▂▁▂▃▁▂▁▃▂▂▄\n",
            "\u001b[34m\u001b[1mwandb\u001b[0m:            train_model_time ▂▁▁▂▂▃▃▃▄▄▆▇▇▇▂▂▂▂▃▃▄▆▆▇▇▇▁▁▂▁▂▂▃▄▄▅▅▅▇█\n",
            "\u001b[34m\u001b[1mwandb\u001b[0m:         trainer/global_step ▁▂▂▂▂▃▃▃▁▁▁▁▁▁▃▄▄▄▄▅▁▁▁▁▁▁▆▇▇███▁▁▁▁▁▁▁▁\n",
            "\u001b[34m\u001b[1mwandb\u001b[0m:        val_bertscore_avg_f1 ▁▇█\n",
            "\u001b[34m\u001b[1mwandb\u001b[0m: val_bertscore_avg_precision █▆▁\n",
            "\u001b[34m\u001b[1mwandb\u001b[0m:    val_bertscore_avg_recall ▁▆█\n",
            "\u001b[34m\u001b[1mwandb\u001b[0m:              val_model_time ▃▄▁▄▂▂▃▄▄▂▃▁▂▃▃▂▂▄▃▃▄▂▃▃▄▄▂▄▃▂▂▃▃▂▃▄▃█▄▄\n",
            "\u001b[34m\u001b[1mwandb\u001b[0m:                  val_rouge1 ▁▆█\n",
            "\u001b[34m\u001b[1mwandb\u001b[0m:                  val_rouge2 ▁█▆\n",
            "\u001b[34m\u001b[1mwandb\u001b[0m:                  val_rougeL ▁██\n",
            "\u001b[34m\u001b[1mwandb\u001b[0m:               val_rougeLsum ▁██\n",
            "\u001b[34m\u001b[1mwandb\u001b[0m: \n",
            "\u001b[34m\u001b[1mwandb\u001b[0m: Run summary:\n",
            "\u001b[34m\u001b[1mwandb\u001b[0m:                       epoch 2\n",
            "\u001b[34m\u001b[1mwandb\u001b[0m:                lr-AdamW8bit 0.0\n",
            "\u001b[34m\u001b[1mwandb\u001b[0m:            train_loss_epoch 0.43479\n",
            "\u001b[34m\u001b[1mwandb\u001b[0m:             train_loss_step 0.74381\n",
            "\u001b[34m\u001b[1mwandb\u001b[0m:            train_model_time 0.16296\n",
            "\u001b[34m\u001b[1mwandb\u001b[0m:         trainer/global_step 4673\n",
            "\u001b[34m\u001b[1mwandb\u001b[0m:        val_bertscore_avg_f1 0.90527\n",
            "\u001b[34m\u001b[1mwandb\u001b[0m: val_bertscore_avg_precision 0.88861\n",
            "\u001b[34m\u001b[1mwandb\u001b[0m:    val_bertscore_avg_recall 0.9228\n",
            "\u001b[34m\u001b[1mwandb\u001b[0m:              val_model_time 1.20273\n",
            "\u001b[34m\u001b[1mwandb\u001b[0m:                  val_rouge1 0.39623\n",
            "\u001b[34m\u001b[1mwandb\u001b[0m:                  val_rouge2 0.1873\n",
            "\u001b[34m\u001b[1mwandb\u001b[0m:                  val_rougeL 0.31456\n",
            "\u001b[34m\u001b[1mwandb\u001b[0m:               val_rougeLsum 0.31459\n",
            "\u001b[34m\u001b[1mwandb\u001b[0m: \n",
            "\u001b[34m\u001b[1mwandb\u001b[0m: 🚀 View run \u001b[33mbart\u001b[0m at: \u001b[34m\u001b[4mhttps://wandb.ai/maridodonova-igor-sikorsky-kyiv-polytechnic-institute/iasa-nlp-lab2/runs/hw86bodk\u001b[0m\n",
            "\u001b[34m\u001b[1mwandb\u001b[0m: ⭐️ View project at: \u001b[34m\u001b[4mhttps://wandb.ai/maridodonova-igor-sikorsky-kyiv-polytechnic-institute/iasa-nlp-lab2\u001b[0m\n",
            "\u001b[34m\u001b[1mwandb\u001b[0m: Synced 5 W&B file(s), 0 media file(s), 0 artifact file(s) and 0 other file(s)\n",
            "\u001b[34m\u001b[1mwandb\u001b[0m: Find logs at: \u001b[35m\u001b[1m./wandb/run-20250529_213052-hw86bodk/logs\u001b[0m\n"
          ]
        }
      ],
      "source": [
        "trainer.fit(model_module, train_loader, val_loader)\n",
        "wandb.finish()"
      ]
    },
    {
      "cell_type": "markdown",
      "source": [
        "## Train Plots"
      ],
      "metadata": {
        "id": "j4LW83A0LJ_C"
      },
      "id": "j4LW83A0LJ_C"
    },
    {
      "cell_type": "markdown",
      "source": [
        "![image.png](data:image/png;base64,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)\n",
        "\n",
        "![image.png](data:image/png;base64,iVBORw0KGgoAAAANSUhEUgAAAeEAAAEhCAYAAABIohi6AAAAAXNSR0IArs4c6QAAAARnQU1BAACxjwv8YQUAAAAJcEhZcwAADsMAAA7DAcdvqGQAAFm0SURBVHhe7Z0HfNT1/f/fjJABCUmAkLAhQNh7qAiKCoID3LVaZx1t1f5qrXbQam1Lh+PfIVUrrRW3UheKIIiAoIzI3iMkECBhZjASkPH/vj73/Vy+ufve5XuXu9wdeT19fB7f732+l+TuDHl937vBWQMhhBBCSJ3T0DwSQgghpI6hCBNCCCERgiJMCCGERAiKMCGEEBIhKMKEEEJIhKAIE0IIIRGCIkwIIYRECIowIYQQEiEowoQQQkiEoAgTQgghEYIiTAghhEQIijAhhBASISjChBBCSISgCBNCCCERgiJMCCGERAiKMCGEEBIhKMKEEEJIhKAIE0IIIRGCIkwIIYRECIowIYQQEiEowoQQQkiEoAgTQgghEYIiTAghhEQIijAhhBASISjChBBCSISgCBNCCCERgiJMCCGERAiKMCGEEBIhKMKEEEJIhKAIE0IIIRGCIkxICNm8ZYtcNu5Kee2NN82d4Anl9yKERCcUYUJMDh46JNff9F1Z9NVX5k7gHDh4UI4cOSL5+QXmzrlFKD4jQkgVFGFCTA4aAlpWXm4+Co6RI0bIsq++lMd//Stz59wiFJ8RIaQKijAhBnD9Pvh/P1VW7M8e+6VyA2MPruAHfvwT+Wzu5zJ8xCh1vmbNWnUdj7FgGcJC1N/H6kLGEdff//Aj9/N/94c/qmvBAAtUfx/9GjX6Z+vr+jVo61XvO/35eJ7+Gnz90mXLbT8jgJ9lfa7+PPT7f/avf3dfr837J+RcgyJMiEGPnByZ8vf/J8nJyfLMU3+Sz2fPVHvgmxUrZZkhQLBw//mPv8na9evlid/8Sj2e9vJUZRk+/8K/1HPt2L1nj6xfv0E9H9/7y8VfVRNPp0CAIX74Hvheoy4cIZN+81sleFg4xx6uLfj8M8nIyJDDhw/LE0/+XjIzW6s9rNGjL3KLpC8gnnideH/4fpN++ZikpabafkZ4XdNee8P93P79+lb7PPD+MzJaud//zFmz3TcIhNR3KMKE1ABE56Ybrzcfidx26y3K7Qw6duggOd27yb79+6WiokLteWL9+lYtW6ojYseBgO/99jvTZcjgQTJk0CC1h++JG4BZsz+TpklJSmjXrF2nBDYxMVEuH3OZpKenS2tDjLds3SY7d+1S+3jtLVu0UN/DF506dVQWb+43K9TjQQMHSk5Od3VuRb8uiL++aYHI69cB8P6HDhmsznv26CHt2rY9Z2PmhAQKRZiQINBu4Ysvu1xZyuHm2PHjUly8TwkqhBS0NAS9eUqKEjTsPfnEb9T+lROureYqfvSRh9WNwh1336tes5OkKgj1gz/6gUx5/kW/LmT9umDdanczrHVf6JsFfzcthNQnKMKEBAgE6cnf/1G5X+HehXUabuzESydJde7cST2Gdfveu2+p1wTRfe6fL6jnQqDhRoc7+Mrx4+Rvf59SozsawOK3upDtxFu/LnxfPFcvvA47a9vuZoKQ+gxFmBAPCgp2mmfeQNQghBA5uKLh4oWrN9xAsG7+zo3K6v5mpcvyfnf6e8oSHj/ucvW6Xnzp327RhchB7CB6/5r6b7foQrAh3BBwf0BwtejChQ6XsvVz0ef6dVlFGq/BKvJwa2v3O1zniBHDZU0IoQgT4gYxzTtuu9XtgrWz/KxiCFc0rM0brrvWvBpadLwZrwevBS5iWKVw9+L1IXFq8u9/qyxOCPN/p72qXpP1GsR2+nsfKBc19vG9kFSm47d2QEQR59U/B25sxHxhGdt9Rp6vC68ByWD4PgAC/te/Pef++XiujqkTUt9pcNbAPCeEkJCCLGhkTiOr2p/wE1JfoSVMSISAFQnr0G7ZWeGhJJI/mxBSBS1hQkjYoCVMiH8owoQQQkiEoDuaEEIIiRAUYUIIISRCUIQJIYSQCEERJoQQQiIERZgQQgjxw+nTp23XM888Y7tvXTVBESYkitlbXipXv/xPdSSERA9//etfqx2DhSJMSD3gJx+9K8sLOT6QkFDgKby1EWKKMCHnOEdOVErxkXLzESGkNvgS3GCFmM06CAkTp41/WgePH5XTZ/z/E0uKi5PUBPuxfnBD3/+/N9T52qI90rRJE3nl5jtlWPtO6to1r7wo+wyBte7D4p26dLEhvGWy7+gRyWnVWr7c4Zr0NLZ7L5l64/fUOSHEGU5iu75o1KiReWYPRZiQMJG7t1Du/mS6HP/2pLljT9+MTHlt4ncluUm8uVOFFtpfXTJOrukzQD5cv1r+s/wrefPW78tTC+bID88fJW1SUtX+zE3rlcBChB94/y3553XfVaIMS/je6a/LTy+6TD0mhARGOEWY7mhCwkRyfLxkNUuWjKRmfldmsxRp3ND3P8XWxvcY1sElnvoIYf395RPktRXLpOPkX8n/ffSu2tdkt2glPQ1xJ4RENxRhQsJEjxYZMueWe2XJXQ/6XS+Ov04SG8eZX+UcWLdg56Q/yt8n3qTOCSGxBUWYkCjn6MmTsrvMVaIEyxc0MP6DNTy6q2syEVzRhJDwgwQsXysYKMKERDlwR/985gfK7fzeulXyrxtulayU5jKwbXu58dWX1H5mcopKzrIjOT7B/VzUHEO8CSHB8fDDD5tn1fG1XxNMzCKEEEL8YJeYZbV8/QkwE7MIIYSQEKOFN1gLWENLmBBCCIkQtIQJIYSQCEERJoQQQiIERZgQQgiJEBRhQgghJEJQhAkhhJAIQREmhBBCIgRFmBBCCIkQjkW4oqJSnnrqOZkxY5a5Y4/T5xFCCCH1HUciDGF97rmpsmvXbnPHN3PnzpfKSvamJYQQQmrCkQgnJibIY489JGPHXmzu2JOXly8FBYUyevRIcyc4ior2q0WIL/6zerlk//PPcqyGgfmEEBLNBNS2UruYJ0wYr45WYC1PnfqqXHnlGDl8uNQQ0WLb53lSVnbEPKvi+PEKdYyP954Kk5SUaJ6R+swvF86WGds3ycJb7peWiUnmLiGEhIeEhHjzLLSETISt13JzVzkWYS24VrQwN2vWVB2thOuDiGaOnDwh09aukNGdsqV3y9bmbv3mzpnvytI9u2TuzfdK+5Tm5i4hhISHuLjG5lloCYkI+4oZ9+vXS+677w7zkXO0KzorK0Md6zt5JYdk7JtT5ZcjLpF7Bgwzd+s3l7z+L9lZViKffOdu6dmSvyeEkNikViVKsHgnTZqsErEQM54y5S9q3XHHzSp+HIwAE2903LOcw9jd7D5Spo4Vp75VR0IIiUUciTASrh555HGZM2eBWjjHHqkbjp10ifCREyfUsb5TUlkhp8+cUedMzCKExDJROU+Y7ujqfJ6/Te7/9D25Jqe3PHvZ1eZu/WXjwX1y9Tv/VecvjL9Oxnbprs4JISTWqJU7mtQNVe5oWsKg6GhVRv3xb+mOJoTELhThGEC7oxkTdlFsEWHGhAkhsQxFOAY4bgoNSpWIyL5jFGFCyLkBRTgG0AlZZbSEFXuPlEun1DR1fpyJWYSQGIYiHANooWFM2AViwplNUyShcWM5xpgwISSGoQjHADoxC2IcdansEaDoaLlkNUuWpLgmctyMlxNCSCxCEY4BjlqEprTSu81nfQOdspQIN45zx8sJISQWoQjHANaGFPU9QxqNOkBWsxRJjIuTCrqjCSExDEU4BrAKzdF6niENVzTISk6RZnFNmB1NCIlpKMIxwFHDEm6V5JooVd8zpJEZDVo3bSYJhiXMtpWEkFiGIhwDHPv2hGQ2S1bn9T1DWnfLgjtaxYTpjiaExDAU4RgAHbMgOqC+x4SLj5ZLo4YNJS0hUWVHV9ASJoTEMBThGAAuV7cI1/uY8BFpl+wa4p8Ux+xoQkhsQxGOAeBybZGYpM5pCR9x35AgO5ruaEJILEMRjnJ04lGzJk2UEJdV1vPELLNRB2ga16TeZ4sTQmIbinCUoxt1IP6ZEp8g5SfrrwijW5hVhBMbx8mZs2fllDngnxBCYg2KcJSjLWFYfSnx8edcdjQ6gE2aP0tW79tr7vjmcMVxOW0IbqbpjkZMGLBMiRASq1CEoxw9Sxju6ObxieeU+/WtDavl0tf/JW9vXOOu//UHMqNBm2Qtwk3UsZLJWYSQGIUiHOXoCUqwhJvHJ5wTM4XX7i+Sie++Ir9eMFtaNW2m9uBmromqGuGqmDCo+PaUOhJCSKxBEY5y0C0LwOqDNVwa44lZz+V+JddOn6Y6fz13+TUy+7v3SKpxc7HnSJn5DN9oEc5sasaE3e5oJmcRQmITinAEKCwvNc9qRrujzxVLeNrab2RC916y4LYfyBVde6i9NinNHbmj0TcayVipCYnqMTpmAZYpEUJiFYpwHQPBWFm8x3xUM9YSpWRDhLV7ujZEahzijtLDagrSJZ26mjsu2jRLcVu5/oAI6/adQFvCFGFCSKxS70R4w4Fi8ywybDq4L6BaX52IBXd0cpN4dY4s4WBZVbxXlu3dZT7yTTg+p+Xmzx3etoM6ahDjdeqOtoqw2xI+VfsbE0IIiQSORbiiolKeeuo5mTFjlrnjzUsvTZMHH/y5Wrm5q8zd6AKZuKg3jRQbDBEuPeHcEoUl3LBBA0lo3Fi5o0FtJil9un2TrNvvX2BhcX69e6f5KHR8s3e3snozklzJWBrswTqvPOU/wQrZ0ToeDGgJE0JiHUciDAF+7rmpsmvXbnPHG4hzZmaGTJnyF3n44R/I7NnzpKTEeeyzrigoPSwri3y/j3Cz8YAhwgFYwhAYbQGjWQeoTa3wrLwthggXmY/sQc0uXMeh5puiQhnWtr35qIq2Zi9oPSvYF4XlZe7yJNA0zvW5cKYwISRWcSTCiYkJ8thjD8nYsRebO95MmDBeLZCenibx8a4/kNHGgePHZF7BdvNR3QNLuCwQS/jkCXc9LJp1gGC7Zq0q3qOEriZLeGXRHtl++KD5KDTsO3ZUieiQLG8R1sK6x09y1iHTBa/7RoPEuMbqWEFLmBASozQ4a2Ce14h2RWux9QVc0fPnL5aHHrpXCbg/ysq8E3KOH3eJVHy8S3ysJCW5MmOD5YLXXpCWTZvKjOtuN3fqDrRXHDztOTmvTQf51+XXmrv+eeSLT2VbyQGZcf0dyjq9+r1p8uwlV8q4zt3NZzjnz8sWyGvrXWGCWTfeJR1SUtW5J7fMeEu2GT8r9/YHzJ3a8+mOzfLo/FnykfG5d01rYe66gEBf8vZUefLCMXJDTh9ztzq4ebnpozfl+bHXyEXtO5u7In1f/pvcP2C4PDjofHOHEEJCT0JCeAzLkCdmwQUNV/T1119VowCDOMOa8VyauLg4r9WoUaNarTLDiswrOSTFFcdsr4dz5ZeXKiFGmZHddbt14swpadYkXp2nmZOUjhmWn+fznKw5O7ZJVlOXJbn58AHb52CtOVCssrBLTlTaXg9mrdy3V9UD57TM8LqGEiUAL4XnNb0OGP+/QFvjudZ9lG6dOH2q2h4XFxdXqFe4CKkIQ4CfeeafMm7cpZKdXWWt+AOWrefSJCc39Vp2ou10HTxRlVW8sHCH7XPCuTYbFi0oOVFhe91uITGraZMm6jy9WVP19cdOnfR6Htas/K22+1hrDhbLvuNH5YGhF6gkrw2H9ts+b/2hfepngJ1HS22fE8z6pniPDM5qZ3sNC3HhouNHbK9h7Tfd0e2ap1XbR91whSHC1j0uLi6uUK9wUSsRhtt50qTJSny1AA8fPkiGDh1oPiO6sJb2zC/IM8/qjo0HXQJXHmBiFixhEN+osVq+Bvv/dfmXKvHLjk+3b1bH8dk50r91G59xYesghR0loUnOQiLatsMHZWgb73iwBoP6/SVmFR87ogY2pCZU967gBqWmrGpCCIlWHIlwXl6+PPLI4zJnzgK1cI49K4sWLZGysnJ1XZcp+StnigRwdwI0i1hUmO9uhFFXbDq4Xx1LAygxUpawmZgFUKbka7D/rrJSeeLLOeaj6swyRHhk+86q21S/jCxZ56MOGMlbOS1aKdfx9pJD5m7tWFnsyka3S8rSoP7XX8MO1ajDUp6k4WB/Qkgs40iE4Vp+9tnfqfIjLJxjDxbv5MmTJC0tVSVr6et61ZTAVddoEf5Or/7quNgQ4rpkg2Gl6kxnp2VKaFtpFWFf4wz3Hz+qjujGNWPrRnWuyd1bqK7rNpEQYcR87UT2m6I9MiizrXRNbyl5JaHJkM4t2q1c4AMz25g73rRLaS75fsqiij0adWjQsKOCzToIITFKSGPC0c7+Yy6huqxzN2mRmCRf1KFLGgID4TvP7BbltExJx4Q1aF1pV6K0p9zVcapVUlP589dfVKudnbl9kzpenp2jjn0zMtXRs15437Ejag2ECKe1CJklnLtnl3KB+0NbuboUyRP0lraWJ2ngoj5q9tcmhJBYo16J8AHDGtTN/y/umC3z8rfVWfesjaYr+oJ2HdURPZSd4OmORuMOu5iyrrF96tIrVcnPP7/5Wj3G+/vYsIzhitYdt9qnpKrvs3ZfdRFeYVjBYIAhmJ0NEYb1Wdte1chcXnugWIZktTN37Mly1wp7t6/Eeygybg7sLOEEZQnTHU0IiU3qlQgfPH7c3TIRcWEI4eriqkSkcLLRjMEiQxg4GaKgY9aeMWG7SUpavEZ16CK39xssL6xYoqY1LTesUMSgr+zWU13XDMpq62UJIykLseBsQ4C7pbVUe7W1hhFjPn3mjN+kLNDWFGG75Cy0q2xmfAZ2dc34bCjChJBYpX65ow1LuGWSq9b2oo5dpFGDBvJFwTb1ONwgHgw3cJppiTuxhKuGN7h6JIPk+Hjb3tG7DRFumeQqYfrJsJEqo/oPi+fJx9s2qvc5xqO5R99WruSsM5ZeLYgn9zfjtl3S0tWxtp2zlu0pVL2vEWf2h3Y123XNQgcvvOferVxudCtIzNLjHgkhJNaIWhH+fPcO8yx0HKo4Jq31QPjGcXJeu44yf2fdxIXXG4LXu2Vrtwj7ynC2orN+dYkS8GUJFxnihTIfgOf8dPhI+Tx/m7y1YbWMUFnR1Ut7+rfOUo1Dthxy1S4DWK2DM12WOlzWKIeqbQ9p9IvuZbxvqzVvB9zjeJ/7bDKkcbOAxK6eLTPMnSpcljBLlAghsUnUivArm1abZ6HjwLFjbmsRjO6YrcqGEPsMJ4jRwvLt2aq1W1CdWMI6HotZwpoU4+vt6mJhCetBCOCOfkOkU2qaOr/KwxUNdKLUWtMlvcaMD1st1uz0Fqq+tzbAxT2kjf94sAY3EXgfniB2bWcFA1diln3dNCGERDtRK8IHK+2zZIMFcUPEWK0irIfLh3ugg27S0ccUEmRmO5kprLN+dVkT0JOUPLOIkT1snTAEJo24VB3HdO6mjlbwGjBCUIuwruXtZ1jImuzUFqrFZ7BA2GHN15SUpcFcYbuY8Jr9e90Z3Z7AowGQAEYIIbFG1IrwUUMwQ9kJ6aBZI2ydZduxeZqyFr8IswjrAfk9WrjcqXBJO7GEdWKW1RJGiRKwurNxjud6ijBuMn5xwWi3cHvSNyNL1pudszDsH+5eq9u4W3pLv7W7NfHv1cvU8by2rozwmsDr94wJwxLH70H/DPsSJ/16OUmJEBKLRK0IA9SshgpdIwwL0MolHbvKV4UFYc2wXX9gn3RJTVdxTQBRLHFg6bst4cYWETbd2dbkrN1mjTAsW0/uHTjcPPMGVi9i1WCFYQl71vJ2Ml4zCMYljfgyWmXi5+s4eE1kGq//kHGzhGxqjW6j2ceHJaw/U33DQgghsURUi7AWzlBw0JzCk9G0yhIGaGAR16ihLN4Vvu5ZmwwRtsY0IUp2Gc6e2MWEda2vtWvWXtOFa40JO6GfKWxzd2xVcfHBHhnM3dJdIweDcUlPXjxPvc+Hho4wd2oGMWHkalvjwiijwo0HbmLs0K56JmcRQmKReiPC+4+5RNgaEwaIV8KC/EfuV+ZOaIGrGKJizextboiTkzphnQVdPSbssoSt7mhdI+zpjq4JuKPBtHUr1BGdsqx0am6WKQXYvhIW8CrDgv2/YSNrzIq2optxIL6tQVzZlxUMdPkWy5QIIbFIVIuw7vUcClCeBOxco/cPOk8lT6FONtSgPhj0atVaHQFeg5Pe0bpESbtcgY7vWsuUIFoQO20lOwUWZmfDwlyye6dq0oFzK00aNVIx80At4aeWLFBtL2/rO8jccYZdww64y/ubNwt2VFnCFGFCSOwRtSLcuGFDNb4uVBwwrGpdI+zJVd16KRF6eXWuuRM6NpiZ0VYh0bW+NbXMROmNjgFr0s2YdrWYsGEJB2oFa3TW8QAfzTS6pLaQ7Yedi/DLa3JVp65fjLjE3HEO+kc3MI46OUvHg7XFbgcGOABOUiKExCJRK8It4hNVr+dQAasaww3sgMV3e78h8tmOLSGvGcZ839ZNm1XLUNbWuHW+sR2ICVuHNwCIFCxjT3d0oPFgDSYqAV8drdDC0qk7GjcNf1++WIa36aBqsAOlkXHjlWEIsY5x6/Ip/RrtQMcsQBEmhMQiUSvCLRObhtQdjcQsz6QsK9/rO0i1cHxl7TfmTmiAm9uz0YQeIlFTctYxQ1is3bI0KU2qd83CHF7dLStQdEa0LxFGmdLJ06fdcWd/IK4OIf7tRWPMncCBSxq9osG6/cXK8vdn5Ve5oynChJDYI3pFOCFJdZoKFeiW5csSBihdur5HX3l7w+qQ/UFHAwmU96BtoxVtCdeUnIWyGwwu8MQ1U9gl4KihRQ10sO7o3masGm0s7YA7GtQUF4YL+j+rl8vNvfpL9/RW5m7g4H1odzQsYX/xYKATs1gnTAiJRaLYEk4MbXa0Gt7gW4TBnf2HKAvzvc3rzJ3agZaYwLPnsU6gqqlhB6xK7W61omYKmyKsXbfBijD6Q1+T07taBraVnBauaUo11Qr/8asvVHLYI+ddZO4ERxvDoofVjZsLDI+oaQ6xzr5GcxdCCIk1otoShtCEoh0hvg+GFfhzRwNYrOju9NpaV8mOPyAQdn2OraAJCNDWpka7o61xXTsQ5/RMzAKwhI+YJTkY3ADaJXuP+XPKXf2HmmfeQJzRZWyHH0t4+d5CmbNjq/xk+Eh34liwoHUlBHjhLtdgDX/xYIAJTbiRqKQ7mhASg0RvYpYhwiAU1rCOLSPOXBN3GdYwZuh+WUPzjs8M0fnhp++bj7xBmc3zK76WEe07qYlEVrQI12QJwx1tV2ebGp/oFnB9IwDxChbd09oXGOTgb67w7xbNVc007vYj5k7RCWaz87aoo7WXtS8SGzdmxyxCSEwSxe5olwgHkpzla+yeu290DZYwuKxzN+nQPFVerSFBa8HOPJV09dsv55g71fnFF5+q4+SLx6mjFR3HrDEmbFi7diLcPCFBjpgds3RjC93oIhyg5tfXXOF3Nq5RbvcnRo01d2qHvpmYl79dJZvZ1XV7Amu9kjFhQkgMEr2WsGHtgUAs4XcNQbBLIArEEgZXZPdQc4atGchWIJ5o7AHr77V1K91WmwaD9BcXFqjh+p5WsAYuXkeWsEeJEoCLGjFugPipr58RKroYIlxqWN6eJVV4fc8uXahuXC40LP5QoC1hfG8nVjDATQ0yyQkhJNaIene00yEOaHzxwZb1anCAJ1qwWiY5i1dCVMD8AvuB/xBoMGXctSqG/Ni8mW63MIT7t1/OVaU9dw8YpvbsSDGsWSfZ0dpqtqLjxIidQoTtBjeEEow0BNs86oWfy/1KlVk9MTL4kiRPkLSmO4T1rcFNrkloHKdqqgkhJNaIWhFGByvg1B29smi3cjvrLktWsI+5s74ygD1BD2VkUs/N32ruVAeu6CxD+HJatJLnLp+oXMY/nPW+SiJDljDE9ZnLrpJGDdBaw570hKq4rh1aVOwSs3RMGSINd3TblOBqhJ3S1bihAI8v+Exu+eBNueeT6TJpwWyZumqZavkZbGa2L9qZln1NmdEaeAtYJ0wIiUVCLsIvvTRNrVAA16RTdzRcwMBOhCHkrZo6c0VrLuvUVRbu3GE+qg72L+7YRZ0jG/hvYyeozlh3fzxducTvMSzgmpKdIKSH/VjCuuTG7sZBD3GA2MMCD7ZRh1PQ8etfV1wvN/Tspyz8M3JWlu3ZJe0N8f/h4PPNZ4WONmZc2Ncgf0/QupJ1woSQWCSkIgzxXbvWJYahAIlUTkV45vbN6ogkIc8WhrCEW1mG+TthTJfuytJcVFg9SxrlOHA5jzZEWjO8bQf58dALZemenerGAaU6NYGEozI/Qxz0VCC7xCx0zAK6nWQ4k7I0cNFjNvCTF42Vl6+6ST6/9T5ZcNsPlYch1MC9jnaZTj0XeB5jwoSQWCSkInzffXfIHXfcbD6qPXAJOxnigCQoJA3d0megeowZtFbQg9ppUpZmRLtOSmA+80i6+qJgu3IzX9Cuo7njAnNzB2e1k8mjxzkSppoG++uB/nYirFtZ6glNwfaNjlayklMcW8EAMWTGhAkhsUiDswbmeUjIzV0lq1atVYLshLIyb5E9ftzlpv3H+mXy2c48+fy6O9VjkJTkXbLy60Vz5HNDHGfecKeMevNf8rBhld7Tr6pm9SJjb6xhyU06P7DJPj/+/GNZvX+vfHnL/eaOyIT3X5XWxs3B1HHXmztVwAK3S6Sy4+W1ufJs7mLZ8P2HzZ3q5Bbtljs/nS6vX/UdGegRGy0sL5Nx01+WSzpmyxfG5/PpDXdJx+bhzZCuS2Zs36RKsG7tPcDc8c8fl86XWcbN0qJbf2DuEEJIaElI8M7PCQUhjwkHSlxcY6+laZWUrLJvGzRqZOzHqdXIOLeus4ZV+ln+NhnTubtkNEs2xChN1h4odl9vaKxDhpUMd7T165wsuGDxtesP7VePD504rkqgRnXI9nouVnJCgu2+3WpuZn8fPllhe73ijKtTWNP4eK9rzRNdNyIbDx5QxzYpzb2eE8sLSW8oT7K7Zrfgjj5+6lvba1xcXFyhWOEi4iIMy9ZzaTqku4bMVzQ8K8nJTdXyFOyv9u5Urkj0P8ZjuISRnKWvHzl1UpUvtU5Oce85XWOzc9TPX1C4Qz3+wuyihXix53MDXS2budzjx0+dsr1+4sxpdT0tKcnrWkayKwZcfKxcueyTExO8nhPLq0uLFtIvq43tNbuFXtoo17K7xsXFxRWKFS4iLsL+0MlU/mqFZ2zdoGpLzzNjtANat1HWK6b6AP21NQ1vsCPVsGyHGKI+d4erVOmLgm3SummydEpNU49rgx7i4CtDWseEfSUnabd3bdpVRiuIcaMftFOqZgozLkwIiS1CJsIlJaUyadJkmTbtbZUh/eCDP1fx4dqg20z6GmmIutzP87fL1d16uWtydfxUlyrplpX+xhj6A1Yv+iajbSP6SY8zrePa4p4p7EOEkZkN7BKzQLKZIX2uJWUFA0qUADOkCSGxRshEOC0tVSZPniRTpvzFvYYOdWUrB4suvcFAfjswuQdCPDGnt7kj0qtVa2UlahGGVQzQJjIYLjdEGDxu9oi+uGO2OtaWNDMmjHaQdui6V909yhNY6SDcNcKxgG7tyUlKhJBYI6rd0bAWYd/uO2rvjp6xdaNyM6PDlZW+rbLc7St1nXEw7miAvswYYIDmFHENG8n5bTuYV2qHdkf7al2JWmS7blkaXaaEJKb6ji4J094DQgiJFaJahCHAmYbI7DddylbQ8hE1u9fm9FHPszIws42s2eeqFYY7GmLeuGHwbxUuaYAhBXEhypKDhYu4py8RhqBoobVDi3jbELeMjEW0CFd8W/vZ04QQUpdEtQgDtEy065qlJxdd3a2nOlrRlvGq4r2ulpVBWsEaPdDB2iUrFKQlJvp0R6sxhjYTlDS6dSVjwlXJaxWnaAlHG2s9GucQQqoT9SKM5Cx0vPIE8WD0Lu5t06NZi/DqfXtCIsLIuIY7e3SI4sEaf60rkenbzEdSFkDHLRDu4Q2xQNMmOjuaMeFoY5FZ1kcIsSf6RTipmVd2NGpCMU7wUtNC9aRFYpISaFjCBw0BD7RvtB0/CMO0oObxiT5nCiPT158lfFvfwfL4yMvcbun6jNsdzcSsqGPhLvshKHXFP3IXm2eERCcxYQl7DpP/eneBOl7qxz08oHVblSEdCksY3NW/qg1mqFCW8AlfInzCZ3kS6JKaLnf0G2I+qt/oz4mJWdHHhgPFPm80w01pZaX8ffliKTpabu4QEn3EhAgD6z+keQXb1R/eC9p1Mne8QXIWBt6j7WWwmdHhpnl8vM8/UGjW4bQPdX0HQ/2BU3d0pEShvoF/f/Ba7S4vM3fqlo0Hi9Vx6qrl6khINBIT7mhgdUnPN0R4VAfXPF9fWMuWQuGODgdpiUlS7KP8ColZzeLC0zD8XEPfrDjpmLX50H6Zl7/NfOSb9YYFR2oH+qyD3Udc3evqGj1l7J2Nq728aYRECzFjCevOV5gXDEG+tLP/TOV+GVnu1oehcEeHA3/xXLhW/cWESXUgxE4G+3+ybZOsNGvIfXH05An1PFI7tAjvPRIZdzBEGB4zWOMvr8k1dwmJLmJGhLUljNpg4KRzVR9zJm2rptEpwrp1pV1vbCXCfmLCpDp6klJNfLRlg6yoQYSX7y2ULYdcE6pI8KDVK9gTIRHeeHCfXNSxi1zRtYe8unaF6i1ASLQR9SKMTGega4Xhih6U2VYlNdWE7iMdte5o8z0ggcSKjm02oyXsGGRI12QJo4HL3qPlShyQK+ALiLC24kjw5JUeVkfEhusa/BvC/8NeLVvLDwefr25qX19fu172hISDqBdhgMlFsBaRUIOMZ6dNM/obIoxuWtrijDZ0rW9JZfV4FVpWAl16Q2oGn1VN2dEztm0wz8SvS3rpnp1KOL497RonSYJDx2QjkZi1ybCCAUQYCxbx1FXLlGuakGgiJkQ4sxkadhxTVjBmA19WQzxYMzirrWQYAu7Z1jJaSDdvDjytMm3R+WtbSarT1EFM+NNtm+V8c+Sl7i3uCZK71u13JWVtOUyXdLDghlknyu2OgCW86dB+dexrhqQeGjJCuaORpEVINBETIgwhhTsapUltmqVI9/RW5hX/wILu1TLDfBR9NDdF2LNkBjXCgDFh52CmsL8SJQzg2H/8qHyvzyBlGa0oshfhb4p2m2ci28yYJgkcHQ+GBYpEN+3dqStwI4WWt+lmOAvVEsPbdpAXVyxVjwmJFmJDhJOaqlgeWuDpPs5OuTxE83/Dgc7aLveICeu5uIwJO8eVmOXbHf3xto3qpmZ0p2yVU7B2v2vUpSeIByPTGpn1gcaFcZNIXOjP7iKzlLCuG2YgKauPR0vbB4dcoG7Epm9aa+4QEnlixBJupqYNIeYX6BAFf121ogEIw2EvS9glJixRcg4+R3/u6FnbN8vYLt2VuA7Oaqes5o1mzNIKRBhWU3Z6i4At4aW7d8rOshLzUWiJtbpliDD+nwzKbKce13VcGP9ve7ZsbT5ygeY+KF2ctvYbc4eQyBMTIqw7XiH5JtB5vtodFa2gVthznOGREy7XXVJjirBTMBryqI/ErAU789S0qqvMiVvopgasrmdw4vQpWWHsDWvTXrJTW8j2ksBEeLshPF8VulqqhpqFO3dIYXlkml4EA25guqSlu0dt1qUIo1Um6N2quggD3IAVRqiDFyF2xEZiVtNkdRzZoXPI5vlGC8jc9kzM0m5VWsLOgdXlK/MVjTdSjZsdXVvePiVV3dh5Zkh/s9clykMNEe6W3lIKSgOzavNLD8nSPbvMR6FlRfHumKpd3lF6WLqmtVQ3wbh5rssypY0HXUlZdiKMm17EqAmJFmLGHQ0uiXLXcjCkY6awpzv6pEuEGRN2DhKzPD9HAOsWYy+v8Jg7PTSrvVeGtLaMMbqya3oLdb41gAxpWFjL9oZHhHGDECsijGlWEN2uxo0MaJfSvE4zpBEPxk2X3axtPYfbszafkEgREyKsm20EmpQVC6BW2DMmjOENDRs0cLfdJDWja6rPnEURWxXosIYY+1Vdq4vwgMw2ShisPcmX7NkpQ7Laqc+9S6pLhLcdcuaSRk9qgPaqgQi3E9CqFe9B/4xoRydlYdIXyGqWUqeWMDKje9lYwUDX5h85SREm0UHMxISRUOGkS1asodzRNolZcK8S5+jPy9PVCFc0fn+GeeQSDDYHfCAGDGAxwz2NeDDoktZCGhk3QtscxoXzSlzdocDS3aG1hrWFHiuW8PbDLhHONj5DgLhwXbWuxE3YZuOmpbdHZrQm2ay9ZwtLEi3EhAij2cYtfQa6Hpxj4MYCjUisoMkBG3UEhp6kVGmIqQaf4/yCPJnYvbdXwxY9ZQsd2PTx9JkzMrytq5kHBLizYcntsIirPwrMFo1wgYbaJa1vFAItmYoUO0qri3C7lFQ1xaguulUVlJUod7hneZJGJ2qWm8mPhESamBBhcKWHO/FcQU9Swh8OAOHYVV7KpKwAQZ0wOH6yqkzp6907lYU7oXsvc6c6cD2vNAVOJ2UNMjOnQXZaS8cZ0hDITqlpMqJ9J/VzQwnKpnQPdbimox18Fl1NAQbtzNhsXbik15vdzuySskCKtoTpjiZRgmMRnjFjljz44M/lkUcel7y8fHO3Ovo5WDgPJefqgHt9Z/5Z3lZ5bN5MGfryP1SZS3ubpBLiG/dMYUvDjmeWLlRDPHxZRYMMEV5lWMAQavSLRkKWFnOA5CynLuB8wxJGWdMF7ToqVyeSg3xxKIDZthgDiL7pN/ceoB7HQlwYpVo6KQvoBKm6EGF87sgPgBfDjmTzppeWMIkWHIkwRLegoFCefvpJ+dGP7pKZM+dKRUX1O0nrc7Bw7kusSRXaEn7k849lVt4Ww2rrLe9c9z3591U3qn3iDGRHA92wAwlZqFW9f9B56rEdOi68univigfDMrai3alOSpVg/SGOfJ7pzkabTDtQwxpIs4jcokJ1vCanj7rRiIW4MFpW6s8OIDsa1MVcYdUpy+wXbYfOjmZMmEQLjkR4w4bN0qlTe0lMTJA2bbLU3t69ReqoSU9Pk7Kycq994h8kZuEP97OXXS25d/9Y/jR6vJcYkJrRjU10y8/nVyxR2bljunRXj+1A+0qAge+IV6K3sBXtUq3JJY0MayTTQXjQihRf58sl/cKKpW7XtxOQlIW8AbyXnBYZUS/C8AgAqwjr9qxoPRtu4I7u6adfvM6ipyVMooUGZw3Mc5+89NI0GTiwnwwd6kqO8nysgeX7/PP/lRPGL/jYsRfLhAnjzSu+KSvzHmh//LgrWzg+3jsumpR07mVIk9qD5hBXvzdN/n7ZVZIWnyS3z3xXnrxwjNxgWJD+GD/9vyoGD5bc9kNJaeLyTAAI8+Bpz8lPhoyQe/sPM3e9Wba3UO6e9T95/arvKPf35CVfyEfbNsny2x8wn+EC83UnGK8RbPj+w+pYExPff1U6pKTKc5dNkCcWz5UvC/Nl/nfvM69GH+if/eN5H8v0a26RXi2q4rLjpr8s/VplyVMX1/w3IVgg8mPe+Y/8YeRYubZ7b3PXmwvfeFGu6JIjvzp/tLlDSM0kJIQnWTZkiVkQ4DfffE9+/eufKgFetmyllJTU3GYvLq6x19LExcV5rUaNGnFxea1k8x9I5ekzMnVtroq1X2cIsN1zrWtga5c13D29paQlNq12rWl8vJralVdaUm3fc+WbIq7KmozHsKhhGW8wrFbr8/5jcUOv2l9U7ZrdqjxzWsVXB2e2U49hCe8/fkyOnvrW67nRsnaYn0WOIcDWfcSFIZLWvVCvLabHondGpu11vZKNG62ykydsr3Fx+VrhwpEIZ2ZmSFGRK+sQseDKyhOSnp6qHmvgsh437lJJS0tVFvDw4YNk0aIl5lXfwLL1XJrk5KZey060ubhSzAS3NQeKZJFhLd4zYJgkGcJs91zrGtbWVRd8XruOtte7tWgp+WWHba/pVXi0VHVoap2Soh5f2MHVHnPFvt3u5+yvPGZYxxvcrTNXG69TX/O1VhnPAee1d702iAvYUV7i9dxoWTuN1wbBberx2XdonmaI8JFqe6Fem82BG/0y29he1ys1IUH1Gbe7xsXla4ULRyLcu3cPlWgFAdYxX8SGc3NXyaRJk5XFm5WVKatWVY0IKy7er/YIqQt0gtub61epDGendeWDslyWsG7S4Um3tJY11ufuMK5nW7KB8UceM4vRgUvzr5WuOba/ufAylTm83EEtce7eQjWYAlnbAJYwiOa4MD6r7DTvzGSUKSHLO5zMK9jmHuLvDyRnefZrJyRSOBLh7OzOKjHr0UefUDHfK68co5K0rOj4sC5RAp4xY0LqglsNAdadkWqie3orlXU8rI39dC64mFHD7a/3Mbpl6RaNmvMNy3rZHldmM5qxvGHcHFzdrZeqJR6a1U6+Karet9oOJGX1z6iqW4a4ZyQ1i+oyJbjP8Zl50sacpmQ3Cerr3bWfPIWyL9RQjzLnF/sDrSuPUIRJlOA4JgwX85Qpf5Fnn/2dEmUAkZ08eZJyQYP77rtDPQcL54TUJegy1qhhQ7mr/1Bzxxk39OjnbobhiTtD2sds4ZOnT6v6V8+61PPadnCPRvz3qmWqYxeGygNMaUJTFvQ49gW6d6GLl7bUNd1btJQtEWjYsap4r9/aZ4DB/XhfqJf2RIuw50jD02fPyk/mzHC35gyW98xB/Tf27KeO/kDDDlrCJFpwLMKERDvoH31tTh9pbU7dcso9A31nPmOkIfDlktb71pIcABEGs/O2KCv48uwcdwMLfe0bswbYDjQRgRBj2pOVHihTCvGACCd8tHW9bK1hmIVu8Wlt1KHRDTs8y5TQmAZW7OMLPzN3guO9LevVrGCMqayJNOOG6wjHGZIogSJMzhngVr534HDzkXO0QNgB1yUGQMDNagdKo4CnCCMujVguapDhzn5gsMsKBq2bJhti0Vy1o/SFtgwHe1jCOS1aGdamf/d4oLyypubmITO2bqxR/PUNibVlpUa3rvS0hCHuugnJq+tWmLuBAY8CPBXX9+hr7vgHlnBd9LEm5wYIc/zGuEn83aLPVQOgUEMRJucM6C9uJwC1Be7VbT6SofDHH8MekP3ribZ4kRHtOVpviGHhLvfRVQsgcQuC6znIo1t6K3XEpKBQ8eyyhWoEoy9m5W1W7tuafiZGOOLmQ7di9QQjDa03D3DXz9q+RW7q1V/GdukuzyxZGJSbePqmNWr8JGLuTtCfqefgFEI8wUCQa6dPUwmf72xcLfd8Mj3kTWcowuSc4fsDAosFOwUuaTTasAMdohAPhhB7ckG7Tur40NAR6mgF2dilhuD4srBXFu3xckUD7R7fGqI78uKjR5Rl/daG1eaONx9u2aCONVkBqI32160KTUeKLX/A4KqHECOEMOnCS9XXP71kgXnVORhXOS47R1nUTmhujkT1HHtJiCf4Ha1OAxVCCSUUYXLOoAe2h5rs9Baq17Cd5ZRXiulJ9sMCkFSFbF1dYmRFt8i0s4bhmkXMckgb7/alKFlCJvaWEGVIaxfy6+tXqqMnGEH4ef42ZeEi8cpfLHXRrnzpYVjvvmib0ryaJQxxR/wYAzbgrr5v0HnqZqCmBDAr2kp3kpClqeofTREm/sGNXZylUUfjhg3Vv8FQQhEmpAZQKwzsMqRVjbAPFzj6FD916ZXmo+p0bJ6mYs12WcHueHCmfQ9x1AtvDlGtsO6LDXc04r6efLzNtfdj05r3VaMMgS6prFD10b7IapYsu8pcJUr4eV/u2qGsYM1DQy5QWepPLJxj7tTMe5vWKQFHSZhTdGtSjjMkNfHd3gMko2kzVd2AMEbLpk1lfHYP18UQQREmpAZgCYMNHhYaXLlI8PElwkAPL7BjeJsOaoSiFbhIX1yxRFmIuqzHE8SKfZVMBQosYQgfyqZeXrPc3K3i/c3r1c/DFCfgq0Z5wwHXZ+OvWYZOgMPnpsX9GkuPZ1jbPz1vlJpoZXdD4AmEfP7OPLnOYUKWRlvCZZUUYeKfuIaNZN6t9wkGLPxu1Fh559pblTUcSijChNQAGmRAiP6zanm1rFrtyu1iUxfrBLibMYHJ6qKdtGC2Svx49rKrzB1vUCsMQjHgH41GuhqW/u19B6ss4zX7qqagIQa8/kCxcvXiZgLTnLb6sIT1a+ntY3YzcGdIG+8XrmjMXs40rGMrN/caoOLKf/76C3PHNx9sWa+O1/XwP6TDEx22KD3hGhRDiD/0HGyUGYYDijAhDkC7yf3Hj8rUVcvMHVc8GHSxadPoBFjCAO0pAaxDJBk9ct5FKk7qi5z00LWvzCs5qF7/FV17qJuNV9bmmldE3tu8Th0nmtaqv1GKEGvUMPtDzxVG7BjP19a1Jz8cdL66ObHeENjxP+P14TN0UhtsRTdmYUyYOAG/i+GEIkyIAxBzvKxzN9UDWpfzIB6MchzdtzpQYF2jvSbqhRFT/fWCz1TDiR8NPt98hj1ofYnkkNq2r9TJZtqd/r2+g5QbWCegfWhYmqM7ZrtLjvB6fYkw3NH+hukDxMHBa+tWqJKi8T4sixHtXR35/LWzhIir2uCegbmiNfj8ONifOAHhk3BCESbEIb8acYlqvPG35YvUY5Qn+YsHOwFZ0qgJfmTuJ3Lm7Fn565irzSv+Qc9r1OXWBriigX4PN/ceoI6vr1upkqYgxlaRgwgjOxo3DFZKKyvVXi8/5UkaNCpBNrOrpMh7XjhAj2y4tf2J8Gdm6cjlXbqrY6A0j09k/2jiiP20hAmJDmDJfX/AMFVGU1BaItsOH/LqGR0oQwzLF99rmSHEvx01xm/3LiuoF65tww6dGa3fA9y0yFZ+3bBU8R4RO7VmgkL4gWdm9jpz5GJPP5nRGmRIA+3i9gXixcv2Fqre3HZ8nr9duaI9m5k4JVlNUqI7mtRM8bEjqid9uKAIExIAaLyBBCUkUGE0X207dOnpTZd3yXHcdhH0MKxOxKreN+O2wYCWm3ALW2Oqt/cbrJqIzNmx1RDK6h2ocsyEMM/krE1mZnQfj65gduAmA6VZF3X0P+0IjU7QO9uuv/beI+XKC3Bp567mTuDg/+ERligRBxw4ftSdVBgOKMKEBABiuA8PH+UuLaqtJdy/dZb6Hn++ZLy544ybevaTQZlt5dF5M2W6OUEoUPIOH3SXX2n6ZWSpBa7vUb0BBtzHEGzPuPBGwyJHnNqXe9kKkrOsZUm+GGo2Kvl6d/USLvB5wTZ1RIw+WNA/molZxAnFR48GPBQmECjChAQI5hVr12xtY8LgtYk3B9ztC27YV42vu7B9J/nFF5/K2xt9t530BbK77cYO3tl/iKpTtqv5hQXuKcJIkvKXzW0FFoWvrGgraHQCd7NdXHhe/jb1uetEr2DA581mHcQJ8HihYUe4oAgTEgTodQxqIwQaDDYIBgjVtAk3y5gu3WXS/NlqZGIgIBZtdxOBeO19PqZR5Rg3H9asbPSdRoJabwfxYHBh+85++0tbuaB9R1WmZO3xjP7SiwsL5JJOwbuiAWLCtISJExD2QUJhuKAIExIEsECDGZsYDl4cf52aIISZvK+udTYOUGdWow+1Hb7i091buDwAepjDJrOLWE8H8WDQobnzml49AGOJxSWNrG1QWxFG60r0xSbEH7gBPG7c+NESJiQK+cUFo82zyPO3sRPklj4D5clFc2XKN1+Zu77R3b48Y8I1oQc0aJe0blep48ihBDFvxJmtceF5+duVKxlTqGqDbl3JSUrEH/vNmvlMWsKEkJr4/UWXywNDLpC/Llskf1g8z9y1Z/vh4FpuIokM/XS1SxrxYLSeDLZhSU1AbBcX5qtz9O+dm79NLq4hs9oJOgZPlzTxhx692aqp7x7wtYUiTMg5xE+Hj5InRo2RV9bkKve0L2AJI0mqiWVMmxMaNmggXQ3r2WoJO40HBwPqhVFKhS5lK4p2K8v10k7BZ0Vr3EMc2LCD+EG3rKQlTAhxDIYx/G3sRNVwA5nTsCA9gQgH6orWoEc0aoVPnTmjYsu9HMaDg2FEe1dceJFhDc8r2C6NjJuAkFjCHGdIHKBFmHXChJCAuKpbT/nnuGtVDfHsvM3mbhU7Sg+55yQHCtpXYhISRg6i1abT8qRggOCjkxfiwl8YIow2n8F2ybKSlpiojkfojiZ+QMtKhFrYMYsQEjBju3SXAa3byGvrVpo7LjCaDSMZuwRZ44xpSkCPEuwdRksYYHjG3B1b1cCGULiiAZquAA5xIP6ACIczMxo4FuEZM2bJgw/+XB555HHJy3MlSnhSUlIqkyZNVs976qnnpKKCv+CERBJkTC/bs0vFVTX6PNhGI7CEwSfbNqr2j8HWOTsFpUoYHAFq06rSik4k09+XEDvQqCOc8WDgSIQhugUFhfL000/Kj350l8ycOddLYPH4tdfelbvvvkWmTPmLjB59oaxfv8m8SgiJBKgfhvsW4wM1usbXV41wTaCFX1JcnGrUEc54sAbJWQB9ugOdHeyLpqYlXFLJwf7ENxhj2CoaLOENGzZLp07tJTExQdq0cdUD7t1bfeA2HjdvniLZ2a5ZoEOHDlSLEBI5kP18Q8++8sHm9WoMI8Ac5FTDEtRzgoOhbyvX3wGMHAw3EF4kxlxai17RnjQwFsqUjp486dogxIa9R8sNSzi8ItzgrIF57pOXXpomAwf2c4uq52OQm7tKNm7cIlu35klZWbl06NBOHnroXiXc/igr8x6YfPy46+40Pt67IXxSkiuhghDijF3lpTJ++n/lyQvHyA05feT2me+qhKrXr/qO+YzAmbzkC3lz4xp5ZvQVMr6L/XD+UPLE4rkysVtvGdS6jblTe8a+8x8ZnNlW/nTROHOHkCoOV1bIyDdelEnnXyK39OovCQm1Twi0I2SJWUVFxUqAf/azB5Q7OjU1xZE7Oi6usdfSxMXFea1Gxp09FxeX89U5rYUMy2ovb29eox7vNEQZmdGezwtk9WjhckP3yciyvR7qNT67pwxt0972WrArJcGwhL89aXuNi+vwCZcx2DYlRT0OF44sYSRlgQkTxqvY79Spr8qVV45xu54BLOFVq9bKfffdoR5bvyZQiopc3Xiyspw1eieE+OeTbZvk/+Z8JK9P/K5876O35JcjLpF7BgwzrwYOypNu/+htWX//I+ZO7HHLh28qj8Db195q7hBSxYKdefL9T6bLezfcrqoMwoUjS7h37x4qMQsCrGPBiA1DeJENjazorl07S2lpuTrH8zZv3m6IaPjjRYSQmkHdMGLAv100Vz1GklNtQA/pcJcmhRtkSLNEifgC5Ukgq1kUZEfD4kVi1qOPPiHPP/9fZQV7xnrT0lJVRvRvfvMn9Ty4o5mYRUj0cGPPfqrWFgTaM9oTDFbACMVYBolZbFt57oAucPr32xffnj4ts/O2mI/8U3zsiErgywhziZIjd3RdQ3c0IaEHXa4uevUFdZ73wC/UsTagn3PLpPA1tg83f/zqC3l7w2pZe99PzR0Sy2DMZWllpUzo3svc8WbDgWJ5c/0qmTy65jDprxfMVlO7ltz1oLkTHkKWmEUIiW5Q5jOqQxfVCjIUxLIAA7ijj33LEqVzhcLyMtlozrf2xaaD+2WBOZO6JtA3OtzdsgBFmJB6xK19Bkp2WnBNOs419DjDUjbsOCfYVVYi6/YXm4/s2XzogGrAkW/pIOcLiDAa04QbijAh9YjLOneT89q6OlDVd9i68twC4ZZNDixhsGiXfetlK/vRsjLMSVmAIkxIPQP9pEnVTGFmSJ8b7C4vU4l2e4+4BvHboUUaozFr4sDxY3RHE0JIuNCTlJgh7c3xEMXKvynabZ6FH4znBOsOVG+prIE44/81ho4s3bPT3LUHLmvQOsyZ0YAiTAipl+iYcEklRdiTj7ZuNM9qx9+WL5K6KL9BVjQGioANB+xd0psOuVzRd/Ufqp7rT4iLTBHOSKIlTAghYUGL8BFawl5M37TGPKsdK4v2yKriPeaj8LH3SJl5VhX39WSzuf+9voPUcXFhgTraceC4q1EHY8KEEBImGBO2Z+3+Ilmzz96lGwjIQD5x+pTM2bHV3AkfO8tL1BGjNdf7yJCGOGOGNhLyRrbvLAv9lCohMxowO5oQQsJEYuM4dSxndnQ1lu3ZpY67ykrVMVi2Hj6gjp/tcNahqjYgKQuM65Ij+w0r9nDFcfXYyqZD+6RXS1er1ZEdOsvGA/vkkM3zADKjQWpC+Kf2UYQJIfUW9NMO1hJ+YPYH5plz0GUs2llqinCemegULFsOuUQYYr6thnaStQXjOlsY/y+HtGmnHnvWCyMGXFBaIj1buhrVoGkNWOwjS7rYsITR3KYuoAgTQuotqfEY4hC4Jfz2xtWqB/FmM9nHKSiNmVew3XwUneTuLVTHHSW1E+Gthw66a7HD7ZLebYhw+5RU6dPKNTRog0e9sP7/1NO0hLult1SZz77qheuqRhhQhAkh9ZbmCYlSfrK6JQxX5lw/olFo/MH/w6J56jzQ2CmGDDy7dKH5KPqABalbee5w0FXKH1sM4RuS1U7FaWeH2SUNd3S7lObSNK6JdEpN82raodtZ5rRopY5gVIfOPi3huuqWBSjChJB6C5KzPC3hN9avkh/Mel8W7rRP3Hl47scS16iRsvLW7Ntr7joDIgw37cfbQlMCFGp02U6X1HTJL6mdCEPEuxuiN7ZzdxV/9ddEo7bgZ3VsnqbOYQ2vP1DdHb3V+MxRH2wV1pEduqiGHHbeDIwxrIsaYUARJoTUW1KaJHiVKL2+fqU6/tAQ4iW7q9eSPr9iiSq5eXLUWBmU2TZgS1i7eJ9d+qU6RhtIykIG8bA27WsVE7ZanmO6dFPnc/PD45LWjTXamjHc3i1bqzi0tR3pxoP7veZfj2jnat/q6ZKuPHVKNfWoi25ZgCJMCKm3JBuWsLVj1gdb1qvkqdcnflcl8dwzc7o7RgrrCq7ksV26q3F5AzLbKCtKN4lwwnZDhPtmZCqXNsYoRhvLjfcKAe5sCDE+h2D7auukrO7prdTULiQ5zdmxTe15gp9R0+AFf+CzBDqRqrcZF7ZOVEKNsI4Ha5D53L91llcLSz3Mn5YwIYSEGbiU4ZLUvLw6V4nk+YaV9N+rb5LOqely9yfvKgvx4TkzVAbun8xZtP0y2qijp+vTF3BFg7v7D1Ox0n/kfqUeh5NAsrF1PBgDPuCOBjuCdElvNbOhdQwWNy5wdaOzlSfIMnfSy9kXWoQ7prrc0VqEdecs1CtXnPrWXZ5kZWT7LvJVYYGyfjUY5g9aN6MlTAghYSXF7B+NP9KwAmE9QSQBOmq9OuFmZRHd8uGbKu74p0uucNeO9svIUkencWHtisYoycfOv1j2GX/sX16Tq/bCxcztm8yzmtHx4OFtOyiXNND9mAMFMVhYwZoxhgiD+TurZ4b/+ev5SgSRxBUsmCMMtCWcmpCgzhGHBnBFg15meZIV1AsDDPB/cPaHctGrL8h3P3hD7bVOoiVMCCFhRbeuRHLWfw1BbJnUVLmaNagjhmsaf9Rv6NlPLu3U1bzi+mOPZCCnceE8M9u4c2oLGWxYwqM7ZssLK5aEbFiCHZ9scy7CsPZhAbcyPgOd5ORk7q4dcEd3b9HSfCTKxY2bF2up0sztm2XqqmXqXLeUDAaMMNQCrEFGtnZHQ+DjGzWWrulVr0cDjwQyqhGG+Hp3gfq6344aK5999x6VZV0XUIQJIfWWZFOE8QcbAvG9Pq6+wlZQL/rqxJvlNxdeau5UgZjiaoeW8PbDByWrWYokxbk6dT12wcWqHCqc1jBaNTptlKHiwYYVrIFoaRd6ICDGW3S0vJolDDDLGhnn8Doglv7YvE+Ui/jegcNVrBwtLoNhZ1mJtG+eaj5ygQxp3AjAzYzPwHpD4MlfLr1CPrrpTll5z0/khfHXyW19B9kKdrigCBNC6i26f/QUMz7ra9YyLMNmpuvaSv+MNkpwnMReIWjd0l1uXgCRmti9t7y0cpltrLS2oNYVguckZq3jwee3dWUMA1jFwcSEtehba3LBGEOEIbQzDev8/pnvSRPDOn3hiuukr+nWx01KMKBGGI06rOhMaAgxRBgZ074Yn93D3eQjElCECSH1FpQoAViz1+b0UYlXgQBLGDixhiHCXcxYq+bh4SOV+P1o9vs++xgHS74Zz/U12s+KNR6sQVxY938OBJ0Z7SnCiL+iX/fPv/hUuZD/PnaiciPrWO1m8+vs8NfHGrF1T3e0FvYlxvvCTVJOC+94cLRAESaE1FvSE6sa9N/Vf4h55hzEEAEmD/kDVinENju1ugjDgps24WZlrV39zsu1KtXxJL/UNVnIiSVsjQdrdHKWzj52CpKyILae1inisjoR6ifDRqqOVQAZ6LjmLy68YFee7ehB7S7XMWwNbqYQ339no6sMrIdNUla0QBEmhNRbkk1LGAk6urQlECAe+LqaLOG8EperVQublQvbd5IZN92pEpeumf6KvLsxNLN8dTa2r9F+VjzjwQDiCAJ1SW8xrGdfMViUKl3UsYs8NHSEueMCVrO/Pty4SZhj0/pyjzlHWDfqsNLfsIa1Ba0HN0QjjkV4xoxZ8uCDP5dHHnlc8vJ813RVVFTKU089p55PCCHRDDKcwe39AreCNSo5q9i/CCPxCPhK+IHV+L/rb1fxyV/OnyWTFsw2rwSPzmxGXNhfgpWOBw/Nam/uuHDXCvsoU9KdqjzZYli0vty/ozt2lb+NmWA+qgKWKrwBvoAIf57v3exDlyd18EjMAro5R/uU5sbNlnc8P1pwJMIQ3YKCQnn66SflRz+6S2bOnKvE1o65c+dLZRiSDAghJBzA4ruyaw/zUeAMaN1GiZi/gQewSlEO5S/mjKzpKeOukR8OPl9106qp9EmX9/giv+yw2wL0FxfW8eDz21W3hPF64dK1E3BkHd8+422vjGY0Pik9USk5HpnRGtz06LIwKz0MS7iksqJa4xQN4tK4Bpe+52eyq6xEfW52nyuargDPTlnRhiMR3rBhs3Tq1F4SExOkTRtXwHvvXu9fEC3Wo0ePNHcIISS6eXBIdddooDhp2gEhs3NF2/GDQeep44xtG9TRDrTKfC73K79Z1Zifi7IgxGfX+YlZw8qEJWnXphExbB1btoI+0HhP09Z8Y+64QDwY+CsJskPHbO1c0nq+MfjMwyWNBC87VzTQHbLsOmVFEw3OGpjnPnnppWkycGA/GTrUlb7v+RjAMp469VW58soxcvhwqRQVFcuECa72bv4oK/N2aRw/XqGO8fFN1NFKUlJVIgUhhEQDQ1/9p1zTradMOv8Sc6c6o9+aqgYG/GHkWHPHPw/PmynfFBfKolt/YO5U593N6+TJrz6Xl8ZdJyMsZUUaWOVXvzdNnh49Xt4wrOq4ho3klStvNK9WB88baFjzv7twjLlTxW+Nn7Fg5w5ZcMt95o6LH875UL4szFeNLuZ+5/vuucGvblgpf1m6UL3udLOzmBPKTpyQC15/Xn42bKTc1bd6aOAn8z6RdQeKDeu6pWHdl8isG+8yr4jc8OGbktm0qUwZM9Hcqc6I11+Q3xuf+SUds82d4ElICI9L23FMuCbghoa1nJ3tynhzSlxcY6+liYuL81qNGjXi4uLiiqrVp1VrQyj22V6rOH1K9h8/qqxKu+t2a0L3nnK4skKWF++2vf7GxlXqb+SWwwdtrxcedcVKu6S1lD4ZmbLBsDDtnrfu4D4l2Oe17WB7vYvxmg9UHFPvQe+VnjyhBHhMp+7KDf/C6mXua9tKDqsEs1ZNm7n3nKz0pCRliePrPa/lGp8BXt/YLjmyq7xU8o2lr+0sPyztUlKrPd+6UC/c23j/dtcCXeHCkQhnZmYoyxbA4q2sPCHp6VWBcOxt3rxd5sxZoJK3pk17W53DYq4JWLaeS5Oc3NRr2Yk2FxcXVyTXwMy2ylqzu7brqGuObk6rDNvrdmu8YVUjmejTHVu8rq0+UORO9Np8+IDXdaxdZtZwt5atpL9h5aI15u5j5V7PW2zGg0d37uZ1Dau78fWg0PK1nxW4Wk9OGnmJajby2vqVUmTcZODa9pKDamqSfm4gq4fxs5BZbd3badxMlBo3Ixe07ySXd81RP3d+4Q51reLMKeWWx+AG69dY1wXtO0vHtHTba4GucOFIhHv37qFivRBbHQtGbDg3d5VMmjRZJWI99thDMmXKX9S6446bZezYi+W+++5QzyWEkHMZHRe2K1XS2cVOY8KaK7r2kNl53mU5r61bKRlJzVQf6w0H7cuPkBmNAfZwF+taZrt64YW78lRiGQbe26Ffs7VM6cMtG1Tva2R0P3LeKLX39NIF6ohuWZ5NOpyC2K1nTHi5GQ9GExG8Rkx40qVKun7Zsx7ZyrU5vc2z6MWRCMPFDFfzo48+Ic8//18V90WSFiGEEIsI25QqQZgaNWig3KaBcHW3XqoPszUZCdnDmIyE9pr9Wmep5CuUIHmCpKlOzV0lRmiP2bhhQ69GIOhbjb1RHbqYO960SW6uXruuc4bwoTGJHnKBpKjvDxgmn27frIYg4LUEmpSl0b2mrUL89e6dqoGI7og1tks39Zrh3t9p1gC3S7FPzAJ1NRO4NjiOCSPJClbus8/+zh33RWLW5MmTJC2t+i8X9p0kZRFCyLlAm+QUJRZ2nbMQc0W7SohZIGCmMUTEOgnprQ2uWPDNvQe4+x3bddkqKCsxfqZLhBsaPxexUc8ypYW7dqjj6E6+k5bwmvHa8f3A9E1r1fGqrlWTpn40+ALlOn9i4Rz1OCc9uMYYun3l1kNVPaRziwplpOUmYVy2yyU9yxB93aijQ4A3N9GGYxEmhBDiG7hKP9q6QVlpVvIMS7hbkFN5YHHOy9+uEqDAW+tXy1XdeirB127mTebIPs1Rw3rGQAnd8QpAsDd4uKMx0QhJVNqK9wVc0rpW+KMtG1TZk25yAnD+wJAL3K8xJ0hLWDcy2WRawviZeB9IytLgpgSvd86ObSpJC6Mmk+K8q2hiCYowIYSEAAgR0BOZNMoS9ugZ7ZQJ3XqphhgYswiXLwT+tr6D1TXEhdFMw9MS1k1DrDFoiDBc2xj7p4ElfHFH365oDb4PhjKgtSXqcq+xibNiHCFGPsJtXBtRxI2FHvCP+mVgHSoBxhvWMBqMoB1nrFvBgCJMCCEhANYuJjGh25VOGtLj+bRrOFAgSmikMWPrRnl13QplLaLPtQbJTJ4JV9pqtQ410FazFuwVRbul/ESl33iwRlvUz3/ztRJYtNa045Hho4K2+DXotLXpgEuEIbTWeLDmsi7d1RGu/7bJKeo8lqEIE0JIiPjJ8JFy+uxZ+fvyxeqx7t/c1WKVBsoNPfrJl4bVmmtYond69LhGfTISv9BGUoNkLeDpjgZasL/c5er/f1EH/00sMAOgcq/rRmJRYb5yhVvBdT0n4LoefWWij2xklKuimqYm0GYT1n5B8T75YtsWGZ5ZdcOhQU9rncTVwWN6UixCESaEkBABq+22voNUbBgW6VbTEu7mo5eyJxAqz+E3yJIGzZrEe7mCtYX75/+84u7LgJIoqwBr8FxtCc/f6SpNssZ2PdE9IcYOHmTuiEw0s6J9oV9rsKDGGHy+K08qGpyVQT7i1WO6dFNHTysZ2H2G0QxFmBBCQgh6UTdp1EieXfqlsoRRxoPHTtBNkazAHY1mIDf07Kv6QFvRFm6PC4e4+zIgk9muJrmf8VwkcR2qOK6StC6uoZUjekKg8qVFSoqKP2c1S1HJZ+FE95B+e8s6dRzSuq06eqKzpO1qhO0+w2jGUe/ouqaoyBUTyMoKLtWdEEIiybNLF8rzK5aoxCmU3vz36u+YV3wDCw7dBkHz5inys589IIsWLVHW6Fub18pwQ5Duv+l6eeaZf0pZWbnEx8erqXY3zP9IejdOkpvS26vS0F4vPi39zybIwCMiu3btdn+v2XsL5NcLZkufI2dlfXIDGXvgjPzx/36khFa5nY2fs2zZSsnJyVaCjr2srExVcnrtWy9L5Y49kl1UlfmNpkxa8HRJKr4G3RJBv3693DcG2kpfu3ajOqKZk6+v+XfjMnWj0OxsQ1lw631eJbCai159Qe5sliUrvliiHuP1AM/PEOjPTO/he+J56Hfx5Zeur7e+prqEljAhhISY+wadp4YaoMQGdbZOgNhBCLCs/RfQrfDNRx+TX9z/fZk7d6ESEfRsuPnma2XevC9Vctaeb13TlPYdOyInTp8WOVwu119/lXpex47tlJh3TXHFT/NS41Rpz89u+64hgFVzi/Fz/vCHXynhhCu6uHi/dO3q6gnRoPSo3D/yYvX99Gu0DvABuIlA+2KMvMXzgKdbGPu///0vZc2aDWrqHlZiYqLax9fhRqCT2WAj67R/ebq4bSc5sL1QfT98bX7+TunTp2e1zzAhIUFee+1dufvuW9TPwFG/5xMnTkhpaZnXa6prKMKEEBJi0LxCjyTE4Iba0KNHV3eHwptumqgEVffoB7C0d508rs51e8kOyanusbPo/Q/ST55RRwxjSCwulb/+9UXZt++AElxg/TlwRcPSxo0Arnc4fkbaJjZT1wAE2pNVq9ZW+x6YtAdR1t8fjwG+Z+vWrdS0PTR+GjJkgGp/jI6MO3fuli7JrpuFrNP+Xfj3DbtAUlNTlJWL1sk33XSN+2dr8D7wPfFe8Zl5vme711TXUIQJISQM3N5viCqxyU6vnQhb0W5dWG/a/drbjAvvOVnhzsZOE3sBSzvl6tr16I03qO+Bnv+ewgUwQ75XL1fcFdcfumaivP32B0rI4LK+8Ub70YGBAstzypR/K+se1iys9s5mslXbM/7lCbF2WO34Wgixr4FBEGpYuni//t5zpKAIE0JIGEho3Fh+PPRC6ZpWu9pZDaw3uGsxUAfA8gQoUwJ7v61QjTqaNo6TJJs/7bCMM8Q1DWhke//1wZWVJ92uaLB48TIVf4aI2bUqBp6Wr6dlrOPHEN6dOwvVJD5YnrBA8f1gte7bt9+whFOlVWKSpNQgwiUlpbJo0VL1tRDi0tJytWcF7xkWPbwHdti9prqm0W8NzPOo4ejRY+qI0YWEEBKr9M3IkqS46hnN/mhsCPf//vexzJkz3xDBTnLggKvEKSfHNWoQIvXGG/+TTz/93NjrKkirveT8YfLCN19LiiG+pQ3OSCNjs2uFyODB/dXXbNmyXX0PxEuPGNe3FOyULe/MVt9j9+69xvMGuJ+DnwMh27Fjp3ITa/C3GMN7Pv7Y9XXz5i1Srw+vd+bMueoc3//QocPy4ouvqOdAXG+55Qb19evXb1ZuYMRnly79Rm6++Tr1fIyunTVrnnzwwUxDhIuV63xwjxzZe6pSkveVG6+jQL0+O/B8fE5vvfW+zJ+/WIYPHyQDBvSt9hniJuDCC4fL9Okz1M+wvucVK9bI9u356pr1NdU1zI6uZxw+XCZnzpyRli1jv8g9FsDvcuvWLaVhQzqdwg0soW+/PSWtWgXXnSqWuf5/r0oj43ds/7GjMiizrfy/MVe7LniwsniPfFVYIA8NHWHueGPNigYQ5enTP5LbbvuO26qF63f8+DFKNMMxa3eV8TpRlhVO8B5gvXsmmNU1FOF6BkW4bqEI1x31WYQfX/iZ/G/TOtVn+qfDR7n7WHuCzloYS6jjyE6xlhEBV3b0YOPviGtgfjjx/NlAl2fpiX7BQBH2A0U4fFCE6xaKcN1Rn0UY/aonLXCV3vxj7ES50qO9ZDjA73ZdiPC5Dv8yEEJIjKPbV4LOQQ6LIJGBIkwIITEOGnZgeD8IVTY2qRui2h1NCCHEGXfO+1DKT56Q98fX3CKTBE64wqNRKcKAQkwIISRaqHciTMIDE7PqFiZm1R31OTErEjAxKzTwLwMhhBASISjChBBCSISgCBNCCCERgiJMCCGERAgmZhFCCCERgpYwIYQQEiEowoQQQkiEoAgTQgghEYIiTAghhEQIijAhhBASISjChBBCSISgCBNCCCERgiJcDykpKZWnnnpOHUn4mTFjllok/PB3u27h73btoQjXA156aZpaJLzk5eXLI488Lg8++HMlBBUVleYVEg7wO43PGotCUDfk5q6SSZMm8yYnhFCEz3Hwh2rt2o3mIxIu8Efpvfc+kV//+qcyZcpfJDU1RebOnW9eJaEGYpCZmaE+69///peyefN2CkOYwec7e/Y8ad48xdwhoYAifI5z3313yB133Gw+8gb/sHBnS0uidqSlpcpjjz2kjgACYQc+Z1oStWfo0IEyYcJ4dX74cImUlZWpoxX+boeW6dM/kosvvlDdYNrB3+3goAjXc/AP65prrnD/QSO1B25oWGZZWZnmjgu4qwsKCg1r+RG3WJPg0e5/lwfiZ5Kd3dm84oK/26EDngcwZMgAdfSEv9vBQxGux8yYMVsdYVWQ0AE3NKwF6+daUlImb775nlx55RhJTEwwd0ltgOg+++zv5Prrr5JnnplSzQLj73bowOc6f/5iufHGieZOdfi7XTsowvWUsrJyOXHihDrXd7mk9sAlByv4ttu+Y+64QFz+vPOGyMyZc5mwFWIgxq1bt5Lt2/PVY/5uhxZ8rrt27Zbf/OZP8uijT6jf5T/84f8p6xfwd7t2UITrKUiuwJ3tpZeOkiVLcvmPJwRAgJctWyn33nubl0Vw0UXny5gxF0tCQrysX7/J3CXBgs9aCywstX37Dkh6ussNyt/t0AJvAhLgsJ5++knp16+XSkDU7n/+btcOivA5jE5MmTbtbXW3ilIOT8sA/5A6dWovzz03lX+sagE+awgwrDBYDPis7ZJUIA4ffvgpLbRa0rt3D+UixeeMz7t//95eMWH+btct/N0ODg71J4QQQiIELWFCCCEkQlCECSGEkAhBESaEEEIiBEWYEEIIiRAUYUIIISRCUIQJIYSQCEERJoQQQiIERZgQQgiJEBRhQgghJCKI/H8OP7UoHrQy4QAAAABJRU5ErkJggg==)\n",
        "\n",
        "![image.png](data:image/png;base64,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)\n",
        "\n",
        "![image.png](data:image/png;base64,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)\n",
        "\n",
        "![image.png](data:image/png;base64,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)\n",
        "\n",
        "![image.png](data:image/png;base64,iVBORw0KGgoAAAANSUhEUgAAAeMAAAEkCAYAAAAcmlk0AAAAAXNSR0IArs4c6QAAAARnQU1BAACxjwv8YQUAAAAJcEhZcwAADsMAAA7DAcdvqGQAAC0XSURBVHhe7d0JfBRlnv/xHyTkAAIhCIQgCnIqxxoFEWUEHBSFAcIRUEQDu8owCDOio+NfZ5zRWXdUWN0RdBUcJIgsGAIBDBpQARGBQcFBUA65IRCOkBDJwZH8+/ekKjShAx2S0NfnzateVV2/7k6q6dS3n6ee6qpW5CAAAMBjqltzAADgIYQxAAAeRhgDAOBhhDEAAB5GGAMA4GGEMQAAHkYYAwDgYYQxAAAeRhgDAOBhhDEAAB5GGAMA4GGEMQAAHkYYAwDgYYQxAAAeRhgDAOBhhDEAAB5GGAMA4GGEMQAAHkYYAwDgYYQxAAAeRhgDAOBhhDEAAB5GGAMA4GGEMQAAHkYYAwDgYYQxAAAeRhgDAOBhhDEAAB5GGAMA4GGEMQAAHkYYAwDgYYQx4CEv/ed/yeChD8qx48etNQACFWEMoFxWrV4tXe68y8wBVA7CGAAADyOMgQr44MPZF7UStfu51319Zeu2bWZZ6/ak978S+jw62T9Pl5XdStXJ/pk2vc/jv31C8vLyzG19rPN9dL3W7cfbk70tzr+78/MAqHyEMVAB99/XW65t0kSWL19pbmtgZRw5Ind1u1OuueYas27FZ2mybvWX0vf++yTxgw8vCMzySP3kUzPX53rhj8+Z0Pz9M/9PJr32N7NOf+bzf/qL28egJ/73G2auv1/i9GkSERFhnusXd95pgvtfm76X1EULTF3Nm7/AzAFUPsIYqIBr6teXf+vYwQSwBvHefftk2/Yd0rNnd1PT0AwPDzf31XU5OTly9Ngxc7u8NPQ1/JX+rDlzk6TTrbdIp1tuMeuGxg+W7JMn5ZNPi8PzUuwPDY0aNjS/n35wqFunjuzZs9eEecrCxRI3oJ/ZBq3f3uU2Wbvun7SOgSpCGAMVpCGrAaxBvP6bb02o3di2ralpeNldwdqKrSyncnPl8OGMkjBVdqDu3r3H3L4UfYw+1v4QcczxAaGoqEg6d7rVLGuoT3n7nZJual0GUHUIY6CCNHg1BFesXGVaj9pS1haldkf3GzjEhJ52I2sXcGWpVbOmREc3KglTZYdo8+bNzO3LGfubX5tA79GrtyT8+2MyMK6/tG3TpiTUx40dY35ve3rrzf8pCX4AlYswBirI7qr+fvNmE27aUlbaHa3d0vZt+7hyZdBQfGBYvHzz7Qb5ZsMGs+6jpGQTonZXtoay/j7aira7np29/b/vmq5oO2wffmi4Wa/bo+udj2+b1jPnQwNVhjAGKoEGrgajsruo9ViuHtPV7mnt6m3fvp057mvTxxw4eFD+/OJfr+hYrA600ta2/fxffrVaXv7rX0yYKjuU+/YfKL/+zTh5aPgD5rZNf75zV7RO9peQaDAnPPyQaTHrem09a3g7s3+uTqVHcgMon2pFeqAIQEDRwNWAfuJ340yoKw3Tcb97Uv78p+dK1gG4OmgZA17APn+49FRVLU77+LKOnrbp4DPVwDolC8DVQ8sYCFD2eco2Pc94yt9fN4O4AFxdhDEAAB5GNzUAAB5GGAMA4GGEMQAAHkYYAwDgYYQxAACXce7cOZfTpEmTXK53ntxBGANeLv1klvSb/paZA/Aeb7xRfBlSe14RhDEQIJ5Y+JH8c//lr+gE4PJKB3BFA5kwBgJATkG+HM45ad0CUBFlBW9FApkv/QCq0DnHn9ex3J/lXOGl/8xq1qghkWGuL0+o3dO/nvehWd506KDUCgmRGQ+MlNuaNjO1uBnvSIYjaJ3Xawt42tqvHAGcLRk/50ibBo3ky107zHPc2/ommRY/wiwDcI+7x35dCQoKspbKRhgDVWh9+n7594+TJPfMaWuNax0aRssHAx6UiJBQa815duA+d/d9Etf+ZknZ/J3845+rZfZD/yGvrVgqv+l6l8TUiTTrU3/cbIJWw/jx+f8nbw160ISztowfS5olT3bvZW4DKJ+qDmO6qYEqFBEaKo1rR0jDmrUvOUXXriPB1cv+c2zkeI7brisOUXuuAfvX3v3lg2/XyfUvPye/W/iRWW9rUb+B3OgIeQDejzAGqlDb+g1l6fDHZM2ocZec3rl/kIQH17Ae5T5t7aq9z/+X/H3AULMMwPcQxoAP+Pn0aTmQXXxqk7aEVTXHP20d92xZfJUl7aIGUPV0oFZZ05UijAEfoN3Uf0hdYLqjk7/fKO8OeUga16krsU2aSvzMqWZ9dEQdM4jLlYjQsJL76jnLGuIArsyECROspQuVtd4dDOACAOAyXA3gcm4JXyqIGcAFAEAVsQO4Ii1iGy1jAAA8jJYxAAAeRhgDAOBhhDEAAB5GGAMA4GGEMQAAHkYYAwDgYYQxAAAeRhgDAOBhhDEAAB7mN9/AdejQETNv3LihmQNw7buMdElYNFd+Pl1grbky9cLCpXZIiNSqEWouUKHLtWs4boc4bjvmEY55zRo1zHJxPdS6vzVZ96/pmIBARxgDAWTl3l3ym0/mS4t69SWx/zCJCq9pVYrpzkBD+tTp0/LzmdPFc72ty45JL+Volh3rztd13YWPMfd1TOcKC4uf+BKqV6tmAvl8mNth7QhvnVvrTJhfUL/w/lrXDwD6fICvIYyBALFw+xb5/WcfS+fGTeUf/eIlPLiGVak6+WfPWuGt4Vwc2HaoO992DnI7/J2DXed5Z89Yz3ppoUHBTgHtHNxOLXOnAC+pm/vo+uKWvq7Xlj1wNRDGQAD432/XyKS1K6VX81by1n0DJbi67w0X0R2VXoe5dHib244px2rRX1x3tOJL399x33Nu7PrsVrsGc4QGtBXSpVvtxfXzIW7C3ammAV8nlFY7ykYYA35M/7j/vDJNPty8UR5qHysvdu8txEExu9V+Qbe8Fdh2q91Vt7x5jE5O4a/P5Y6yW+16+3wrvbju1Go3t3U9rXZ/RRgDfupsYaE8/ukC+Wz3Dvn97d3lN7d2tSqobIWO3WjJsXVHQOfYIe7qWLoGe0m9eL1d11quY7m8rXbTxW6FtKtWe3H9wnC3axrwEY5WexCtdo8ijAE/pMdX/2Nxkqw/tF8m9fqVDGjdzqrAF+j/nx3eOs8p4/h68e0Cp/AvXu98PL4yWu0lAV9SvzjY9Zi8XafVXn6EMeBnMvNyzalLO08cl/+9f5B0v/4Gq4JApK125+PpdqvcuSVfHO7Ft88fXy9dd0yOuT7f5ZRutZfMy2i1F8+Lw9xbW+3a06SqarwFYQz4kYM52fLggtlysiBfPhjwoHRoGG1VgMqRe8bRai8J51LH0jW4nULcXlc8Px/2dr3gnHut9pCgoJLWuKtW+0WhfkH9wvVX0mp/adUySdz0rYQFB8ujsbfJhNvusiqVhzAG/MQPxzJkpKNFXMOx49IgviEyyqoA3isrP79Ut/oZydZR805hXrrlbod56YB3l3N4m9C+KOjPt+B3ZR2X+du+l7wzZ00YXxtRV/70i17SrWlz69kqB2EM+IF16fvksY/nSaNatWX2wIekQc1aVgUIHM6t9pIR8dbt4tAuHehlt+xPnztnPet5GsaRoeHyeKc7ZHj7WGtt5SCMAR+X+tNW+W1aisRGN5Hpv4qXOqFhVgVARWTl58nne3+Sv6xcJrmOoA6rESwxtevK3+6+Xzo1vta6V+XgQhGAD9Pzh3/nCGIdpPVh3IMEMVCJIsPCZXCbDvLEbd2kXni4uf0fN3eu9CBWtIwBH/Xfa1fK29+uMact6elLfLsT4LtoGQM+Rk8teXLZYhPEY2/tKq/f048gBnwcYQz4ED0V5NHUJFm0fYu81L23PHV7d6sCwJcRxoCP0C9uGDZ/lqzev0fe6TPYfNc0AP9AGAM+4GjuKRmUlCi7TmTKzAEPmKsvAfAfhDHg5XZlZUpc0gzJKsiX5CGPSJeY66wKAH9BGANe7Psjh02LOKhadUmJT5BWUddYFQD+hDAGvJQeG9ZjxE3rRJogbhJR16oA8DflOs940aJPZOnSFRIaGipjx46SFi0u/G7OvLx8mTx5muzbd8DcTkh4QDp3Lh5kYtfatm0p/fvfb9bZLlVzF+cZw58s3L5Fnv7sY+nUuKn8o1+8hAdzSTrAn7ndMt65c7fs2bNfJk580QRxauoyE6LOli1bLj17dpMpU16VCRPGyJo16819Sod0afq4/PwLnwsIVO9sWGvOI+7ZrKUZrEUQA/7P7TDesmWrNGvWVMLDwyQmprFZl55+yMxt2qq1W8KZmVmSkXHUhKw+5plnxsu99/YwNWd2yPfs+QtrDRCYtIvqhZVpMnHNCnPakp6+VFXXTgXgXdzupp46NVFiYzuWhG3p27b16zdKYuIc6djxJhk9OsFaW0y7uZXdFa0t5mnTZkrfvveY8D506LBb3dQnT/5sLZ136lSumYeFhZq5s5o1w60lwDvphcuf+HyxfLF3pzzRqZuMvvk2qwLAW4SGhlhLla/SP3ZrOGs3tQb1a69Nvqgr25l2T2tru/Sx58sJCqp+0WSr7mhJlJ6qVavGxOS1U75+q9aSZFm5b5e81rOP/Dq2i8v7MTExeXaqSm63jJ1btc4t2rKC1NV9Sj+Hq+PIrlrU7mAAF3xRZl6uJCyaKztPHJdpfYfInU2bWRUAgcTtlnG7dm3NsV0NUftYsR471m7p559/WU6cyDLd03oMWOl9srNPSlRUPXO7NPs4sraiddKR13pM+UqCGPBFB3OyJS4pUfafzJK5g0YQxEAAq/CpTRrGKSlLZNy4RyU3N1emT59tQljZpzZpQL/99vtSUFBg1rs6NUqfx91jxq7QMoYv2ZF5TIanzJaQoCD5YMCDckNklFUBEIjKFcbejDCGr1iXvk8e+3ieNKpVW2YPfEga1KxlVQAEKs6bAK6iz3bvkEcWzpEb6kXJ/PgEghiAQRgDV0nSj5tkzJJkc2xYjxFHhFx8Gh6AwEQYA1fB6+u+lGe/WCL9W7eT9/rGS2hQsFUBAMIYqFKFRUXmqy3f+uZrGXtrV3n9nn5SvYrPVwTgewhjoIoU6Jd5pCbJou1b5KXuveWp27tbFQC4EGEMVIGc0wXm8od6GUT9jmn9rmkAKAthDFSyo7mnZFBSouw6kWmuutSreSurAgCuEcZAJdqVlSlxSTMkqyBfkoc8Il1irrMqAFA2whioJN8fOWxaxEHVqktKfIK0irrGqgDApRHGQCXQY8N6jLhpnUgTxE0i6loVALg8whiooIXbt8ioxXPl5kYx8tHgERIVXtOqAIB7CGOgAt7ZsNacR9yzWUszWCs8uIZVAQD3EcbAFXphZZpMXLPCnLakpy8FV+fPCcCVYe8BlNPZwkIZn5YiH27eKE937WG+0IPv1AJQEYQxUA55Z8+Yqy6l7dxmvtpyzC23WxUAuHKEMeCmzLxcGZo8S77LSJf3+w2TAa3bWRUAqBjCGHDDwZxsiUtKlP0ns8zlD/UyiABQWQhj4DJ2ZB4zQXyuqFDmxydIh4bRVgUAKgdhDFzCuvR9MnjeTIkMDZOU+JFyQ2RUcQEAKhFhDJThs907zGCtG+pFmRZxg5q1rAoAVC7CGHAh6cdNMmZJsjk2rMeII0JCrQoAVD7CGCjl9XVfyrNfLJH+rdvJe33jJTQo2KoAQNUgjAFLYVGR+WrLt775Wh7vdIc5j7h6Nb7OA0DVI4wBh9PnzsmjqUmyaPsWeeXuPvJkl7usCgBUPcIYAS/ndIEMT5ltLoOo3zEdf2NHqwIAVwdhjIB2NPeUDEpKlO3Hj5qrLvVq3sqqAMDVQxgjYO3KypS4pBmSVZAvyUMekS4x11kVALi6CGMEpO+PHDYt4qBq1SUlPkFaRV1jVQDg6iOMEXD02PCw+bOkaZ1IE8RNIupaFQDwDMIYAWXh9i0yavFcublRjHw0eIREhde0KgDgOYQxAsa7G9aa84h7t2hjBmuFB9ewKgDgWYQxAsILK9PktTUr5KH2sTK5d5wEV+etD8B7sEeCXztbWCjj01Lkw80b5emuPeSl7r2tCgB4D8IYfivv7Blz1aW0ndvMV1uOueV2qwIA3oUwhl/KzMuVocmz5LuMdHm/3zAZ0LqdVQEA70MYw+8czMmWuKRE2X8yy1z+UC+DCADejDCGX9mRecwE8bmiQpkfnyAdGkZbFQDwXoQx/Ma69H0yeN5MiQwNk5T4kXJDZFRxAQC8HGEMv/DZ7h1msFbr+g1Mi7hBzVpWBQC8H2EMn5f04yYZsyTZHBueHTdcIkJCrQoA+AbCGD7t9XVfyrNfLJH+rdvJe33jJSQoyKoAgO8gjOGTCouKzFdbvvXN1/J4pzvMecTVq1WzqgDgWwhj+JzT587Jo6lJsmj7Fnnl7j7yZJe7rAoA+KZqRQ7W8mUtWvSJLF26QkJDQ2Xs2FHSokVzq1IsLy9fJk+eJvv2HTC3ExIekM6dY82yXWvbtqX073+/WaemTk2UTZt+MMvO9y+vQ4eOmHnjxg3NHP4p53SBjFr8kXx/5JC8dd9A6dW8lVUBAN/ldst4587dsmfPfpk48UUTxKmpy0zAOlu2bLn07NlNpkx5VSZMGCNr1qw39ykd0jYN9+johiX3//TTz+XEiSyrClzoaO4pGZSUKNuPHzVXXSKIAfgLt8N4y5at0qxZUwkPD5OYmMZmXXr6ITO3aYvXbtlmZmZJRsZRyc/PN4955pnxcu+9PUzNpve3W8lRUfVMixtwZVdWpsQlzZCsgnxJHvKIdIm5zqoAgO9zu5tau5NjYzuWhG3p27b16zdKYuIc6djxJhk9OsFaW0xbwsq5m9qmj1u+/CsZP/4xE96XkpV10lo6z26l16hx8TVqa9XiAvK+bMuxDHn0k2SJdLwv/nHfEImpXceqAMDVEx5edQ3GSg9jm6twLSuMtWt6ypT3ZPjwwRcdh3aldPe4sgO6Tp3aZu4sNDTEWoKv+frAXhnz6QLzbVozfjVUIsMu/UENAKpKcHCwtVT53A5j5yDVMJw2bab07XtPmeHp6j6uwliDeNKktyQurk+Zwe4OBnD5n4Xbt8jTn30snRo3lX/0i5fw4It7PQDAH7h9zLhdu7ZmAJeGrH2sWI8dawv4+edfNqGq3dM60EvpfbKzT5pjwWWxg7hLl1sqFMTwP+9uWGvOI+7doo0ZrEUQA/BnFT61ScM4JWWJjBv3qOTm5sr06bNNCCv7VCUN6Lfffl8KCgrMevvxOihMn8+ZDvJydUz5cmgZ+48XVqbJh5s3ykPtY+Wl7r2ttQDgv8oVxt6MMPZ9ZwsLZcKyRbLkp63yTNce8utbbrcqAODf+AYueIW8s2fMVZfSdm4zX21JEAMIJIQxPC4rP1+GJs+S7zLS5f1+w2RA63ZWBQACA2EMjzqYky0D582Q/SezZO6gEeYyiAAQaAhjeMyOzGMSl5RoLvwwPz5BOjSMtioAEFgIY3jEuvR9MnjeTIkMDZOU+JHmSz0AIFARxrjqPtu9wwzWal2/gWkRN6hZy6oAQGAijHFVJf24ScYsSTbHhmfHDZeIEC4OAgCEMa6a19d9Kc9+sUT6t24n7/WNl5CgIKsCAIGNMEaVKywqMl9t+dY3X8vjne4w5xFXr1bNqgIACGNUKR0p/WhqkizavkVeubuPPNnlLqsCALARxqgyOacLZHjKbFm9f4+802ewxN/Y0aoAAJwRxqgSR3NPyaCkRNl+/Ki56lKv5q2sCgCgNMIYlW5fdpbEJc2QrIJ8SR7yiHSJuc6qAABcIYxRqb4/clgGOoJYR0qnxCdIq6hrrAoAoCyEMSqNHhseNn+WxETUlQVDRkoTxxwAcHmEMSrFwu1bZNTiuXJzoxj5aPAIiQwLsyoAgMshjFFhUzesNecR927RxgzWCg+uYVUAAO4gjFEhL6xMk1fXrJCH2sfK5N5xElydtxQAlBd7TlyRs4WFMj4tRT7cvFH+0LWHvNS9t1UBAJQXYYxyyzt7xlx1KW3nNvPVlqNvud2qAACuBGGMcsnKz5ehybPku4x0eb/fMBnQup1VAQBcKcIYbjuYky0D582QdMd87qAR5jKIAICKI4zhlh2ZxyQuKdFc+GFB/Ejp0DDaqgAAKoowxmVtPHxQBs+bKZGhYZLiCOLr6kYWFwAAlYIwxiV9tnuHufJS6/oNZH58gjSoWcuqAAAqC2GMMiX9uEnGLEmWrtdeL7PjhktESKhVAQBUJsIYLr2xbpU8+8US6d+6nbzXN95c+AEAUDUIY1ygsKjIfLXllG9Wy7hOd5rziKtXq2ZVAQBVgTBGCR0p/WhqkizavkVeubuPTOjyC6sCAKhKhDGMnNMFZqDWmgN75Z0+gyX+xo5WBQBQ1QhjyNHcUzIoKVG2Hz9qBmr1at7KqgAArgbCOMDty86SuKQZklWQL8lDHpHY6CZWBQBwtRDGAez7I4dloCOIdaR0SnyCtIq6xqoAAK4mwjhArd6/R4bNnyUxEXVlwZCR0sQxBwB4BmEcgBZu3yKjFs+VmxvFyEeDR0hkWJhVAQB4AmEcYKZuWCtPLVssvVu0kZkDHpDw4BpWBQDgKYRxAHlhZZq8umaFDG8fK5N7x0lwdf77AcAbsDcOAGcLC2V8WorM3rxR/tC1h7zUvbdVAQB4A8LYz+WdPSOPLJwjaTu3yZuO1vDoW263KgAAb0EY+7Gs/HwZmjxLvstIl/f7DZM+LdtaFQCANyGM/dTBnGwZOG+GpDvmcweNkDubNrMqAABvQxj7oR2ZxyQuKdFc+GFB/Ejp0DDaqgAAvBFh7Gc2Hj4og+fNlMjQMElxBPF1dSOLCwAAr1WtyMFavmKLFn0iS5eukNDQUBk7dpS0aNHcqhTLy8uXyZOnyb59B8zthIQHpHPnWLOspk5NNPPRoxPM/EocOnTEzBs3bmjmgeiz3TvMqOl2DaLl/X5DJSIk1KoAALxZhVvGO3fulj179svEiS+aIE5NXWbC19myZculZ89uMmXKqzJhwhhZs2Z9yX00iDdt+sEs48ol/bhJxixJlq7XXm+uvEQQA4DvqHAYb9myVZo1ayrh4WESE9PYrEtPP2Tmtv797y9pCWdmZklGxlHJzy8OY20Na0sZV+6Ndavk2S+WyJAbO8p7fePNhR8AAL6jwt3U2rKNje1YEralb9vWr98oiYlzpGPHmy7qjtbaxo2b3O6mPn78hLV03unTZ8w8yEUQ1a5d01ryL4WO/7rnvlwqqbu2yq//rYuM4xxiAKgyNWuGW0uV76qFsU2Dd/nyr2T8+MdMa9peV54wtoPXmR3Q9epdfPWhGjX87/uXdaT02LQFsmrfLnm5x/0ypG0HqwIAqApBQVU35rnCYayDt5R2Retx4GnTZkrfvvdcNIjL5uo+5Q1jVwJpAFfO6QIZtfgj2XL0sPmO6V7NW1kVAIAvqnDMt2vX1gzg0pC1jxXrsWMN2Oeff1lOnMgy3dM60EvpfbKzT0pUVD1zG+VzNPeUDEpKlO3Hj5qBWgQxAPi+Kju1ScM4JWWJjBv3qOTm5sr06bNNCCv71CYN6kmT3ipZr0qf9uSuQGgZ78vOkgdTPjRd1BrEraKusSoAAF9WKWHsDfw9jL8/clhGLpojdcLCZNaAB6VJxMXHxgEAvolv4PIBq/fvkWHzZ0mMI4AXDBlJEAOAnyGMvdySn7bKqMVz5eZGMfLR4BES6WgZAwD8C2HsxaZuWCu/TUuR3i3ayMwBD0h4sP+dogUAIIy91gsr0+TVNStkePtYc/pScHX+qwDAX7GH9zJnCwvNxR5mb94oz97RU17q3tuqAAD8FWHsRfLOnpFHFs6RtJ3b5E1Ha/ix2C5WBQDgzwhjL5GVny9Dk2fJdxnp8n6/YdKnZVurAgDwd4SxFziYky0D582QdMd87qARcmfTZlYFABAICGMP25F5TOKSEs23ai2IHykdGkZbFQBAoCCMPWjj4YMyeN5MiQwNkxRHEF9XN7K4AAAIKISxh3y2e4cMT5ktres3kPnxCdKgZi2rAgAINISxByT9uEnGLEmWrtdeby74EBESalUAAIGIML7K3li3Sp79YokMubGjvNc3XkKCgqwKACBQEcZXSWFRkQnhKd+slvGd75RX7u4j1atVs6oAgEBGGF8FOlL60dQkmffjJhPCT9z2C6sCAABhXOVyTheYgVprDuyVd/oMlvgbO1oVAACKEcZV6GjuKRmUlCjbjx81A7V6NW9lVQAAOI8wriL7srMkLmmGZBXkS/KQRyQ2uolVAQDgQoRxFfj+yGEZ6AhiHSmdEp8graKusSoAAFyMMK5kq/fvkWHzZ0lMRF1ZMGSkNHHMAQC4FMK4Ei35aauMWjxXOsVcKx8NHiGRYWFWBQCAshHGlWTaxnXy27QU6d2ijbkEYnhwDasCAMClEcaV4IWVafLK18tlePtYmdw7ToL4Mg8AQDkQxhVwrqhIxjtaw7M3b5Rn7+gpL3XvbVUAAHAfYXyF8s6eMceH03ZukzcdreHHYrtYFQAAyocwvgJZ+fkyNHmWfJN+wBwf7tOyrVUBAKD8CONyOpiTLQPnzZB0x3zuoBFyZ9NmVgUAgCtDGJfDjsxjEpeUaC78sCB+pHRoGG1VAAC4coSxmzYePiiD582U+uE1JcURxNfVjSwuAABQQYSxGz7bvcNceal1/Qbme6Yb1KxlVQAAqDjC+DKSftwkY5YkS9drrzdXXqpVI8SqAABQOQjjS/iff66SZ79YIkNu7Cjv9Y03F34AAKCyEcYuFBYVmRCevH61jO98p7xydx+pzrdqAQCqCGFcio6UfjQ1Seb9uMmE8BO3/cKqAABQNQhjJ6fOnDYDtdYc2Cvv9Bks8Td2tCoAAFQdwthyNPeUOXVp+/GjZqBWr+atigsAAFQxwthhX3aWxCXNkKz8PHPqUmx0E6sCAIFt0aJPZP36jdati2ldp8uZOjXxks9T2okTWfLaa5PNPBAEfBh/f+SwDHQEsY6U1i/zaBV1jVUBgKtPA8udcCtNw06nypSXly/5+QXSvv2N1hrfcKWvoScFdBiv3r9Hhs2fJTERdWXBkJESXTvCqgCAZxw6dNhaKp/RoxPMVJnS0w9JvXqREh4eZq3xDVf6GnpStSIHa9mnHTp0xMwbN25o5pez5Ket8sTShXL7tdfLu30GS3hwDasCAJ6hLbrExDlmuW7dOvL73z8uq1atMa3Tdes2SJs2LSQ+foBMmvSWZGeflNDQUBk7dpS0aNG8pCXYv//9snPnbvn88y8lK+uk7Nt3oOS5NFi129d+vPN6fbzzz9Fg13WNG0dL586x5jnffvt9KSgoMD9HJSQ8UBJ8+nOVPmbp0hVmuWPHm0o+INit9k2bfjDze+/tccnH6O85bdoH8thjD5vfryzOj9XfR5V+DZWrbdb76QeNL79cY+7j/DtddRrG/iA9PcNM7pi6YW1Riyl/Kxr36YKis4WF1loA8LyFC5eYyabLr776ZlFubp65PXduSlFm5gmz/M9/bih6990ZZtn5cT/9tKvouef+auZK76M1fY6///3dkvU6nzHj/8xy6Z+jc32c/bN0WX+ecv5Zzstad34O++fayzopfc6XXppofr5OS5cuN+udfz+9jz6X/fNdcb6PPnbu3AVm7vw7OT+nct7msn4nTwi4buoXVqbJK18vl+HtY2Vy7zgJ4ss8AHi5tm1blnQVDx06wLSWx437Q0kL0JVGjRpKTExjsxwdXdxjqN3Oe/cekDfeeMc8XucZGUfNsWHl/HP0vtry1hak1rWV7ezw4eLeSGcbN2664DliYzvK1q0/lTy/3lb6nI0aNZDMzCzTqu/U6WZ5/vmX5emn/2x+P3fp80RG1jGt3ny9zvzQuIu61C+3za5+J08oVxhrd4BuzFNPvWC6LErTjdPRb3ofnZxHzpX1WHu9TrpcVc4VFcn4tBSZvXmjPHtHT3mpe2+rAgC+w+7unTLl1ZJu2fLQ8PrrX/+febxOzzwz/qIAU1u2bJWbbmpjlrU+ePCvZM6cBWZfrV3Z2l1eGTQPpkx5z3QdT5z4olx//bVWxT3apa2P1UAuawCbu9vsSW6Hsb5ge/bsNy+WHqNITV1W8snCtmzZcunZs5vZ2AkTxsiaNevNfcp6rPN6nXTZOagrS97ZMzJq8VxJ27lN3nS0hh+L7WJVAMB36H5Tj+u2a9fW3NaWaHloS1lbu9qyvpz8/NPSsmVz65bIV1+tM/tv3b+//PLzpiVZWumWcOmWsn18Wffze/ful6ioSNMS1RapPp+2YjMyLm5xl0WPK69atdY8VgNZW++lT4W63Da7+p08we0w1k9JzZo1NS+q3fWhL5wzPfCtB/qVvsDaFaBdB2U9NiqqnjmgXvp5KlOWdl0kz5INhw7K+/2GSZ+WxW9iAPBGGrQrV65x2QOp+1Ddl9pdrpGRdU3QuEsfrwOitGVr90i6ak3ageYcuN26dTEDuOzH2b+fDvDS31eXdf+v4avdzXofZQ+I0t9TG1y6Xn//uLi+potaA1+7kXV9cvLHjpZxU3P/sLDiAE9KWmjmrmjOaKNPH/unP/3N/Gz9nZ1fQ82XS23zd99tvuh38gS3R1PrL6+feuywLX3bZo8GLD2KrqzH6n+gPUKvIiPZXI2mPpiTLSMW/p+cdATyB3EPyk3XNLIqvis7O8fxWp2Whg3rW2sCU0bGMalVq6bUrl3TWhN4zp49K0ePZrp9BoG/0h2y7sbq169nrQlMhw8fdQRRnXKFc1n0kKE9ilppOGsoPvzwsJJWblkZ4El5eXmOfeTPEh3dwFpzad60DZUexjYN5eXLv5Lx4x+TDz6Y6/Kx2h0we3ay41PJo6YLQT+52EPOL+XIkWPW0nnnzhWaeTVrQNbuk1ky7stUqVE9SGbcP0Sujahr1vs67aLSnXDt2rWsNYHp559PSY0aNRw7nsC9vnRhYaGcOpUrERG1rTWBSXfAuherWTPcWhOYcnJ+NkEZHBxsralcn376uaxY8ZV1S6RHj25y332/tG5VrdI/W4WEhMioUQ9J8+bXWWtEzpw5Yxp2tWu79zcxc+Yc6dChnSOPOlhrLq0qP/y7Hcb24CptuerxgGnTZkrfvveU2aR3vo92U6vSj9X1zp++nH/GpdjB68wO6AYN6st3Geny76lJ0rh2HZnxq6ESHeE/X+Zx8uTP5s2m2xnIjhw5bna+gd4yPnbshNutAH914kS244OJtow9c6zPW2hvkQ5UCuQPqJovuo9s1KhqvknRbuxVBbePGWsfvPb368bax3j1+K+2gHVIunZjaPe0fYxD76PHg/W4cFmP1SB2HoCgQ+V13eUEBVW/aLKt2L9LHl48R1rXbyDz4x+RxnXqmBfQX6ZirmuBNJlXwcX6QJt4HezXgNeB10En8zK4WF85U1VyO4y1BawDB/TAvB7j1ZatfexAafepHuCfPn12ycFw7cLQLueyHmu3iO2D6qqsbm93pO7dLmOWJEvXa683V16qVSNwPyECAHyH293U3k4HcHWbP136NWstf7ilm7UWAIDKUZWDJf0mjJU9ohoAgMpGGKMEpzYV49QmTm2ycWpTsco8tclXlffUJm/i9jFjAABQNQhjAAA8jDAGAMDDCGMAADyMAVwAAHgYLWMAADyMMAYAwMMIYwAAPIwwBgDAwwhjAAA8jDAGAMDDCGMAADyMMPZRU6cmyvr1G61bsAXi67Jo0SdmwoV27twtb745VfLy8q01/i8Qt9kdJ05kyWuvTTZzb0UYezkNl3Hj/mCmQAkZ3U57m3X7XdHwse8TKK+N8+uiO5ZA2OFquDz11Atmm59//mWXO1Pn10WnQPpgotte1uvir3RbdZtd/c3bNfu94Et/J4SxF9OdSnR0Q5ky5VWZMGGMfPrp537/R6c73zVr1svEiS+aKSvrpMs/usOHj0hCwgPmtdGpc+dYq+Kf9P9948ZN5jXR7Y2MrCObN/9oVf2T7kQ///xL+eMfnzTb3KXLLbJq1Rqret6hQ4fl3nt7lLwX+ve/36r4N31P6D6hbt061prAkJS0UEJDQ6xbF8rMPCGNGjUo+Tt55pnxEh4eZlW9G2HsxXSnYu9YoqLqlXmdUm09+ktLqUWL5vLb3442f0A6aei4oq9FVFSkdcs1f3pd6tWLlNGjE8xrotujH1I0hErTD3D+0lLSbdVt1m1X+gFMJ1caN462llyzW9iuPtj5Kg2lHj26lfk34o/bbG/LzTe3N3NX9MPJpQLYbj17Ww8KYewjfvppt5mHhV34JrPfnL70CdBd+keTkXHUZegWFBTIG2+8Y7qiXIWPP74uGsL64eKPf/wvGTz4Vxe1AHXnu2fPfkf9qZIA8wf2oZrY2I4mnF1JTJxj7qPho6+Ds/z8fElNXSZjx47ymx4U+/3dqdPNZl6aP26z/o0vX/6VxMcPsNa4tmnTDyXd1K4CVz/ExMX18boelKC/OFjL8FL6Jpw9O1mGDYuThg0bmHXffvsv8we3bt23MmrUcL8LYvXBB3OlZcvm0rVrZ2vNebfeerP06XOPmXTn+8MP28w6f35datQIljvv7CJ33dVVZsyYIyEhIdKkSWPZtu0nx3skW776ap0Jafs94i/s/+vU1KVy8OAhadOmlVUpprft90JBQb6sWrVWbrnl3yQn52fZsWOXY+e8RZo1a+ryfeSLdH+QnPyxPPzwUAkODjbb165dW/Ne15o/brPS/YFuj/ae6Xs+IqK2ef870x7E3r17mvdCmzYt5eOP08zrEB4eLhs2bDLvn3PnzjmC+D7rEd6DlrGX0z+uSZPekvvu+6V5Ezr717+2yO23dzKf9PyNPXDLnU+v2mJy5s+vi9Kdbs+e3cwxZJu2BnSbtTXkD93yrvzyl3eZlv+ltk9DKSzs/OGcvXsPmHEX+rjSLWZfpb1k+/YdkD/96W/y9NN/Nv/3//mfr5dsnz9us+4HdbvsHpClS1eY5Ut1NcfENJZGjRpat0Sys0+aHjXljV33hLEXs4NYB6646mrSrpZu3W53tAQL/OaPTmkQ6zHRhx8eZq0530Wrf3y6rcuWrbAqYkJJdz42f3xddDt052Mrvc3du3eVe+7pYYLIXwZ26ftf3wt2+G7ZstVsn34Y0fU66X0++uj8hy7n+6jrr79W+vW7z7SodDCYP9B9gT1YTQcqdex4kxnkZn9Y98dt1sMuL7/8fMl264A9HcCpH9Y1WO1DVfpe0LlKTz9kAlhby0qPJWsXt36o00Gi3vahlTD2YjpyVN9M+imwrGMgutPp2/cemT79Q78IHt2Gbdt2mk/++qlft1lDWLuebfrHpX9w9muiSreg/e110W3WbbK3WT+s3HNPT6t6nu5sUlKWeOUn/ytx441tSt4H69ZtcHm8sHHjRiWvy9atP13wIc5mf5i1e1wCQaBts374vvXWjqYBo++Ft99+X4YPH3zR+An90KJd15MnT/OqQK5W5GAtAwAAD6BlDACAhxHGAAB4GGEMAICHEcYAAHgYYQwAgIcRxgAAeBhhDACAhxHGAAB4GGEMAICHEcYAAHgYYQwAgEeJ/H9z77601gDRqAAAAABJRU5ErkJggg==)\n",
        "\n",
        "![image.png](data:image/png;base64,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)\n",
        "\n",
        "![image.png](data:image/png;base64,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)\n",
        "\n",
        "![image.png](data:image/png;base64,iVBORw0KGgoAAAANSUhEUgAAAdgAAAElCAYAAABH1fNeAAAAAXNSR0IArs4c6QAAAARnQU1BAACxjwv8YQUAAAAJcEhZcwAADsMAAA7DAcdvqGQAADDTSURBVHhe7d0JfFTV3f/xHySQBchGIIQlIlihomDAoPxLqdYCIk8RfWzdanm0BauCdUFt1T7WWu2jRVtBaSUuRVpwKRURihAQZBEhQCBAhAoS1iQESAIhe/A/v5O5w2VIYCbJJDOZz9vXeO+ceyeT3IT5zu+cO+e2+sZBAABAo2rtXAIAgEZEwAIA4AMELAAAPkDAAgDgAwQsAAA+QMACAOADBCwAAD5AwAIA4AMELAAAPkDAAgDgAwQsAAA+QMACAOADBCwAAD5AwAIA4AMELAAAPkDAAgDgAwQsAAA+QMACAOADBCwAAD5AwAIA4AMELAAAPkDAAgDgAwQsAAA+QMACAOADBCwAAD5AwAIA4AMELAAAPkDAAgDgAwQsAAA+QMACAOADBCwAAD5AwMLv/e73z8t///g2OXL0qLOlbt7si8Dk6e+YvwU0NwIWOA99odYbml9paankHT4sRcePy5EjR5ytZ/N0P8CXCFjgHKwXaviHiIgIeW3qn2XpJwulb58+ztazebof4EsELJrErH/Mliu/M0xWrVnjbKmpDH9w3WjZsXOnWdft1k33b4inn3m2zq9lf677H3jQhKjS/fT+4rSlZtu9Ex+Qhx99XDZs3CQLF31yxteyfh69WT+D0q+lX8Pa5v71rXZ716Uu9b4+r/VY6zjV9b2ei34v+j25P5f1PPavY+1rVej6vNbjrJsnz6uP1/0ef+Ip1+Psx1236806Btbz1XVMlPX9Wtutx+jSvm9dvwv3/dx/N9bXU9Zx+Ne8j1zP6f79AN4iYNEkRl03Urp36ybLl39m7uuLnVaGw4Z+R+Lj403biqWLZd2alTJ61HUyc9Y/XC+U3jpw8KDcesuPzNeaeN8v5NXpf3UFlr4Yb8ncKgvnf2ieT/3zXx+apdIwXbduvXnsX16dKi//8QW5YtBA8z1p25133G6+ln7NKS/+wbS9lfpXyT9yxPxMkx//tfk6+rX1Nun+e819fV79mWa+lWrau3RJMG8C7MH1x5f+ZPbXr/nd73znvN9rXdI3bJSnf/OE+Tr6fNpNOv0vr0t8x44y9oYfys7/fCV79+0z++r3rX78o/82x/uZZ593/Vz6M+vPPuWFP5iK8Hz02P3X6FHmse7HXembFKXb//epJ8w265ho24D+l5nvU2mw3XPvRNOm2/Tn1+/RPejr+l24c//d6HOuXL3GHGO7f8x+V17/y6vmmKtFn9Qcd6A+CFg0CX1x1xdLDVV9sdMXeH2hv+aa75lt+oJrvYhr24kTJ2p9ofSEBvm3+/Y16ylXDJIOHTpIdvZe86I976OPTcjoc+rzXXXlYPnCEajWC7fuqy/k59LJ8YZA97PeLCT16GECccOmTSZkNNz1a+tNuydPlpSY59U3E3pf23Uf3VcfY7G2K0++17romwD9ftQFSUnS5+JvuY67Hg9lHVv9GXS77me16c+nLrywp+Tm5pnv3xN1HXeLbtc3Wkq/l3ff++CMn1l/7/qGQn92DTZ9Y2D9LqxjqUu7un4X7tx/N/q19Ln1GNurVOt4t4uMNG+C9uzJdm4BvEfAosnoC6hVPWmVFR0V5XpB1hdcq/tu8mM1lUZj0OpYn0dfKPVkF33R1orH6ibUdW/pi7NWiFa3sdWFqmGiL/ZWQFms59XAsljBYA8gu4Z+r1rZ6WOu/sFIEywWK3A1kDRYNNA0uDV0rO/bClo9ZvqmSAPHW/bjXhsNbQ1v6xjqzf5718fp463ejbrU9btwV9vvRn8feow5CQq+QsCiyWiY6ovmis9WmUrMevHWrskf3nizJHTubLr5tLuvsdjDzXrR1+5LfR7rpifDuFdG56NVkj5Wuxr1TYN23fbseUGtlXdtYaP76L76mNo05HvVsUXt6rW6o7Wb16KP1UDVYF25arU5NlZVq2E17s47TNBpWOk+9917j9nmrdreVNhZFaLV9W7d5r4/x/xNeBN+tf0u3NX2u/E0xIH6ImDRZPSFU0N167ZtpnrRilZZYWPdt7r76kvHYL/cscOsv//BXLPUENHn1y5A+/iuVjv2LsK6WF2sSh+rJ8Moe3jqGwjtBtWuT2vfffv3u55Xx/z0sbpN99Hgu2Lg6fCzq+/3qvvo92p1+1pd8XZ6LL755htZtz7dtZ/S51m6bLkZf7SHnafsgWg/7rXRoNfuWq08rXFa+89nPc76OnX97HX9Ltzpcdbjbf1u9HH6+7C6hAFfIGDRpDRErS5Lq3vYevGzKqdLL+1ngsqij9HQdD8pqC5aFWlI69fSF9FXX3nZVGdKxye1Sht393izXbtQrRNraqNBMOn+e01I6b5aHeqL/gt/fMk8fvSYG00l9ugjD5kXaj1BRt886L66/e7xvzAv5vbn1W26zzNP/+ac1ai336uygkuPse4/7bW/yM033ejcWkMDNTGxi6z4bKWre9hqb9++nfmZ9Pmsm/uJQOfyxFNPm8e4H/faaOWpvRXW712/X+t3rI/Tx+vXsbbpSU/uIVvX78Kd/ox6spbSr6XHVMdg9RgDvtLK8U72G+c6gCCmQapd9/azhvUNhVbE5zuTWPfTLmV9g0FFCNSggkVA0RDQasX9Zv/8Y0tnncBU283qbq0P7Vq1nzWs1aKGpo6N67hmbc8XTMcd8BYVLABDu2b1s6L2s461u10/QnU+VLDA2QhYAAB8gC5iAAB8gIAFAMAHCFgAAHyAgAUAwAcIWAAAzqO6urrW25QpU2pt1xsBC/i5Q8cL5YdvvWaWAPzHn/70pzOW7ghYIEg8+NH7sn4/l18DGoN7qNYWsgQsEAROlJdJ7onjznsAGqKuitW9nYkmAB+qdvzzOlJSLNWnzv3PLLJNG4kJr32uX+0avuef/zDrmTkHpV3btvK3W/9HBvfoabaN/dtfJc8RnvZ2rVRTv1jtCNUiySs+IX06JcjKr2uuqjPi4ksk9Uc/MesAPKNjqt4iYAEfSj+0X+5e8IGUVFY4W2p3WecuMuuG26RD2zBny2lWiD7x/etk7KWXy7xtm+XN9Wtk9h0/kxdXLJF7hwyTrlExpn3hl9tMeGrA3v+vOfLaTbeZwNUKdvwHf5eHv/cDcx+Ad+oTsHQRAz7UISxMEtt3kM6R7c9569I+SkJb1/3PMcHxNQYn1QSjtdTQfHbkGJm1cZ1c8NwT8suP3jftlt4dO8m3HcENoHkQsIAP9e3YWZbcPl7W3jXxnLe/jrpJIkLbOB/lOa1K1d4nn5dXbvixWQfgHwhYIAAUV1TIgaKaj+loxapaOf7TKvaai2ouaq7dwwB8T09mqutmR8ACAUC7iB9f+KHpCp67NUNev/kOSYyKluRuPeRH78ww7V06RJkTnWrTISzcta9+plaDGUD9PPTQQ861M7m3c5ITAADnUdtJTvaKtbbQpYIFAKAerFCtq6KlggUAwAeoYAEA8AECFgAAHyBgAQDwAQIWAAAfIGABAPABAhYAAB8gYAEA8AECFgAAH2jwRBOlpWUybVqq7Nt3QJKSusukSeMlIiLcufW0GTNmSmZmllkfN+5WSUlJNuv1bQ8LC5P77rtLeve+0LQDAOBPGhyw8+cvMssxY0adsW6Xnp4hGRmZMmHCOCkoKJTU1FkyfvydsmvXnnq37969R2bPnisTJ/5cYmNjnM/kuZycw3L9x3+X484LYUe2aSuDu/aQKxK7S4pzCQBAfTWoi1ir1+zs/dKvX19zX5d6X9vt4uJiJC8v34SlnbftOTm5kpzc36xr5ZqQ0MmEbn39+4c/kbQ7Jsjz14ySkb0ull3HjsiULz6TW/71d+n3+hS5fd5s+fP6VbJmf7aUVVU5HwUAwPk1qIK1V5daRbrft9MqdubMd826vcvXm3b3SnjKlNdk7NjrXY+pS3HxSefaaSdO1LRFRkaYpSW/9KRsOXZYNuYekA05B2R34THTHtK6tfSL7yxXdOkhg7p0kxRHhduhbZjZBgBo+dq2beNc80zIbx2c614rKyuTTZsyZdCgAWbc1f2+RYNx+fLV8tRTjzgq08OyY8dXMnDgANm8eatX7Z07d5KVK9fKnDn/Ms9z8cW9pVOneOnWLdH5TLUrL690rp1WUVHTFhoaapaWyNA20q9zF7k6qZfcfsnl8pN+yTKgc6LER0TKwRPHZVn2V7Jg9w55Y8t6WbznK/nq2FFzMeyOju0Rbl8LANByhIaGONc806AKVruCU1PfkdGjh5suWx0XXbgwzVHB/vSMgNVKdOjQK10nJOmJStrVm5W106t290rV/et6Q8dgVWJiZ7P0VEllhaOyPSjph/ZJuqPC3ZJ3SCqc1wlMio5xVLY9zFiujuNeEB1r2gEAwadBY7Aaoj179pDt23eY+7rU+9quVeuTTz5nunJjY6Nd+2gol5WVm3FWb9v1a+3enW3a9evrOG3XrueuXhubngw1LOlCeeSq78m7N94hW8Y/LHMcy4evHCYXRMXKot075fFP/y3f//vrMuTtV+WBxfNk1tZNsuPoYeG6gAAQPHz2MR0NwHnz/i2TJ98v4eHhrn3UiBFXmzON7Y/1pF2/pjUuGx0dZb52fc4gVvWtYM+n2nE4s/LzZL2zwk0/tF8Ky0rNtuiwcBmU2N1V4V7WqYsZ2wUAtDwNDthA5auArY2enbzeEbTpOfvNMrf4hGmPCG0jyV26mrDV0E3u0k3CQhjHBYCWgIBtgoB1t/94oTlD2YSu47bHeaZyqKOavaxzoitw9Uzl9pypDAABiYBthoB1d6y0RNYd2ucK3J1H8+WU49fSulUr6dOxkwlcPXnqqm5JEhcR6XwUAMCfEbB+ELDuiivKXeO3GrpbD+dI1alTZlvPmFhHdZtkqlsN3h5R9RuDBgD4FgHrhwHrrry6SjJyD7oq3IzcQ1JaVfM53oR2HVwnTenyW3Hxph0A0LwI2AAIWHfVjmp2a36uq8Ld6Kh2i8prpqeMCY8w8yhbodtPz1Ru1cpsAwA0HQI2AAPWnf4Cdx497Ahc7VbeZ5aHS4rNNv3c7sAuXU238hVdu0tyQjdpG+LdbCQAAO8RsC0gYGuzt6jA1aWsSz1zWbVpHSL9ExJrKtxErXK7mxAGADQuAraFBqy7/JKTsu6gnqlcU+F+dSzfVL7afdw3PsEErYbulY5KV7uZAQANQ8AGScC6O1FRbgLXqnC3H8kzY7uqd2xH51nKSSZ4u3WINu0AAM8RsEEasO70erc6+YUGrt425x0yZy+rru2jzAlT1olTGsAAgHMjYAnYWunnbvVKQWYcN0fPVD5oPp+rdLILa/xWQ/fb8QlmUgwAwGkELAHrEZ1ZaseRwyZw9bbBEbpHS0vMtnZt2pqLGFhVrl4/tw1nKgMIcgQsAVtvuwuOmuq2plv5gBw8UWTa9YIFAxJq5lTWm34uVy9sAADBhIAlYBtN3sliWXtgryt0NYCVnql8SacER3VbM8Xj4G5J5tJ9ANCSEbAErM8UlpXJukN7a8ZxHRXuDj1T2fHnpqO1vePia06aSuwhQ7pfIJ0i29U8CABaCAKWgG0yJZUVZ1ymb0tejlSeqjbbuneIdo3h6vLCmDjTDgCBioAlYJtNRXW1ZOQdlA2O6lYnwNiUe8iEsIp3VLRa3Wrg6hSPfTt25kxlAAGFgCVg/YZ2H2+3XcRAq93CslKzrUPbMHOmslXh9u+caC5QDwD+ioAlYP3aV8eOuLqUdZl38oRpDw8NlcsTujnCtiZ0B3bpbtoAwF8QsARsQNGLFlhhq2crZxcWmPYQRzV7Wacuprq1xnK16gWA5kLAErAB7VhpiXxhm1P5P8fyzaQYOlp7ccdOrnHcq7pfIB0jImseBABNgIAlYFsUnc6xpro9IOmO4NUL0+u0jyopOsYRts7P4jqWeh8AfIWAJWBbNL1gwaacg64u5c25h6S0qtJs6xzZ/owuZa14OU8ZQGPxOGBLS8tk2rRU2bfvgCQldZdJk8ZLRMTZs/HMmDFTMjOzzPq4cbdKSkqyWW+Mdvv3oKKjo2Ty5PslNtb7SoSADU56Sb7Mw3qmsl4bd79szD0ox8vLzDadXUqndbRC97LOiWYWKgCoD48Ddv78RWY5ZsyoM9bt0tMzJCMjUyZMGCcFBYWSmjpLxo+/U3bt2tMo7cpar0+o2hGwUPrHrxcxOD2n8n5zcXoV2aaNXJ7QtaZbuWt3c6ZyWy5iAMBDHn+QMDt7v/Tr19es61Lva0VpFxcXI3l5+SYU7RqrXcXEREl4OPPYonFoffrt+M7y08sGybSRY+WLuybJsjvukT9cM0qu693XnLX85/Wr5I55c+SyGS/JzXNnyYtrV8jyvbtdl+8DgNp4XMG++OI0V+VoryrdK0mtYmfOfNes27t8G6Ndn3fKlNekqOi4ae/f/xJT5Z5Pfv4x59ppVVU1FxNvXctkBe3bMy8uTjtSWiLpuftlY95B2Zh7SL4uPGoqX51Z6luxHWVgQje5oovjltBdYsMjah4EoMVp1867f9+NGrAaisuXrzbjs7NmvSeFhcfN+rZtXzZKu33M1wrbsWOvd4VyXSora8LUPpxmhW7Hjmd3NYcyYQHOoai87PScyjn7JevIYTO2q3QOZR3H1ZOmBjlCt0dUw4YyAPiP2gqyc/E4YKdOnSGjRw+X3r0vlN2798jChWmOgP3pGaGnFefQoVeafZSeqJSc3F+ysnY2Srt7kNbV7gnGYNFY9KxkDVxrDFcvYqBnL6su7Tu4PourJ059Ky7etANo+TyO4549e8j27TvMui71voarhpzeVGxstGsfHZ8tKys346mN1Z6WtsKEu9IKVsdptR1oTnox+e/2uFAevnKYzLnxDtky/iF576afyCNXfU8ujutkxmt/89liuW7OGzLozVfkF4v+JW9uXi9bD+ea+ZcBtEweV7AadLV9TMcKVx0Lte+jRoy42pxp3FjtGq5z5y5wtdvHbL1FBYumojNLfXkkr6ZL+ZCj0s3Zb2agUpFt2pquZOujQXrWMmcqAy2DxwHb0hCwaE67Co7KBkfg1oTufjlUXHPinoarXilIw1a7lXU8V0MYQOAhYAlY+IGDJ4pM2Fqh+3VhzUl4OtFF3/gE5xhud7my6wUSw8fUgIBAwBKw8EN6HVxzEYOcmsDVyTC0q1n1ju1Y06Wc2EOGdL9AEtq1N+0A/AsBS8AiAJysrHBUt/rRIA3dA5KZlyOVp6rNtq7to2Rwt5rA1eDVAAbQ/AhYAhYBqKK6WjJyD7oqXF0vqay5iEFcRKTto0Hd5dvxCWZSDABNi4AlYNEC6Md9tulFDJxzKutYbqHzIgbt24bJwC7dXJ/FHdA5UdpwpjLgcwQsAYsWSP9Rf3Us31S31gQYeSeLzbawkFAZkGCdqZwkgxK7mc/yAmhcBCwBiyCxr6jQ1aWsgbu3qMC0h7RuLf3iE5yBW1Pl6qX7ADQMAUvAIkgd1YsYOIJ27YG9sjH3gHx5pObfhLpv0BAzExWA+iNgCVjAOFFRbuZUfm3D5+akqX6dusjLw38oF3FWMlAvBCwBC5xBT5j668a1MjV9tYS0ai2Th3xP7hqQYq6dC8BzBCwBC9QqKz9PHkqbb6Z11LHZP48YIwntOji3AjgfApaABepUWV0tL65dIW9vSTcf93l62HC5sc+lzq0AzoWAJWCB89Izjx9cMl/yTp6Qkb36yPPXXCcx4RHOrQBqQ8ASsIBHiivK5ZlVS+VfO7ZKx4hImfKD/5JhSb2cWwG4I2AJWMAry7J3yWPLFpoLEtza73J5aui1TFQB1IKAJWABr+lnaCcvXSAr930tPaJiZOrIG0SvYwvgNAKWgAXq7f2sLfL71cukrKpS7hl4lfxy8HcltHVr51YguBGwBCzQIHqxeD0BalPuQenTsZOjmh3L5BSAAwFLwAINpheDf3Pzenl53Upp5fiPySkAApaABRqRTkrxwOJ5svNoPpNTIOgRsAQs0KiqTp2SPzkq2RkZ66Rdm7ZMToGgRcASsIBP6Jjsw2kfy/7jhUxOgaDU4IAtLS2TadNSZd++A5KU1F0mTRovERFnX0tyxoyZkpmZZdbHjbtVUlKSzbq37fPnL5IlS1aY9REjrpYxY0aZdW8RsIDvlVZVmrOM392+mckpEHQafD59Wtpy6dv3Inn11RfMUu+7S0/PMEvd59lnfy3Ll6+WgoJCr9t3794j2dn75Y9/fMbcdF3bAPgnnYDiuauvk7d/+GNz/66P35cnV3xighdo6RoUsFq9asj169fX3Nel3td2u7i4GMnLyzchaed9e6wUFR2XQ4dynC0AAoFWrUtuH2+6irWaHTXnTck8zL9jtGwN6iLWAExNnSXjx98psbExZ92306p05sx3zbq9y9fbdq1Yp09/W8rLyz3uIq6qqnaunZaff9Qs4+NjzdIuJCTEuQagsX30nyz53eqlcrKiXCYkXykPpAxlcgoEhNZe/p02ScBqWGo3r47Pzpr1nhQWHjfr27Z96VW7Vq6zZ8+ViRN/LqtWrZV16zbJ5Mn3nxXm7qwwtbNCt7YD1r59O+caAF84XFIsj3/2iWzMOyjfiu0of7z6eukVHefcCvindu28O0mvQQGrXcGpqe/I6NHDpXfvC011uXBhmiNgf3rGiU5aiQ4deqXZR+kJTMnJ/SUra6dX7Tk5uZKY2OWME55UfU504iQnoHnpC887mRvM9Wb1VYjJKdDSNKhfRkO0Z88esn37DnNfl3pf27VqffLJ50xVGxsb7dpHQ7msrNyMs3rbruGakZFp2lVu7mHTBiDwaJCO63+FLLzlZ9I7rqM8t3qZ3P7hP8w1Z4GWwGcf09GAnTfv36YLNzw83LWPssZO7Y/1pF3ZP77Tv/8lMmHCOLPuLSpYwH9Unzolr274XF7b+LlEhrZhcgq0CA0O2EBFwAL+Jys/TyYtmSfZhQVMToGAR8ASsIBfKa+ukv/7fLnMytwocUxOgQBGwBKwgF/6/EC2TF660IzJ3trvcnlq6LVm4gogUBCwBCzgt4oryuV/P1siH/1nu/SIipGpI2+Q/p0TnVsB/0bAErCA31v89U751aeLzOQU9wy8Sn45+LtMTgG/R8ASsEBAyC85KY8tWygr930tfTp2clSzY+Wi2I7OrYD/IWAJWCCgzNm+WZ5fs0yqT33D5BTwawQsAQsEHL3GrF5rVq85O7hrD/nziDGS0K6DcyvgHwhYAhYISKccL12vb/pCXlm/WsJDQ5mcAn6HgCVggYC282i+PLB4nuwqOMrkFPArBCwBCwS8yupqeWndSnlz83qJdYQrk1PAHxCwBCzQYuiY7INL5svBE0VMToFmR8ASsECLUlJZIb9btVQ++DKTySnQrAhYAhZokZZl75Jff/pvKSwrZXIKNAsCloAFWiwNV52cQsOWySnQ1AhYAhZo8ebu2Gq6jfVkKCanQFMhYAlYICjoiU+Tly6Q9Yf2MzkFmgQBS8ACQUNf7N7avF5e+mKltA0JYXIK+BQBS8ACQUcnpXgobb5k5ecxOQV8hoAlYIGgVH3qlLySvlr+unGtCVcmp0BjI2AJWCCoZR7OkQcWf2QuIMDkFGhMBCwBCwS90qpK+cOaT+Uf2zKYnAKNhoAlYAE4fX4g21wG71hpCZNToMEIWAIWgM3x8jL51aeLZPHXO5mcAg3iccCWlpbJtGmpsm/fAUlK6i6TJo2XiIhw59bTZsyYKZmZWWZ93LhbJSUl2ax7025vs+i2Sy/9tut7UNHRUTJ58v0SGxtj7nuDgAVwLh9/lSVPf7ZEyqqqmJwC9eJxwM6fv8gsx4wZdca6XXp6hmRkZMqECeOkoKBQUlNnyfjxd8quXXu8arcH5u7de2ThwjRH+0+lrKys1n3qg4AFcD75JSfl4bT58vmBvUxOAa95PLiQnb1f+vXra9Z1qfe1qrWLi4uRvLx8E5Z23rbbLVu2UoYMSXFVyzExURIefnblDACNrVNkO5l1w23y22EjZOvhXBk5+w35cOc251bg3DyuYF98cZqrcqyr2lRaxc6c+a5Zt3cFe9uu7NWrBqw+75Qpr0lR0XGzvX//S0z1ez7FxSXOtdNOnCg2y8jIsz9cXlvXN4DgtreoUB5dvlC25ufK8J7fkt99dziTUwSZtm29+/hWyG8dnOvntGbNehk0aIAJH+2q3bQp03XfomG5fPlqeeqpRxyV6WHZseMrGThwgGzevNWr9jZtQs3XW736C0fFGm3GXpU+17XXDpPrrx9uqtpFi5ZJVFQH6dbt3KfTl5eXO/5vvY+oWVZUVJplaGjNc9nV1gYguEWHhctNfS41ZxV/sHOrzHXcLo6Ll6Sohg1XIXCEhoY41zzjcQU7deoMGT16uPTufeFZlaVFK9GhQ680+yg9WSk5ub9kZe30ql2rWO1+Tk19x/WctbHv7y3GYAHUl06xqFMt6pSLt/W7XJ5kcgrUwuMx2J49e8j27TvMui71voarhpzeVGxstGsfDciysnIzzuptu9IqueZ+rLmv0tJWmHBX2l2s47fW/gDQVC7plCALbrnbnFn87vbNMmrOm2ZGKMCuwR/TscJVx0Lt+6gRI642Zxp7265qG+fVcJ07d4Frf/cxW29QwQJoDHr5uweXzJcjJcVMToEzeBywLQ0BC6CxFFeUy29XppkzjJmcAhYCloAF0EiWZe+Sx5YtlNLKSianAAFLwAJoTEdLS2Ty0gWyct/XTE4R5AhYAhaAD7yXtUV+v3qZhLRqJU8PGy439rnUuQXBgoAlYAH4yMETReYEqE25B2Vkrz7y/DXXMTlFECFgCVgAPnTK8RL7RsY6eXndKokKC5MpP/gvGZbUy7kVLRkBS8ACaAI7j+abySl0yeQUwYGAJWABNJGqU6cclexKSXVUtN06RMvUkTdI/87nnuoVgYuAJWABNDEdk3047WM5dKKIySlaMAKWgAXQDEqrKuX3q5bKu1lbmJyihSJgCVgAzUg/L6ufmy2uqGByihaGgCVgATSzwrJSeWL5J7L4651MTtGCELAELAA/oXMZP7MyzawzOUXgI2AJWAB+JO/kCTM5hV6lh8kpAhsBS8AC8DP6ojxzywb54xcrpF2btkxOEaAIWAIWgJ/KLiyQSUvmSVZ+HpNTBCACloAF4MeqT52SaRvWyPSNa6Vr+ygmpwggBCwBCyAAZB7OMVMt7i8qZHKKAEHAErAAAkR5dZX835rlMmvrRrmYySn8HgFLwAIIMJ8fyJbJSxeaz88yOYX/ImAJWAABqLiiXH7z2WKZ/58sJqfwUwQsAQsggOnsT7/6dJHoSzmTU/gXApaABRDg8ktOymPLFpp5jZmcwn8QsAQsgBZi9rYM+cPnn5rPyjI5RfNrcMCWlpbJtGmpsm/fAUlK6i6TJo2XiIhw59bTZsyYKZmZWWZ93LhbJSUl2ax70z5//iJZsmSFabOMGHG1jBkzynnPcwQsgJZo//FCeWDxR+ZjPUxO0bwaHLAaekpDzr5ul56eIRkZmTJhwjgpKCiU1NRZMn78nbJr1x6v2mNjY5xfUeps9xQBC6Clqna8rL++6Qt5Zf0qSWRyimbToE8pa/Wanb1f+vXra+7rUu9ru11cXIzk5eWbULTztt1u1aq10rfvRfUKVwBoyUJatZL7Bg2R+T++S8JCQuTmf74jL33xmVSdOuXcA02hQRWsexV5rqpSq9iZM9816/auYG/b1bmepzZHjhxzrp1WWVllliEhZ7/HaN++nXMNAAJbZXW1TN30ubyzPUN6x8TJlGuul17Rcc6t8EZkpHcnjjVJwGpYLl++2ozPzpr1nhQWHjfr27Z96VW7NbZr73L2hBWmdlboarXsLjQ01LkGAC1Des4BeezThXKk5KQ8fOUw+Z/+VzA5hZdqK8jOpUEBq13BqanvyOjRw6V37wtl9+49snBhmiNgf3rGiU5aiQ4deqXZR+kJTMnJ/SUra6dX7fYToOz364MxWADBpqSyQp5ZtVT++WUmk1M0gQaNwWqI9uzZQ7Zv32Hu61Lva7tWmU8++ZypamNjo137aCiXlZWbytHb9truAwA8E9mmrbzw/etlxuibZXfBURk5+w35cOc251Y0tgZfimH48Gtkx45dMnHi42ap993Z93n00adNCGt16m07AKDhru15kSy5fbypYicvXSD3LfrQzGuMxtXgj+kEKrqIAUBk7o6t8rtVS83ZxkxO0bgIWAIWQJA7eKLIVLLrD+1ncopGRMASsAAgGgRvbl5vPi+rJz4xOUXDNXgMFgAQ+PQjOz+/fLB8fMvdEtmmDZNTNAIqWCpYADiDhqpOs6jTLV4UF++oZsfKRbEdnVvhKQKWgAWAWukFA/TCAYdPFsvkId+TuwakMDmFFwhYAhYA6lRaVSnPr/nUXAqPySm8Q8ASsABwXnoxd72oe1lVlTw9bLjc2OdS5xbUhYAlYAHAI8fLy+RXny6SxV/vlJG9+sjz11wnMeHeTYAfTAhYAhYAvPLxV1ny9GdLJLR1ayanOAcCloAFAK/l61V50ubL5wf2MjlFHQhYAhYA6m3W1k3ywufLJT6yHZNTuGGiCQBAvd152UBZcMvdEhseweQUbqhgqWABoMGqHVEyfcPnMm3DGjMpBZNTUMECABpBSKtWMinlOzLv5nFSXl0lY957W97akm7mOA5WVLBUsADQqDRgX1y7QmZu2SApQTw5BQFLwAKAT+jl7x5cMl9KKiuCcnIKApaABQCfKa4ol9+uTJMPd24LuskpCFgCFgB8bln2LjPVoo7VBsvkFAQsAQsATeJoaYlMXrrAzGscDJNTELAELAA0qfeytsjvVy+TjhGRLXpyCj6mAwBoUrdcMkA+ue1n0imyXYuenIIKlgoWAJrFKUf8vJGxTl5et0p6xca1uMkpPA7Y0tIymTYtVfbtOyBJSd1l0qTxEhER7tx62owZMyUzM8usjxt3q6SkJJt1b9t3794j06e/LeXl5dK//yUyYcK4M74HFR0dJZMn3y+xsTHmvjcIWADwDzuP5stDafMlu7BAJg/5ntw1IEVaObcFMo8Ddv78RWY5ZsyoM9bt0tMzJCMj04RhQUGhpKbOkvHj75Rdu/Z41a6sdQ3PtLQV0qvXBRIXF3tGe0MQsADgP7SL+OV1KyXVUdFekdi9RUxO4fEYbHb2funXr69Z16Xe14rSLi4uRvLy8k1Y2nnbrsHbt+9FrhAdPvxq6d37QrMeExMl4eFnV84AgMCl15Z9bMjV8t5NP5GDJ47LyNlvmM/OBjKPK9gXX5zmqhzt1aZ7JalV7MyZ75p1e5evN+1aIZeVlcu6dZvO6CLW550y5TUpKjpu9rfaz6e6utq5dtrhw0fNMj4+ziztQkJCnGsAgKamMz89t+ZTef/LLTLiwj7y3NUj/WJyitatveu4btSA1bBcvny1GZ+dNes9KSw8bta3bfvSq3b7ukpNfUdGjx7uqmKVFbZjx17vCuu6WGFqZ4Vua8e7Jnft20c61wAAzWXNwb3y5KolZv25746Q73S7wKw3l3btvMsGjwN26tQZrpDTE5AWLkxzBOxPzzjRSSvRoUOvdAWhnsCUnNxfsrJ2etWek5Nr7ltjvFa7e5DW1e4JxmABwP8VlpXKE8s/kcVf7wy4ySk8HoPt2bOHbN++w6zrUu9ruGrI6U3Fxka79tHxWe3m1XFWb9vtY7xaqeo4rbbryU4a7sreDgBombRrePqoG830igu++lJGzXlTMg/nOLf6N48rWA272j6mY4WrjoXa91EjRlxtqlBv25WOwy5ZssKsW+0arnPnLnDtbx/L9RYVLAAElryTJ8zVeTbmHJB7Bl4lvxz8XXNylL/yOGBbGgIWAAKPBpZeZ1avN9szJtavJ6dgqkQAQMDQ83j/Z8AV8u9bfyYhjup1zHtvy1tb0k3w+hsqWCpYAAhI1adOybQNa2T6xrUyqEs3v5ucgoAlYAEgoOlJTzrV4tGSEnl62HC5sc+lzi3Ni4AlYAEg4JVXV8n/rVkus7ZulBG9+sjz11zX7JNTELAELAC0GJ8fyJaH0z42V+rRj/YMS+rl3NL0CFgCFgACkn2qXfvV1VasXS+v7dgkm0oKm3VyCgKWgAWAgOM+Za/Ok7B69TozP4J1xbewS3vJrz5dJNFh4TJ15A3Sv3OiaW8qBCwBCwABRwN19uy5MnHiz03AWtyr2rsm3i2/Xbtcvji0T3odLZUrKtvKo4/UVLq6n06YtHLlWrO/fbKjxhDyWwfnelApLj5plh06tDNLAEDg0OuDFxUVyRtv/F22bdshAwcOkDZtQqVbt0SpqqqS3r17yn333W26hvNWpMvgSy+RlRWFUpQQJSe+zJb/lzxA1q/faKbo/c1vJsuQISny8ceLpXv3RPO1GwMTTQAAApJWm6+++oK5fvijjz7t6hq2O3QoR/buPSBfzV0qg3cckWOHj8mMk4fk9Q1rzeQUesEYpRVtQkInOXbszOuTNwQBCwAIaBq0Dz30C9myZbsZm3UXExMlzz77a3nz5T9I+iNPyINDhsnL6atkTtVRKagsc+7V+AhYAEDA0bFW62IzSivPsLAwCQ8/fQlV1bVromlftapmnDWkVSu5b9AQmf/ju6RUTslDm1fLhzu3mTHdvXv3N+oV2jjJiZOcACDgHDyYIxs3bnZddc3+MR0Ny+nT3zbt9913lxlTnTLlNSkqOm7a+ve/xFwB7i+v/00WnciTrIhvpPPxSnnu6pFyzZDBZp/GQMD6YcAWFBRJdXW1xMfHOVvgieLiEjl5skQSEuKdLfBERUWlHD1awJvNetDXER23a91ap6CHp3Jz8023bXh4mLOleWgFrGOw33SLl8lLF0hZVWWjTk5BFzEAIKgN7tpDPrntZ3JNz4vkro/fl6dWfCKljrBtKAIWABCUtJs4JSXZrEe2aSsvfP96mTH6Zlm0e6eMmvOmuYhAQxCwAAA4XeuoYpfcPl4ujouXm//5jrz0xWeSd7JY3ty8XmZmbpCCslLnnufHGCxjsC0GY7D1wxhs/TEGWz/+MgZ7Pv/8MlOeWbVUyqsrJaR1iESEhkpCZHuZc+NPJMbtbOXaBH3AAgBQl9ySYvn9hpWy+UiuhGvAtmsvk1KGenTN2aDtIubdOgDgfLo4KtZXh10vq2+6W8IcAdu2dai0buVZj0XQVrD+jC7i+qGLuH7oIq4/uojrJ1C6iJWOud724T+krKpKwkJCpVO7djL9upskKuz83zsnOQEAUIfY8Ah598Y7ZFLKd+TeQVfJayPHehSuioAFAOAcYhwh+999L5OxfS6VaMe6pwhYAAB8gIAFAMAHOMkJAAAfoIIFAMAHCFgAAHyAgAUAwAcIWAAAfICABQDABwhYAAB8gIAFAMAHCFgAAHyAiSaa0YwZM81ywoRxZllaWibTpqXKvn0HzP3o6CiZPPl+iY2NkfT0DJk5813TPm7crZKSkmzWg439OPTvf4nr2BUUFMqUKa9JUdFxj9qDTV3Hbf78RbJkyQqzrqy/LfvfYlJSd5k0abxERJz/AtMtze7de2T69LelvLz8jH+PdR0fjluNuo6b/d+jsh8j628xLCxM7rvvLund+0KzT0DTgEXTe/31v31z//2PmaXl2LGCb154YapZ2tnb69onGOza9fU3r7zy+jclJaXmpsdh/fpNZpseR2/Wg4mnx83uo4/+bW7u68FEj5UeH+vfWl3HxJP1YHKu42b/W7Szt9e1TyCii7iZaAWh1YK7mmsknvmOd9euPaZd3wHqTde1LdjoO9oHHphg3u3qTY+D0nfFhYXH5aKLat7xJif3l4yMzDrbg01dx01ptRAXF+O8V0OrsOzs/dKvX19zX5d6X9uDiR4r/Xeq/+ZUbu5hc6vr+OjfG8et7uNm0YpW97Hbvn2H9OzZw7R37Zpo2g4dyjHLQEbA+pm9ew/Io48+LRMnPu7qQs7JyZUuXU5fDFvXtS2Y6YtZXl6+CQfHO2Vz4WbrjYm2lZWVO45RXq3twfaCZ2c/bkq78P70p7+av7cnn3zObC8rKzPHKS4u1uyjS72v7cFI/x3q8dE3aBocdR0f7fbkuJ3mftwsmZlZpl1v2i2sNIATE7uYdQ1Z/Xd77FihuR/ICFg/ou/4nnvuSXn11Rfk2Wd/bcJWx85wtg8++EgGDOjXMsZpmpD7cdMXPv1709sFF3Q323Em6xhp74cVCDi/2o6b/t299NLvTPtDD/1C1q3baMZrWyoC1k9p2OoLntJ3dvYuFvu7vWBkVfZjxowyS/dKQd/56jvgxMSEWtvdu6eChftxc6eVhtKKv6aCKDD33XsIgtW11w4zXb6qtuOjXZ8ct7NZx82950i7ghMSanrm7L1yul9NT8CZQxeBiID1I2lpK1zv5uxdeTqGqGOJ2qY3+7hisNGQ0J//zjtvcbbUvBmxj0vrO2YNi7rag1Ftx03/1vRvzqLHR1/o9A2IjofpuJiyj48FE/23psfNCgY9DhqY+ndV2/Gpq53jVnPc9Di8//5HZrvSMVbtVtc3yPbxamvs1RqLDWSt9Ewn5zqaiP6B2U9VV3rCk4bp3LkLXB/TsX8ch4/pnHnqv8U6zV+rVD6mU7u6jtudd/5YVq1aKytXrjVt9uOjL3TB/nET/dvZtm2HvPfeh+Y+H9PxTF3HTSt5Dc+33ppt/j26fxynJX5Mh4AFAMAH6CIGAMAHCFgAAHyAgAUAwAcIWAAAfICABQDABwhYAAB8gIAFAMAHCFgAAHyAgAUAwAcIWAAAfICABQDABwhYAAAancj/B7jrKJwK/Kr9AAAAAElFTkSuQmCC)\n",
        "\n",
        "![image.png](data:image/png;base64,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)"
      ],
      "metadata": {
        "id": "11gA7YgvLNnV"
      },
      "id": "11gA7YgvLNnV"
    },
    {
      "cell_type": "markdown",
      "source": [
        "# Evaluation"
      ],
      "metadata": {
        "id": "cd5Z6nYZLHph"
      },
      "id": "cd5Z6nYZLHph"
    },
    {
      "cell_type": "code",
      "execution_count": null,
      "id": "1a1bbf7b",
      "metadata": {
        "execution": {
          "iopub.execute_input": "2025-05-29T22:19:33.179511Z",
          "iopub.status.busy": "2025-05-29T22:19:33.179241Z",
          "iopub.status.idle": "2025-05-29T22:24:18.310662Z",
          "shell.execute_reply": "2025-05-29T22:24:18.309724Z"
        },
        "papermill": {
          "duration": 285.158833,
          "end_time": "2025-05-29T22:24:18.312048",
          "exception": false,
          "start_time": "2025-05-29T22:19:33.153215",
          "status": "completed"
        },
        "tags": [],
        "colab": {
          "referenced_widgets": [
            "bfcb87ac3dd844d08442007c2ac4a3f9",
            "8c75a43ff600482da7958a18b2d92aa4"
          ]
        },
        "id": "1a1bbf7b",
        "outputId": "d83d7063-f950-4555-edeb-c561c8c1344b"
      },
      "outputs": [
        {
          "data": {
            "application/vnd.jupyter.widget-view+json": {
              "model_id": "bfcb87ac3dd844d08442007c2ac4a3f9",
              "version_major": 2,
              "version_minor": 0
            },
            "text/plain": [
              "  0%|          | 0/63 [00:00<?, ?it/s]"
            ]
          },
          "metadata": {},
          "output_type": "display_data"
        },
        {
          "name": "stderr",
          "output_type": "stream",
          "text": [
            "Some weights of RobertaModel were not initialized from the model checkpoint at roberta-large and are newly initialized: ['pooler.dense.bias', 'pooler.dense.weight']\n",
            "You should probably TRAIN this model on a down-stream task to be able to use it for predictions and inference.\n"
          ]
        },
        {
          "data": {
            "application/vnd.jupyter.widget-view+json": {
              "model_id": "8c75a43ff600482da7958a18b2d92aa4",
              "version_major": 2,
              "version_minor": 0
            },
            "text/plain": [
              "  0%|          | 0/63 [00:00<?, ?it/s]"
            ]
          },
          "metadata": {},
          "output_type": "display_data"
        },
        {
          "name": "stderr",
          "output_type": "stream",
          "text": [
            "Some weights of RobertaModel were not initialized from the model checkpoint at roberta-large and are newly initialized: ['pooler.dense.bias', 'pooler.dense.weight']\n",
            "You should probably TRAIN this model on a down-stream task to be able to use it for predictions and inference.\n"
          ]
        },
        {
          "name": "stdout",
          "output_type": "stream",
          "text": [
            "{'rouge': {'rouge1': 0.3966, 'rouge2': 0.1881, 'rougeL': 0.3147, 'rougeLsum': 0.3147}, 'bertscore': {'avg_precision': 0.8885, 'avg_recall': 0.9228, 'avg_f1': 0.9052}}\n"
          ]
        }
      ],
      "source": [
        "# Evaluate after fine-tuning\n",
        "model, train_loader, val_loader = accelerator.prepare(bart_model, train_loader, val_loader)\n",
        "predictions, references = evaluate_model(model, tokenizer, val_loader, max_tgt, accelerator)\n",
        "results = compute_metrics(predictions, references)\n",
        "\n",
        "predictions, references = evaluate_model(bart_model, tokenizer, val_loader, max_tgt, accelerator)\n",
        "results = compute_metrics(predictions, references)\n",
        "print(results)"
      ]
    }
  ],
  "metadata": {
    "kaggle": {
      "accelerator": "gpu",
      "dataSources": [],
      "dockerImageVersionId": 31041,
      "isGpuEnabled": true,
      "isInternetEnabled": true,
      "language": "python",
      "sourceType": "notebook"
    },
    "kernelspec": {
      "display_name": "Python 3",
      "language": "python",
      "name": "python3"
    },
    "language_info": {
      "codemirror_mode": {
        "name": "ipython",
        "version": 3
      },
      "file_extension": ".py",
      "mimetype": "text/x-python",
      "name": "python",
      "nbconvert_exporter": "python",
      "pygments_lexer": "ipython3",
      "version": "3.11.11"
    },
    "papermill": {
      "default_parameters": {},
      "duration": 3525.582616,
      "end_time": "2025-05-29T22:24:22.291312",
      "environment_variables": {},
      "exception": null,
      "input_path": "__notebook__.ipynb",
      "output_path": "__notebook__.ipynb",
      "parameters": {},
      "start_time": "2025-05-29T21:25:36.708696",
      "version": "2.6.0"
    },
    "colab": {
      "provenance": []
    }
  },
  "nbformat": 4,
  "nbformat_minor": 5
}