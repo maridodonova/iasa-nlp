{
  "cells": [
    {
      "cell_type": "markdown",
      "id": "17893a7f",
      "metadata": {
        "papermill": {
          "duration": 0.003282,
          "end_time": "2025-06-07T10:29:58.775993",
          "exception": false,
          "start_time": "2025-06-07T10:29:58.772711",
          "status": "completed"
        },
        "tags": [],
        "id": "17893a7f"
      },
      "source": [
        "# Setup"
      ]
    },
    {
      "cell_type": "code",
      "execution_count": null,
      "id": "565021a3",
      "metadata": {
        "execution": {
          "iopub.execute_input": "2025-06-07T10:29:58.782315Z",
          "iopub.status.busy": "2025-06-07T10:29:58.782015Z",
          "iopub.status.idle": "2025-06-07T10:31:31.474186Z",
          "shell.execute_reply": "2025-06-07T10:31:31.473228Z"
        },
        "papermill": {
          "duration": 92.69704,
          "end_time": "2025-06-07T10:31:31.475732",
          "exception": false,
          "start_time": "2025-06-07T10:29:58.778692",
          "status": "completed"
        },
        "tags": [],
        "id": "565021a3",
        "outputId": "a1f26704-d469-4585-f5bd-bbdd81a5f3cf"
      },
      "outputs": [
        {
          "name": "stdout",
          "output_type": "stream",
          "text": [
            "  Preparing metadata (setup.py) ... \u001b[?25l\u001b[?25hdone\r\n",
            "\u001b[2K   \u001b[90m━━━━━━━━━━━━━━━━━━━━━━━━━━━━━━━━━━━━━━━━\u001b[0m \u001b[32m67.0/67.0 MB\u001b[0m \u001b[31m26.7 MB/s\u001b[0m eta \u001b[36m0:00:00\u001b[0m\r\n",
            "\u001b[2K   \u001b[90m━━━━━━━━━━━━━━━━━━━━━━━━━━━━━━━━━━━━━━━━\u001b[0m \u001b[32m84.0/84.0 kB\u001b[0m \u001b[31m5.2 MB/s\u001b[0m eta \u001b[36m0:00:00\u001b[0m\r\n",
            "\u001b[2K   \u001b[90m━━━━━━━━━━━━━━━━━━━━━━━━━━━━━━━━━━━━━━━━\u001b[0m \u001b[32m366.3/366.3 kB\u001b[0m \u001b[31m23.2 MB/s\u001b[0m eta \u001b[36m0:00:00\u001b[0m\r\n",
            "\u001b[2K   \u001b[90m━━━━━━━━━━━━━━━━━━━━━━━━━━━━━━━━━━━━━━━━\u001b[0m \u001b[32m193.6/193.6 kB\u001b[0m \u001b[31m15.6 MB/s\u001b[0m eta \u001b[36m0:00:00\u001b[0m\r\n",
            "\u001b[2K   \u001b[90m━━━━━━━━━━━━━━━━━━━━━━━━━━━━━━━━━━━━━━━━\u001b[0m \u001b[32m3.1/3.1 MB\u001b[0m \u001b[31m72.4 MB/s\u001b[0m eta \u001b[36m0:00:00\u001b[0m\r\n",
            "\u001b[2K   \u001b[90m━━━━━━━━━━━━━━━━━━━━━━━━━━━━━━━━━━━━━━━━\u001b[0m \u001b[32m363.4/363.4 MB\u001b[0m \u001b[31m4.7 MB/s\u001b[0m eta \u001b[36m0:00:00\u001b[0m\r\n",
            "\u001b[2K   \u001b[90m━━━━━━━━━━━━━━━━━━━━━━━━━━━━━━━━━━━━━━━━\u001b[0m \u001b[32m664.8/664.8 MB\u001b[0m \u001b[31m2.6 MB/s\u001b[0m eta \u001b[36m0:00:00\u001b[0m\r\n",
            "\u001b[2K   \u001b[90m━━━━━━━━━━━━━━━━━━━━━━━━━━━━━━━━━━━━━━━━\u001b[0m \u001b[32m211.5/211.5 MB\u001b[0m \u001b[31m5.6 MB/s\u001b[0m eta \u001b[36m0:00:00\u001b[0m\r\n",
            "\u001b[2K   \u001b[90m━━━━━━━━━━━━━━━━━━━━━━━━━━━━━━━━━━━━━━━━\u001b[0m \u001b[32m56.3/56.3 MB\u001b[0m \u001b[31m27.5 MB/s\u001b[0m eta \u001b[36m0:00:00\u001b[0m\r\n",
            "\u001b[2K   \u001b[90m━━━━━━━━━━━━━━━━━━━━━━━━━━━━━━━━━━━━━━━━\u001b[0m \u001b[32m127.9/127.9 MB\u001b[0m \u001b[31m12.2 MB/s\u001b[0m eta \u001b[36m0:00:00\u001b[0m\r\n",
            "\u001b[2K   \u001b[90m━━━━━━━━━━━━━━━━━━━━━━━━━━━━━━━━━━━━━━━━\u001b[0m \u001b[32m207.5/207.5 MB\u001b[0m \u001b[31m1.7 MB/s\u001b[0m eta \u001b[36m0:00:00\u001b[0m\r\n",
            "\u001b[2K   \u001b[90m━━━━━━━━━━━━━━━━━━━━━━━━━━━━━━━━━━━━━━━━\u001b[0m \u001b[32m21.1/21.1 MB\u001b[0m \u001b[31m27.7 MB/s\u001b[0m eta \u001b[36m0:00:00\u001b[0m\r\n",
            "\u001b[?25h  Building wheel for rouge_score (setup.py) ... \u001b[?25l\u001b[?25hdone\r\n",
            "\u001b[31mERROR: pip's dependency resolver does not currently take into account all the packages that are installed. This behaviour is the source of the following dependency conflicts.\r\n",
            "cesium 0.12.4 requires numpy<3.0,>=2.0, but you have numpy 1.26.4 which is incompatible.\r\n",
            "bigframes 1.42.0 requires rich<14,>=12.4.4, but you have rich 14.0.0 which is incompatible.\r\n",
            "gcsfs 2025.3.2 requires fsspec==2025.3.2, but you have fsspec 2025.3.0 which is incompatible.\u001b[0m\u001b[31m\r\n",
            "\u001b[0m"
          ]
        }
      ],
      "source": [
        "!pip install --quiet bitsandbytes evaluate jiwer rouge_score trl"
      ]
    },
    {
      "cell_type": "code",
      "execution_count": null,
      "id": "da95aeba",
      "metadata": {
        "execution": {
          "iopub.execute_input": "2025-06-07T10:31:31.528328Z",
          "iopub.status.busy": "2025-06-07T10:31:31.528048Z",
          "iopub.status.idle": "2025-06-07T10:32:07.627495Z",
          "shell.execute_reply": "2025-06-07T10:32:07.626869Z"
        },
        "papermill": {
          "duration": 36.126924,
          "end_time": "2025-06-07T10:32:07.628651",
          "exception": false,
          "start_time": "2025-06-07T10:31:31.501727",
          "status": "completed"
        },
        "tags": [],
        "id": "da95aeba",
        "outputId": "0958ff4c-d557-43e9-9626-d112aaabfbb7"
      },
      "outputs": [
        {
          "name": "stderr",
          "output_type": "stream",
          "text": [
            "2025-06-07 10:31:49.452703: E external/local_xla/xla/stream_executor/cuda/cuda_fft.cc:477] Unable to register cuFFT factory: Attempting to register factory for plugin cuFFT when one has already been registered\n",
            "WARNING: All log messages before absl::InitializeLog() is called are written to STDERR\n",
            "E0000 00:00:1749292309.638512      19 cuda_dnn.cc:8310] Unable to register cuDNN factory: Attempting to register factory for plugin cuDNN when one has already been registered\n",
            "E0000 00:00:1749292309.692575      19 cuda_blas.cc:1418] Unable to register cuBLAS factory: Attempting to register factory for plugin cuBLAS when one has already been registered\n",
            "\u001b[34m\u001b[1mwandb\u001b[0m: Using wandb-core as the SDK backend.  Please refer to https://wandb.me/wandb-core for more information.\n",
            "\u001b[34m\u001b[1mwandb\u001b[0m: \u001b[33mWARNING\u001b[0m If you're specifying your api key in code, ensure this code is not shared publicly.\n",
            "\u001b[34m\u001b[1mwandb\u001b[0m: \u001b[33mWARNING\u001b[0m Consider setting the WANDB_API_KEY environment variable, or running `wandb login` from the command line.\n",
            "\u001b[34m\u001b[1mwandb\u001b[0m: No netrc file found, creating one.\n",
            "\u001b[34m\u001b[1mwandb\u001b[0m: Appending key for api.wandb.ai to your netrc file: /root/.netrc\n",
            "\u001b[34m\u001b[1mwandb\u001b[0m: Currently logged in as: \u001b[33mmaridodonova\u001b[0m (\u001b[33mmaridodonova-igor-sikorsky-kyiv-polytechnic-institute\u001b[0m) to \u001b[32mhttps://api.wandb.ai\u001b[0m. Use \u001b[1m`wandb login --relogin`\u001b[0m to force relogin\n"
          ]
        }
      ],
      "source": [
        "import os\n",
        "\n",
        "import torch\n",
        "from transformers import (\n",
        "    AutoModelForCausalLM,\n",
        "    AutoTokenizer,\n",
        "    BitsAndBytesConfig\n",
        ")\n",
        "from peft import (\n",
        "    LoraConfig,\n",
        "    get_peft_model,\n",
        "    TaskType\n",
        ")\n",
        "from datasets import load_dataset\n",
        "from evaluate import load\n",
        "from tqdm import tqdm\n",
        "\n",
        "import wandb\n",
        "from huggingface_hub import login\n",
        "from kaggle_secrets import UserSecretsClient\n",
        "\n",
        "from trl import SFTTrainer, SFTConfig, setup_chat_format\n",
        "import bitsandbytes as bnb\n",
        "\n",
        "user_secrets = UserSecretsClient()\n",
        "login(user_secrets.get_secret(\"HF_TOKEN\"))\n",
        "wandb.login(key=user_secrets.get_secret(\"WANDB_API_KEY\"))\n",
        "\n",
        "MODEL = \"google/gemma-2-2b-it\"\n",
        "N_TRAIN = 5000\n",
        "SEED = 42"
      ]
    },
    {
      "cell_type": "markdown",
      "id": "40406d48",
      "metadata": {
        "papermill": {
          "duration": 0.025245,
          "end_time": "2025-06-07T10:32:07.680470",
          "exception": false,
          "start_time": "2025-06-07T10:32:07.655225",
          "status": "completed"
        },
        "tags": [],
        "id": "40406d48"
      },
      "source": [
        "# Model & Tokenizer"
      ]
    },
    {
      "cell_type": "code",
      "execution_count": null,
      "id": "643c3b79",
      "metadata": {
        "execution": {
          "iopub.execute_input": "2025-06-07T10:32:07.732772Z",
          "iopub.status.busy": "2025-06-07T10:32:07.732205Z",
          "iopub.status.idle": "2025-06-07T10:32:35.337822Z",
          "shell.execute_reply": "2025-06-07T10:32:35.337242Z"
        },
        "papermill": {
          "duration": 27.632999,
          "end_time": "2025-06-07T10:32:35.339155",
          "exception": false,
          "start_time": "2025-06-07T10:32:07.706156",
          "status": "completed"
        },
        "tags": [],
        "colab": {
          "referenced_widgets": [
            "8693efe0a20541b0905b21439c4a54e3",
            "2672d303b4b945b397350345a5f09120",
            "f4cc52405a3b42eb9b82366cdb5b903f",
            "601eb93484764360adc0a5ad0cbe818e",
            "3933e4fc913445afadc19f000f848819",
            "0e7c91e884dd40019882fcbe5f1c5b88",
            "e2ff180fbb5a401592f2af312fed2225",
            "5c8b423e3bd349e29657679cf7a3967e",
            "bd941cf52e4142b29fb71a49b74bf6ff",
            "82ba1f1e5e1c4bac833357afe6ac5615",
            "a8d271a1ff5f42c681dc0333d1a10b58"
          ]
        },
        "id": "643c3b79",
        "outputId": "25520c2c-ebe6-4c94-c4ed-561f0f530eb4"
      },
      "outputs": [
        {
          "data": {
            "application/vnd.jupyter.widget-view+json": {
              "model_id": "8693efe0a20541b0905b21439c4a54e3",
              "version_major": 2,
              "version_minor": 0
            },
            "text/plain": [
              "config.json:   0%|          | 0.00/838 [00:00<?, ?B/s]"
            ]
          },
          "metadata": {},
          "output_type": "display_data"
        },
        {
          "data": {
            "application/vnd.jupyter.widget-view+json": {
              "model_id": "2672d303b4b945b397350345a5f09120",
              "version_major": 2,
              "version_minor": 0
            },
            "text/plain": [
              "model.safetensors.index.json:   0%|          | 0.00/24.2k [00:00<?, ?B/s]"
            ]
          },
          "metadata": {},
          "output_type": "display_data"
        },
        {
          "data": {
            "application/vnd.jupyter.widget-view+json": {
              "model_id": "f4cc52405a3b42eb9b82366cdb5b903f",
              "version_major": 2,
              "version_minor": 0
            },
            "text/plain": [
              "Fetching 2 files:   0%|          | 0/2 [00:00<?, ?it/s]"
            ]
          },
          "metadata": {},
          "output_type": "display_data"
        },
        {
          "data": {
            "application/vnd.jupyter.widget-view+json": {
              "model_id": "601eb93484764360adc0a5ad0cbe818e",
              "version_major": 2,
              "version_minor": 0
            },
            "text/plain": [
              "model-00001-of-00002.safetensors:   0%|          | 0.00/4.99G [00:00<?, ?B/s]"
            ]
          },
          "metadata": {},
          "output_type": "display_data"
        },
        {
          "data": {
            "application/vnd.jupyter.widget-view+json": {
              "model_id": "3933e4fc913445afadc19f000f848819",
              "version_major": 2,
              "version_minor": 0
            },
            "text/plain": [
              "model-00002-of-00002.safetensors:   0%|          | 0.00/241M [00:00<?, ?B/s]"
            ]
          },
          "metadata": {},
          "output_type": "display_data"
        },
        {
          "data": {
            "application/vnd.jupyter.widget-view+json": {
              "model_id": "0e7c91e884dd40019882fcbe5f1c5b88",
              "version_major": 2,
              "version_minor": 0
            },
            "text/plain": [
              "Loading checkpoint shards:   0%|          | 0/2 [00:00<?, ?it/s]"
            ]
          },
          "metadata": {},
          "output_type": "display_data"
        },
        {
          "data": {
            "application/vnd.jupyter.widget-view+json": {
              "model_id": "e2ff180fbb5a401592f2af312fed2225",
              "version_major": 2,
              "version_minor": 0
            },
            "text/plain": [
              "generation_config.json:   0%|          | 0.00/187 [00:00<?, ?B/s]"
            ]
          },
          "metadata": {},
          "output_type": "display_data"
        },
        {
          "data": {
            "application/vnd.jupyter.widget-view+json": {
              "model_id": "5c8b423e3bd349e29657679cf7a3967e",
              "version_major": 2,
              "version_minor": 0
            },
            "text/plain": [
              "tokenizer_config.json:   0%|          | 0.00/47.0k [00:00<?, ?B/s]"
            ]
          },
          "metadata": {},
          "output_type": "display_data"
        },
        {
          "data": {
            "application/vnd.jupyter.widget-view+json": {
              "model_id": "bd941cf52e4142b29fb71a49b74bf6ff",
              "version_major": 2,
              "version_minor": 0
            },
            "text/plain": [
              "tokenizer.model:   0%|          | 0.00/4.24M [00:00<?, ?B/s]"
            ]
          },
          "metadata": {},
          "output_type": "display_data"
        },
        {
          "data": {
            "application/vnd.jupyter.widget-view+json": {
              "model_id": "82ba1f1e5e1c4bac833357afe6ac5615",
              "version_major": 2,
              "version_minor": 0
            },
            "text/plain": [
              "tokenizer.json:   0%|          | 0.00/17.5M [00:00<?, ?B/s]"
            ]
          },
          "metadata": {},
          "output_type": "display_data"
        },
        {
          "data": {
            "application/vnd.jupyter.widget-view+json": {
              "model_id": "a8d271a1ff5f42c681dc0333d1a10b58",
              "version_major": 2,
              "version_minor": 0
            },
            "text/plain": [
              "special_tokens_map.json:   0%|          | 0.00/636 [00:00<?, ?B/s]"
            ]
          },
          "metadata": {},
          "output_type": "display_data"
        }
      ],
      "source": [
        "bnb_config = BitsAndBytesConfig(\n",
        "   load_in_4bit=True,\n",
        "   bnb_4bit_quant_type=\"nf4\",\n",
        "   bnb_4bit_use_double_quant=True,\n",
        "   bnb_4bit_compute_dtype=torch.float16\n",
        ")\n",
        "\n",
        "model = AutoModelForCausalLM.from_pretrained(\n",
        "    MODEL,\n",
        "    torch_dtype=torch.float16,\n",
        "    quantization_config=bnb_config,\n",
        "    device_map=\"auto\",\n",
        "    attn_implementation=\"eager\"\n",
        ")\n",
        "tokenizer = AutoTokenizer.from_pretrained(MODEL)"
      ]
    },
    {
      "cell_type": "code",
      "execution_count": null,
      "id": "116173ef",
      "metadata": {
        "execution": {
          "iopub.execute_input": "2025-06-07T10:32:35.394678Z",
          "iopub.status.busy": "2025-06-07T10:32:35.394183Z",
          "iopub.status.idle": "2025-06-07T10:32:35.993822Z",
          "shell.execute_reply": "2025-06-07T10:32:35.993215Z"
        },
        "papermill": {
          "duration": 0.628568,
          "end_time": "2025-06-07T10:32:35.995140",
          "exception": false,
          "start_time": "2025-06-07T10:32:35.366572",
          "status": "completed"
        },
        "tags": [],
        "id": "116173ef",
        "outputId": "5d4b0c8c-1f25-4edb-910d-a5088ead692c"
      },
      "outputs": [
        {
          "name": "stderr",
          "output_type": "stream",
          "text": [
            "The new embeddings will be initialized from a multivariate normal distribution that has old embeddings' mean and covariance. As described in this article: https://nlp.stanford.edu/~johnhew/vocab-expansion.html. To disable this, use `mean_resizing=False`\n"
          ]
        }
      ],
      "source": [
        "tokenizer.chat_template = None # Reset the chat template to prevent duplication error\n",
        "model, tokenizer = setup_chat_format(model, tokenizer)"
      ]
    },
    {
      "cell_type": "code",
      "execution_count": null,
      "id": "1ac9a92d",
      "metadata": {
        "execution": {
          "iopub.execute_input": "2025-06-07T10:32:36.114444Z",
          "iopub.status.busy": "2025-06-07T10:32:36.113915Z",
          "iopub.status.idle": "2025-06-07T10:32:36.570218Z",
          "shell.execute_reply": "2025-06-07T10:32:36.569593Z"
        },
        "papermill": {
          "duration": 0.495051,
          "end_time": "2025-06-07T10:32:36.571596",
          "exception": false,
          "start_time": "2025-06-07T10:32:36.076545",
          "status": "completed"
        },
        "tags": [],
        "id": "1ac9a92d"
      },
      "outputs": [],
      "source": [
        "lora_config = LoraConfig(\n",
        "    r=16,\n",
        "    lora_alpha=8,\n",
        "    lora_dropout=0.05,\n",
        "    bias='none',\n",
        "    task_type=TaskType.CAUSAL_LM,\n",
        "    target_modules=['down_proj', 'o_proj', 'up_proj', 'v_proj', 'q_proj', 'k_proj', 'gate_proj']\n",
        ")\n",
        "\n",
        "model = get_peft_model(model, lora_config)"
      ]
    },
    {
      "cell_type": "markdown",
      "id": "cb3dfcf4",
      "metadata": {
        "papermill": {
          "duration": 0.032932,
          "end_time": "2025-06-07T10:32:36.633579",
          "exception": false,
          "start_time": "2025-06-07T10:32:36.600647",
          "status": "completed"
        },
        "tags": [],
        "id": "cb3dfcf4"
      },
      "source": [
        "# Data Processing"
      ]
    },
    {
      "cell_type": "code",
      "execution_count": null,
      "id": "24338fd3",
      "metadata": {
        "execution": {
          "iopub.execute_input": "2025-06-07T10:32:36.691614Z",
          "iopub.status.busy": "2025-06-07T10:32:36.690901Z",
          "iopub.status.idle": "2025-06-07T10:32:41.874025Z",
          "shell.execute_reply": "2025-06-07T10:32:41.873499Z"
        },
        "papermill": {
          "duration": 5.213903,
          "end_time": "2025-06-07T10:32:41.875184",
          "exception": false,
          "start_time": "2025-06-07T10:32:36.661281",
          "status": "completed"
        },
        "tags": [],
        "colab": {
          "referenced_widgets": [
            "7ea2d64130a04fa0ae9bed03cb04a4b3",
            "a51c240b70a9473bae210f1280d14b5d",
            "e49355f5c26947ae964535772a7ff2b6",
            "bf2695893b334dc3a0d83b09429ea6c2",
            "15a0d33b5a844a25ae2bb0a106aed09d",
            "74608358593043a8b25b6d01bf225231",
            "f1eb661d7ef84ee184cdca738b972e19",
            "3a23c99ca29f4ab3b0e94eafc6b32b65",
            "930d4f7022c6418b87d7f5acf9a896b2",
            "deee008535ca4db8b433ebace3635a27"
          ]
        },
        "id": "24338fd3",
        "outputId": "0c5d1f72-27ab-41cd-9404-368937f3521e"
      },
      "outputs": [
        {
          "data": {
            "application/vnd.jupyter.widget-view+json": {
              "model_id": "7ea2d64130a04fa0ae9bed03cb04a4b3",
              "version_major": 2,
              "version_minor": 0
            },
            "text/plain": [
              "README.md:   0%|          | 0.00/4.65k [00:00<?, ?B/s]"
            ]
          },
          "metadata": {},
          "output_type": "display_data"
        },
        {
          "data": {
            "application/vnd.jupyter.widget-view+json": {
              "model_id": "a51c240b70a9473bae210f1280d14b5d",
              "version_major": 2,
              "version_minor": 0
            },
            "text/plain": [
              "train.csv:   0%|          | 0.00/11.3M [00:00<?, ?B/s]"
            ]
          },
          "metadata": {},
          "output_type": "display_data"
        },
        {
          "data": {
            "application/vnd.jupyter.widget-view+json": {
              "model_id": "e49355f5c26947ae964535772a7ff2b6",
              "version_major": 2,
              "version_minor": 0
            },
            "text/plain": [
              "validation.csv:   0%|          | 0.00/442k [00:00<?, ?B/s]"
            ]
          },
          "metadata": {},
          "output_type": "display_data"
        },
        {
          "data": {
            "application/vnd.jupyter.widget-view+json": {
              "model_id": "bf2695893b334dc3a0d83b09429ea6c2",
              "version_major": 2,
              "version_minor": 0
            },
            "text/plain": [
              "test.csv:   0%|          | 0.00/1.35M [00:00<?, ?B/s]"
            ]
          },
          "metadata": {},
          "output_type": "display_data"
        },
        {
          "data": {
            "application/vnd.jupyter.widget-view+json": {
              "model_id": "15a0d33b5a844a25ae2bb0a106aed09d",
              "version_major": 2,
              "version_minor": 0
            },
            "text/plain": [
              "Generating train split:   0%|          | 0/12460 [00:00<?, ? examples/s]"
            ]
          },
          "metadata": {},
          "output_type": "display_data"
        },
        {
          "data": {
            "application/vnd.jupyter.widget-view+json": {
              "model_id": "74608358593043a8b25b6d01bf225231",
              "version_major": 2,
              "version_minor": 0
            },
            "text/plain": [
              "Generating validation split:   0%|          | 0/500 [00:00<?, ? examples/s]"
            ]
          },
          "metadata": {},
          "output_type": "display_data"
        },
        {
          "data": {
            "application/vnd.jupyter.widget-view+json": {
              "model_id": "f1eb661d7ef84ee184cdca738b972e19",
              "version_major": 2,
              "version_minor": 0
            },
            "text/plain": [
              "Generating test split:   0%|          | 0/1500 [00:00<?, ? examples/s]"
            ]
          },
          "metadata": {},
          "output_type": "display_data"
        },
        {
          "data": {
            "application/vnd.jupyter.widget-view+json": {
              "model_id": "3a23c99ca29f4ab3b0e94eafc6b32b65",
              "version_major": 2,
              "version_minor": 0
            },
            "text/plain": [
              "Map:   0%|          | 0/5000 [00:00<?, ? examples/s]"
            ]
          },
          "metadata": {},
          "output_type": "display_data"
        },
        {
          "data": {
            "application/vnd.jupyter.widget-view+json": {
              "model_id": "930d4f7022c6418b87d7f5acf9a896b2",
              "version_major": 2,
              "version_minor": 0
            },
            "text/plain": [
              "Map:   0%|          | 0/500 [00:00<?, ? examples/s]"
            ]
          },
          "metadata": {},
          "output_type": "display_data"
        },
        {
          "data": {
            "application/vnd.jupyter.widget-view+json": {
              "model_id": "deee008535ca4db8b433ebace3635a27",
              "version_major": 2,
              "version_minor": 0
            },
            "text/plain": [
              "Map:   0%|          | 0/1500 [00:00<?, ? examples/s]"
            ]
          },
          "metadata": {},
          "output_type": "display_data"
        }
      ],
      "source": [
        "def preprocess_dialogs(example, add_generation_prompt=False):\n",
        "    max_length = 1024\n",
        "    messages = [\n",
        "        {\"role\": \"user\", \"content\": example[\"dialogue\"]},\n",
        "    ]\n",
        "    if not add_generation_prompt:\n",
        "        messages.insert(0, {\"role\": \"system\", \"content\": \"Summarize the following dialogue.\"})\n",
        "        messages.append({\"role\": \"assistant\", \"content\": example[\"summary\"]})\n",
        "\n",
        "    # Generate chat-formatted prompt\n",
        "    prompt = tokenizer.apply_chat_template(\n",
        "        messages,\n",
        "        tokenize=False,\n",
        "        add_generation_prompt=add_generation_prompt\n",
        "    )\n",
        "\n",
        "    example[\"text\"] = prompt\n",
        "\n",
        "    return example\n",
        "\n",
        "dataset = load_dataset(\"knkarthick/dialogsum\")\n",
        "train_ds = dataset[\"train\"].shuffle(seed=SEED).select(range(N_TRAIN)).map(preprocess_dialogs)\n",
        "valid_ds = dataset[\"validation\"].shuffle(seed=SEED).map(preprocess_dialogs)\n",
        "test_ds = dataset[\"test\"].shuffle(seed=SEED).map(lambda ex: preprocess_dialogs(ex, add_generation_prompt=True))\n",
        "\n",
        "remove_columns = ['id', 'dialogue', 'topic']\n",
        "train_ds = train_ds.remove_columns(remove_columns)\n",
        "valid_ds = valid_ds.remove_columns(remove_columns)\n",
        "test_ds = test_ds.remove_columns(remove_columns)"
      ]
    },
    {
      "cell_type": "code",
      "execution_count": null,
      "id": "04bcbb54",
      "metadata": {
        "execution": {
          "iopub.execute_input": "2025-06-07T10:32:41.932587Z",
          "iopub.status.busy": "2025-06-07T10:32:41.932340Z",
          "iopub.status.idle": "2025-06-07T10:32:41.944646Z",
          "shell.execute_reply": "2025-06-07T10:32:41.944083Z"
        },
        "papermill": {
          "duration": 0.041535,
          "end_time": "2025-06-07T10:32:41.945734",
          "exception": false,
          "start_time": "2025-06-07T10:32:41.904199",
          "status": "completed"
        },
        "tags": [],
        "id": "04bcbb54",
        "outputId": "563d21b6-a1a2-4541-f429-48c58e204c4d"
      },
      "outputs": [
        {
          "data": {
            "text/plain": [
              "\"<|im_start|>system\\nSummarize the following dialogue.<|im_end|>\\n<|im_start|>user\\n#Person1#: Hello, Anna speaking!\\n#Person2#: Hey, Anna, this is Jason.\\n#Person1#: Jason, where have you been hiding lately? You know it's been a long time since your last call. Have you been good?\\n#Person2#: Yes. How are you, Anna?\\n#Person1#: I am fine. What have you been doing?\\n#Person2#: Working. I've been really busy these days. I got a promotion.\\n#Person1#: That's great, congratulations!\\n#Person2#: Thanks. I am feeling pretty good about myself too. You know, bigger office, a raise and even an assistant.\\n#Person1#: That's good. So I guess I'll have to make an appointment to see you.\\n#Person2#: You are kidding.\\n#Person1#: How long have you been working there?\\n#Person2#: A bit over two years. This is a fast-moving company, and seniority isn't the only factor in deciding promotions.\\n#Person1#: How do you like your new boss?\\n#Person2#: She is very nice and open-minded.\\n#Person1#: Much better than the last one, huh?\\n#Person2#: Yeah. He was a real slave driver. He probably would have loved it if we were robots.\\n#Person1#: Forget about him. Come over to my house tonight. Let's get drunk.\\n#Person2#: Good. Tonight 8 o'clock.\\n#Person1#: 8 it is. See you then.\\n#Person2#: Bye.<|im_end|>\\n<|im_start|>assistant\\nJason hasn't called Anna for a long time. He calls her to tell her he got a promotion and he feels good about it. Anna invites him to come over to her house tonight to get drunk.<|im_end|>\\n\""
            ]
          },
          "execution_count": 7,
          "metadata": {},
          "output_type": "execute_result"
        }
      ],
      "source": [
        "train_ds[\"text\"][0]"
      ]
    },
    {
      "cell_type": "code",
      "execution_count": null,
      "id": "a5b8bf1c",
      "metadata": {
        "execution": {
          "iopub.execute_input": "2025-06-07T10:32:42.002887Z",
          "iopub.status.busy": "2025-06-07T10:32:42.002659Z",
          "iopub.status.idle": "2025-06-07T10:32:42.009261Z",
          "shell.execute_reply": "2025-06-07T10:32:42.008706Z"
        },
        "papermill": {
          "duration": 0.036496,
          "end_time": "2025-06-07T10:32:42.010303",
          "exception": false,
          "start_time": "2025-06-07T10:32:41.973807",
          "status": "completed"
        },
        "tags": [],
        "id": "a5b8bf1c",
        "outputId": "fb6b156e-4619-4de4-bd9c-bf51e29faf06"
      },
      "outputs": [
        {
          "data": {
            "text/plain": [
              "\"<|im_start|>user\\n#Person1#: Hi! What are you watching?\\n#Person2#: It's a program about islam. It's very interesting.\\n#Person1#: Wow! So many people! Where are they and what are they doing?\\n#Person2#: They are muslims on a pilgrimage to mecca. Muslims call this pilgrimage 'haj'.\\n#Person1#: Why do they go there?\\n#Person2#: Muslims believe that every man who is able should go on a haj at least once in his life. Mecca is the spiritual centre of the muslim faith.\\n#Person1#: When muslims pray, they face towards mecca.\\n#Person2#: That's right. Unfortunately, so many people go on the haj each year that there are often stamped and people get killed.\\n#Person1#: I heard about that. The pilgrims must walk around a large, sacred black stone.\\n#Person2#: That's right. That's when accidents often happen. The Saudi government tries to limit the number of pilgrims, to reduce the chances of accidents.\\n#Person1#: Pilgrimages are common in many faiths.\\n#Person2#: Yes. In England, Christian pilgrims might go to Canterbury and many Christians go to the Vatican on pilgrimages.\\n#Person1#: Isn't there a place in france where people go to get healed?\\n#Person2#: I think that place is Lourdes. There are many stories of people being healed after visiting there.\\n#Person1#: Do you think that there is something magical about that place?\\n#Person2#: Personally. I think that people believe they will be healed and that faith causes a change in their mind that cures them. I don't think place is magical in any way.<|im_end|>\\n<|im_start|>assistant\\n\""
            ]
          },
          "execution_count": 8,
          "metadata": {},
          "output_type": "execute_result"
        }
      ],
      "source": [
        "test_ds[\"text\"][0]"
      ]
    },
    {
      "cell_type": "markdown",
      "id": "2a6f21cb",
      "metadata": {
        "papermill": {
          "duration": 0.027942,
          "end_time": "2025-06-07T10:32:42.066558",
          "exception": false,
          "start_time": "2025-06-07T10:32:42.038616",
          "status": "completed"
        },
        "tags": [],
        "id": "2a6f21cb"
      },
      "source": [
        "# Zero-Shot Evaluation"
      ]
    },
    {
      "cell_type": "code",
      "execution_count": null,
      "id": "9367019a",
      "metadata": {
        "execution": {
          "iopub.execute_input": "2025-06-07T10:32:42.122725Z",
          "iopub.status.busy": "2025-06-07T10:32:42.122511Z",
          "iopub.status.idle": "2025-06-07T10:34:45.076423Z",
          "shell.execute_reply": "2025-06-07T10:34:45.074820Z"
        },
        "papermill": {
          "duration": 122.98337,
          "end_time": "2025-06-07T10:34:45.077631",
          "exception": false,
          "start_time": "2025-06-07T10:32:42.094261",
          "status": "completed"
        },
        "tags": [],
        "colab": {
          "referenced_widgets": [
            "a4b34cfd43eb44869c4b4d591046ac8d"
          ]
        },
        "id": "9367019a",
        "outputId": "6dc29780-661c-4f6e-94f3-cc98534ae37b"
      },
      "outputs": [
        {
          "data": {
            "application/vnd.jupyter.widget-view+json": {
              "model_id": "a4b34cfd43eb44869c4b4d591046ac8d",
              "version_major": 2,
              "version_minor": 0
            },
            "text/plain": [
              "Downloading builder script:   0%|          | 0.00/6.27k [00:00<?, ?B/s]"
            ]
          },
          "metadata": {},
          "output_type": "display_data"
        },
        {
          "name": "stderr",
          "output_type": "stream",
          "text": [
            "100%|██████████| 10/10 [02:01<00:00, 12.16s/it]"
          ]
        },
        {
          "name": "stdout",
          "output_type": "stream",
          "text": [
            "Zero-shot ROUGE: {'rouge1': 0.10119212690176677, 'rouge2': 0.00786056049213944, 'rougeL': 0.0713861070046592, 'rougeLsum': 0.08549798623903432}\n",
            "Zero-shot predictions:\n",
            "PREDICTION 1\n",
            "This is a great conversation! It's interesting to see how different people can share their knowledge and perspectives on a topic. \n",
            "\n",
            "Here are some observations and potential questions for further exploration:\n",
            "\n",
            "**Observations:**\n",
            "\n",
            "* **Person 2's knowledge is detailed and accurate.** They provide information about the Hajj, its significance, and the challenges associated with it.\n",
            "* **Person 2's response is respectful and sensitive.** They acknowledge the potential dangers of the Hajj and avoid making light of\n",
            "\n",
            "PREDICTION 2\n",
            "This conversation is a good example of how to use natural language processing (NLP) to understand and respond to user input. \n",
            "\n",
            "Here's a breakdown of why:\n",
            "\n",
            "**NLP Techniques Used:**\n",
            "\n",
            "* **Intent Recognition:**  The conversation clearly identifies the user's intent: to send a package. This is evident from the initial statement \"I want to send this package by first-class mail.\"\n",
            "* **Entity Extraction:**  The conversation identifies key entities:\n",
            "    * **Action\n",
            "\n",
            "PREDICTION 3\n",
            "This conversation is a good example of how to have a casual conversation about a picnic. Here's a breakdown of why it's effective:\n",
            "\n",
            "**Strengths:**\n",
            "\n",
            "* **Clear and concise:** The conversation is straightforward and easy to follow.\n",
            "* **Natural language:** The dialogue uses everyday language that feels realistic.\n",
            "* **Open-ended questions:**  \"Where are you going?\" and \"What should I bring?\" encourage further conversation and provide opportunities for Person2 to share their thoughts.\n",
            "\n",
            "PREDICTION 4\n",
            "This conversation is a great example of how to use dialogue to create a realistic and engaging scene. \n",
            "\n",
            "Here's a breakdown of what makes it work:\n",
            "\n",
            "* **Natural dialogue:** The conversation flows naturally, with characters using appropriate language and addressing each other directly.\n",
            "* **Subtle characterization:** We learn about the characters through their dialogue. Person 1 is friendly and helpful, while Person 2 is more hesitant and unsure.\n",
            "* **Clear context:** The scene is set in\n",
            "\n",
            "PREDICTION 5\n",
            "## Analysis of the conversation\n",
            "\n",
            "This conversation is a simple exchange between two people, Lucy and Lin Fang, about their favorite subjects. \n",
            "\n",
            "**Key points:**\n",
            "\n",
            "* **Introduction:** The conversation starts with a greeting, indicating a friendly and casual tone.\n",
            "* **Subject preference:** The conversation focuses on the subjects the two people like and dislike.\n",
            "* **Comparison:** The conversation includes comparisons between the two people's preferences, highlighting their differences.\n",
            "* **Open-ended questions:** The\n",
            "\n",
            "PREDICTION 6\n",
            "This conversation is a bit awkward and potentially problematic. Here's why:\n",
            "\n",
            "* **Objectification:**  Person 2 is treating the woman as a prize to be won, focusing on her single status and \"the girl of his dreams\" rather than her as a person.\n",
            "* **Assumptions about relationships:**  Person 2 assumes that because they live next to each other, they're automatically destined to be in a relationship. This is a very simplistic and potentially harmful view of relationships.\n",
            "\n",
            "PREDICTION 7\n",
            "This is a great dialogue! It's funny and realistic, capturing the awkwardness of a stressful situation. \n",
            "\n",
            "Here are a few thoughts and suggestions:\n",
            "\n",
            "**Strengths:**\n",
            "\n",
            "* **Realistic dialogue:** The conversation feels natural and believable, with the characters' reactions fitting the situation.\n",
            "* **Humor:** The dialogue is funny, especially the exchange about the \"soft sleeper\" and the \"4 mao short\" situation.\n",
            "* **Tension:** The dialogue builds tension effectively, especially with the\n",
            "\n",
            "PREDICTION 8\n",
            "This conversation is a bit odd. Here's why:\n",
            "\n",
            "* **Person 2's response is inconsistent.** They say they'll be \"very glad if you would help\" but then say they \"wish I would\" in response to Person 1's well wishes. This is a bit of a contradiction.\n",
            "* **The conversation lacks context.** We don't know anything about the reason for Person 2's desire for an office. Is it a dream? Are\n",
            "\n",
            "PREDICTION 9\n",
            "This is a very concerning situation. It sounds like you're dealing with harassment. \n",
            "\n",
            "Here's what you can do:\n",
            "\n",
            "**Document everything:**\n",
            "\n",
            "* **Keep a record of every call:** Note the date, time, and duration of each call. \n",
            "* **Record the caller's voice:** If possible, record the calls. This can be done with a voice recorder or a smartphone app. \n",
            "* **Save any messages:** If the caller leaves a voicemail,\n",
            "\n",
            "PREDICTION 10\n",
            "This conversation is a good start, but it could be improved by adding more details and context. Here's a breakdown of what's working and what could be enhanced:\n",
            "\n",
            "**Strengths:**\n",
            "\n",
            "* **Clear and concise:** The conversation flows naturally and is easy to understand.\n",
            "* **Relevant information:** The conversation addresses the user's specific needs (weekend courses, coaches, training hours, car sharing).\n",
            "* **Professional tone:** The language is polite and professional.\n",
            "\n",
            "**Areas for\n",
            "\n"
          ]
        },
        {
          "name": "stderr",
          "output_type": "stream",
          "text": [
            "\n"
          ]
        }
      ],
      "source": [
        "def evaluate_model(model, tokenizer, data, max_samples=10):\n",
        "    if max_samples is None:\n",
        "        max_samples = len(data)\n",
        "    rouge = load(\"rouge\")\n",
        "    model.config.use_cache = True\n",
        "    model.eval()\n",
        "    preds, refs = [], []\n",
        "    for ex in tqdm(data.select(range(max_samples))):\n",
        "        prompt = ex[\"text\"]\n",
        "        inputs = tokenizer(prompt, return_tensors='pt', padding=True, truncation=True, max_length=1024).to(model.device)\n",
        "\n",
        "        with torch.no_grad():\n",
        "            output = model.generate(\n",
        "                **inputs,\n",
        "                max_new_tokens=100,\n",
        "            )\n",
        "\n",
        "        prediction = tokenizer.decode(output[0], skip_special_tokens=True).split(\"assistant\")[-1].strip()\n",
        "\n",
        "        preds.append(prediction)\n",
        "        refs.append(ex[\"summary\"])\n",
        "    scores = rouge.compute(predictions=preds, references=refs)\n",
        "    return scores, preds\n",
        "\n",
        "zs_metrics, zs_preds = evaluate_model(model, tokenizer, test_ds)\n",
        "print(\"Zero-shot ROUGE:\", zs_metrics)\n",
        "print(\"Zero-shot predictions:\")\n",
        "for i, pred in enumerate(zs_preds[:10]):\n",
        "    print(f\"PREDICTION {i+1}\")\n",
        "    print(pred)\n",
        "    print()"
      ]
    },
    {
      "cell_type": "markdown",
      "id": "dcc5cc14",
      "metadata": {
        "papermill": {
          "duration": 0.02854,
          "end_time": "2025-06-07T10:34:45.137538",
          "exception": false,
          "start_time": "2025-06-07T10:34:45.108998",
          "status": "completed"
        },
        "tags": [],
        "id": "dcc5cc14"
      },
      "source": [
        "# Training"
      ]
    },
    {
      "cell_type": "code",
      "execution_count": null,
      "id": "d2b3e09b",
      "metadata": {
        "execution": {
          "iopub.execute_input": "2025-06-07T10:34:45.197734Z",
          "iopub.status.busy": "2025-06-07T10:34:45.196976Z",
          "iopub.status.idle": "2025-06-07T10:34:51.261809Z",
          "shell.execute_reply": "2025-06-07T10:34:51.261104Z"
        },
        "papermill": {
          "duration": 6.096656,
          "end_time": "2025-06-07T10:34:51.262970",
          "exception": false,
          "start_time": "2025-06-07T10:34:45.166314",
          "status": "completed"
        },
        "tags": [],
        "colab": {
          "referenced_widgets": [
            "44789df040f04425a74856ee250f11a7",
            "124cec2ca14d4372af60445335b1e45c",
            "dc8c80113124496bb5e9b61a8ba77953",
            "ffed520c6e104aed92feba45c5614b94",
            "a99c1996b26c45c484a69d5a76ca1a2e",
            "64864b05f4544175bebf4614c9cfaebf",
            "b74556b23b40429cb6a2a10a4515df80",
            "5ab6ebe037e841f4a2c3dc02dcd7a5dc"
          ]
        },
        "id": "d2b3e09b",
        "outputId": "b1e611a5-f250-4876-bc40-7a3217174b28"
      },
      "outputs": [
        {
          "data": {
            "application/vnd.jupyter.widget-view+json": {
              "model_id": "44789df040f04425a74856ee250f11a7",
              "version_major": 2,
              "version_minor": 0
            },
            "text/plain": [
              "Converting train dataset to ChatML:   0%|          | 0/5000 [00:00<?, ? examples/s]"
            ]
          },
          "metadata": {},
          "output_type": "display_data"
        },
        {
          "data": {
            "application/vnd.jupyter.widget-view+json": {
              "model_id": "124cec2ca14d4372af60445335b1e45c",
              "version_major": 2,
              "version_minor": 0
            },
            "text/plain": [
              "Adding EOS to train dataset:   0%|          | 0/5000 [00:00<?, ? examples/s]"
            ]
          },
          "metadata": {},
          "output_type": "display_data"
        },
        {
          "data": {
            "application/vnd.jupyter.widget-view+json": {
              "model_id": "dc8c80113124496bb5e9b61a8ba77953",
              "version_major": 2,
              "version_minor": 0
            },
            "text/plain": [
              "Tokenizing train dataset:   0%|          | 0/5000 [00:00<?, ? examples/s]"
            ]
          },
          "metadata": {},
          "output_type": "display_data"
        },
        {
          "data": {
            "application/vnd.jupyter.widget-view+json": {
              "model_id": "ffed520c6e104aed92feba45c5614b94",
              "version_major": 2,
              "version_minor": 0
            },
            "text/plain": [
              "Truncating train dataset:   0%|          | 0/5000 [00:00<?, ? examples/s]"
            ]
          },
          "metadata": {},
          "output_type": "display_data"
        },
        {
          "data": {
            "application/vnd.jupyter.widget-view+json": {
              "model_id": "a99c1996b26c45c484a69d5a76ca1a2e",
              "version_major": 2,
              "version_minor": 0
            },
            "text/plain": [
              "Converting eval dataset to ChatML:   0%|          | 0/500 [00:00<?, ? examples/s]"
            ]
          },
          "metadata": {},
          "output_type": "display_data"
        },
        {
          "data": {
            "application/vnd.jupyter.widget-view+json": {
              "model_id": "64864b05f4544175bebf4614c9cfaebf",
              "version_major": 2,
              "version_minor": 0
            },
            "text/plain": [
              "Adding EOS to eval dataset:   0%|          | 0/500 [00:00<?, ? examples/s]"
            ]
          },
          "metadata": {},
          "output_type": "display_data"
        },
        {
          "data": {
            "application/vnd.jupyter.widget-view+json": {
              "model_id": "b74556b23b40429cb6a2a10a4515df80",
              "version_major": 2,
              "version_minor": 0
            },
            "text/plain": [
              "Tokenizing eval dataset:   0%|          | 0/500 [00:00<?, ? examples/s]"
            ]
          },
          "metadata": {},
          "output_type": "display_data"
        },
        {
          "data": {
            "application/vnd.jupyter.widget-view+json": {
              "model_id": "5ab6ebe037e841f4a2c3dc02dcd7a5dc",
              "version_major": 2,
              "version_minor": 0
            },
            "text/plain": [
              "Truncating eval dataset:   0%|          | 0/500 [00:00<?, ? examples/s]"
            ]
          },
          "metadata": {},
          "output_type": "display_data"
        },
        {
          "name": "stderr",
          "output_type": "stream",
          "text": [
            "No label_names provided for model class `PeftModelForCausalLM`. Since `PeftModel` hides base models input arguments, if label_names is not given, label_names can't be set automatically within `Trainer`. Note that empty label_names list will be used instead.\n"
          ]
        }
      ],
      "source": [
        "training_args = SFTConfig(\n",
        "    output_dir='/kaggle/working/checkpoints',\n",
        "    per_device_train_batch_size=1,\n",
        "    per_device_eval_batch_size=1,\n",
        "    gradient_accumulation_steps=2,\n",
        "    num_train_epochs=1,\n",
        "    optim=\"paged_adamw_32bit\",\n",
        "    eval_strategy=\"steps\",\n",
        "    eval_steps=0.2,\n",
        "    logging_steps=15,\n",
        "    warmup_steps=int(0.05 * len(train_ds)),\n",
        "    logging_strategy=\"steps\",\n",
        "    learning_rate=1e-4,\n",
        "    fp16=True,\n",
        "    bf16=False,\n",
        "    report_to=\"wandb\",\n",
        "    group_by_length=True,\n",
        "    max_seq_length=1024,\n",
        "    dataset_text_field=\"text\",\n",
        ")\n",
        "\n",
        "trainer = SFTTrainer(\n",
        "    model=model,\n",
        "    train_dataset=train_ds,\n",
        "    eval_dataset=valid_ds,\n",
        "    peft_config=lora_config,\n",
        "    args=training_args,\n",
        "    processing_class=tokenizer,\n",
        ")\n",
        "\n",
        "\n",
        "model.config.use_cache = False"
      ]
    },
    {
      "cell_type": "code",
      "execution_count": null,
      "id": "06e200e1",
      "metadata": {
        "execution": {
          "iopub.execute_input": "2025-06-07T10:34:51.323319Z",
          "iopub.status.busy": "2025-06-07T10:34:51.323049Z",
          "iopub.status.idle": "2025-06-07T11:44:16.412980Z",
          "shell.execute_reply": "2025-06-07T11:44:16.412313Z"
        },
        "papermill": {
          "duration": 4165.121196,
          "end_time": "2025-06-07T11:44:16.414213",
          "exception": false,
          "start_time": "2025-06-07T10:34:51.293017",
          "status": "completed"
        },
        "tags": [],
        "id": "06e200e1",
        "outputId": "4e693b75-9c73-4be6-c747-a01eefd61ce8"
      },
      "outputs": [
        {
          "name": "stderr",
          "output_type": "stream",
          "text": [
            "\u001b[34m\u001b[1mwandb\u001b[0m: Tracking run with wandb version 0.19.9\n",
            "\u001b[34m\u001b[1mwandb\u001b[0m: Run data is saved locally in \u001b[35m\u001b[1m/kaggle/working/wandb/run-20250607_103451-dvrg2zd3\u001b[0m\n",
            "\u001b[34m\u001b[1mwandb\u001b[0m: Run \u001b[1m`wandb offline`\u001b[0m to turn off syncing.\n",
            "\u001b[34m\u001b[1mwandb\u001b[0m: Syncing run \u001b[33mgemma-2-2b-it\u001b[0m\n",
            "\u001b[34m\u001b[1mwandb\u001b[0m: ⭐️ View project at \u001b[34m\u001b[4mhttps://wandb.ai/maridodonova-igor-sikorsky-kyiv-polytechnic-institute/iasa-nlp-lab2\u001b[0m\n",
            "\u001b[34m\u001b[1mwandb\u001b[0m: 🚀 View run at \u001b[34m\u001b[4mhttps://wandb.ai/maridodonova-igor-sikorsky-kyiv-polytechnic-institute/iasa-nlp-lab2/runs/dvrg2zd3\u001b[0m\n",
            "\u001b[34m\u001b[1mwandb\u001b[0m: \u001b[33mWARNING\u001b[0m The `run_name` is currently set to the same value as `TrainingArguments.output_dir`. If this was not intended, please specify a different run name by setting the `TrainingArguments.run_name` parameter.\n"
          ]
        },
        {
          "data": {
            "text/html": [
              "\n",
              "    <div>\n",
              "      \n",
              "      <progress value='2500' max='2500' style='width:300px; height:20px; vertical-align: middle;'></progress>\n",
              "      [2500/2500 1:09:18, Epoch 1/1]\n",
              "    </div>\n",
              "    <table border=\"1\" class=\"dataframe\">\n",
              "  <thead>\n",
              " <tr style=\"text-align: left;\">\n",
              "      <th>Step</th>\n",
              "      <th>Training Loss</th>\n",
              "      <th>Validation Loss</th>\n",
              "    </tr>\n",
              "  </thead>\n",
              "  <tbody>\n",
              "    <tr>\n",
              "      <td>500</td>\n",
              "      <td>1.839000</td>\n",
              "      <td>1.823681</td>\n",
              "    </tr>\n",
              "    <tr>\n",
              "      <td>1000</td>\n",
              "      <td>1.695400</td>\n",
              "      <td>1.795810</td>\n",
              "    </tr>\n",
              "    <tr>\n",
              "      <td>1500</td>\n",
              "      <td>1.867500</td>\n",
              "      <td>1.784253</td>\n",
              "    </tr>\n",
              "    <tr>\n",
              "      <td>2000</td>\n",
              "      <td>1.811200</td>\n",
              "      <td>1.775603</td>\n",
              "    </tr>\n",
              "    <tr>\n",
              "      <td>2500</td>\n",
              "      <td>1.751100</td>\n",
              "      <td>1.771315</td>\n",
              "    </tr>\n",
              "  </tbody>\n",
              "</table><p>"
            ],
            "text/plain": [
              "<IPython.core.display.HTML object>"
            ]
          },
          "metadata": {},
          "output_type": "display_data"
        },
        {
          "name": "stderr",
          "output_type": "stream",
          "text": [
            "/usr/local/lib/python3.11/dist-packages/peft/utils/save_and_load.py:260: UserWarning: Setting `save_embedding_layers` to `True` as the embedding layer has been resized during finetuning.\n",
            "  warnings.warn(\n",
            "/usr/local/lib/python3.11/dist-packages/peft/utils/save_and_load.py:260: UserWarning: Setting `save_embedding_layers` to `True` as the embedding layer has been resized during finetuning.\n",
            "  warnings.warn(\n",
            "/usr/local/lib/python3.11/dist-packages/peft/utils/save_and_load.py:260: UserWarning: Setting `save_embedding_layers` to `True` as the embedding layer has been resized during finetuning.\n",
            "  warnings.warn(\n",
            "/usr/local/lib/python3.11/dist-packages/peft/utils/save_and_load.py:260: UserWarning: Setting `save_embedding_layers` to `True` as the embedding layer has been resized during finetuning.\n",
            "  warnings.warn(\n",
            "/usr/local/lib/python3.11/dist-packages/peft/utils/save_and_load.py:260: UserWarning: Setting `save_embedding_layers` to `True` as the embedding layer has been resized during finetuning.\n",
            "  warnings.warn(\n",
            "\u001b[34m\u001b[1mwandb\u001b[0m:                                                                                \n",
            "\u001b[34m\u001b[1mwandb\u001b[0m: \n",
            "\u001b[34m\u001b[1mwandb\u001b[0m: Run history:\n",
            "\u001b[34m\u001b[1mwandb\u001b[0m:                 eval/loss █▄▃▂▁\n",
            "\u001b[34m\u001b[1mwandb\u001b[0m:  eval/mean_token_accuracy ▁▅▆██\n",
            "\u001b[34m\u001b[1mwandb\u001b[0m:           eval/num_tokens ▁▃▅▆█\n",
            "\u001b[34m\u001b[1mwandb\u001b[0m:              eval/runtime █▃▂▃▁\n",
            "\u001b[34m\u001b[1mwandb\u001b[0m:   eval/samples_per_second ▁▅▇▅█\n",
            "\u001b[34m\u001b[1mwandb\u001b[0m:     eval/steps_per_second ▁▅▇▅█\n",
            "\u001b[34m\u001b[1mwandb\u001b[0m:               train/epoch ▁▁▁▁▂▂▂▂▃▃▃▃▃▃▃▄▄▄▄▄▅▅▆▆▆▆▆▆▆▆▇▇▇▇▇▇▇▇██\n",
            "\u001b[34m\u001b[1mwandb\u001b[0m:         train/global_step ▁▁▁▁▁▁▂▂▂▂▂▃▃▃▄▄▄▄▄▄▄▅▅▅▅▆▆▆▆▆▇▇▇▇▇▇▇███\n",
            "\u001b[34m\u001b[1mwandb\u001b[0m:           train/grad_norm █▆▃▂▂▂▃▁▂▃▂▂▄▃▂▂▂▁▁▂▂▃▂▁▂▂▁▂▂▃▂▁▂▃▄▃▄▁▂▂\n",
            "\u001b[34m\u001b[1mwandb\u001b[0m:       train/learning_rate ▁▃▅▆████▇▇▇▆▆▆▆▅▅▅▅▅▅▅▅▄▄▃▃▃▃▃▃▃▃▂▂▂▂▂▁▁\n",
            "\u001b[34m\u001b[1mwandb\u001b[0m:                train/loss █▃▂▃▂▂▂▂▂▁▂▂▂▁▂▁▂▁▂▁▁▂▂▂▂▁▂▁▂▁▂▂▁▂▁▂▂▁▂▁\n",
            "\u001b[34m\u001b[1mwandb\u001b[0m: train/mean_token_accuracy ▁▅▅▆▅▅▆▅▇▅█▄▆▇▇▅▅▆▅▆▇▆▇▅▆▆▇▅▇▅▇▇▇▇▆▅▆▇█▆\n",
            "\u001b[34m\u001b[1mwandb\u001b[0m:          train/num_tokens ▁▁▁▁▁▂▂▂▂▂▃▃▃▃▄▄▄▄▄▄▅▅▅▅▅▆▆▆▆▆▇▇▇▇▇█████\n",
            "\u001b[34m\u001b[1mwandb\u001b[0m: \n",
            "\u001b[34m\u001b[1mwandb\u001b[0m: Run summary:\n",
            "\u001b[34m\u001b[1mwandb\u001b[0m:                 eval/loss 1.77132\n",
            "\u001b[34m\u001b[1mwandb\u001b[0m:  eval/mean_token_accuracy 0.64456\n",
            "\u001b[34m\u001b[1mwandb\u001b[0m:           eval/num_tokens 1307787.0\n",
            "\u001b[34m\u001b[1mwandb\u001b[0m:              eval/runtime 156.6047\n",
            "\u001b[34m\u001b[1mwandb\u001b[0m:   eval/samples_per_second 3.193\n",
            "\u001b[34m\u001b[1mwandb\u001b[0m:     eval/steps_per_second 3.193\n",
            "\u001b[34m\u001b[1mwandb\u001b[0m:                total_flos 1.6048779729854976e+16\n",
            "\u001b[34m\u001b[1mwandb\u001b[0m:               train/epoch 1\n",
            "\u001b[34m\u001b[1mwandb\u001b[0m:         train/global_step 2500\n",
            "\u001b[34m\u001b[1mwandb\u001b[0m:           train/grad_norm 0.77318\n",
            "\u001b[34m\u001b[1mwandb\u001b[0m:       train/learning_rate 0.0\n",
            "\u001b[34m\u001b[1mwandb\u001b[0m:                train/loss 1.7511\n",
            "\u001b[34m\u001b[1mwandb\u001b[0m: train/mean_token_accuracy 0.64425\n",
            "\u001b[34m\u001b[1mwandb\u001b[0m:          train/num_tokens 1304935.0\n",
            "\u001b[34m\u001b[1mwandb\u001b[0m:                train_loss 1.80857\n",
            "\u001b[34m\u001b[1mwandb\u001b[0m:             train_runtime 4161.7515\n",
            "\u001b[34m\u001b[1mwandb\u001b[0m:  train_samples_per_second 1.201\n",
            "\u001b[34m\u001b[1mwandb\u001b[0m:    train_steps_per_second 0.601\n",
            "\u001b[34m\u001b[1mwandb\u001b[0m: \n",
            "\u001b[34m\u001b[1mwandb\u001b[0m: 🚀 View run \u001b[33mgemma-2-2b-it\u001b[0m at: \u001b[34m\u001b[4mhttps://wandb.ai/maridodonova-igor-sikorsky-kyiv-polytechnic-institute/iasa-nlp-lab2/runs/dvrg2zd3\u001b[0m\n",
            "\u001b[34m\u001b[1mwandb\u001b[0m: ⭐️ View project at: \u001b[34m\u001b[4mhttps://wandb.ai/maridodonova-igor-sikorsky-kyiv-polytechnic-institute/iasa-nlp-lab2\u001b[0m\n",
            "\u001b[34m\u001b[1mwandb\u001b[0m: Synced 5 W&B file(s), 0 media file(s), 0 artifact file(s) and 0 other file(s)\n",
            "\u001b[34m\u001b[1mwandb\u001b[0m: Find logs at: \u001b[35m\u001b[1m./wandb/run-20250607_103451-dvrg2zd3/logs\u001b[0m\n"
          ]
        }
      ],
      "source": [
        "wandb.init(project=\"iasa-nlp-lab2\", name=\"gemma-2-2b-it\")\n",
        "trainer.train()\n",
        "wandb.finish()"
      ]
    },
    {
      "cell_type": "markdown",
      "source": [
        "# Plots"
      ],
      "metadata": {
        "id": "YMkZAkvg3JTz"
      },
      "id": "YMkZAkvg3JTz"
    },
    {
      "cell_type": "markdown",
      "source": [
        "![image.png](data:image/png;base64,iVBORw0KGgoAAAANSUhEUgAAAi0AAAErCAYAAAASWLPyAAAAAXNSR0IArs4c6QAAAARnQU1BAACxjwv8YQUAAAAJcEhZcwAADsMAAA7DAcdvqGQAADvWSURBVHhe7d0JfFTlvT7wJ2Tf92Wyhy2BsMjmUm3VVlHLFfVa61aK9V6sQSiCS61iq3WpIkoVUAr+rchVu9hq8SIKWrgurRggEAgJa/Z93/fkP78358QQAmSZycxJnq+f8zlzzpzMTCYy55n3/Z33dWhubu4sKSlBdXU1Ojo6QERERGSPHHJzczvlRlhYGJycnNROIiIiInszRlpYGFiIiIjI3o2RLiEGFiIiIrJ3Y7Q1ERERkV1jaCEiIiJDYGghIiIiQ2BoISIiIkNgaCEiIiJDYGghIiIiQ2BoISIiIkNgaCEiIiJDYGghIiIiQ2BoISIiIkNgaCEiIiJDYGghIiIiQ2BoISIiIkNgaCEiIiJDYGghIiIiQ2BoISIiIkNgaCEiIiJDYGghIiIiQ2BoISIiIkNgaCEiIiJDYGghIiIiQ2BoISIiIkNgaCEiIiJDYGghIiIiQ2BoISIiIkNgaCEiIiJDYGghIiIiQ2BoISIiIkNgaCEiIiJDYGghIiIiQ2BoISIiIkNgaCEiIiJDYGghIiIiQ2BoITKwLW+/g6uunYeMo0e1Pf3zxVdf4b5f3I+8/Hzc/OPb8dunn9XuGV6Dff1ENDoxtBDZiJywJTg0NjZqewYuMzMLtbW1KC0r0/b0z65d/4eLL7oQbm5u2h7bGOzrHw4S5GwV5oiobwwtRDYiJ+yh+vXKR7Hnq8/x3Usv1facn4Sk+oYGzJk9S9tjO4N5/cNB3qPikhJti4jsBUMLkQ3IN/ht2z/G3n37ccVV13R/o9e/3UsrzEWXfk/dlq4cua0vPVtnenevyPFy/4aNr3cfL8f0lJ2To9Yx0dFq3VtZebnqMurr5+Xx9f193df7tcvrktf39w/+0f2YspbnEAN9/fJ7y/36ffoi79G5yOP/5y23qePk+eU5D6SmnvFYcr88x4O//JX628jfSPbrr0H/fXoeT0TDh6GFyAakhWHedddi9qyZ2P3pJ2pbJydKIS0Qsv+bb/Zi8xub1PbqVb9TJ9P3/v6+OqYvcr+np4c6fsnie/HBPz7sDgkiee8+eHp4wN3dXdvzLTlh/+bJpzB92lT18/K873+wVZ2s9ceQ1yv3yevfvOXt7sAher923dvv/Al/eG0dtm3tet3bP/5Erftyrtf/wotr1Fpeg7w2b29v9Z70p6WmprYWv395nXodn368DW6urhgbF6eeRx5P/hZyv7RCrX7+d2pbfke5f8Gdd6jX8NjjT2DhgjvVPnleOb7ne0tE1sXQQmRnIiMicN2112hbwAPLlyEhPl7dnpSQoO4/V9dSz5+PjY1BdU0NynrUjMjPXnnl5drW6fbu34+jx47jx7fcrLalNcZkClNBJygwUAURPezIY/SuR+n92nU33nC9+nkJS2FhoYN6/XqXTWhIiHoNQUFB8PXxQVZWtjq2P/TXIeQ9lfdWyONJjU/v96onPWjpr03+FiI9I0Oticj6GFqIDEDvcpk3/yZ1xc9gSavAyVOZCDaf8PsiAUCCyMK7F6nnk64rafnQ9eyeefDhX2l7h4cECwksElzkdUi46OzsHFJtjrwferfVulc3aHv7JkFL3nv5G1jib0FEA8fQQmTH9JAgXSTStSKLtEQMlrQKeHl5nrWeRVo2pMtF747SF+kekW6g62/6kQoOevfIcFuc9HMUFRWrMCXB6qYb53e3Qg2U1KNI8JDWF/l9pCvqXOLiYtV7L3+Dnu+NvRURE41kDC1ENiQnYKmhOBu5T46RGhPp1pDQMZRv99KSIt0gfdWziNkzZyJ+4gSsXf+aCkxCWiPktnQDSSuM3rUkl00Pt1df+0N3yJBFwtRgyXshAU1aauT3+3rPN9o939JbdYTeLSSvQZeTm6vdIqLhwNBCZCPSaiDk2760pugnx54kqMhJWr+KRYKCFIcOhn5iltYUnTy+BCJ5fOmCkjAjRahCWjP0bhCpdZFAI8Wp0i0k+6dMSRxSq89gSGCSbhx5fn3peTXSQEgIkZoYabGRFqQffP9K+JhDjJD3Yel9Saq+R7+6S94rKeI9mHqo+7nvXnTvaYXIRGRdDqmpqZ1Tp07VNolopJKT6++eX40XX3iuuxjVSCSY/DxpCe5ftqS7S0Z+pyXLVuA3jz/KbhqiUYAtLUSjhFwBNG5snCEDi5DCW7m6p+fVQvI7CWdn5+6C2t6LtJIQ0cjAlhYiMgwpnu151ZLUpKx7+aVBF+MSkbEwtBAREZEhsHuIiIiIDIGhhYiIiAyBoYWIiIgMgaGFiIiIDIGhhYiIiIasvb39rMvq1av73K8v/cXQQkSGs7uwDjd+egqVLf3/sCMi21izZs1p66FgaCGiYSdh45qPTyD2z2mY9F66CiF9kf1yvxwnxw80pOjP8/i+QrX9Pycqum8TkfX1DipDDS4MLUQ07Jb8KxcLxgcg69ZEPHZBKH53sOiMQJJZ26L2f3TNOHVckJsTXjpUot3bP/4ujvjk2vF4apZJbR+tblZrIrK+swWUoQQXDi5HZCfq2tpR1tymbZ1dkKsTvJwcta3TSctE0le5aGzv0PYAT5tP2POifXHbPzPVSdvdcQxeuzQKV5i81PGbjpahrKlN3Rfv64obY/zwfGpx98/+xBwu+nucuHN3Fr4qrle3JZjogeFs5LF/n1aCP34vRoWMs9FbSOTx5Gck0NS3dSCvvhUB5vfkbz+IQ5y3izqmJ3k910X6qNsrtcc41/FENDgDqU3pzdHx7P/2e2JLC5Gd2JJZhpUHc8+7yHFnI8FCWi6kZUICgywSJnq2bEjLhRynt2ykVzXjV9PDkHJTgtr+ILtK3ZYgsuVExYCOk+4XCQjyPLt+OAHflNarFpNz+aygFp5OY84ZWOSx5bEkLOlKm9rNzx2unmtelI85kBRo9/RN3gf9Pdl/YzwDC5EBMbQQ2QlfZ0d18j7fIsf1RU7s0hLS06naZhUaJHBIK4PUhlz50XG1XdXcFUaivZwxPdBdhQbpgpGTutyO9HSBu/n5dP05ToKBbEsdijyPBAshrSTy3LJIsNFJi8muwloVPoS0ivRV5yLdQvKcemuO0F+P+EG4t2p1OVDRiJkfHB10DQwR2TeGFiI7cUdsEP5w4djzLnJcXyRASEvIMweK1Ul7W25NdxjwcHLAm9+LUa0SslirpUECiXTb/Gv+RNXSEuzWFbCkS0d/bj14SChZsSdfvUb9tbx9Raw6Jv1Hk1T3lZDAI60s674TpbbPJcbLRf1u8hhSyyLvCRGNHAwtRCPIOycrVL1Kz2Aii5zMpUvI2qTe5cJgTxUWviqu625p6U0Ci9TerJgS3B1O+iKBRcLXhkujzwgg0qqktxbJ7yatUAwpRPZDCm7PtgwWQwvRCHLHuAAVBvSuGL2bRVop5CSv77dW14l007yXWaWe472sKkzy+7YGpScJGVIsrHdZydKz20hIt5YElormNtXVJMdI149eIyPdRTd/lqn2y+/Wn5YY/fWd6zJrIrKM5cuXa7dOd7b9/cGrh4hGCDmZSzGqnLz1Fgf9ypmetSBERNZwtquHerasnC2w8OoholFGuoHGertixvsZ3a0Xss3AQkS2pAeVobSw6NjSQkRERIbAlhYiIiIyBIYWIiIiMgSGFiIiIjIEhhYiIiIyBIYWIiIiMgSGFiIiIjIEhhYiIiIyBIYWIiIiMgSGFiIiIjIEjohrVlhYotYmU4haG8HvMwqxt6Je3Q5ydcLVJj9cGeoDD0fmUCIiGpl4hjOghrYOFVguD/HBXWOD4ejggHezyrAkORNvnipFcVOrdiQREdHIwdBiQHvKu6bUnxfhh6vCfLF6ZgxWJJgw3tsNnxZV48H92XgpvRDp1Y3qOCIiopGAocWAviqtRaynK8LdXdS2g3mZGeCJRxMj8Oz0KFwa7I39lfV4Ji0fjx7MxRclteo4IiIiI2NoMZjy5jZk1DTiuyHe2p7TRZvDzL0TQrF+ThxuiPRHRXMr/nCiGPclZ+L93ArUtbVrRxIRERkLQ4vB/Kusq9XkkqC+Q4vO19kRt0QHYsOFY3H3uGB4Ojnib+bQcu83mXjjZAkKGlu0I4mIiIyBocVgviypxQX+nvAxh5L++n6oL1bNiMbDk8Mxzc8D/yyuwcMpOVh1pACHqhq0o4iIiOwbQ4uB5DS0IL+xBd8NPncry9lIYJHgIgFGrjxKNQeW583BRQLMbnOQISIismcMLQZyqLJrXJZp/h5qPVhSwLtofAhemxOHm6MCUN/WjtdPliApORPv5VSgupV1L0REZH8YWgzkSE0j4rxc4W6hAeS8nR1xkzm0SNGuFO9KHcwHeRWqaHfD8WLkNrDuhYiI7AdDi4FkVDdiso+7tmVZlwV747kLotVl07MCPPFlaS1+dSBHXTa9Xxt5l4iIyJYYWgziWG0Tmjs6Mdl3aF1D5zPZ1x3LE0zYcGEc7h4Xglbzc76UUYgH9mergetazNtERES2wNBiEGlVDWoQuXgft64dVubl5Ijvh/rgiamReGpaFMZ6uWJLZhmW7M3En7LLUdnSph1JREQ0PBhaDCKtuquexc0GEyLK8943MQy/nxWjLp/+Z3E17t+XjfXHipBZ16wdRUREZF0MLQYgXTIyCm6ilbuGzsffxQm3xQRi3ew4/CQuCCdqm/F4ai6ePJSHPWVd8yERERFZC0OLARyr7Zr4cJKvdYpwB8pljAOuDvPFmlkxqv7Fyby99lgRlu3LwkcFVWhs79COJCIishyGFgM4os3WPNF7eOpZBkKuNHpMm6gxwccd72SVYUlyJjZnlqK0uVU7ioiIaOgYWgwgraoR482BxRb1LP0lEzUmaRM1Xhfuh6/L6rBiXzZePlqEozVN2lFERESDx9Bi55raO3CyrkldimwEMkDdj6ID1Wi7/zUuBPkNLXjqcB5WHszFv7XJHomIiAaDocXO6a0U0vViNFeE+nRP1Ojn4oT1x4qxdG8WPsyvRH0b616IiGhgGFrs3JGarlmY7bGepb9kosYHJ5nwgjnAzPD3wJ+zy9V4L2+eKkVxE+teiIiofxha7Fx6dSPGedl3PUt/mdxd1Ci70nV0Q6Q/ksvr1Ei7q9MLu4uNiYiIzoahxY5JPYsM3maUepb+kokab4wMwCuzY9VEjTK67rNp+Xj0QA4+L6lBWyenCiAiojMxtNix9JpGyOnbXsZnsTRHBwc1UeMz06PUZdNBrs7YdKIEy/Zm4f3cCtS1tWtHEhERMbTYNekaEkYswh0oCWYrJpmwemYMLgzyUsW6936TqUKMXIFERETE0GLHpKVlgrebGoF2tAh1c8bCuGCsmxOHW2MCcbCqHr88kIPn0vKRUlmvHUVERKMRQ4ud0utZRmrX0Pl4OI7B9RH+ap6jpRPD0GB+P15ML8TDKTlqwkaZj4mIiEYXhhY7pV9NM2kUdA2dz0VBXvjttCj8ZmokIj1c1KXSv9ibhb/klKO6lXUvRESjBUOLnZKuISlUHQ31LP0lXWW/iA/DSzNj8d0Qb+wsrFbh5bXjxciqb9aOIiKikYqhxU51jc/iCudRVM/SX0GuTrgzNghrZ8fijthAZJgDnkwT8NThfDX2CxERjUwMLXZI6jek5WC01rP0lwy4d43JDy/PilV1L0CnmqBx+b5sfFRQxa4jIqIRhqHFDumXOif6eqg1nZ/UvTw+JRJPT4/CRB83vJNVhvuSM9WgdV+VcqJGIqKRgKHFDulFuCNtJNzhEOvpiqQJoarrSK4+yqlvVjUvMlHjtoIqDlhHRGRgDqmpqZ1Tp07VNvunsbEJa9duQk5OHqKjI7F06SK4u585od/WrduxY8duuLq6YvHin2HcuDir7Bdz516B+fOvU7cHqrCwRK1NphC1tjUZzt7L2RGPJkZoe2iw5NJomRrgk8IqFDa2qjFvvhfig+vC/dSYMEREZByOSUlJT4SGhmqb/bN9+04EBQVg+fIklJdX4NSpLMTHT9Du7XLyZCaSk1PwyCP3IyFhPLZt24lp0xLNQSfX4vvnzr0S//znF+o1BQT4a6+g/+rqugYt8/b2VGtbkpaAt7PKcUWoL68csgC5AmuslxvmmvxUK0xFSxv2lNdhR2E1suqa4e3iiBCGFyIiQxhU91BWVi4SExPUbVnLtrS+9JSWloHY2CjVAhMeblL7CgoKLbZfwkl1dY26PZJk1HS9j4nsGrK4mQGeqvXquQuicXmID/ZX1uO5tAI8ciAHu4trtKOIiMheDap7aNWqtVi0aAH8/f1QWVmFTZu2dG/rNm7cjBkzpmHOnBmnbaekpFpkv2xLa86rr/4Rzc3N/e4eqqk585LY+voGtXZzc1Xrnjw8hjc8vJtbiS/L67H+gkhtD1lLbVsHPiupxa7SOtXC5eXkiKtCvHBFsDe8nVjuRUQ0UK6uLtot6zDsJ7MElnfe+RtWrlyhAsuePftVgDofR8cxZyy6vu5zcHAY1iW9tgkTvdz6vI+LZRcfZ0fcFOGHV8wB8e7YQPg6j8EHBdW4/2Ae/phdjoKmtj5/jgsXLly49L1Y26BaWl55ZSPmzbtaFcRKeJA6k0WLfnpaMa4UyQpp/ZCuo02b3lI/I909ltpvMoV1t8D0fL6BspdC3HrzN/+ff3MKd8QG4Yfh37Za0fA5XN2A7QVVSK1sgMxuNMXPA9eZ/DDdn5efExHZ2qBaWqTGRA8TstZrTqTrRhbRs9ZFrzuRmhRL7ZfAIl1HuqKiErXPyNLMJ0zBehbbmeLrgYcmhWPVjGhcFeaLozWNeCG9QE3U+GkRJ2okIrIli17yrAeWe+5ZqNaDvYS5v/vl+VJTj6jb06ZN7n7egbKXlhaZCPDrsjpsuLDr9yPbk1qXz4pqsKOwa4RdqXv5fpiPGonX19lRO4qIiIbDoELLSGMvoUWuYjG5u2BZvLFbjEaqL0trVddRtjY542XB3rg2vOtSaiIisj5eImEnaszf4vMaWjCJY7PYLQkpz0yPwsopEeryaQkx+kSN+yq6xvohIiLrYWixEzJTsUjwOXNkYbIvMujfigQTXpoZo7qJpOVlTUYhHtifrUbebWrv0I4kIiJLYmixEzJJotRLRLOrwTBkJN0FcUFqnqM7Y4NUke6WzDIs2ZuFt7PK1Oi7RERkOQwtdiK9phGTeNWQIbk7jlFzGUl4WToxDBHuLqr25Rfm8LL2aBGO154+WjQREQ0OQ4sdkCtUWM8yMlwU5IUnp0XiqWlRuCjQS81z9OShPDyemos9ZWeOxkxERP3H0GIH0qq76lkms6VlxIjzcsXS+DC8PCsW15r81AzTa48VYdm+LNUK08i6FyKiAWNosQNSz+LpNAaRHtads4GGX6CrE34SF4R1s2Px07hgODk4qHqXpXuz8FZmKUqaWrUjiYjofBha7ICElsm+HCZ+JHNzHIO5Jl+8ODMGyxNMamyXHYXVWLE/W115JP8PEBHRuTG02JiMz5Lf2ILJrGcZNWYFeKqxXmTMFxn7RcZ4eSYtH48dzMUXJbXaUURE1BtDi43JVUOCVw6NPjGerrh3QijWz4nD/Eh/lDe34Q8ninFfcib+kVepCrSJiOhbDC02dkQbn4X1LKOXzGH04+hAvDI7FnePC4an+f+Hv+aUq7qXN06WoKCxRTuSiGh0Y2ixsbSqBl41RIrLGAd8P9RXzTD9m6mRuCLEB8kV9fhlSo6aafqw+f8VIqLRjKHFhmTW4KKmVoYWOsMEbzcsHBusrjqSLqTqlnY8d6RATaq5u7gGrR2d2pFERKMHQ4sNHdK+OTO00Nk4Ojjg0mBvPK1N1CizgL9+sgS/2JeF93IqVCE3EdFowdBiQ2nVDfB2dkS4+UREdD4yUeOy+DA1UePFQV7YXlCJxcmZ2HSiBLkNrHshopGPocWG0qoakchWFhogmahxYVww1s2JUxM1HjaH318dyMGzaflIqazXjiIiGnkYWmxEallkFmB2DdFg6RM1rpkZq6YMkDqXF9ML8WBKNj4tqlazThMRjSQMLTZyxPztWHCSRBqqMQ5QkzPKFUcyUWOMhyu2ZMpUAZn4c3Y5Ks3hmIhoJGBosREZn8XPxVEVVhJZij5Ro9S9XB7io1pcZLyXV48VI6u+WTuKiMiYGFps5LCqZ+F8Q2QdMlHjHbFBarRdmajxeG0TVh7MxW8P5WFPWZ12FBGRsTC02EBeQ4saop1dQ2RtMmCdTNS4ZlbXRI0ODg5Ye6wIy/dlqQkbm9o7tCOJiOwfQ4sNSNeQ4HxDNJxkosbHp0SoMV/izYH5rcxSLNmbhf/JLENZM+teiMj+MbTYgEySKPPNhLo5a3uIhk9sj4karzH54svSWqzYn4WXjxbhWG2TdhQRkf1haLGB9OoG1rOQzUlwvkWbqPGusSHIbWhWNS+/Ts3Fv8tqtaOIiOwHQ8swy1H1LB1IYNcQ2YmuiRp9sHpGDB6YZIKHkyPWHyvGkr2Z+DC/Eg2seyEiO8HQMsyklUVwJFyyRzP8PfHI5HA8d0E0pvt5qnFeliRn4s1TpShuatWOIiKyDYaWYSZFuKxnIXsX6eGCReNDsOHCOFwf4Y/k8jo8uD8bL6UXdheSExENN4aWYSSDqqeZP/BZz0JG4eXkiJuiAvDy7FgVYsqaW9UcR48ezMUXJbVo6+RUAUQ0fBxSU1M7p06dqm32T2NjE9au3YScnDxER0di6dJFcHd30+791tat27Fjx264urpi8eKfYdy4OIvur6yswurV61FdXXPO13E+hYUlam0yhai1tciIpDLA13+PC8EVoT7aXiJjkZaWjwursL+iXrUaXhXmi6tNvirgEBFZk2NSUtIToaGh2mb/bN++E0FBAVi+PAnl5RU4dSoL8fETtHu7nDyZieTkFDzyyP1ISBiPbdt2Ytq0RHPQybXI/ra2Nvzxj+/g1ltvxE9+cgtcXFxQUlKGiAiT9gr6r66ua2Zcb29PtbaWf5fV4VBVA+6MC+IHPBlWsJszLgnyxqXB3qpId2dRNf6RV4mqljaEuTvD2xxkiIisYVDdQ1lZuUhMTFC3ZS3b0vrSU1paBmJjo1TLR3h4V5AoKCi02H5ZfH19ultd5syZoRZ7JuOzBLg4sZ6FRgT5//iuscFYNycOt8cGIaWyAQ+l5OC5tHykmsM5EZGlDap7aNWqtVi0aAH8/f1UF82mTVu6t3UbN27GjBnTuoOEvp2SkmqR/eLIkaM4duzkgLqHmptbtFvfqqioUmsJQb25uFgmYEjPf9K+bMz098A95g96opGmvbMTyRX1+KSoGpn1LTC5ueAakw8uDfSCs0xFTUQjnpOVexEMG1oKC4uwZ89+PPjgfep5ez/f2egBpSc9yDg5Oal1T15elimazW5oxdNHi3FXtL/5Q9y63VBEtnbCHFp2ltRif1Uj3MeMMYd1N1zs74kEb1ftCCIaic7XcDBUgwotr7yyEfPmXa26ZqR2RepMFi366WkvVopnxfz516muo02b3lI/I909ltgv4UMCzT33LFT393y+gRqOQtztBVV4O6tMTVwX7MruIRodSptb8UlBNXYVV6O5oxNBrk64xuSHK0N94ObIixeJaGAG9akhNSZ6mOhZcyKtHbKInrUuUn8ipCbFUvvHj49DVVWNaumR+zIyTphDR5i63x5JPUug+QObgYVGE/n//SdxQaruZYF5Ld2kEt5losYtnKiRiAZoUFcPRUdH4aOPPsW77/4dra1tuP32m+Hs7IR9+w6q+2fNugABAf4oLi7Bhg1vIiXlEO6882aEhARbbL+EJLliaM2aDdi5czdiYiIxf/616vkHajiuHnrjZKkabVRm2iUabaSmZby3G64L90OEu4tqgfmmvE5dOp3f0AJ/c6CXUE9EdC6D6h4aaazdPaSPz7J4Qii+E+yt7SUa3U7VNWN7QaUaCkCM9XJVoeaSIP4bIaK+sVN5GOjDnif6cSRcIp2ElPsmhmHt7Fj8R4S/mttIJmr8xd4s/C8naiSiPjC0DIMMc2gJd3dRo4cS0en8XZxwW0ygObzEYeHYYNWV9CdtosbNnKiRiHpgaBkGR2pkviHO6kx0Li7msHJ1mC9enBmDFQkmjPN2U6PtPiATNWZwokYiYmixusy6ZjS1d7BriGgAZgZ44rHECPzugmhcFuyt5jmSiRofOZCDL0trtaOIaLRhaLEyaWURCT7WHXCHaCSK8nDBvRNCsX5OHG6M9Ed1azs2HC/GfcmZeD+3AjXmbSIaPRharCy9ugExnq6cIJFoCKQe7EfRgXhlVqyaJV0mZfybObQs25eF10+WoLDxzOk5iGjkYWixsoyaJtazEFmIFOleEeqD5y6IxiOTw83/tjywu7ime6LGlMquMZeIaGRiaLEiGYdC6lkmM7QQWdwUPw88OMmEVTOi8X1zkDlc3YgX0wvxsDnA/LO4WjuKiEYShhYrkq4hEe/D0EJkLTKcwN3jQrDhwjjcEh2I+rZ2NQL1vd+cwl9yylUdDBGNDAwtViRFuHFernDnxHBEVid1YzdE+quiXSneDXB1xta8SlW0+9rxYuTUN2tHEpFR8WxqJe2dnUirasQktrIQDTu5TPrZ6VHqsmm5fPpfpbV49GAunknLV5dPy8SNRGQ8DC1WIuOztJmDyyTWsxDZjPz7k4HqVs+MwdUmX5ysbVID1T24Pxs7CqvR0sH4QmQkDC1Woo/emcCWFiKbC3VzxsK4YKybE4fbYwJVWHkrs1R1Hb2bXYaKljbtSCKyZwwtVpJe04hxXm6sZyGyIx7mf4/zIvzVJI33TQxVRbzb8qvUJI3rjxXhZF2TdiQR2SOeUa0kwxxa2DVEZL8uCfLGk9Mi8eupkZgT6IV/l9XhN6l5ePJQHpLL67SjiMieMLRYwdGaJrR2dHLofiIDmOjthmXxYXhldiyuC/dDfkMLXj5ahPv3ZWF7QRUa2zu0I4nI1hharCC9pmt8FtazEBlHgIsT7owNUuFlQVwQHMz/vZ1VhiXJmdiSWYaSplbtSCKyFYYWK0iv7qpncWM9C5HhyL/ba0x+WDMrBvcnmJDg645PCquwYn82fp9RqLp+icg2eFa1guO1TRy6n2gEmB3giYcmhavRdu8aG4yCxlY8fTgfKw/m4svSWu0oIhouDC0WJvUscjkli3CJRg4ZbfeqMF81z5FM1Ojj7IgNx4uxdG+WGnW3ro1TBRANB4YWC0urboCDeS3FfUQ08shEjQ+bg8sL5gAzw98DH+RVqEum/3iqFMWseyGyKoYWC5NB5caZAwvrWYhGNpM2UaMU7t4QGYB9FXVqpN3V6QU4rE2WSkSWxTOrBUm3kBTpsZ6FaPTQJ2pcNzsOP58QirLmNjyXVoBHDuRgd3GNdhQRWQJDiwUdq+26qoCTJBKNTjJR43MXROPRxAjVEvP6yRIkJWfi/dwK1LSy7oVoqBhaLIjzDRGRkNZWGbDuxZkxuCjQCx/mV2KxObxsPFGMvIYW7SgiGiiGFgtKq2rEBG83OI+RUlwiGu1koka5VFqfqDHN/MVGuo2eS8vHgUrWvRANFEOLhTS1d+BUHcdnIaIz6RM1rpkZiyUTw9DY3qkKdh9KycZnRdWqHo6Izo+hxUIyapogHzuJvh5dO4iIepFG2IuDvLonaoz2cFWXSv9ibyb+klOOypY27Ugi6otDampq59SpU7XN/mlsbMLatZuQk5OH6OhILF26CO7uZ45LsnXrduzYsRuurq5YvPhnGDcuzqL7hf5aEhLGY/7867S9A1NYWKLWJlOIWg+GzFEik6u9cfE4uLB7iIj6qcIcVD42f3b8s7hGtdheGuytJm6M9XTVjiAi3aBaWnbu3KVCwrp1z6u1bPd28mQmsrJy8cILT6qgsW3bThUwLLVfJ8/d1PTttq3IfEPxPu4MLEQ0IDJR4x2xQVg3OxY/jQvGsZomNU3AU4fzsa+iXjuKiMSgQouEiMTEBHVb1rLdM0iItLQMxMZGqRaY8HCT2ldQUGix/UIPNFde+V21bSv1bR3Irm9Ggg9HwSWiwZEBKeeafPHSrBgsT+j6rFuTUagmapQJG6UVhmi0G1RoaWpqRkCAv7ota9nu3dpRVFQCkylM3ZbA4ebmioqKKovtl5AkrS7z5l2t9tmSDCgn9SyTWc9CREMkbbWzAjzx+JQIPD09Sl2R+E5WuZoq4J2sMtWdRDRaDaqmZdWqtVi0aAH8/f1QWVmFTZu2dG/rNm7cjBkzpmHOnBmnbaekpFpkf2FhkdqWOpbk5BS13Z+aFr1+pb+8vDy1W2f3l4Ia7CqvxyuJYbzcmYgsrqq1Hf9X0YD/M3/OyJVHs3zd8P0gT4z1cNGOILIP3t7nP2cOxaBCyyuvbFQtHFIQK1000uKxaNFPVUuITopnhQQJaRXZtOkt9TPS3TPU/VdddTn+9393qELgnqZNm4x77lmobfXfUAtxHz2QA3cnR/XNiIjIWuTS6M9LalTRv0zOGOflih+G++GSIG/tCKKRbVDdQ1JjooeJnjUn0goii+hZ66LXoEhNiiX2x8XF4OGHl6pCYFkWLrwNc+deMajAMlQyJX1OQwsSOT4LEVmZFPpfFearRtp9YJIJno5jsP5YMZbty1JBpoF1LzTCOSYlJT0RGhqqbfZPdHQUPvroU7z77t/R2tqG22+/Gc7OTti376C6f9asC1StS3FxCTZseBMpKYdw5503IyQk2GL7eyooKEJdXR3i4ydoewamrq6rQn8wzVoHKxuwp7wO/xkVgGA3Z20vEZF1ydxGl4X4qGkCqlvbVWj5pLAalebP5HDzfZ5OjtqRRCPHoLqHRpqhdA9tPlWKXcU12HTRWNazEJHNyISMnxZVq6XWfHtmgCeuDffjBK40onBE3CFKr2nERB/ON0REtuXj7KhafF+dE4f/Hh+CwsZWPHM4X9XcSSuMtMYQGR1DyxDINxuZsZXzDRGRPbk8xAerZkTjkcnhCHB1ViN235ecieePFCClkgPWkXExtAyBtLIINr8SkT2a4ueBByeZVOHuD8J81ZhSL6YX4oH9nKiRjImhZQhk6H6p5pfh+4mI7FWomzN+NjYY62bH4ZboQDR3dKiJGpdwokYyGIaWIZBvLeO8OXQ/ERmDp9MY3BDpj5dnxSJpQqgKM1vzKnH/vmy8drwYWfXN2pFE9omhZZD0ehaOz0JERuPo4KBmk35qWhRWTolQVxp9VVrbPVFjcnmddiSRfWFoGSRpZRGJnG+IiAwswccdy+LDsGZmDK41+SGrrgkvHy3C8n3Z6qojTtRI9oShZZCknsV1jIOazIyIyOhkcMyfxAVh3Zw43B4bhA50qquOlmgTNZY3s+6FbI+hZZDkyqEEdg0R0Qjj7jgG88L9VN3L0olhiPJwwUcFVWqqgLVHi3Cs9vQZ/YmGE0PLINS3dah6Fl7qTEQj2UVBXvjN1EhV+3Kx+fbeinr89lAefpOah6/L6sArpmm4MbQMwuHqBrVmPQsRjQYym/SSiWF4aWYMro/wR0FjC9YdK8Ly/VnYxokaaRgxtAyC1LN4OI5R/5CJiEaLQFcn3BoTiPVz4rAwLth8AnHAu1L3kpyJzZmlKGlq1Y4ksg6GlkGQ0DKJ9SxENErJoJpXm3yxZlaMuvJorJcbdhZWY8X+bHXl0RHzZySRNTC0DJCMz5LfKOOzsGuIiGhOoJca6+XZ6VFq7BcZ4+XZtHw8ejAXX5bWakcRWQZDywBJK4vgJIlERN+K9nRVo+xK19H8SH9UNLdhw/FiNVHjB3kVqGvjLNM0dAwtA5RW3aCmgI/0cNH2EBGRztf8+fjj6EBsuDAO/zUuBO5OY/BeTgXu/SYT/+9kCQobW7QjiQaOoWWAZHwWXupMRHR+V4b6YPWMGDw0KVzNOL2ruAYPpeTghfQCpFZ1XYVJNBAMLQNQ3dpu/pbQyiJcIqIBmO7vgUcmh+P5C6JxhTnIHKxswKojBXjYHGB2m4MMUX8xtAzAEW18FtazEBENXISHC/57XAhemxOHm6MCUN/WjtdPliApORPv5ZSrL4ZE58LQMgBp1Y1qavdwd9azEBENlrezI24yh5aXZ8fi5+ND4e/ihA/yKrFsbxb+cKIYuQ2se6G+MbQMgFw5NM2PlzoTEVmCk4MDvhvirS6XfjQxAtP8PfBFSS1+dSBHXTa9r6JeO5KoC0NLP1W2tKG4qRWTOT4LEZHFSbf7igQTVs+MwdVhvjhR24Q1GYV4cH82dhRWo4UTHZEZQ0s/6SM8sgiXiMh6wtycsXBsMNbNiVNTBrR1duKtzFI13sufs8vVF0gavRha+klCi/S7yj8oIiKyLpnfTSZn/P2sWDw+JRLfCfbGp0XVWLo3C+uPFSGzrlk7kkYThpZ+ktDC8VmIiIZfvI8bfjY2uHuixlPmwPJ4ai5+eyhPTRvAjqPRg6GlH8qa21DaLPUsDC1ERLaiT9QodS9S/+Jo3pYJGlfsy8L2gio0tndoR9JIxdDSDxk1XfUsCQwtREQ252BeZgZ44rHEroka433c8XZWGZYkZ2JLZpn6okkjE0NLP8igcjKfButZiIjsi0zUeK82UeM14X74qrQG9+/LwtqjRTha06QdRSMFQ0s/HK5qRCIvdSYislvfTtQ4Vo26KwPUPXU4T9W+/LusVjuKjM4hNTW1c+rUqdpm/zQ2NmHt2k3IyclDdHQkli5dBHd3N+3eb23duh07duyGq6srFi/+GcaNi7Po/o0bNyM19Yi6vXDhbZgzZ4a6PVCFhSVqbTKFqHVPMjbLA/uz1WylMvkXEREZg0zKKLUuh8zrABcnVQ/zgzBfdWUSGZNjUlLSE6Ghodpm/2zfvhNBQQFYvjwJ5eUVOHUqC/HxE7R7u5w8mYnk5BQ88sj9SEgYj23bdmLatERz0Mm1yH55DV5enuo1xMePx/vvbzPvn9xneDqfurquURe9vT3VuqdvyuuRUlmPO+OC4OXkqO0lIiJ7F+rmjMuCvXFRoBdq29rVIHUfm0NMZUs7TO4u/Ew3oEHFzaysXCQmJqjbspZtaX3pKS0tA7GxUSpEhIeb1L6CgkKL7Z8//zq1iIAAf9UKYw1Sz8LxWYiIjEufqPHlWbH4jwh/7CmvUy3oL6WbzzHawKFkDIPqHlq1ai0WLVoAf38/VFZWYdOmLd3bOum6mTFjWneXjb6dkpJqkf09u4KkJWbXri/P2k3VU0VFlXbrW83NXZNzOTs7qXVPj52swlRfN/xXTIC2h4iIjO5f5Q34pLQWBY2tCHd3xtXBXrgs8MzWdhqY852Dh8rwoUWef92613HHHTd317qcS3OzPoqiXDTXRQ8yvr7eaq0raGrDExnFuDsuCN8LPv0+IiIyvvSaJnxcVI2DVV1XiX4/xBs3RPhr99JAOVm5y21QoeWVVzZi3ryrVUiQ2hWpM1m06KenJSwpnhXShSNdR5s2vaV+Rrp7LLFfnlsCy+rV63HjjT/sDjGDcbZC3E8Kq9Q1/y/OjFF9o0RENDIVNbWqepfPS2rU5IyJvu64LNgHFwV5qUHtyD4MqqZFakz0MNGz5kRaQWQRPWtdpAZFSE2KpfbrgeWii2YOKbCciz7fEAMLEdHIJnWLd/WYqFG6jf5wohhL9nKiRnti0Uue9cByzz0L1dqalzzr+3qaO/eK7uLcgThbS8s9e06pURdl4CIiIhpdZHyXjwqquidn/E6QN64L90Ocl3Uu/KDzG1RoGWn6Ci1Z9c1YeTAX94wPwfdCOD4LEdFoday2CZ+Yw4tcdSQmeLvhWpOf6jqi4cURds4iXbsMjjM7ExGNbhPNIWVpfBh+PysW15jDioy2u/ZYEZbty1K1j5yocfgwtJxFek0jAl2dEMx6FiIiMgsynxMWxAVh3exY/DQuWF2DKhdryESNmzNLUdrc2nUgWQ1DSx86zYsU4U7mrM5ERNSLm+MYzDX5Ys2sWCyLD0Oslyt2FlarAete5kSNVsXQ0oec+mY0tXdgsg8nSSQior5JS8ucQC88PiUST0+PwsWB3kgur1MTNa46UoCvy7pqYMhyGFr6IK0sYoofW1qIiOj8Yj1dsXhiKNbOjsUNkf7Ib2zBumNF+MXeLHyYX4kG1r1YBENLH2QuihA3ZzVGCxERUX/JeeOW6EA1z5G0wEz391DjvEjdy5unSlHcxLqXoWBo6UNGTSOvGiIioiGJ93HDf40LwWtz4nB9hL/qOpK6l9Xphd0t+jQwDC29nKrrqmeZxCJcIiKyAG9nR9wUFYCXZ8fi5+NDUdHShmfT8vHogRw1bUBbp1z+Qf3B0NJLenWDWk/1YxEuERFZjpODA74b4o1np0fh0cQIBLk6Y9OJEizbm4X3cytQ19auHUlnw9DSi8z4KXNQyGyfRERE1iBDaqyYZMILM2NwYZCXKta995tMvH6yBPkNLdpR1BtDSy9Sz8LxWYiIaDjIl+SFcV0TNd4WE4iDlQ345YEcPJeWjwPm23Q6hpYe9HqWeBbhEhHRMPJwHIP/iPBXl0zfNzFUXSK9Or0AD6fkYHdxDVo6WPciGFp6SNPqWaawnoWIiGzkkiBv/HZaFH49NRIRHi5441SJGu/lrznlqG4d3XUvDC09yCSJYe6sZyEiItuTiRplmoCXZsaqAt4dhdUqvGw4Xoys+mbtqNGFoaWHozWNmOLLVhYiIrIfMlHjnbFBquvojthANaHvyoO5eOpwvhr7ZTRhaNFkN7WjuaOTRbhERGSXZKLGa0x+arTdpRPD0NnZqSZoXL4vW7XCjIa6F4YWzcmmNrXmSLhERDQQW7duR3JyirZ1JrlflvPZuHHzOR+np4uCvLA00gsTDnyFaFcHvJVZivuSM/E/mWUob+46n41EDC2aE41tiPZwUSMXEhGR8UkA6E9Y6E3Cgyz90djYhKamZkyZMknbM7zc62pwV4SP6jq6KswXX5TWYMX+bKw9WoTMurPXvQz2vbE1hhbNqaZ2TGY9CxHRiFFYWKTdGph77lmolv4oKCiEv78f3N3dtD22IRM13hoTaA4vcVgQF4TshmY8npqLJw/lYU95HXr3HA32vbE1h9TU1M6pU6dqm6NTYWEJHsqswQOTTJjh76ntJSIio5KWhM2b/6Ru+/r64MEH78MXX/xbtYrs2bMf8fHj8IMffA+vvvpHNDc3dx8jAURvgZg//zp1W/8ZOW7atMmnBRq532QKw5w5M3DyZGb34+kWLrytOyDI4wn5mR07dqvbPR9Pb91JTT2i1nPnXnHOn6msrMKmTVuwaNEC9bp7219Rj48Lq9TkjGMa6uCSeRy3Tp8IP4eOM94bsXr1elRX15z2XshxEsg+//zf6pier8kW2NLSQwLrWYiIRgQJEXKCleWZZx7rPqlnZeXi6acfxYIFt2LfvoPq9rp1z+Oii2aqUNMX/WeeeupXKC4uVeFESNdQUVEJxo+PU9ufffY5brvtJvV4+nPL6+hJwlRGxgm88MKT6jihhySd7JfnOngwTT2XLO7u7mq//JyEKP01nMvMAE8khXtiYsqXuCg8CE2JM7C5zRMfOAdg/PXzu98bNzc3bNnyF9x99x3qOWS9devH6jEkgFVVVZ/xmmyFoUVzqY8L3B35dhARjWQJCeNVy4EsP/7xjeaT9Z+xZMkvu1sx+qL/jJzcpRVCJ11Drq6uKhBJgKmqqtHu6SKBpreUlNTuxxMzZkxTIUZ+Xt8W8pihocGoqKjCuHFxmD37Ajz22DN46KHfIDs7Tx3TH/I4Yc4OKHh7M56dEIAbIwNQ0dqBvd6h+EfgWDVR4/G8QvWYa9ZsUO+FrCWcnes12QrP0pobA23bH0lERMNHTsirVq1VJ2RpRZBWh4FKS8vA5Mnx6raEkJtv/g/86U/vqxO/dCfdcssN6r6hkpaNdeteV1020tISExOp3dM/0pUkP/uH37+Gio8/xGtzzCGothhuHe34mzm0rCptR9Mll2PxyofVeyHLww8v7Q5W9oShhYiIRp2mpq5WBOnakQAjrR0D1dTU0t01JL78cg8WL/6ZOun37JLqqXfLSu+WF73+RYJKdnYuAgL8VMuGtHDI40nrTnHxmS04ZyN1L1988bX6WQku0hok+8Y21+Caymw8MjkcU3zcUBMeg2dPVeK5IwVIrTp9osa+XpOtOCYlJT0RGhqqbY5OdXX1au3tzSJcIqKRwsnJCe+99yF27NhlDhexKC0tU/vj4yeokCAtJdIyIkWmU6YkqOPlvqNHuwJM79ttbW3Yv/8gJk4cBwcHB5w6la26bXRyDpFC3A8//BgfffQpPvvsC/W88rjbtu1Ut+XS6PLyCmzY8KY6RsLIHXf8SP384cMZqltG6ku+/novbrvtP9XxHh7u2L79M7z//jZzaClCWFgIxo6NMQcRf3zzzX7z68jCrFnfvo6e5Hj5/d999+/YtetLVbtzwQVTu9+bA59/ibu+Mw2Xhvkh5WAa8pw88FV5PT4+kQ9PDzeUHT+Gk8dP4a9/3Xraa7IVXj1kJlcPCZMpRK3JuuT95ns9/EpKyuHq6gJfX29tDw2H2to6NDQ0mU9OQdoeGi7yWSPv+5gxlu9U6HnVkJDWi7/+9R+qwFdvNZGrgaRlpXcxrj2ra2vHZ0U12FFYpSZndDIHtRmuHbhrZrxdzMvH0GLG0DK8GFpsg6HFNhhabMeaoaUvPS9LFlInM1yXB/d+biFFwtJdJYW8g/FFSS3ePnwKdW5dvRCXBXvjunA/xHi6qm1bYGgxY2gZXgwttsHQYhsMLbYz3KFlpMqoacRHBVVq3BcR7+OOH5rDy6yA4S+p4F+SiIiIzkrGMFuRYMJLM2Mw1+SL7PpmrMkoxAP7v52osaa1XQWbT8zbtW3t2k9aHltazNjSMrzY0mIbbGmxDba02A5bWqyjsb0Du4trVEipbGlTs0+3d3ZCZgpwGeOAAGcnrJwaAS8ny9fAMLSY6aGFiIiI+u9gXSt217Qgr7mrdUVCi5+LE26KCsB3gy3/BYnx04zf+omIiAZuupczloV74oU4H7U4m0OLkzlZjIGDdoRlsaWFhh27h2yD3UO2we4h22H30PCQGpanD+WjpbNThRY/J0csm2SCpxWmxuFfkoiIiAbN2xxSHp8agZsi/TE/wg/L4sOsElgEQwsRERENiRTdfi/EB5cF+8DTioPQMbQQERGRITC0EBERkSGwEJeIiIgMgS0tREREZAgMLURERGQIDC1ERERkCAwtREREZAgMLURERGQIDC1ERERkCAwtREREZAgMLUSjyMmTmXjllY1obGzS9pCt8G8xPLZu3a4WGhkYWsjikpNTsGTJL7sX/QNDPpxXrVqr9sla/7A+234aGv195Qe2dUn4eOyxp9W6L5WVVeb7n+n+98D/x61D3v8HHvg13+MRjqGFLK6wsAhz516BdeueV8v8+dep/Tt37kJCwni1T9ayfa79NHjygb127Sbk5ORpe8ga5ET56qt/RFNTi7bnTBUVlQgNDcYLLzyp/h9/+OGlcHd30+4lS5Bg+Le//S9Wrlyh3mM/Px9+joxQDC1kFSZTmHari5xEs7JykZiYoLZlLdvyYdPXfn5LGho5KcrJUcLj2ejfTKVljAZn3Lg4PP30o4iJidT29M3X1+ecQYV/i6Hx9/dT/7/LWoSFhah1b9LqKK1e8rlDxsTQQlaxefOfVDOtfBDLB3JTU5N5aUZAgL+6X9ayXV1d0+d+OZ6sR97fbdt2YvHin2HOnBnaXrKW1NQj3d1Dvbvr+LewLPnCk5Fx4owvTvI5JF+IVq58oDvckPEwtJDFSXeQNNHKcvnll6hmWwkiZD+2bPkLYmOjVEsBWZe8xy+++Fv172H58nuxZ88+dQLV8W9hWdItJN1DPQNgZWU13nnnb5g372p2zRkcQwtZlXT3uLm5di/Svy9kLdvSbN7Xfjc3frBYS3Z2nmo+l2+dPU+eZH3h4SaEhn7bdcG/hWVJK5a0sixYcKu2p4u0dF188WzVosWuZ2NjaCGLkr7iv/zlH9oWkJaWoUKINMfKt0nZ1vfL9tn289uQ9Uj9xfXXX4tLLpmDzz77XNtLliS1KXrthPx70GsoCgoKVZeo3h3Kv4XlSGDZs2c/Fi1acMbnh7T4Xn31Feqz6PDhdG0vGZFjUlLSE6Ghodom0dBI/7x8k3nhhbX46KNP0draZv4Q+SmcnZ0QHR2l9r377t/V/ttvv/mc+2nw5Fv7M8+swbFjJ823s8wnxC8wfnysuu/48VOYNWu6+YQZhX37Dqpl1qwL1H00MHKi3LDhTZSXV+Lrr/eaT4gZmDlzOkpKyszf+I+r28HBAVi//g28//42pKQcwt1336FaXCTI8G9hGfJe/vWvW1Ug3LXrS/V58tVX35jf/2ndV9DFx0/A2LGxeOONd+Dj442ICJPaT8bikJqa2jl16lRtk4iIiMg+sXuIiIiIDIGhhYiIiAyBoYWIiIgMgaGFiIiIDIGhhYiIiAyBoYWIiIgMgaGFiIiIDIGhhYiIiAyBoYWIiIgMgaGFiIiIDIGhhYiIiAxhjBna2tq0TSIiIiL7NMbX1xdFRUUMLkRERGTHgP8PfhfitkVBIWcAAAAASUVORK5CYII=)\n",
        "\n",
        "![image.png](data:image/png;base64,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)\n",
        "\n",
        "![image.png](data:image/png;base64,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)\n",
        "\n",
        "![image.png](data:image/png;base64,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)\n",
        "\n",
        "![image.png](data:image/png;base64,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)"
      ],
      "metadata": {
        "id": "AsirIILY3XTX"
      },
      "id": "AsirIILY3XTX"
    },
    {
      "cell_type": "markdown",
      "source": [
        "# Evaluation"
      ],
      "metadata": {
        "id": "PIL7LhZD3L3F"
      },
      "id": "PIL7LhZD3L3F"
    },
    {
      "cell_type": "code",
      "execution_count": null,
      "id": "3268876f",
      "metadata": {
        "execution": {
          "iopub.execute_input": "2025-06-07T11:44:16.478803Z",
          "iopub.status.busy": "2025-06-07T11:44:16.478386Z",
          "iopub.status.idle": "2025-06-07T11:46:18.215595Z",
          "shell.execute_reply": "2025-06-07T11:46:18.214786Z"
        },
        "papermill": {
          "duration": 121.770443,
          "end_time": "2025-06-07T11:46:18.216644",
          "exception": false,
          "start_time": "2025-06-07T11:44:16.446201",
          "status": "completed"
        },
        "tags": [],
        "id": "3268876f",
        "outputId": "07ddeeb2-6d55-4929-ff9f-f5d18ee0a4d6"
      },
      "outputs": [
        {
          "name": "stderr",
          "output_type": "stream",
          "text": [
            "100%|██████████| 10/10 [02:01<00:00, 12.12s/it]"
          ]
        },
        {
          "name": "stdout",
          "output_type": "stream",
          "text": [
            "Zero-shot ROUGE: {'rouge1': 0.10119212690176677, 'rouge2': 0.00786056049213944, 'rougeL': 0.0713861070046592, 'rougeLsum': 0.08549798623903432}\n",
            "ROUGE after fine-tuning: {'rouge1': 0.2274770269128608, 'rouge2': 0.08550610585978849, 'rougeL': 0.20110546598893286, 'rougeLsum': 0.19363185660684507}\n",
            "Predictions after fine-tuning:\n",
            "PREDICTION 1\n",
            "#Person1# and #Person2# are watching a program about islam. #Person2# tells #Person1# about the pilgrimage to mecca. #Person2# tells #Person1# that the pilgrims must walk around a large, sacred black stone. #Person2# thinks that people believe they will be healed and that faith causes a change in their mind that cures them. #Person1# thinks that place is magical in any way.\n",
            "#Person1# and #Person\n",
            "\n",
            "PREDICTION 2\n",
            "#Person1# wants to send a package by first-class mail and gets some stamps. #Person2# tells #Person1# where to get money orders. #Person1# is satisfied.\n",
            "#Person1# wants to send a package by first-class mail and gets some stamps. #Person2# tells #Person1# where to get money orders. #Person1# is satisfied.\n",
            "#Person1# wants to send a package by first-class mail and gets\n",
            "\n",
            "PREDICTION 3\n",
            "#Person1# invites Lily to the picnic. #Person1# will bring everything. #Person2# will wear comfortable clothes and good shoes. #Person2# will bring nothing.\n",
            "#Person1# and #Person2# are talking about the picnic.\n",
            "#Person1# invites Lily to the picnic. #Person1# will bring everything. #Person2# will wear comfortable clothes and good shoes. #Person2# will bring nothing.\n",
            "#Person1# and #\n",
            "\n",
            "PREDICTION 4\n",
            "#Person1# serves #Person2# an aperitif and a Singer. #Person2# enjoys the drinks. #Person1# recommends the drinks. #Person2# likes the Singer. #Person1# is satisfied. #Person2# is satisfied. #Person1# and #Person2# are happy.\n",
            "#Person1# and #Person2# are having a good time.\n",
            "#Person1# and #Person2# are having a good time.\n",
            "#\n",
            "\n",
            "PREDICTION 5\n",
            "Lucy and Lin Fang are talking about their favorite subjects. Lucy likes English and PE, while Lin Fang likes Chinese and science. They think Nancy is very different from them. #Person1# and #Person2# are talking about their favorite subjects. They think Nancy is very different from them. #Person1# and #Person2# are talking about their favorite subjects. They think Nancy is very different from them. #Person1# and #Person2# are talking about their favorite subjects.\n",
            "\n",
            "PREDICTION 6\n",
            "#Person2# tells #Person1# #Person2# met the girl living under #Person2#'s apartment and #Person2# thinks she's the girl of #Person2#'s dreams. #Person2# wants to invite her to dinner tonight. #Person1# thinks #Person2# has the advantage. #Person2# thanks #Person1#. #Person1# thinks #Person2# should call her now. #Person2# agrees. #Person2\n",
            "\n",
            "PREDICTION 7\n",
            "#Person1# helps #Person2# to buy a ticket to Shanghai. #Person2# lost the ticket and #Person1# asks for #Person2#'s passport number and last name. #Person1# tells #Person2# that #Person2# doesn't have any proof of purchase. #Person2# wants to travel on a soft sleeper and #Person1# helps #Person2# to buy it. #Person2# has only 419 RMB\n",
            "\n",
            "PREDICTION 8\n",
            "#Person1# and #Person2# are talking about #Person2#'s new law office. #Person1# wishes #Person2# success. #Person2# thanks #Person1#.\n",
            "#Person1# and #Person2# are talking about #Person2#'s new law office. #Person1# wishes #Person2# success. #Person2# thanks #Person1#.\n",
            "#Person1# and #Person2# are talking about #Person2#'\n",
            "\n",
            "PREDICTION 9\n",
            "#Person1# is angry with #Person2# because #Person2# calls #Person1# many times. #Person1# tells #Person2# #Person1# will call the police if #Person2# calls again. #Person2# is silent. #Person1# is angry. #Person2# is silent. #Person1# is angry. #Person2# is silent. #Person1# is angry. #Person2# is silent. #Person\n",
            "\n",
            "PREDICTION 10\n",
            "#Person1# introduces the driving courses to #Person2#. #Person2# is interested in weekend courses. #Person1# tells #Person2# the details of the courses. #Person2# is satisfied. #Person1# helps #Person2# to choose the courses. #Person2# will have more chances to get trained. #Person1# is happy to help. #Person2# is satisfied. #Person1# is satisfied. #Person2# is satisfied\n",
            "\n"
          ]
        },
        {
          "name": "stderr",
          "output_type": "stream",
          "text": [
            "\n"
          ]
        }
      ],
      "source": [
        "ft_metrics, ft_preds = evaluate_model(model, tokenizer, test_ds)\n",
        "print(\"Zero-shot ROUGE:\", zs_metrics)\n",
        "print(\"ROUGE after fine-tuning:\", ft_metrics)\n",
        "print(\"Predictions after fine-tuning:\")\n",
        "for i, pred in enumerate(ft_preds[:10]):\n",
        "    print(f\"PREDICTION {i+1}\")\n",
        "    print(pred)\n",
        "    print()"
      ]
    }
  ],
  "metadata": {
    "kaggle": {
      "accelerator": "gpu",
      "dataSources": [],
      "dockerImageVersionId": 31041,
      "isGpuEnabled": true,
      "isInternetEnabled": true,
      "language": "python",
      "sourceType": "notebook"
    },
    "kernelspec": {
      "display_name": "Python 3",
      "language": "python",
      "name": "python3"
    },
    "language_info": {
      "codemirror_mode": {
        "name": "ipython",
        "version": 3
      },
      "file_extension": ".py",
      "mimetype": "text/x-python",
      "name": "python",
      "nbconvert_exporter": "python",
      "pygments_lexer": "ipython3",
      "version": "3.11.11"
    },
    "papermill": {
      "default_parameters": {},
      "duration": 4587.05115,
      "end_time": "2025-06-07T11:46:21.837161",
      "environment_variables": {},
      "exception": null,
      "input_path": "__notebook__.ipynb",
      "output_path": "__notebook__.ipynb",
      "parameters": {},
      "start_time": "2025-06-07T10:29:54.786011",
      "version": "2.6.0"
    },
    "colab": {
      "provenance": []
    }
  },
  "nbformat": 4,
  "nbformat_minor": 5
}